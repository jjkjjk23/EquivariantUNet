{
 "cells": [
  {
   "cell_type": "code",
   "execution_count": 1,
   "id": "1315aed9",
   "metadata": {},
   "outputs": [
    {
     "name": "stderr",
     "output_type": "stream",
     "text": [
      "C:\\Users\\jjkjj\\anaconda3\\envs\\equivariant\\Lib\\site-packages\\torchvision\\transforms\\functional.py:1603: UserWarning: The default value of the antialias parameter of all the resizing transforms (Resize(), RandomResizedCrop(), etc.) will change from None to True in v0.17, in order to be consistent across the PIL and Tensor backends. To suppress this warning, directly pass antialias=True (recommended, future default), antialias=None (current default, which means False for Tensors and True for PIL), or antialias=False (only works on Tensors - PIL will still use antialiasing). This also applies if you are using the inference transforms from the models weights: update the call to weights.transforms(antialias=True).\n",
      "  warnings.warn(\n"
     ]
    }
   ],
   "source": [
    "import argparse\n",
    "import logging\n",
    "import os\n",
    "import random\n",
    "import sys\n",
    "import torch\n",
    "import torch.nn as nn\n",
    "import torch.nn.functional as F\n",
    "import torchvision\n",
    "import torchvision.transforms as transforms\n",
    "import torchvision.transforms.functional as TF\n",
    "import torchmetrics\n",
    "from pathlib import Path\n",
    "from torch import optim\n",
    "from torch.utils.data import DataLoader, random_split\n",
    "from tqdm import tqdm\n",
    "import numpy as np\n",
    "import time\n",
    "import math\n",
    "import lightning.pytorch as pl\n",
    "\n",
    "import wandb\n",
    "from evaluate import evaluate\n",
    "from unet import UNet\n",
    "from unet.unet_model_lightning import UNetLightning\n",
    "from utils.data_loading import BasicDataset, CarvanaDataset\n",
    "from utils.dice_score import dice_loss\n",
    "from eevaluate import etest\n",
    "from etrainer import train_model, config_data\n",
    "from etrainerfunctions import rotate\n",
    "import etrainer"
   ]
  },
  {
   "cell_type": "code",
   "execution_count": 2,
   "id": "82828a79",
   "metadata": {},
   "outputs": [
    {
     "name": "stdout",
     "output_type": "stream",
     "text": [
      "1\n",
      "False\n"
     ]
    }
   ],
   "source": [
    "torch.cuda.empty_cache()\n",
    "device = torch.device('cuda' if torch.cuda.is_available() else 'cpu')\n",
    "#device=torch.device('cpu')\n",
    "epsilon=0\n",
    "\n",
    "sizeup = torchvision.transforms.Resize((550,550), interpolation=TF.InterpolationMode.NEAREST_EXACT)\n",
    "sizedown=torchvision.transforms.Resize((450,450), interpolation=TF.InterpolationMode.NEAREST_EXACT)\n",
    "resize=torchvision.transforms.Resize((512,512), interpolation=TF.InterpolationMode.NEAREST_EXACT)\n",
    "deformation = torch.tensor([[0,0,0],[0,.5,0],[0,0,0]]).to(device=device, dtype=torch.float32)\n",
    "deformation=torch.unsqueeze(deformation, dim=0)\n",
    "deformation= torchvision.transforms.Resize((512,512), interpolation=TF.InterpolationMode.BICUBIC)(deformation)\n",
    "ydeformation =torch.full([1,512,512], 0, device=device, dtype=torch.float32)\n",
    "deformation = torch.stack([deformation, ydeformation], dim=3)\n",
    "deform = lambda tensor : TF.elastic_transform(tensor, deformation, TF.InterpolationMode.NEAREST, 0.0)\n",
    "\n",
    "\n",
    "upscale=torchvision.transforms.Compose([sizeup,resize])\n",
    "etransform=torchvision.transforms.Compose([sizedown,resize])\n",
    "shrinkcrop=etrainer.compose(etrainer.pad24,sizedown)\n",
    "\n",
    "def shift(x, shiftnum=1, axis=-1):\n",
    "    x=torch.transpose(x, axis, -1)\n",
    "    if shiftnum == 0:\n",
    "        padded = x\n",
    "    elif shiftnum > 0:\n",
    "        #paddings = (0, shift, 0, 0, 0, 0)\n",
    "        paddings = [0 for j in range(2*len(tuple(x.shape)))]\n",
    "        paddings[1]=shiftnum\n",
    "        paddings=tuple(paddings)\n",
    "        padded = nn.functional.pad(x[..., shiftnum:], paddings)\n",
    "    elif shiftnum < 0:\n",
    "        #paddings = (-shift, 0, 0, 0, 0, 0)\n",
    "        paddings = [0 for j in range(2*len(tuple(x.shape)))]\n",
    "        paddings[0]=-shiftnum\n",
    "        paddings=tuple(paddings)\n",
    "        padded = nn.functional.pad(x[..., :shiftnum], paddings)\n",
    "    else:\n",
    "        raise ValueError\n",
    "    return torch.transpose(padded, axis,-1)\n",
    "def randshift(x):\n",
    "    shiftnum = random.randint(-6,6)\n",
    "    axis = random.randint(-2,-1)\n",
    "    return shift(x, shiftnum, axis)\n",
    "#This is for scaling\n",
    "#efunctions=[[etransform, etransform, epsilon], [upscale,upscale,epsilon]] \n",
    "efunctions=[[torchvision.transforms.RandomRotation(10), torchvision.transforms.RandomRotation(10),epsilon]]\n",
    "#efunctions=efunctions+[[lambda x : shift(x, shiftnum, axis), lambda x : shift(x, shiftnum, axis), epsilon] for shiftnum in range(-1,1,2) for axis in range(-1,1,2)]+[[etransform, etransform, epsilon], [upscale,upscale,epsilon]]\n",
    "#efunctions += [[randshift, randshift, epsilon]]\n",
    "#efunctions = efunctions+[[deform,deform,epsilon]]\n",
    "#efunctions = efunctions + [[rotate(90), rotate(90),0]]\n",
    "#efunctions = efunctions + [[torchvision.transforms.ElasticTransform(interpolation=TF.InterpolationMode.NEAREST), torchvision.transforms.ElasticTransform(interpolation=TF.InterpolationMode.NEAREST), epsilon]]\n",
    "\"\"\"\n",
    "for x in range(-1,1):\n",
    "    for y in range(-1,1):\n",
    "        for i in range(3):\n",
    "            for j in range(3):\n",
    "                for a in range(3):\n",
    "                    for b in range(3):\n",
    "                        deformationx = torch.tensor([[x if i==k else 0 for k in range(3)] if j==l else [0,0,0] for l in range(3)]).to(device=device, dtype=torch.float32)\n",
    "                        deformationy = torch.tensor([[y if a==k else 0 for k in range(3)] if b==l else [0,0,0] for l in range(3)]).to(device=device, dtype=torch.float32)\n",
    "                        deformationx=torch.unsqueeze(deformationx, dim=0)\n",
    "                        deformationy=torch.unsqueeze(deformationy, dim=0)\n",
    "                        deformationx= torchvision.transforms.Resize((512,512), interpolation=TF.InterpolationMode.BICUBIC)(deformationx)\n",
    "                        deformationy= torchvision.transforms.Resize((512,512), interpolation=TF.InterpolationMode.BICUBIC)(deformationy)\n",
    "                        deformation = torch.stack([deformationx, deformationy], dim=3)\n",
    "                        deform = lambda tensor : TF.elastic_transform(tensor, deformation, TF.InterpolationMode.NEAREST, 0.0)\n",
    "                        efunctions.append([deform,deform,0])\n",
    "\"\"\"\n",
    "args = {'epochs' : 50,\n",
    "        'batch_size' : 8,\n",
    "        'amp' : True,\n",
    "        'bilinear' : False,\n",
    "        'classes' : 3,\n",
    "        'learning_rate' : 1e-6,\n",
    "        'load': False,\n",
    "        #'load' : \"C:\\\\Users\\\\jjkjj\\\\Equivariant\\\\EquivariantUNet\\\\bumbling-sponge-27_checkpoints\\\\checkpoint_epoch121.pth\",\n",
    "        'class weights' : [1,1,3],\n",
    "        'epochbreaks' : False,\n",
    "        'break_length' : 5,\n",
    "        'etransforms' : efunctions,\n",
    "        'equivariance_measure' : 'l1',\n",
    "        'equivariant' : False,\n",
    "        'eqerror' : False,\n",
    "        'augmented' : 'rangle',\n",
    "        'Linf' : False,\n",
    "        'eqweight' : .1,\n",
    "        'n' : 1,\n",
    "        'debugging' : False,\n",
    "        'in_channels' : 3,\n",
    "        'wandb_project' : 'Equivariant UNet',\n",
    "        'test_on_epoch_end' : True,\n",
    "        'test augmented' : False,\n",
    "        'test augment' : 'model transforms',\n",
    "        'save_checkpoint' : False,\n",
    "        'eqweight_scheduler' : False,\n",
    "        'eqweight_decay' : 1.1,\n",
    "        'lr_scheduler' : 'cyclic',\n",
    "        'min_lr' : 1e-9,\n",
    "        'max_lr' : 1.5e-4,\n",
    "        'product_loss' : False,\n",
    "        'C1norm' : False,\n",
    "        'C1weight' : 1,\n",
    "        'Oxford' : True,\n",
    "        'HeLa' : False,\n",
    "       }\n",
    "if args['equivariant'] != args['eqerror']:\n",
    "    print('Equivariant and eqerror are different are you sure?')\n",
    "\n",
    "model = UNet(args['in_channels'], args['classes'], **args).to(device=device, dtype = torch.float32)\n",
    "model = model.to(memory_format=torch.channels_last)\n",
    "angle = 5\n",
    "\n",
    "#model = UNetLightning(args['in_channels'], args['classes'], **args).to(device=device)\n",
    "\n",
    "\n",
    "if args['load']:\n",
    "    state_dict = torch.load(args['load'], map_location=device)\n",
    "    #del state_dict['mask_values']\n",
    "    model.load_state_dict(state_dict)\n",
    "    logging.info(f'Model loaded from {args[\"load\"]}')\n",
    "print(model.n)\n",
    "print(model.Linf)\n",
    "#print([param for param in list(model.parameters())])\n"
   ]
  },
  {
   "cell_type": "code",
   "execution_count": 7,
   "id": "25e72453",
   "metadata": {},
   "outputs": [
    {
     "name": "stderr",
     "output_type": "stream",
     "text": [
      "                                                                                                                       \r"
     ]
    },
    {
     "ename": "KeyboardInterrupt",
     "evalue": "",
     "output_type": "error",
     "traceback": [
      "\u001b[1;31m---------------------------------------------------------------------------\u001b[0m",
      "\u001b[1;31mKeyboardInterrupt\u001b[0m                         Traceback (most recent call last)",
      "Cell \u001b[1;32mIn[7], line 1\u001b[0m\n\u001b[1;32m----> 1\u001b[0m etest(model, config_data(HeLa\u001b[38;5;241m=\u001b[39margs[\u001b[38;5;124m'\u001b[39m\u001b[38;5;124mHeLa\u001b[39m\u001b[38;5;124m'\u001b[39m], Oxford\u001b[38;5;241m=\u001b[39margs[\u001b[38;5;124m'\u001b[39m\u001b[38;5;124mOxford\u001b[39m\u001b[38;5;124m'\u001b[39m], split\u001b[38;5;241m=\u001b[39m\u001b[38;5;124m'\u001b[39m\u001b[38;5;124mtest\u001b[39m\u001b[38;5;124m'\u001b[39m,\n\u001b[0;32m      2\u001b[0m                          augmented\u001b[38;5;241m=\u001b[39margs[\u001b[38;5;124m'\u001b[39m\u001b[38;5;124mtest augmented\u001b[39m\u001b[38;5;124m'\u001b[39m], aug_transforms\u001b[38;5;241m=\u001b[39m[[rotate(angle, fill\u001b[38;5;241m=\u001b[39m\u001b[38;5;241m1\u001b[39m),rotate(angle, fill\u001b[38;5;241m=\u001b[39m\u001b[38;5;241m1\u001b[39m),\u001b[38;5;241m0\u001b[39m,\u001b[38;5;241m1\u001b[39m]]), device, \u001b[38;5;28;01mTrue\u001b[39;00m,\n\u001b[0;32m      3\u001b[0m        epoch\u001b[38;5;241m=\u001b[39m\u001b[38;5;241m1\u001b[39m, experiment_started\u001b[38;5;241m=\u001b[39m\u001b[38;5;28;01mFalse\u001b[39;00m,\n\u001b[0;32m      4\u001b[0m                          etransforms\u001b[38;5;241m=\u001b[39m[[rotate(angle, fill \u001b[38;5;241m=\u001b[39m \u001b[38;5;241m1\u001b[39m),rotate(angle, fill\u001b[38;5;241m=\u001b[39m\u001b[38;5;241m1\u001b[39m),\u001b[38;5;241m0\u001b[39m,\u001b[38;5;241m1\u001b[39m]],\n\u001b[0;32m      5\u001b[0m                          test_augment \u001b[38;5;241m=\u001b[39m args[\u001b[38;5;124m'\u001b[39m\u001b[38;5;124mtest augment\u001b[39m\u001b[38;5;124m'\u001b[39m], angle \u001b[38;5;241m=\u001b[39m angle, class_weights \u001b[38;5;241m=\u001b[39m \u001b[38;5;28;01mNone\u001b[39;00m, wandb_project \u001b[38;5;241m=\u001b[39m \u001b[38;5;124m'\u001b[39m\u001b[38;5;124mEquivariant UNet\u001b[39m\u001b[38;5;124m'\u001b[39m)\n",
      "File \u001b[1;32m~\\anaconda3\\envs\\equivariant\\Lib\\site-packages\\torch\\utils\\_contextlib.py:115\u001b[0m, in \u001b[0;36mcontext_decorator.<locals>.decorate_context\u001b[1;34m(*args, **kwargs)\u001b[0m\n\u001b[0;32m    112\u001b[0m \u001b[38;5;129m@functools\u001b[39m\u001b[38;5;241m.\u001b[39mwraps(func)\n\u001b[0;32m    113\u001b[0m \u001b[38;5;28;01mdef\u001b[39;00m \u001b[38;5;21mdecorate_context\u001b[39m(\u001b[38;5;241m*\u001b[39margs, \u001b[38;5;241m*\u001b[39m\u001b[38;5;241m*\u001b[39mkwargs):\n\u001b[0;32m    114\u001b[0m     \u001b[38;5;28;01mwith\u001b[39;00m ctx_factory():\n\u001b[1;32m--> 115\u001b[0m         \u001b[38;5;28;01mreturn\u001b[39;00m func(\u001b[38;5;241m*\u001b[39margs, \u001b[38;5;241m*\u001b[39m\u001b[38;5;241m*\u001b[39mkwargs)\n",
      "File \u001b[1;32m~\\Equivariant\\EquivariantUNet\\eevaluate.py:43\u001b[0m, in \u001b[0;36metest\u001b[1;34m(model, dataloader, device, amp, run_id, epoch, wandb_project, experiment_started, experiment, etransforms, angle, class_weights, **kwargs)\u001b[0m\n\u001b[0;32m     41\u001b[0m \u001b[38;5;28;01mexcept\u001b[39;00m:\n\u001b[0;32m     42\u001b[0m     \u001b[38;5;28mprint\u001b[39m(true_masks\u001b[38;5;241m.\u001b[39mshape, masks_pred\u001b[38;5;241m.\u001b[39mshape, dice)\n\u001b[1;32m---> 43\u001b[0m eerror\u001b[38;5;241m+\u001b[39m\u001b[38;5;241m=\u001b[39mtest_equivariance_error(model, images, etransforms)\n\u001b[0;32m     44\u001b[0m randerror\u001b[38;5;241m+\u001b[39m\u001b[38;5;241m=\u001b[39mtest_equivariance_error(model, sampler(images\u001b[38;5;241m.\u001b[39mshape[\u001b[38;5;241m1\u001b[39m:],n\u001b[38;5;241m=\u001b[39mmodel\u001b[38;5;241m.\u001b[39mn, cuda\u001b[38;5;241m=\u001b[39m\u001b[38;5;28;01mTrue\u001b[39;00m), etransforms)\n\u001b[0;32m     45\u001b[0m loss \u001b[38;5;241m+\u001b[39m\u001b[38;5;241m=\u001b[39m criterion(masks_pred, true_masks) \u001b[38;5;241m+\u001b[39m \u001b[38;5;241m1\u001b[39m \u001b[38;5;241m-\u001b[39m dicescore(masks_pred,true_masks, num_classes\u001b[38;5;241m=\u001b[39mmodel\u001b[38;5;241m.\u001b[39mn_classes,average_classes\u001b[38;5;241m=\u001b[39m\u001b[38;5;28;01mTrue\u001b[39;00m, \u001b[38;5;28mround\u001b[39m\u001b[38;5;241m=\u001b[39m\u001b[38;5;28;01mFalse\u001b[39;00m)\n",
      "File \u001b[1;32m~\\anaconda3\\envs\\equivariant\\Lib\\site-packages\\torch\\utils\\_contextlib.py:115\u001b[0m, in \u001b[0;36mcontext_decorator.<locals>.decorate_context\u001b[1;34m(*args, **kwargs)\u001b[0m\n\u001b[0;32m    112\u001b[0m \u001b[38;5;129m@functools\u001b[39m\u001b[38;5;241m.\u001b[39mwraps(func)\n\u001b[0;32m    113\u001b[0m \u001b[38;5;28;01mdef\u001b[39;00m \u001b[38;5;21mdecorate_context\u001b[39m(\u001b[38;5;241m*\u001b[39margs, \u001b[38;5;241m*\u001b[39m\u001b[38;5;241m*\u001b[39mkwargs):\n\u001b[0;32m    114\u001b[0m     \u001b[38;5;28;01mwith\u001b[39;00m ctx_factory():\n\u001b[1;32m--> 115\u001b[0m         \u001b[38;5;28;01mreturn\u001b[39;00m func(\u001b[38;5;241m*\u001b[39margs, \u001b[38;5;241m*\u001b[39m\u001b[38;5;241m*\u001b[39mkwargs)\n",
      "File \u001b[1;32m~\\Equivariant\\EquivariantUNet\\eevaluate.py:75\u001b[0m, in \u001b[0;36mtest_equivariance_error\u001b[1;34m(model, tensor, etransforms)\u001b[0m\n\u001b[0;32m     73\u001b[0m errors\u001b[38;5;241m=\u001b[39m[]\n\u001b[0;32m     74\u001b[0m \u001b[38;5;28;01mfor\u001b[39;00m f \u001b[38;5;129;01min\u001b[39;00m model\u001b[38;5;241m.\u001b[39metransforms:\n\u001b[1;32m---> 75\u001b[0m         errors\u001b[38;5;241m.\u001b[39mappend(pointwise_equivariance_error(model, tensor, f))\n\u001b[0;32m     76\u001b[0m error \u001b[38;5;241m=\u001b[39m \u001b[38;5;28msum\u001b[39m(errors)\u001b[38;5;241m/\u001b[39m\u001b[38;5;28mlen\u001b[39m(errors)                                                          \n\u001b[0;32m     77\u001b[0m model\u001b[38;5;241m.\u001b[39mtrain()\n",
      "File \u001b[1;32m~\\Equivariant\\EquivariantUNet\\etrainerfunctions.py:298\u001b[0m, in \u001b[0;36mpointwise_equivariance_error\u001b[1;34m(model, tensor, f, vector)\u001b[0m\n\u001b[0;32m    297\u001b[0m \u001b[38;5;28;01mdef\u001b[39;00m \u001b[38;5;21mpointwise_equivariance_error\u001b[39m(model, tensor, f, vector\u001b[38;5;241m=\u001b[39m\u001b[38;5;28;01mFalse\u001b[39;00m):\n\u001b[1;32m--> 298\u001b[0m     tensor \u001b[38;5;241m=\u001b[39m torch\u001b[38;5;241m.\u001b[39mcat((tensor, \u001b[38;5;241m1\u001b[39m\u001b[38;5;241m+\u001b[39mtorch\u001b[38;5;241m.\u001b[39mexp(\u001b[38;5;241m-\u001b[39mmodel(tensor))), dim\u001b[38;5;241m=\u001b[39m\u001b[38;5;241m0\u001b[39m)\n\u001b[0;32m    299\u001b[0m     tensor \u001b[38;5;241m=\u001b[39m f[\u001b[38;5;241m0\u001b[39m](tensor)\n\u001b[0;32m    300\u001b[0m     m\u001b[38;5;241m=\u001b[39mtensor\u001b[38;5;241m.\u001b[39mshape[\u001b[38;5;241m0\u001b[39m]\n",
      "File \u001b[1;32m~\\anaconda3\\envs\\equivariant\\Lib\\site-packages\\torch\\nn\\modules\\module.py:1501\u001b[0m, in \u001b[0;36mModule._call_impl\u001b[1;34m(self, *args, **kwargs)\u001b[0m\n\u001b[0;32m   1496\u001b[0m \u001b[38;5;66;03m# If we don't have any hooks, we want to skip the rest of the logic in\u001b[39;00m\n\u001b[0;32m   1497\u001b[0m \u001b[38;5;66;03m# this function, and just call forward.\u001b[39;00m\n\u001b[0;32m   1498\u001b[0m \u001b[38;5;28;01mif\u001b[39;00m \u001b[38;5;129;01mnot\u001b[39;00m (\u001b[38;5;28mself\u001b[39m\u001b[38;5;241m.\u001b[39m_backward_hooks \u001b[38;5;129;01mor\u001b[39;00m \u001b[38;5;28mself\u001b[39m\u001b[38;5;241m.\u001b[39m_backward_pre_hooks \u001b[38;5;129;01mor\u001b[39;00m \u001b[38;5;28mself\u001b[39m\u001b[38;5;241m.\u001b[39m_forward_hooks \u001b[38;5;129;01mor\u001b[39;00m \u001b[38;5;28mself\u001b[39m\u001b[38;5;241m.\u001b[39m_forward_pre_hooks\n\u001b[0;32m   1499\u001b[0m         \u001b[38;5;129;01mor\u001b[39;00m _global_backward_pre_hooks \u001b[38;5;129;01mor\u001b[39;00m _global_backward_hooks\n\u001b[0;32m   1500\u001b[0m         \u001b[38;5;129;01mor\u001b[39;00m _global_forward_hooks \u001b[38;5;129;01mor\u001b[39;00m _global_forward_pre_hooks):\n\u001b[1;32m-> 1501\u001b[0m     \u001b[38;5;28;01mreturn\u001b[39;00m forward_call(\u001b[38;5;241m*\u001b[39margs, \u001b[38;5;241m*\u001b[39m\u001b[38;5;241m*\u001b[39mkwargs)\n\u001b[0;32m   1502\u001b[0m \u001b[38;5;66;03m# Do not call functions when jit is used\u001b[39;00m\n\u001b[0;32m   1503\u001b[0m full_backward_hooks, non_full_backward_hooks \u001b[38;5;241m=\u001b[39m [], []\n",
      "File \u001b[1;32m~\\Equivariant\\EquivariantUNet\\unet\\unet_model.py:38\u001b[0m, in \u001b[0;36mUNet.forward\u001b[1;34m(self, x)\u001b[0m\n\u001b[0;32m     36\u001b[0m x4 \u001b[38;5;241m=\u001b[39m \u001b[38;5;28mself\u001b[39m\u001b[38;5;241m.\u001b[39mdown3(x3)\n\u001b[0;32m     37\u001b[0m x5 \u001b[38;5;241m=\u001b[39m \u001b[38;5;28mself\u001b[39m\u001b[38;5;241m.\u001b[39mdown4(x4)\n\u001b[1;32m---> 38\u001b[0m x \u001b[38;5;241m=\u001b[39m \u001b[38;5;28mself\u001b[39m\u001b[38;5;241m.\u001b[39mup1(x5, x4)\n\u001b[0;32m     39\u001b[0m x \u001b[38;5;241m=\u001b[39m \u001b[38;5;28mself\u001b[39m\u001b[38;5;241m.\u001b[39mup2(x, x3)\n\u001b[0;32m     40\u001b[0m x \u001b[38;5;241m=\u001b[39m \u001b[38;5;28mself\u001b[39m\u001b[38;5;241m.\u001b[39mup3(x, x2)\n",
      "File \u001b[1;32m~\\anaconda3\\envs\\equivariant\\Lib\\site-packages\\torch\\nn\\modules\\module.py:1501\u001b[0m, in \u001b[0;36mModule._call_impl\u001b[1;34m(self, *args, **kwargs)\u001b[0m\n\u001b[0;32m   1496\u001b[0m \u001b[38;5;66;03m# If we don't have any hooks, we want to skip the rest of the logic in\u001b[39;00m\n\u001b[0;32m   1497\u001b[0m \u001b[38;5;66;03m# this function, and just call forward.\u001b[39;00m\n\u001b[0;32m   1498\u001b[0m \u001b[38;5;28;01mif\u001b[39;00m \u001b[38;5;129;01mnot\u001b[39;00m (\u001b[38;5;28mself\u001b[39m\u001b[38;5;241m.\u001b[39m_backward_hooks \u001b[38;5;129;01mor\u001b[39;00m \u001b[38;5;28mself\u001b[39m\u001b[38;5;241m.\u001b[39m_backward_pre_hooks \u001b[38;5;129;01mor\u001b[39;00m \u001b[38;5;28mself\u001b[39m\u001b[38;5;241m.\u001b[39m_forward_hooks \u001b[38;5;129;01mor\u001b[39;00m \u001b[38;5;28mself\u001b[39m\u001b[38;5;241m.\u001b[39m_forward_pre_hooks\n\u001b[0;32m   1499\u001b[0m         \u001b[38;5;129;01mor\u001b[39;00m _global_backward_pre_hooks \u001b[38;5;129;01mor\u001b[39;00m _global_backward_hooks\n\u001b[0;32m   1500\u001b[0m         \u001b[38;5;129;01mor\u001b[39;00m _global_forward_hooks \u001b[38;5;129;01mor\u001b[39;00m _global_forward_pre_hooks):\n\u001b[1;32m-> 1501\u001b[0m     \u001b[38;5;28;01mreturn\u001b[39;00m forward_call(\u001b[38;5;241m*\u001b[39margs, \u001b[38;5;241m*\u001b[39m\u001b[38;5;241m*\u001b[39mkwargs)\n\u001b[0;32m   1502\u001b[0m \u001b[38;5;66;03m# Do not call functions when jit is used\u001b[39;00m\n\u001b[0;32m   1503\u001b[0m full_backward_hooks, non_full_backward_hooks \u001b[38;5;241m=\u001b[39m [], []\n",
      "File \u001b[1;32m~\\Equivariant\\EquivariantUNet\\unet\\unet_parts.py:68\u001b[0m, in \u001b[0;36mUp.forward\u001b[1;34m(self, x1, x2)\u001b[0m\n\u001b[0;32m     64\u001b[0m \u001b[38;5;66;03m# if you have padding issues, see\u001b[39;00m\n\u001b[0;32m     65\u001b[0m \u001b[38;5;66;03m# https://github.com/HaiyongJiang/U-Net-Pytorch-Unstructured-Buggy/commit/0e854509c2cea854e247a9c615f175f76fbb2e3a\u001b[39;00m\n\u001b[0;32m     66\u001b[0m \u001b[38;5;66;03m# https://github.com/xiaopeng-liao/Pytorch-UNet/commit/8ebac70e633bac59fc22bb5195e513d5832fb3bd\u001b[39;00m\n\u001b[0;32m     67\u001b[0m x \u001b[38;5;241m=\u001b[39m torch\u001b[38;5;241m.\u001b[39mcat([x2, x1], dim\u001b[38;5;241m=\u001b[39m\u001b[38;5;241m1\u001b[39m)\n\u001b[1;32m---> 68\u001b[0m \u001b[38;5;28;01mreturn\u001b[39;00m \u001b[38;5;28mself\u001b[39m\u001b[38;5;241m.\u001b[39mconv(x)\n",
      "File \u001b[1;32m~\\anaconda3\\envs\\equivariant\\Lib\\site-packages\\torch\\nn\\modules\\module.py:1501\u001b[0m, in \u001b[0;36mModule._call_impl\u001b[1;34m(self, *args, **kwargs)\u001b[0m\n\u001b[0;32m   1496\u001b[0m \u001b[38;5;66;03m# If we don't have any hooks, we want to skip the rest of the logic in\u001b[39;00m\n\u001b[0;32m   1497\u001b[0m \u001b[38;5;66;03m# this function, and just call forward.\u001b[39;00m\n\u001b[0;32m   1498\u001b[0m \u001b[38;5;28;01mif\u001b[39;00m \u001b[38;5;129;01mnot\u001b[39;00m (\u001b[38;5;28mself\u001b[39m\u001b[38;5;241m.\u001b[39m_backward_hooks \u001b[38;5;129;01mor\u001b[39;00m \u001b[38;5;28mself\u001b[39m\u001b[38;5;241m.\u001b[39m_backward_pre_hooks \u001b[38;5;129;01mor\u001b[39;00m \u001b[38;5;28mself\u001b[39m\u001b[38;5;241m.\u001b[39m_forward_hooks \u001b[38;5;129;01mor\u001b[39;00m \u001b[38;5;28mself\u001b[39m\u001b[38;5;241m.\u001b[39m_forward_pre_hooks\n\u001b[0;32m   1499\u001b[0m         \u001b[38;5;129;01mor\u001b[39;00m _global_backward_pre_hooks \u001b[38;5;129;01mor\u001b[39;00m _global_backward_hooks\n\u001b[0;32m   1500\u001b[0m         \u001b[38;5;129;01mor\u001b[39;00m _global_forward_hooks \u001b[38;5;129;01mor\u001b[39;00m _global_forward_pre_hooks):\n\u001b[1;32m-> 1501\u001b[0m     \u001b[38;5;28;01mreturn\u001b[39;00m forward_call(\u001b[38;5;241m*\u001b[39margs, \u001b[38;5;241m*\u001b[39m\u001b[38;5;241m*\u001b[39mkwargs)\n\u001b[0;32m   1502\u001b[0m \u001b[38;5;66;03m# Do not call functions when jit is used\u001b[39;00m\n\u001b[0;32m   1503\u001b[0m full_backward_hooks, non_full_backward_hooks \u001b[38;5;241m=\u001b[39m [], []\n",
      "File \u001b[1;32m~\\Equivariant\\EquivariantUNet\\unet\\unet_parts.py:25\u001b[0m, in \u001b[0;36mDoubleConv.forward\u001b[1;34m(self, x)\u001b[0m\n\u001b[0;32m     24\u001b[0m \u001b[38;5;28;01mdef\u001b[39;00m \u001b[38;5;21mforward\u001b[39m(\u001b[38;5;28mself\u001b[39m, x):\n\u001b[1;32m---> 25\u001b[0m     \u001b[38;5;28;01mreturn\u001b[39;00m \u001b[38;5;28mself\u001b[39m\u001b[38;5;241m.\u001b[39mdouble_conv(x)\n",
      "File \u001b[1;32m~\\anaconda3\\envs\\equivariant\\Lib\\site-packages\\torch\\nn\\modules\\module.py:1501\u001b[0m, in \u001b[0;36mModule._call_impl\u001b[1;34m(self, *args, **kwargs)\u001b[0m\n\u001b[0;32m   1496\u001b[0m \u001b[38;5;66;03m# If we don't have any hooks, we want to skip the rest of the logic in\u001b[39;00m\n\u001b[0;32m   1497\u001b[0m \u001b[38;5;66;03m# this function, and just call forward.\u001b[39;00m\n\u001b[0;32m   1498\u001b[0m \u001b[38;5;28;01mif\u001b[39;00m \u001b[38;5;129;01mnot\u001b[39;00m (\u001b[38;5;28mself\u001b[39m\u001b[38;5;241m.\u001b[39m_backward_hooks \u001b[38;5;129;01mor\u001b[39;00m \u001b[38;5;28mself\u001b[39m\u001b[38;5;241m.\u001b[39m_backward_pre_hooks \u001b[38;5;129;01mor\u001b[39;00m \u001b[38;5;28mself\u001b[39m\u001b[38;5;241m.\u001b[39m_forward_hooks \u001b[38;5;129;01mor\u001b[39;00m \u001b[38;5;28mself\u001b[39m\u001b[38;5;241m.\u001b[39m_forward_pre_hooks\n\u001b[0;32m   1499\u001b[0m         \u001b[38;5;129;01mor\u001b[39;00m _global_backward_pre_hooks \u001b[38;5;129;01mor\u001b[39;00m _global_backward_hooks\n\u001b[0;32m   1500\u001b[0m         \u001b[38;5;129;01mor\u001b[39;00m _global_forward_hooks \u001b[38;5;129;01mor\u001b[39;00m _global_forward_pre_hooks):\n\u001b[1;32m-> 1501\u001b[0m     \u001b[38;5;28;01mreturn\u001b[39;00m forward_call(\u001b[38;5;241m*\u001b[39margs, \u001b[38;5;241m*\u001b[39m\u001b[38;5;241m*\u001b[39mkwargs)\n\u001b[0;32m   1502\u001b[0m \u001b[38;5;66;03m# Do not call functions when jit is used\u001b[39;00m\n\u001b[0;32m   1503\u001b[0m full_backward_hooks, non_full_backward_hooks \u001b[38;5;241m=\u001b[39m [], []\n",
      "File \u001b[1;32m~\\anaconda3\\envs\\equivariant\\Lib\\site-packages\\torch\\nn\\modules\\container.py:217\u001b[0m, in \u001b[0;36mSequential.forward\u001b[1;34m(self, input)\u001b[0m\n\u001b[0;32m    215\u001b[0m \u001b[38;5;28;01mdef\u001b[39;00m \u001b[38;5;21mforward\u001b[39m(\u001b[38;5;28mself\u001b[39m, \u001b[38;5;28minput\u001b[39m):\n\u001b[0;32m    216\u001b[0m     \u001b[38;5;28;01mfor\u001b[39;00m module \u001b[38;5;129;01min\u001b[39;00m \u001b[38;5;28mself\u001b[39m:\n\u001b[1;32m--> 217\u001b[0m         \u001b[38;5;28minput\u001b[39m \u001b[38;5;241m=\u001b[39m module(\u001b[38;5;28minput\u001b[39m)\n\u001b[0;32m    218\u001b[0m     \u001b[38;5;28;01mreturn\u001b[39;00m \u001b[38;5;28minput\u001b[39m\n",
      "File \u001b[1;32m~\\anaconda3\\envs\\equivariant\\Lib\\site-packages\\torch\\nn\\modules\\module.py:1501\u001b[0m, in \u001b[0;36mModule._call_impl\u001b[1;34m(self, *args, **kwargs)\u001b[0m\n\u001b[0;32m   1496\u001b[0m \u001b[38;5;66;03m# If we don't have any hooks, we want to skip the rest of the logic in\u001b[39;00m\n\u001b[0;32m   1497\u001b[0m \u001b[38;5;66;03m# this function, and just call forward.\u001b[39;00m\n\u001b[0;32m   1498\u001b[0m \u001b[38;5;28;01mif\u001b[39;00m \u001b[38;5;129;01mnot\u001b[39;00m (\u001b[38;5;28mself\u001b[39m\u001b[38;5;241m.\u001b[39m_backward_hooks \u001b[38;5;129;01mor\u001b[39;00m \u001b[38;5;28mself\u001b[39m\u001b[38;5;241m.\u001b[39m_backward_pre_hooks \u001b[38;5;129;01mor\u001b[39;00m \u001b[38;5;28mself\u001b[39m\u001b[38;5;241m.\u001b[39m_forward_hooks \u001b[38;5;129;01mor\u001b[39;00m \u001b[38;5;28mself\u001b[39m\u001b[38;5;241m.\u001b[39m_forward_pre_hooks\n\u001b[0;32m   1499\u001b[0m         \u001b[38;5;129;01mor\u001b[39;00m _global_backward_pre_hooks \u001b[38;5;129;01mor\u001b[39;00m _global_backward_hooks\n\u001b[0;32m   1500\u001b[0m         \u001b[38;5;129;01mor\u001b[39;00m _global_forward_hooks \u001b[38;5;129;01mor\u001b[39;00m _global_forward_pre_hooks):\n\u001b[1;32m-> 1501\u001b[0m     \u001b[38;5;28;01mreturn\u001b[39;00m forward_call(\u001b[38;5;241m*\u001b[39margs, \u001b[38;5;241m*\u001b[39m\u001b[38;5;241m*\u001b[39mkwargs)\n\u001b[0;32m   1502\u001b[0m \u001b[38;5;66;03m# Do not call functions when jit is used\u001b[39;00m\n\u001b[0;32m   1503\u001b[0m full_backward_hooks, non_full_backward_hooks \u001b[38;5;241m=\u001b[39m [], []\n",
      "File \u001b[1;32m~\\anaconda3\\envs\\equivariant\\Lib\\site-packages\\torch\\nn\\modules\\conv.py:463\u001b[0m, in \u001b[0;36mConv2d.forward\u001b[1;34m(self, input)\u001b[0m\n\u001b[0;32m    462\u001b[0m \u001b[38;5;28;01mdef\u001b[39;00m \u001b[38;5;21mforward\u001b[39m(\u001b[38;5;28mself\u001b[39m, \u001b[38;5;28minput\u001b[39m: Tensor) \u001b[38;5;241m-\u001b[39m\u001b[38;5;241m>\u001b[39m Tensor:\n\u001b[1;32m--> 463\u001b[0m     \u001b[38;5;28;01mreturn\u001b[39;00m \u001b[38;5;28mself\u001b[39m\u001b[38;5;241m.\u001b[39m_conv_forward(\u001b[38;5;28minput\u001b[39m, \u001b[38;5;28mself\u001b[39m\u001b[38;5;241m.\u001b[39mweight, \u001b[38;5;28mself\u001b[39m\u001b[38;5;241m.\u001b[39mbias)\n",
      "File \u001b[1;32m~\\anaconda3\\envs\\equivariant\\Lib\\site-packages\\torch\\nn\\modules\\conv.py:459\u001b[0m, in \u001b[0;36mConv2d._conv_forward\u001b[1;34m(self, input, weight, bias)\u001b[0m\n\u001b[0;32m    455\u001b[0m \u001b[38;5;28;01mif\u001b[39;00m \u001b[38;5;28mself\u001b[39m\u001b[38;5;241m.\u001b[39mpadding_mode \u001b[38;5;241m!=\u001b[39m \u001b[38;5;124m'\u001b[39m\u001b[38;5;124mzeros\u001b[39m\u001b[38;5;124m'\u001b[39m:\n\u001b[0;32m    456\u001b[0m     \u001b[38;5;28;01mreturn\u001b[39;00m F\u001b[38;5;241m.\u001b[39mconv2d(F\u001b[38;5;241m.\u001b[39mpad(\u001b[38;5;28minput\u001b[39m, \u001b[38;5;28mself\u001b[39m\u001b[38;5;241m.\u001b[39m_reversed_padding_repeated_twice, mode\u001b[38;5;241m=\u001b[39m\u001b[38;5;28mself\u001b[39m\u001b[38;5;241m.\u001b[39mpadding_mode),\n\u001b[0;32m    457\u001b[0m                     weight, bias, \u001b[38;5;28mself\u001b[39m\u001b[38;5;241m.\u001b[39mstride,\n\u001b[0;32m    458\u001b[0m                     _pair(\u001b[38;5;241m0\u001b[39m), \u001b[38;5;28mself\u001b[39m\u001b[38;5;241m.\u001b[39mdilation, \u001b[38;5;28mself\u001b[39m\u001b[38;5;241m.\u001b[39mgroups)\n\u001b[1;32m--> 459\u001b[0m \u001b[38;5;28;01mreturn\u001b[39;00m F\u001b[38;5;241m.\u001b[39mconv2d(\u001b[38;5;28minput\u001b[39m, weight, bias, \u001b[38;5;28mself\u001b[39m\u001b[38;5;241m.\u001b[39mstride,\n\u001b[0;32m    460\u001b[0m                 \u001b[38;5;28mself\u001b[39m\u001b[38;5;241m.\u001b[39mpadding, \u001b[38;5;28mself\u001b[39m\u001b[38;5;241m.\u001b[39mdilation, \u001b[38;5;28mself\u001b[39m\u001b[38;5;241m.\u001b[39mgroups)\n",
      "\u001b[1;31mKeyboardInterrupt\u001b[0m: "
     ]
    }
   ],
   "source": [
    "etest(model, config_data(HeLa=args['HeLa'], Oxford=args['Oxford'], split='test',\n",
    "                         augmented=args['test augmented'], aug_transforms=[[rotate(angle, fill=1),rotate(angle, fill=1),0,1]]), device, True,\n",
    "       epoch=1, experiment_started=False,\n",
    "                         etransforms=[[rotate(angle, fill = 1),rotate(angle, fill=1),0,1]],\n",
    "                         test_augment = args['test augment'], angle = angle, class_weights = None, wandb_project = 'Equivariant UNet')"
   ]
  },
  {
   "cell_type": "code",
   "execution_count": null,
   "id": "ae0df8a2",
   "metadata": {},
   "outputs": [
    {
     "name": "stderr",
     "output_type": "stream",
     "text": [
      "\u001b[34m\u001b[1mwandb\u001b[0m: Currently logged in as: \u001b[33mjjkjjk23\u001b[0m. Use \u001b[1m`wandb login --relogin`\u001b[0m to force relogin\n"
     ]
    },
    {
     "data": {
      "text/html": [
       "wandb version 0.15.12 is available!  To upgrade, please run:\n",
       " $ pip install wandb --upgrade"
      ],
      "text/plain": [
       "<IPython.core.display.HTML object>"
      ]
     },
     "metadata": {},
     "output_type": "display_data"
    },
    {
     "data": {
      "text/html": [
       "Tracking run with wandb version 0.15.9"
      ],
      "text/plain": [
       "<IPython.core.display.HTML object>"
      ]
     },
     "metadata": {},
     "output_type": "display_data"
    },
    {
     "data": {
      "text/html": [
       "Run data is saved locally in <code>C:\\Users\\jjkjj\\Equivariant\\EquivariantUNet\\wandb\\run-20231010_093648-89bjfvi6</code>"
      ],
      "text/plain": [
       "<IPython.core.display.HTML object>"
      ]
     },
     "metadata": {},
     "output_type": "display_data"
    },
    {
     "data": {
      "text/html": [
       "Syncing run <strong><a href='https://wandb.ai/jjkjjk23/Equivariant%20UNet/runs/89bjfvi6' target=\"_blank\">dry-glitter-174</a></strong> to <a href='https://wandb.ai/jjkjjk23/Equivariant%20UNet' target=\"_blank\">Weights & Biases</a> (<a href='https://wandb.me/run' target=\"_blank\">docs</a>)<br/>"
      ],
      "text/plain": [
       "<IPython.core.display.HTML object>"
      ]
     },
     "metadata": {},
     "output_type": "display_data"
    },
    {
     "data": {
      "text/html": [
       " View project at <a href='https://wandb.ai/jjkjjk23/Equivariant%20UNet' target=\"_blank\">https://wandb.ai/jjkjjk23/Equivariant%20UNet</a>"
      ],
      "text/plain": [
       "<IPython.core.display.HTML object>"
      ]
     },
     "metadata": {},
     "output_type": "display_data"
    },
    {
     "data": {
      "text/html": [
       " View run at <a href='https://wandb.ai/jjkjjk23/Equivariant%20UNet/runs/89bjfvi6' target=\"_blank\">https://wandb.ai/jjkjjk23/Equivariant%20UNet/runs/89bjfvi6</a>"
      ],
      "text/plain": [
       "<IPython.core.display.HTML object>"
      ]
     },
     "metadata": {},
     "output_type": "display_data"
    },
    {
     "name": "stderr",
     "output_type": "stream",
     "text": [
      "Epoch 1/50: 100%|█| 3480/3480 [03:21<00:00, 17.31img/s, Cumulative Dice=[0.7646768675453361, 0.8417441009104937, 0.3478\n",
      "Epoch 2/50: 100%|█| 3480/3480 [03:42<00:00, 15.67img/s, Cumulative Dice=[0.8419741481200032, 0.8944961483451142, 0.5281\n",
      "Epoch 3/50: 100%|█| 3480/3480 [03:54<00:00, 14.85img/s, Cumulative Dice=[0.8309374424232834, 0.8887414850037674, 0.5198\n",
      "Epoch 4/50: 100%|█| 3480/3480 [03:50<00:00, 15.09img/s, Cumulative Dice=[0.8445855516126786, 0.9045857513087919, 0.5459\n",
      "Epoch 5/50: 100%|█| 3480/3480 [03:49<00:00, 15.15img/s, Cumulative Dice=[0.8826471347918455, 0.92305296179892, 0.608765\n",
      "Epoch 6/50: 100%|█| 3480/3480 [03:49<00:00, 15.14img/s, Cumulative Dice=[0.8461500255540869, 0.9001461151002468, 0.5523\n",
      "Epoch 7/50: 100%|█| 3480/3480 [03:50<00:00, 15.07img/s, Cumulative Dice=[0.8965620878099025, 0.9318929629764338, 0.6326\n",
      "Epoch 8/50: 100%|█| 3480/3480 [03:50<00:00, 15.09img/s, Cumulative Dice=[0.8651940781494667, 0.9108806690950503, 0.5751\n",
      "Epoch 9/50: 100%|█| 3480/3480 [03:51<00:00, 15.04img/s, Cumulative Dice=[0.8825562212659025, 0.9234853845903244, 0.6138\n",
      "Epoch 10/50: 100%|█| 3480/3480 [03:51<00:00, 15.05img/s, Cumulative Dice=[0.8757230194135645, 0.9164750719892567, 0.604\n",
      "Epoch 11/50: 100%|█| 3480/3480 [03:51<00:00, 15.04img/s, Cumulative Dice=[0.876846764279508, 0.9165756914807462, 0.6017\n",
      "Epoch 12/50: 100%|█| 3480/3480 [03:56<00:00, 14.74img/s, Cumulative Dice=[0.9044366896837607, 0.9307024239123552, 0.640\n",
      "Epoch 13/50: 100%|█| 3480/3480 [03:52<00:00, 14.98img/s, Cumulative Dice=[0.8963331312968813, 0.933117428730274, 0.6319\n",
      "Epoch 14/50: 100%|█| 3480/3480 [03:54<00:00, 14.84img/s, Cumulative Dice=[0.9157485756380804, 0.9403859267289612, 0.669\n",
      "Epoch 15/50: 100%|█| 3480/3480 [03:57<00:00, 14.63img/s, Cumulative Dice=[0.8730940065164675, 0.9164110552305462, 0.591\n",
      "Epoch 16/50: 100%|█| 3480/3480 [03:55<00:00, 14.76img/s, Cumulative Dice=[0.8997948868521328, 0.93413381192876, 0.64172\n",
      "Epoch 17/50: 100%|█| 3480/3480 [03:55<00:00, 14.76img/s, Cumulative Dice=[0.8877717235992695, 0.9229722913654371, 0.616\n",
      "Epoch 18/50: 100%|█| 3480/3480 [03:57<00:00, 14.67img/s, Cumulative Dice=[0.8932549747927435, 0.9293137350301633, 0.643\n",
      "Epoch 19/50: 100%|█| 3480/3480 [03:58<00:00, 14.56img/s, Cumulative Dice=[0.912477702244945, 0.9403358094993679, 0.6666\n",
      "Epoch 20/50: 100%|█| 3480/3480 [03:57<00:00, 14.64img/s, Cumulative Dice=[0.8849234937251299, 0.9278943353685839, 0.628\n",
      "Epoch 21/50: 100%|█| 3480/3480 [04:03<00:00, 14.29img/s, Cumulative Dice=[0.9241999154803396, 0.9475095580364096, 0.681\n",
      "Epoch 22/50: 100%|█| 3480/3480 [03:59<00:00, 14.50img/s, Cumulative Dice=[0.890647584679483, 0.9254716682708126, 0.6254\n",
      "Epoch 23/50: 100%|█| 3480/3480 [03:56<00:00, 14.69img/s, Cumulative Dice=[0.9230027664666889, 0.9467541527474064, 0.678\n",
      "Epoch 24/50: 100%|█| 3480/3480 [04:04<00:00, 14.23img/s, Cumulative Dice=[0.9180426878490667, 0.9438188192488133, 0.673\n",
      "Epoch 25/50: 100%|█| 3480/3480 [04:06<00:00, 14.13img/s, Cumulative Dice=[0.9131899332178051, 0.9420280031774236, 0.667\n",
      "Epoch 26/50: 100%|█| 3480/3480 [04:10<00:00, 13.88img/s, Cumulative Dice=[0.9088058670361837, 0.9399708050420914, 0.663\n",
      "Epoch 27/50: 100%|█| 3480/3480 [04:29<00:00, 12.92img/s, Cumulative Dice=[0.9062496964958893, 0.9378110684197525, 0.656\n",
      "Epoch 28/50: 100%|█| 3480/3480 [04:23<00:00, 13.21img/s, Cumulative Dice=[0.9214767902746968, 0.947247062606373, 0.6837\n",
      "Epoch 29/50: 100%|█| 3480/3480 [04:37<00:00, 12.54img/s, Cumulative Dice=[0.917409770105077, 0.9453472529334583, 0.6765\n",
      "Epoch 30/50: 100%|█| 3480/3480 [04:35<00:00, 12.62img/s, Cumulative Dice=[0.9339930435706829, 0.956682436082555, 0.7033\n",
      "Epoch 31/50: 100%|█| 3480/3480 [04:51<00:00, 11.92img/s, Cumulative Dice=[0.9038018495186992, 0.9359498613182156, 0.646\n",
      "Epoch 32/50: 100%|█| 3480/3480 [05:03<00:00, 11.48img/s, Cumulative Dice=[0.9102422088042073, 0.9350199856977354, 0.659\n",
      "Epoch 33/50: 100%|█| 3480/3480 [04:41<00:00, 12.36img/s, Cumulative Dice=[0.9063193489765299, 0.9369057937600147, 0.652\n",
      "Epoch 34/50: 100%|█| 3480/3480 [04:39<00:00, 12.45img/s, Cumulative Dice=[0.9043820856631487, 0.9323046392407911, 0.647\n",
      "Epoch 35/50:  75%|▋| 2600/3480 [03:15<01:06, 13.24img/s, Cumulative Dice=[0.9342192811891437, 0.9522168869152665, 0.702"
     ]
    }
   ],
   "source": [
    "train_loader = config_data(**args)\n",
    "train_model(model, device, train_loader, **args)"
   ]
  },
  {
   "cell_type": "code",
   "execution_count": null,
   "id": "3c25e0cf",
   "metadata": {},
   "outputs": [],
   "source": [
    "os.environ[\"PYTORCH_CUDA_ALLOC_CONF\"] = \"caching_allocator\"\n",
    "train_loader = config_data(HeLa=True, Oxford=False, **args)\n",
    "trainer = pl.Trainer(max_epochs=1, accelerator='gpu')\n",
    "trainer.fit(model, train_dataloaders=train_loader)"
   ]
  },
  {
   "cell_type": "code",
   "execution_count": 3,
   "id": "497ea700",
   "metadata": {},
   "outputs": [],
   "source": [
    "import PIL\n",
    "import torch\n",
    "import torchvision\n",
    "\n",
    "class HeLaDataset(torch.utils.data.Dataset):\n",
    "    def __init__(self, train_file,label_file, n_images, transform=None, target_transform=None):\n",
    "        super().__init__()\n",
    "        self.images=PIL.Image.open(train_file)\n",
    "        self.images.load()\n",
    "        self.labels=PIL.Image.open(label_file)\n",
    "        self.labels.load()\n",
    "        #self.tensor=torchvision.transforms.PILToTensor(PIL.Image.open(file))\n",
    "        self.n_images=n_images\n",
    "        self.transform=transform\n",
    "        self.target_transform=target_transform\n",
    "        \n",
    "    def __getitem__(self, idx):\n",
    "        print(idx)\n",
    "        self.images.seek(idx)\n",
    "        if self.transform:\n",
    "            return self.transform(torch.from_numpy(np.array(self.images))), self.target_transform(torch.from_numpy(np.array(self.labels)))\n",
    "        else:\n",
    "            return torch.from_numpy(np.array(self.images)), torch.from_numpy(np.array(self.labels))\n",
    "\n",
    "        #return self\n",
    "    def __len__(self):\n",
    "        return self.n_images\n"
   ]
  },
  {
   "cell_type": "code",
   "execution_count": 2,
   "id": "95e25282",
   "metadata": {},
   "outputs": [
    {
     "ename": "NameError",
     "evalue": "name 'HeLaDataset' is not defined",
     "output_type": "error",
     "traceback": [
      "\u001b[1;31m---------------------------------------------------------------------------\u001b[0m",
      "\u001b[1;31mNameError\u001b[0m                                 Traceback (most recent call last)",
      "Cell \u001b[1;32mIn[2], line 1\u001b[0m\n\u001b[1;32m----> 1\u001b[0m dataset\u001b[38;5;241m=\u001b[39m HeLaDataset(\u001b[38;5;124mf\u001b[39m\u001b[38;5;124m\"\u001b[39m\u001b[38;5;124mC:\u001b[39m\u001b[38;5;130;01m\\\\\u001b[39;00m\u001b[38;5;124mUsers\u001b[39m\u001b[38;5;130;01m\\\\\u001b[39;00m\u001b[38;5;124mjjkjj\u001b[39m\u001b[38;5;130;01m\\\\\u001b[39;00m\u001b[38;5;124mEquivariant\u001b[39m\u001b[38;5;130;01m\\\\\u001b[39;00m\u001b[38;5;124mISBI-2012-challenge\u001b[39m\u001b[38;5;130;01m\\\\\u001b[39;00m\u001b[38;5;124mtrain-volume.tif\u001b[39m\u001b[38;5;124m\"\u001b[39m,\u001b[38;5;124m\"\u001b[39m\u001b[38;5;124mC:\u001b[39m\u001b[38;5;130;01m\\\\\u001b[39;00m\u001b[38;5;124mUsers\u001b[39m\u001b[38;5;130;01m\\\\\u001b[39;00m\u001b[38;5;124mjjkjj\u001b[39m\u001b[38;5;130;01m\\\\\u001b[39;00m\u001b[38;5;124mEquivariant\u001b[39m\u001b[38;5;130;01m\\\\\u001b[39;00m\u001b[38;5;124mISBI-2012-challenge\u001b[39m\u001b[38;5;130;01m\\\\\u001b[39;00m\u001b[38;5;124mtrain-labels.tif\u001b[39m\u001b[38;5;124m\"\u001b[39m, \u001b[38;5;241m30\u001b[39m)\n\u001b[0;32m      2\u001b[0m \u001b[38;5;28;01mfor\u001b[39;00m j, image \u001b[38;5;129;01min\u001b[39;00m \u001b[38;5;28menumerate\u001b[39m(dataset):\n\u001b[0;32m      3\u001b[0m     \u001b[38;5;28mprint\u001b[39m(image)\n",
      "\u001b[1;31mNameError\u001b[0m: name 'HeLaDataset' is not defined"
     ]
    }
   ],
   "source": [
    "dataset= HeLaDataset(f\"C:\\\\Users\\\\jjkjj\\\\Equivariant\\\\ISBI-2012-challenge\\\\train-volume.tif\",\"C:\\\\Users\\\\jjkjj\\\\Equivariant\\\\ISBI-2012-challenge\\\\train-labels.tif\", 30)\n",
    "for j, image in enumerate(dataset):\n",
    "    print(image)\n",
    "\n",
    "    "
   ]
  },
  {
   "cell_type": "code",
   "execution_count": 3,
   "id": "fe27115c",
   "metadata": {},
   "outputs": [
    {
     "ename": "KeyboardInterrupt",
     "evalue": "",
     "output_type": "error",
     "traceback": [
      "\u001b[1;31m---------------------------------------------------------------------------\u001b[0m",
      "\u001b[1;31mKeyboardInterrupt\u001b[0m                         Traceback (most recent call last)",
      "Cell \u001b[1;32mIn[3], line 27\u001b[0m\n\u001b[0;32m     13\u001b[0m     \u001b[38;5;28;01mreturn\u001b[39;00m \u001b[38;5;28;01mNone\u001b[39;00m\n\u001b[0;32m     14\u001b[0m \u001b[38;5;124;03m\"\"\"\u001b[39;00m\n\u001b[0;32m     15\u001b[0m \u001b[38;5;124;03m        x, y = batch\u001b[39;00m\n\u001b[0;32m     16\u001b[0m \u001b[38;5;124;03m        x=x.to(device=self.device)\u001b[39;00m\n\u001b[1;32m   (...)\u001b[0m\n\u001b[0;32m     25\u001b[0m \u001b[38;5;124;03m        return loss\u001b[39;00m\n\u001b[0;32m     26\u001b[0m \u001b[38;5;124;03m\"\"\"\u001b[39;00m\n\u001b[1;32m---> 27\u001b[0m timemodel()\n",
      "Cell \u001b[1;32mIn[3], line 11\u001b[0m, in \u001b[0;36mtimemodel\u001b[1;34m()\u001b[0m\n\u001b[0;32m      9\u001b[0m     image \u001b[38;5;241m=\u001b[39m imager(torch\u001b[38;5;241m.\u001b[39msqueeze(image, dim\u001b[38;5;241m=\u001b[39m\u001b[38;5;241m0\u001b[39m))\n\u001b[0;32m     10\u001b[0m     label \u001b[38;5;241m=\u001b[39m imager(torch\u001b[38;5;241m.\u001b[39msqueeze(label, dim\u001b[38;5;241m=\u001b[39m\u001b[38;5;241m0\u001b[39m))\n\u001b[1;32m---> 11\u001b[0m     image\u001b[38;5;241m.\u001b[39mshow()\n\u001b[0;32m     12\u001b[0m     label\u001b[38;5;241m.\u001b[39mshow()\n\u001b[0;32m     13\u001b[0m \u001b[38;5;28;01mreturn\u001b[39;00m \u001b[38;5;28;01mNone\u001b[39;00m\n",
      "File \u001b[1;32m~\\anaconda3\\envs\\equivariant\\Lib\\site-packages\\PIL\\Image.py:2485\u001b[0m, in \u001b[0;36mImage.show\u001b[1;34m(self, title)\u001b[0m\n\u001b[0;32m   2465\u001b[0m \u001b[38;5;28;01mdef\u001b[39;00m \u001b[38;5;21mshow\u001b[39m(\u001b[38;5;28mself\u001b[39m, title\u001b[38;5;241m=\u001b[39m\u001b[38;5;28;01mNone\u001b[39;00m):\n\u001b[0;32m   2466\u001b[0m \u001b[38;5;250m    \u001b[39m\u001b[38;5;124;03m\"\"\"\u001b[39;00m\n\u001b[0;32m   2467\u001b[0m \u001b[38;5;124;03m    Displays this image. This method is mainly intended for debugging purposes.\u001b[39;00m\n\u001b[0;32m   2468\u001b[0m \n\u001b[1;32m   (...)\u001b[0m\n\u001b[0;32m   2482\u001b[0m \u001b[38;5;124;03m    :param title: Optional title to use for the image window, where possible.\u001b[39;00m\n\u001b[0;32m   2483\u001b[0m \u001b[38;5;124;03m    \"\"\"\u001b[39;00m\n\u001b[1;32m-> 2485\u001b[0m     _show(\u001b[38;5;28mself\u001b[39m, title\u001b[38;5;241m=\u001b[39mtitle)\n",
      "File \u001b[1;32m~\\anaconda3\\envs\\equivariant\\Lib\\site-packages\\PIL\\Image.py:3508\u001b[0m, in \u001b[0;36m_show\u001b[1;34m(image, **options)\u001b[0m\n\u001b[0;32m   3505\u001b[0m \u001b[38;5;28;01mdef\u001b[39;00m \u001b[38;5;21m_show\u001b[39m(image, \u001b[38;5;241m*\u001b[39m\u001b[38;5;241m*\u001b[39moptions):\n\u001b[0;32m   3506\u001b[0m     \u001b[38;5;28;01mfrom\u001b[39;00m \u001b[38;5;21;01m.\u001b[39;00m \u001b[38;5;28;01mimport\u001b[39;00m ImageShow\n\u001b[1;32m-> 3508\u001b[0m     ImageShow\u001b[38;5;241m.\u001b[39mshow(image, \u001b[38;5;241m*\u001b[39m\u001b[38;5;241m*\u001b[39moptions)\n",
      "File \u001b[1;32m~\\anaconda3\\envs\\equivariant\\Lib\\site-packages\\PIL\\ImageShow.py:62\u001b[0m, in \u001b[0;36mshow\u001b[1;34m(image, title, **options)\u001b[0m\n\u001b[0;32m     53\u001b[0m \u001b[38;5;250m\u001b[39m\u001b[38;5;124mr\u001b[39m\u001b[38;5;124;03m\"\"\"\u001b[39;00m\n\u001b[0;32m     54\u001b[0m \u001b[38;5;124;03mDisplay a given image.\u001b[39;00m\n\u001b[0;32m     55\u001b[0m \n\u001b[1;32m   (...)\u001b[0m\n\u001b[0;32m     59\u001b[0m \u001b[38;5;124;03m:returns: ``True`` if a suitable viewer was found, ``False`` otherwise.\u001b[39;00m\n\u001b[0;32m     60\u001b[0m \u001b[38;5;124;03m\"\"\"\u001b[39;00m\n\u001b[0;32m     61\u001b[0m \u001b[38;5;28;01mfor\u001b[39;00m viewer \u001b[38;5;129;01min\u001b[39;00m _viewers:\n\u001b[1;32m---> 62\u001b[0m     \u001b[38;5;28;01mif\u001b[39;00m viewer\u001b[38;5;241m.\u001b[39mshow(image, title\u001b[38;5;241m=\u001b[39mtitle, \u001b[38;5;241m*\u001b[39m\u001b[38;5;241m*\u001b[39moptions):\n\u001b[0;32m     63\u001b[0m         \u001b[38;5;28;01mreturn\u001b[39;00m \u001b[38;5;28;01mTrue\u001b[39;00m\n\u001b[0;32m     64\u001b[0m \u001b[38;5;28;01mreturn\u001b[39;00m \u001b[38;5;28;01mFalse\u001b[39;00m\n",
      "File \u001b[1;32m~\\anaconda3\\envs\\equivariant\\Lib\\site-packages\\PIL\\ImageShow.py:86\u001b[0m, in \u001b[0;36mViewer.show\u001b[1;34m(self, image, **options)\u001b[0m\n\u001b[0;32m     83\u001b[0m     \u001b[38;5;28;01mif\u001b[39;00m image\u001b[38;5;241m.\u001b[39mmode \u001b[38;5;241m!=\u001b[39m base:\n\u001b[0;32m     84\u001b[0m         image \u001b[38;5;241m=\u001b[39m image\u001b[38;5;241m.\u001b[39mconvert(base)\n\u001b[1;32m---> 86\u001b[0m \u001b[38;5;28;01mreturn\u001b[39;00m \u001b[38;5;28mself\u001b[39m\u001b[38;5;241m.\u001b[39mshow_image(image, \u001b[38;5;241m*\u001b[39m\u001b[38;5;241m*\u001b[39moptions)\n",
      "File \u001b[1;32m~\\anaconda3\\envs\\equivariant\\Lib\\site-packages\\PIL\\ImageShow.py:112\u001b[0m, in \u001b[0;36mViewer.show_image\u001b[1;34m(self, image, **options)\u001b[0m\n\u001b[0;32m    110\u001b[0m \u001b[38;5;28;01mdef\u001b[39;00m \u001b[38;5;21mshow_image\u001b[39m(\u001b[38;5;28mself\u001b[39m, image, \u001b[38;5;241m*\u001b[39m\u001b[38;5;241m*\u001b[39moptions):\n\u001b[0;32m    111\u001b[0m \u001b[38;5;250m    \u001b[39m\u001b[38;5;124;03m\"\"\"Display the given image.\"\"\"\u001b[39;00m\n\u001b[1;32m--> 112\u001b[0m     \u001b[38;5;28;01mreturn\u001b[39;00m \u001b[38;5;28mself\u001b[39m\u001b[38;5;241m.\u001b[39mshow_file(\u001b[38;5;28mself\u001b[39m\u001b[38;5;241m.\u001b[39msave_image(image), \u001b[38;5;241m*\u001b[39m\u001b[38;5;241m*\u001b[39moptions)\n",
      "File \u001b[1;32m~\\anaconda3\\envs\\equivariant\\Lib\\site-packages\\PIL\\ImageShow.py:129\u001b[0m, in \u001b[0;36mViewer.show_file\u001b[1;34m(self, path, **options)\u001b[0m\n\u001b[0;32m    127\u001b[0m         msg \u001b[38;5;241m=\u001b[39m \u001b[38;5;124m\"\u001b[39m\u001b[38;5;124mMissing required argument: \u001b[39m\u001b[38;5;124m'\u001b[39m\u001b[38;5;124mpath\u001b[39m\u001b[38;5;124m'\u001b[39m\u001b[38;5;124m\"\u001b[39m\n\u001b[0;32m    128\u001b[0m         \u001b[38;5;28;01mraise\u001b[39;00m \u001b[38;5;167;01mTypeError\u001b[39;00m(msg)\n\u001b[1;32m--> 129\u001b[0m os\u001b[38;5;241m.\u001b[39msystem(\u001b[38;5;28mself\u001b[39m\u001b[38;5;241m.\u001b[39mget_command(path, \u001b[38;5;241m*\u001b[39m\u001b[38;5;241m*\u001b[39moptions))  \u001b[38;5;66;03m# nosec\u001b[39;00m\n\u001b[0;32m    130\u001b[0m \u001b[38;5;28;01mreturn\u001b[39;00m \u001b[38;5;241m1\u001b[39m\n",
      "\u001b[1;31mKeyboardInterrupt\u001b[0m: "
     ]
    }
   ],
   "source": [
    "#\n",
    "time0=time.time()\n",
    "#@torch.inference_mode()\n",
    "def timemodel():\n",
    "    #model.eval()\n",
    "    for batch in config_data(HeLa=True, Oxford=False, augmented='randcombo'):\n",
    "        image, label = batch\n",
    "        imager= torchvision.transforms.ToPILImage()\n",
    "        image = imager(torch.squeeze(image, dim=0))\n",
    "        label = imager(torch.squeeze(label, dim=0))\n",
    "        image.show()\n",
    "        label.show()\n",
    "    return None\n",
    "\"\"\"\n",
    "        x, y = batch\n",
    "        x=x.to(device=self.device)\n",
    "        y=y.to(device=self.device)\n",
    "        y_hat = self(x).to(device=self.device)\n",
    "        #randomval = torch.from_numpy(np.random.default_rng().random(size=(1,1,512,512))).to(torch.float32)\n",
    "        randomval=etrainer.sampler((1,512,512),n=1, cuda=False)\n",
    "        loss = F.binary_cross_entropy_with_logits(y_hat, y.to(torch.float32))\n",
    "        if self.equivariant:\n",
    "            for f in self.etransforms:\n",
    "                loss+= torch.mean(torch.abs(self(f[1](randomval))-f[0](self(randomval))))\n",
    "        return loss\n",
    "\"\"\"\n",
    "timemodel()\n"
   ]
  },
  {
   "cell_type": "code",
   "execution_count": 6,
   "id": "e408c5ec",
   "metadata": {},
   "outputs": [
    {
     "name": "stdout",
     "output_type": "stream",
     "text": [
      "1\n",
      "False\n",
      "torch.Size([64, 1, 3, 3])\n"
     ]
    }
   ],
   "source": [
    "torch.cuda.empty_cache()\n",
    "device = torch.device('cuda' if torch.cuda.is_available() else 'cpu')\n",
    "#device=torch.device('cpu')\n",
    "epsilon=0\n",
    "\n",
    "sizeup = torchvision.transforms.Resize((550,550), interpolation=TF.InterpolationMode.NEAREST_EXACT)\n",
    "sizedown=torchvision.transforms.Resize((450,450), interpolation=TF.InterpolationMode.NEAREST_EXACT)\n",
    "resize=torchvision.transforms.Resize((512,512), interpolation=TF.InterpolationMode.NEAREST_EXACT)\n",
    "deformation = torch.tensor([[0,0,0],[0,.5,0],[0,0,0]]).to(device=device, dtype=torch.float32)\n",
    "deformation=torch.unsqueeze(deformation, dim=0)\n",
    "deformation= torchvision.transforms.Resize((512,512), interpolation=TF.InterpolationMode.BICUBIC)(deformation)\n",
    "ydeformation =torch.full([1,512,512], 0, device=device, dtype=torch.float32)\n",
    "deformation = torch.stack([deformation, ydeformation], dim=3)\n",
    "deform = lambda tensor : TF.elastic_transform(tensor, deformation, TF.InterpolationMode.NEAREST, 0.0)\n",
    "\n",
    "def rotate(angle):\n",
    "    return lambda inputs : torchvision.transforms.functional.rotate(inputs, angle)\n",
    "\n",
    "\n",
    "upscale=torchvision.transforms.Compose([sizeup,resize])\n",
    "etransform=torchvision.transforms.Compose([sizedown,resize])\n",
    "shrinkcrop=etrainer.compose(etrainer.pad24,sizedown)\n",
    "\n",
    "def shift(x, shiftnum=1, axis=-1):\n",
    "    x=torch.transpose(x, axis, -1)\n",
    "    if shiftnum == 0:\n",
    "        padded = x\n",
    "    elif shiftnum > 0:\n",
    "        #paddings = (0, shift, 0, 0, 0, 0)\n",
    "        paddings = [0 for j in range(2*len(tuple(x.shape)))]\n",
    "        paddings[1]=shiftnum\n",
    "        paddings=tuple(paddings)\n",
    "        padded = nn.functional.pad(x[..., shiftnum:], paddings)\n",
    "    elif shiftnum < 0:\n",
    "        #paddings = (-shift, 0, 0, 0, 0, 0)\n",
    "        paddings = [0 for j in range(2*len(tuple(x.shape)))]\n",
    "        paddings[0]=-shiftnum\n",
    "        paddings=tuple(paddings)\n",
    "        padded = nn.functional.pad(x[..., :shiftnum], paddings)\n",
    "    else:\n",
    "        raise ValueError\n",
    "    return torch.transpose(padded, axis,-1)\n",
    "def randshift(x):\n",
    "    shiftnum = random.randint(-6,6)\n",
    "    axis = random.randint(-2,-1)\n",
    "    return shift(x, shiftnum, axis)\n",
    "#This is for scaling\n",
    "#efunctions=[[etransform, etransform, epsilon], [upscale,upscale,epsilon]] \n",
    "efunctions=[[torchvision.transforms.RandomRotation(10), torchvision.transforms.RandomRotation(10),epsilon]]\n",
    "#efunctions=efunctions+[[lambda x : shift(x, shiftnum, axis), lambda x : shift(x, shiftnum, axis), epsilon] for shiftnum in range(-1,1,2) for axis in range(-1,1,2)]+[[etransform, etransform, epsilon], [upscale,upscale,epsilon]]\n",
    "#efunctions += [[randshift, randshift, epsilon]]\n",
    "#efunctions = efunctions+[[deform,deform,epsilon]]\n",
    "#efunctions = efunctions + [[rotate(90), rotate(90),0]]\n",
    "#efunctions = efunctions + [[torchvision.transforms.ElasticTransform(interpolation=TF.InterpolationMode.NEAREST), torchvision.transforms.ElasticTransform(interpolation=TF.InterpolationMode.NEAREST), epsilon]]\n",
    "\"\"\"\n",
    "for x in range(-1,1):\n",
    "    for y in range(-1,1):\n",
    "        for i in range(3):\n",
    "            for j in range(3):\n",
    "                for a in range(3):\n",
    "                    for b in range(3):\n",
    "                        deformationx = torch.tensor([[x if i==k else 0 for k in range(3)] if j==l else [0,0,0] for l in range(3)]).to(device=device, dtype=torch.float32)\n",
    "                        deformationy = torch.tensor([[y if a==k else 0 for k in range(3)] if b==l else [0,0,0] for l in range(3)]).to(device=device, dtype=torch.float32)\n",
    "                        deformationx=torch.unsqueeze(deformationx, dim=0)\n",
    "                        deformationy=torch.unsqueeze(deformationy, dim=0)\n",
    "                        deformationx= torchvision.transforms.Resize((512,512), interpolation=TF.InterpolationMode.BICUBIC)(deformationx)\n",
    "                        deformationy= torchvision.transforms.Resize((512,512), interpolation=TF.InterpolationMode.BICUBIC)(deformationy)\n",
    "                        deformation = torch.stack([deformationx, deformationy], dim=3)\n",
    "                        deform = lambda tensor : TF.elastic_transform(tensor, deformation, TF.InterpolationMode.NEAREST, 0.0)\n",
    "                        efunctions.append([deform,deform,0])\n",
    "\"\"\"\n",
    "args = {'epochs' : 100,\n",
    "        'batch_size' : 1,\n",
    "        'amp' : True,\n",
    "        'bilinear' : False,\n",
    "        'classes' : 1,\n",
    "        'learning_rate' : 1e-6,\n",
    "        'load': False,\n",
    "        #'load' : \"C:\\\\Users\\\\jjkjj\\\\Equivariant\\\\EquivariantUNet\\\\bumbling-sponge-27_checkpoints\\\\checkpoint_epoch121.pth\",\n",
    "        'class weights' : [1,1,3],\n",
    "        'epochbreaks' : False,\n",
    "        'break_length' : 5,\n",
    "        'etransforms' : efunctions,\n",
    "        'equivariance_measure' : 'l1',\n",
    "        'equivariant' : True,\n",
    "        'eqerror' : True,\n",
    "        'augmented' : 'rangle',\n",
    "        'Linf' : False,\n",
    "        'eqweight' : 100,\n",
    "        'n' : 1,\n",
    "        'debugging' : False,\n",
    "        'in_channels' : 1,\n",
    "        'wandb_project' : 'HeLa EUNet',\n",
    "        'test_on_epoch_end' : True,\n",
    "        'test augmented' : 'True no identity',\n",
    "        'test augment' : 'fixed rotations',\n",
    "        'save_checkpoint' : True,\n",
    "        'eqweight_scheduler' : False,\n",
    "        'eqweight_decay' : 1.1,\n",
    "        'lr_scheduler' : 'cyclic',\n",
    "        'min_lr' : 1e-9,\n",
    "        'max_lr' : 1.5e-4,\n",
    "        'product_loss' : False\n",
    "        'C1norm' : True\n",
    "        'C1weight' : 1\n",
    "       }\n",
    "if args['equivariant'] != args['eqerror']:\n",
    "    print('Equivariant and eqerror are different are you sure?')\n",
    "\n",
    "model = UNet(args['in_channels'], args['classes'], **args).to(device=device)\n",
    "model = model.to(memory_format=torch.channels_last)\n",
    "etest(model, config_data(HeLa=args['HeLa'], Oxford=args['Oxford'], split='test', augmented=args['test augmented'], \n",
    "    aug_transforms=[[rotate(angle),rotate(angle),0,1]], **kwargs), device, amp, run_id=experiment.id, epoch=epoch,\n",
    "    experiment_started=False, \n",
    "    etransforms=[[rotate(angle),rotate(angle),0,1]], test_augment = kwargs['test augment'], angle = angle)\n",
    "\n",
    "#model = UNetLightning(args['in_channels'], args['classes'], **args).to(device=device)\n",
    "\n",
    "\n",
    "if args['load']:\n",
    "    state_dict = torch.load(args['load'], map_location=device)\n",
    "    #del state_dict['mask_values']\n",
    "    model.load_state_dict(state_dict)\n",
    "    logging.info(f'Model loaded from {args[\"load\"]}')\n",
    "print(model.n)\n",
    "print(model.Linf)\n",
    "print(model.state_dict()['inc.double_conv.0.weight'])\n"
   ]
  },
  {
   "cell_type": "code",
   "execution_count": null,
   "id": "83324cac",
   "metadata": {},
   "outputs": [
    {
     "data": {
      "text/html": [
       "Finishing last run (ID:mn2u8u28) before initializing another..."
      ],
      "text/plain": [
       "<IPython.core.display.HTML object>"
      ]
     },
     "metadata": {},
     "output_type": "display_data"
    },
    {
     "data": {
      "text/html": [
       "Waiting for W&B process to finish... <strong style=\"color:green\">(success).</strong>"
      ],
      "text/plain": [
       "<IPython.core.display.HTML object>"
      ]
     },
     "metadata": {},
     "output_type": "display_data"
    },
    {
     "data": {
      "text/html": [
       "<style>\n",
       "    table.wandb td:nth-child(1) { padding: 0 10px; text-align: left ; width: auto;} td:nth-child(2) {text-align: left ; width: 100%}\n",
       "    .wandb-row { display: flex; flex-direction: row; flex-wrap: wrap; justify-content: flex-start; width: 100% }\n",
       "    .wandb-col { display: flex; flex-direction: column; flex-basis: 100%; flex: 1; padding: 10px; }\n",
       "    </style>\n",
       "<div class=\"wandb-row\"><div class=\"wandb-col\"><h3>Run history:</h3><br/><table class=\"wandb\"><tr><td>Angle -10 Test Loss</td><td>██▇▄▂▃▃▂▂▂▁▂▁▁▁▁▁▂▁▁▂▁▁▁▁▁▁▁▁▁▁▁▁▁▁▂▂▁▂▁</td></tr><tr><td>Angle -20 Test Loss</td><td>██▇▄▃▃▃▂▂▃▂▂▂▁▁▂▂▂▂▂▂▂▂▂▂▁▁▁▁▂▂▂▁▁▁▂▃▁▂▂</td></tr><tr><td>Angle -5 Test Loss</td><td>███▄▂▃▃▂▂▂▁▂▁▁▁▁▁▂▁▁▁▁▁▁▁▁▁▁▁▁▁▁▁▁▁▂▂▁▂▁</td></tr><tr><td>Angle 0 Test Loss</td><td>███▄▂▃▃▂▂▂▁▂▁▁▁▁▁▂▁▁▁▁▁▁▁▁▁▁▁▁▁▁▂▁▁▂▁▁▁▁</td></tr><tr><td>Angle 10 Test Loss</td><td>██▇▄▂▃▃▂▂▂▁▂▁▁▁▁▁▂▁▁▁▁▁▁▁▁▁▁▁▁▁▁▁▁▁▂▂▁▁▁</td></tr><tr><td>Angle 20 Test Loss</td><td>██▇▄▃▃▃▂▂▃▂▃▂▁▁▂▂▂▁▂▂▂▂▂▂▁▁▁▁▂▂▂▁▂▁▂▂▁▂▁</td></tr><tr><td>Angle 5 Test Loss</td><td>███▄▂▃▃▂▁▂▁▂▁▁▁▁▁▂▁▁▁▁▁▁▁▁▁▁▁▁▁▁▁▁▁▂▂▁▂▁</td></tr><tr><td>Equivariance Weight</td><td>▁▁▁▁▁▁▁▁▁▁▁▁▁▁▁▁▁▁▁▁▁▁▁▁▁▁▁▁▁▁▁▁▁▁▁▁▁▁▁▁</td></tr><tr><td>Random Equivariance Error</td><td>▁▁▁▁▂▁▁▁▂▂▁▂▃▁▂▃▁▄▃▇▅▆▆▂▅▂▂█▆▂▄▄▁▂▄▁█▇▃▄</td></tr><tr><td>Test Equivariance Error</td><td>▂▁▁▃▄▄▅▅▅▅▅▆▆▅▆▆▄▅▆▆▆▆▆▆▇▆▆▇▇▅▇▇▅▆▇▄▆▇██</td></tr><tr><td>Time into epoch</td><td>▁▂▃▄▅▆█▁▂▄▅▆▇▁▂▃▄▆▇█▂▃▄▅▆▇▁▃▄▅▆█▁▂▃▅▆▇█▂</td></tr><tr><td>Total time</td><td>▁▁▁▁▂▂▂▂▂▃▃▃▃▃▃▄▄▄▄▄▅▅▅▅▅▅▆▆▆▆▆▆▇▇▇▇▇███</td></tr><tr><td>epoch</td><td>▁▁▁▂▂▂▂▂▂▃▃▃▃▃▃▄▄▄▄▄▅▅▅▅▅▅▆▆▆▆▆▇▇▇▇▇▇███</td></tr><tr><td>equivariance error</td><td>█▂▁▁▁▁▁▁▁▁▁▁▁▁▁▁▁▁▁▁▁▁▁▁▁▁▁▁▁▁▁▁▁▁▁▁▁▁▁▁</td></tr><tr><td>learning rate</td><td>▁▂▃▄▆▇██▆▅▄▃▂▁▂▃▄▆▇██▇▆▄▃▂▁▂▃▄▅▆██▇▆▄▃▂▁</td></tr><tr><td>step</td><td>▁▁▁▂▂▂▂▂▂▃▃▃▃▃▃▄▄▄▄▄▅▅▅▅▅▅▆▆▆▆▆▇▇▇▇▇▇███</td></tr><tr><td>train loss</td><td>▇██▄▃▃▂▃▂▁▂▂▂▂▂▁▂▂▂▃▂▂▁▂▁▁▁▁▁▁▁▁▁▁▁▁▁▂▁▁</td></tr><tr><td>train total loss</td><td>█▃▂▁▁▁▁▁▁▁▁▁▁▁▁▁▁▁▁▁▁▁▁▁▁▁▁▁▁▁▁▁▁▁▁▁▁▁▁▁</td></tr></table><br/></div><div class=\"wandb-col\"><h3>Run summary:</h3><br/><table class=\"wandb\"><tr><td>Angle -10 Test Loss</td><td>0.46479</td></tr><tr><td>Angle -20 Test Loss</td><td>0.53581</td></tr><tr><td>Angle -5 Test Loss</td><td>0.4252</td></tr><tr><td>Angle 0 Test Loss</td><td>0.37595</td></tr><tr><td>Angle 10 Test Loss</td><td>0.45952</td></tr><tr><td>Angle 20 Test Loss</td><td>0.51634</td></tr><tr><td>Angle 5 Test Loss</td><td>0.42065</td></tr><tr><td>Equivariance Weight</td><td>100</td></tr><tr><td>Random Equivariance Error</td><td>0.14346</td></tr><tr><td>Test Equivariance Error</td><td>0.10431</td></tr><tr><td>Time into epoch</td><td>28.3473</td></tr><tr><td>Total time</td><td>8375.26156</td></tr><tr><td>epoch</td><td>100</td></tr><tr><td>equivariance error</td><td>0.00043</td></tr><tr><td>learning rate</td><td>0.0</td></tr><tr><td>step</td><td>3000</td></tr><tr><td>train loss</td><td>0.17995</td></tr><tr><td>train total loss</td><td>0.22329</td></tr></table><br/></div></div>"
      ],
      "text/plain": [
       "<IPython.core.display.HTML object>"
      ]
     },
     "metadata": {},
     "output_type": "display_data"
    },
    {
     "data": {
      "text/html": [
       " View run <strong style=\"color:#cdcd00\">curious-thunder-203</strong> at: <a href='https://wandb.ai/jjkjjk23/HeLa%20EUNet/runs/mn2u8u28' target=\"_blank\">https://wandb.ai/jjkjjk23/HeLa%20EUNet/runs/mn2u8u28</a><br/> View job at <a href='https://wandb.ai/jjkjjk23/HeLa%20EUNet/jobs/QXJ0aWZhY3RDb2xsZWN0aW9uOjk0NDYyOTAx/version_details/v25' target=\"_blank\">https://wandb.ai/jjkjjk23/HeLa%20EUNet/jobs/QXJ0aWZhY3RDb2xsZWN0aW9uOjk0NDYyOTAx/version_details/v25</a><br/>Synced 6 W&B file(s), 6700 media file(s), 0 artifact file(s) and 0 other file(s)"
      ],
      "text/plain": [
       "<IPython.core.display.HTML object>"
      ]
     },
     "metadata": {},
     "output_type": "display_data"
    },
    {
     "data": {
      "text/html": [
       "Find logs at: <code>.\\wandb\\run-20230925_084719-mn2u8u28\\logs</code>"
      ],
      "text/plain": [
       "<IPython.core.display.HTML object>"
      ]
     },
     "metadata": {},
     "output_type": "display_data"
    },
    {
     "data": {
      "text/html": [
       "Successfully finished last run (ID:mn2u8u28). Initializing new run:<br/>"
      ],
      "text/plain": [
       "<IPython.core.display.HTML object>"
      ]
     },
     "metadata": {},
     "output_type": "display_data"
    },
    {
     "data": {
      "text/html": [
       "wandb version 0.15.11 is available!  To upgrade, please run:\n",
       " $ pip install wandb --upgrade"
      ],
      "text/plain": [
       "<IPython.core.display.HTML object>"
      ]
     },
     "metadata": {},
     "output_type": "display_data"
    },
    {
     "data": {
      "text/html": [
       "Tracking run with wandb version 0.15.9"
      ],
      "text/plain": [
       "<IPython.core.display.HTML object>"
      ]
     },
     "metadata": {},
     "output_type": "display_data"
    },
    {
     "data": {
      "text/html": [
       "Run data is saved locally in <code>C:\\Users\\jjkjj\\Equivariant\\EquivariantUNet\\wandb\\run-20230925_110814-l88hc3lo</code>"
      ],
      "text/plain": [
       "<IPython.core.display.HTML object>"
      ]
     },
     "metadata": {},
     "output_type": "display_data"
    },
    {
     "data": {
      "text/html": [
       "Syncing run <strong><a href='https://wandb.ai/jjkjjk23/HeLa%20EUNet/runs/l88hc3lo' target=\"_blank\">trim-dawn-204</a></strong> to <a href='https://wandb.ai/jjkjjk23/HeLa%20EUNet' target=\"_blank\">Weights & Biases</a> (<a href='https://wandb.me/run' target=\"_blank\">docs</a>)<br/>"
      ],
      "text/plain": [
       "<IPython.core.display.HTML object>"
      ]
     },
     "metadata": {},
     "output_type": "display_data"
    },
    {
     "data": {
      "text/html": [
       " View project at <a href='https://wandb.ai/jjkjjk23/HeLa%20EUNet' target=\"_blank\">https://wandb.ai/jjkjjk23/HeLa%20EUNet</a>"
      ],
      "text/plain": [
       "<IPython.core.display.HTML object>"
      ]
     },
     "metadata": {},
     "output_type": "display_data"
    },
    {
     "data": {
      "text/html": [
       " View run at <a href='https://wandb.ai/jjkjjk23/HeLa%20EUNet/runs/l88hc3lo' target=\"_blank\">https://wandb.ai/jjkjjk23/HeLa%20EUNet/runs/l88hc3lo</a>"
      ],
      "text/plain": [
       "<IPython.core.display.HTML object>"
      ]
     },
     "metadata": {},
     "output_type": "display_data"
    },
    {
     "name": "stderr",
     "output_type": "stream",
     "text": [
      "Epoch 1/100: 100%|██████████| 30/30 [00:18<00:00,  1.62img/s, Cumulative Dice=[0.8787059187889099], loss (batch)=0.672]\n",
      "Epoch 2/100: 100%|██████████| 30/30 [00:19<00:00,  1.51img/s, Cumulative Dice=[0.9061132669448853], loss (batch)=0.539]\n",
      "Epoch 3/100: 100%|██████████| 30/30 [00:20<00:00,  1.49img/s, Cumulative Dice=[0.9268796443939209], loss (batch)=0.411]\n",
      "Epoch 4/100: 100%|██████████| 30/30 [00:20<00:00,  1.50img/s, Cumulative Dice=[0.9451736211776733], loss (batch)=0.362]\n",
      "Epoch 5/100: 100%|██████████| 30/30 [00:20<00:00,  1.50img/s, Cumulative Dice=[0.9448870420455933], loss (batch)=0.312]\n",
      "Epoch 6/100: 100%|██████████| 30/30 [00:20<00:00,  1.50img/s, Cumulative Dice=[0.9453360438346863], loss (batch)=0.345]\n",
      "Epoch 7/100: 100%|██████████| 30/30 [00:20<00:00,  1.50img/s, Cumulative Dice=[0.9481698870658875], loss (batch)=0.285]\n",
      "Epoch 8/100: 100%|██████████| 30/30 [00:19<00:00,  1.51img/s, Cumulative Dice=[0.9465432167053223], loss (batch)=0.293]\n",
      "Epoch 9/100: 100%|██████████| 30/30 [00:20<00:00,  1.49img/s, Cumulative Dice=[0.9495136737823486], loss (batch)=0.263]\n",
      "Epoch 10/100: 100%|███████████| 30/30 [00:20<00:00,  1.48img/s, Cumulative Dice=[0.949032187461853], loss (batch)=0.22]\n",
      "Epoch 11/100: 100%|█████████| 30/30 [00:20<00:00,  1.49img/s, Cumulative Dice=[0.9454395771026611], loss (batch)=0.236]\n",
      "Epoch 12/100: 100%|██████████| 30/30 [00:20<00:00,  1.48img/s, Cumulative Dice=[0.9481780529022217], loss (batch)=0.26]\n",
      "Epoch 13/100: 100%|█████████| 30/30 [00:20<00:00,  1.47img/s, Cumulative Dice=[0.9468592405319214], loss (batch)=0.208]\n",
      "Epoch 14/100: 100%|█████████| 30/30 [00:20<00:00,  1.49img/s, Cumulative Dice=[0.9537333250045776], loss (batch)=0.214]\n",
      "Epoch 15/100: 100%|█████████| 30/30 [00:20<00:00,  1.45img/s, Cumulative Dice=[0.9509569406509399], loss (batch)=0.212]\n",
      "Epoch 16/100: 100%|█████████| 30/30 [00:20<00:00,  1.48img/s, Cumulative Dice=[0.9532517194747925], loss (batch)=0.233]\n",
      "Epoch 17/100: 100%|█████████| 30/30 [00:20<00:00,  1.49img/s, Cumulative Dice=[0.9515584707260132], loss (batch)=0.254]\n",
      "Epoch 18/100: 100%|█████████| 30/30 [00:20<00:00,  1.48img/s, Cumulative Dice=[0.9557415246963501], loss (batch)=0.204]\n",
      "Epoch 19/100: 100%|██████████| 30/30 [00:20<00:00,  1.49img/s, Cumulative Dice=[0.9536552429199219], loss (batch)=0.22]\n",
      "Epoch 20/100: 100%|█████████| 30/30 [00:20<00:00,  1.49img/s, Cumulative Dice=[0.9546569585800171], loss (batch)=0.216]\n",
      "Epoch 21/100: 100%|█████████| 30/30 [00:20<00:00,  1.49img/s, Cumulative Dice=[0.9554678797721863], loss (batch)=0.262]\n",
      "Epoch 22/100: 100%|█████████| 30/30 [00:20<00:00,  1.48img/s, Cumulative Dice=[0.9539957046508789], loss (batch)=0.226]\n",
      "Epoch 23/100: 100%|█████████| 30/30 [00:20<00:00,  1.47img/s, Cumulative Dice=[0.9534997344017029], loss (batch)=0.228]\n",
      "Epoch 24/100: 100%|██████████| 30/30 [00:20<00:00,  1.47img/s, Cumulative Dice=[0.9621285200119019], loss (batch)=0.17]\n",
      "Epoch 25/100: 100%|█████████| 30/30 [00:20<00:00,  1.47img/s, Cumulative Dice=[0.9569424986839294], loss (batch)=0.201]\n",
      "Epoch 26/100: 100%|█████████| 30/30 [00:20<00:00,  1.47img/s, Cumulative Dice=[0.9578886032104492], loss (batch)=0.202]\n",
      "Epoch 27/100: 100%|█████████| 30/30 [00:20<00:00,  1.46img/s, Cumulative Dice=[0.9607728719711304], loss (batch)=0.197]\n",
      "Epoch 28/100: 100%|█████████| 30/30 [00:20<00:00,  1.47img/s, Cumulative Dice=[0.9637640714645386], loss (batch)=0.169]\n",
      "Epoch 29/100: 100%|█████████| 30/30 [00:20<00:00,  1.47img/s, Cumulative Dice=[0.9604822397232056], loss (batch)=0.201]\n",
      "Epoch 30/100: 100%|██████████| 30/30 [00:20<00:00,  1.47img/s, Cumulative Dice=[0.964328408241272], loss (batch)=0.149]\n",
      "Epoch 31/100: 100%|█████████| 30/30 [00:20<00:00,  1.48img/s, Cumulative Dice=[0.9629331827163696], loss (batch)=0.204]\n",
      "Epoch 32/100: 100%|█████████| 30/30 [00:20<00:00,  1.46img/s, Cumulative Dice=[0.9618031978607178], loss (batch)=0.169]\n",
      "Epoch 33/100: 100%|█████████| 30/30 [00:20<00:00,  1.47img/s, Cumulative Dice=[0.9646209478378296], loss (batch)=0.193]\n",
      "Epoch 34/100: 100%|█████████| 30/30 [00:20<00:00,  1.46img/s, Cumulative Dice=[0.9651831984519958], loss (batch)=0.144]\n",
      "Epoch 35/100: 100%|██████████| 30/30 [00:20<00:00,  1.46img/s, Cumulative Dice=[0.9656815528869629], loss (batch)=0.18]\n",
      "Epoch 36/100: 100%|█████████| 30/30 [00:20<00:00,  1.46img/s, Cumulative Dice=[0.9687095880508423], loss (batch)=0.148]\n",
      "Epoch 37/100: 100%|█████████| 30/30 [00:20<00:00,  1.46img/s, Cumulative Dice=[0.9673351645469666], loss (batch)=0.176]\n",
      "Epoch 38/100: 100%|█████████| 30/30 [00:20<00:00,  1.46img/s, Cumulative Dice=[0.9683805704116821], loss (batch)=0.142]\n",
      "Epoch 39/100: 100%|█████████| 30/30 [00:20<00:00,  1.48img/s, Cumulative Dice=[0.9628651142120361], loss (batch)=0.176]\n",
      "Epoch 40/100: 100%|█████████| 30/30 [00:20<00:00,  1.48img/s, Cumulative Dice=[0.9629827737808228], loss (batch)=0.203]\n",
      "Epoch 41/100: 100%|█████████| 30/30 [00:20<00:00,  1.47img/s, Cumulative Dice=[0.9642640352249146], loss (batch)=0.177]\n",
      "Epoch 42/100: 100%|█████████| 30/30 [00:20<00:00,  1.45img/s, Cumulative Dice=[0.9662978649139404], loss (batch)=0.191]\n",
      "Epoch 43/100: 100%|█████████| 30/30 [00:21<00:00,  1.42img/s, Cumulative Dice=[0.9629284143447876], loss (batch)=0.149]\n",
      "Epoch 44/100: 100%|█████████| 30/30 [00:20<00:00,  1.45img/s, Cumulative Dice=[0.9622578024864197], loss (batch)=0.215]\n",
      "Epoch 45/100: 100%|█████████| 30/30 [00:20<00:00,  1.44img/s, Cumulative Dice=[0.9631535410881042], loss (batch)=0.156]\n",
      "Epoch 46/100: 100%|█████████| 30/30 [00:20<00:00,  1.49img/s, Cumulative Dice=[0.9631836414337158], loss (batch)=0.203]\n",
      "Epoch 47/100: 100%|███████████| 30/30 [00:20<00:00,  1.43img/s, Cumulative Dice=[0.96233069896698], loss (batch)=0.154]\n",
      "Epoch 48/100: 100%|█████████| 30/30 [00:20<00:00,  1.50img/s, Cumulative Dice=[0.9631360769271851], loss (batch)=0.166]\n",
      "Epoch 49/100: 100%|█████████| 30/30 [00:21<00:00,  1.41img/s, Cumulative Dice=[0.9659821391105652], loss (batch)=0.197]\n",
      "Epoch 50/100: 100%|█████████| 30/30 [00:20<00:00,  1.43img/s, Cumulative Dice=[0.9676050543785095], loss (batch)=0.159]\n",
      "Epoch 51/100: 100%|█████████| 30/30 [00:20<00:00,  1.48img/s, Cumulative Dice=[0.9634474515914917], loss (batch)=0.185]\n",
      "Epoch 52/100: 100%|█████████| 30/30 [00:20<00:00,  1.48img/s, Cumulative Dice=[0.9642599821090698], loss (batch)=0.147]\n",
      "Epoch 53/100: 100%|█████████| 30/30 [00:21<00:00,  1.39img/s, Cumulative Dice=[0.9628505110740662], loss (batch)=0.192]\n",
      "Epoch 54/100: 100%|█████████| 30/30 [00:20<00:00,  1.44img/s, Cumulative Dice=[0.9636120200157166], loss (batch)=0.146]\n",
      "Epoch 55/100: 100%|█████████| 30/30 [00:21<00:00,  1.42img/s, Cumulative Dice=[0.9674561023712158], loss (batch)=0.145]\n",
      "Epoch 56/100: 100%|█████████| 30/30 [00:21<00:00,  1.43img/s, Cumulative Dice=[0.9683132171630859], loss (batch)=0.149]\n",
      "Epoch 57/100: 100%|█████████| 30/30 [00:20<00:00,  1.44img/s, Cumulative Dice=[0.9668203592300415], loss (batch)=0.162]\n",
      "Epoch 58/100: 100%|█████████| 30/30 [00:21<00:00,  1.42img/s, Cumulative Dice=[0.9684170484542847], loss (batch)=0.138]\n",
      "Epoch 59/100: 100%|█████████| 30/30 [00:21<00:00,  1.42img/s, Cumulative Dice=[0.9684714078903198], loss (batch)=0.129]\n",
      "Epoch 60/100: 100%|█████████| 30/30 [00:20<00:00,  1.43img/s, Cumulative Dice=[0.9722172617912292], loss (batch)=0.143]\n",
      "Epoch 61/100: 100%|█████████| 30/30 [00:21<00:00,  1.40img/s, Cumulative Dice=[0.9719258546829224], loss (batch)=0.121]\n",
      "Epoch 62/100: 100%|█████████| 30/30 [00:21<00:00,  1.40img/s, Cumulative Dice=[0.9684861898422241], loss (batch)=0.141]\n",
      "Epoch 63/100: 100%|█████████| 30/30 [00:21<00:00,  1.38img/s, Cumulative Dice=[0.9739813804626465], loss (batch)=0.123]\n",
      "Epoch 64/100: 100%|██████████| 30/30 [00:20<00:00,  1.47img/s, Cumulative Dice=[0.9743427038192749], loss (batch)=0.11]\n",
      "Epoch 65/100: 100%|█████████| 30/30 [00:20<00:00,  1.49img/s, Cumulative Dice=[0.9755275249481201], loss (batch)=0.139]\n",
      "Epoch 66/100: 100%|█████████| 30/30 [00:21<00:00,  1.43img/s, Cumulative Dice=[0.9780837297439575], loss (batch)=0.101]\n",
      "Epoch 67/100: 100%|████████| 30/30 [00:21<00:00,  1.39img/s, Cumulative Dice=[0.9794036746025085], loss (batch)=0.0916]\n",
      "Epoch 68/100: 100%|██████████| 30/30 [00:20<00:00,  1.49img/s, Cumulative Dice=[0.976462721824646], loss (batch)=0.108]\n",
      "Epoch 69/100: 100%|█████████| 30/30 [00:20<00:00,  1.48img/s, Cumulative Dice=[0.9766625761985779], loss (batch)=0.101]\n",
      "Epoch 70/100: 100%|████████| 30/30 [00:21<00:00,  1.39img/s, Cumulative Dice=[0.9793236255645752], loss (batch)=0.0967]\n",
      "Epoch 71/100: 100%|█████████| 30/30 [00:20<00:00,  1.47img/s, Cumulative Dice=[0.978519856929779], loss (batch)=0.0906]\n",
      "Epoch 72/100: 100%|█████████| 30/30 [00:20<00:00,  1.49img/s, Cumulative Dice=[0.9786384105682373], loss (batch)=0.101]\n",
      "Epoch 73/100: 100%|█████████| 30/30 [00:21<00:00,  1.37img/s, Cumulative Dice=[0.9742690920829773], loss (batch)=0.145]\n",
      "Epoch 74/100: 100%|████████| 30/30 [00:20<00:00,  1.47img/s, Cumulative Dice=[0.9783241152763367], loss (batch)=0.0998]\n",
      "Epoch 75/100: 100%|█████████| 30/30 [00:21<00:00,  1.38img/s, Cumulative Dice=[0.9781124591827393], loss (batch)=0.114]\n",
      "Epoch 76/100: 100%|█████████| 30/30 [00:20<00:00,  1.48img/s, Cumulative Dice=[0.9765588641166687], loss (batch)=0.114]\n",
      "Epoch 77/100: 100%|█████████| 30/30 [00:20<00:00,  1.49img/s, Cumulative Dice=[0.9767265319824219], loss (batch)=0.126]\n",
      "Epoch 78/100: 100%|█████████| 30/30 [00:20<00:00,  1.47img/s, Cumulative Dice=[0.9766473174095154], loss (batch)=0.143]\n",
      "Epoch 79/100: 100%|████████| 30/30 [00:20<00:00,  1.47img/s, Cumulative Dice=[0.9786457419395447], loss (batch)=0.0936]\n",
      "Epoch 80/100: 100%|█████████| 30/30 [00:20<00:00,  1.48img/s, Cumulative Dice=[0.9777087569236755], loss (batch)=0.104]\n",
      "Epoch 81/100: 100%|█████████| 30/30 [00:21<00:00,  1.39img/s, Cumulative Dice=[0.9792362451553345], loss (batch)=0.102]\n",
      "Epoch 82/100: 100%|██████████| 30/30 [00:20<00:00,  1.48img/s, Cumulative Dice=[0.9769785404205322], loss (batch)=0.11]\n",
      "Epoch 83/100: 100%|█████████| 30/30 [00:21<00:00,  1.38img/s, Cumulative Dice=[0.9755114316940308], loss (batch)=0.102]\n",
      "Epoch 84/100: 100%|█████████| 30/30 [00:20<00:00,  1.48img/s, Cumulative Dice=[0.9744605422019958], loss (batch)=0.117]\n",
      "Epoch 85/100: 100%|█████████| 30/30 [00:20<00:00,  1.48img/s, Cumulative Dice=[0.9779016971588135], loss (batch)=0.106]\n",
      "Epoch 86/100: 100%|████████| 30/30 [00:21<00:00,  1.39img/s, Cumulative Dice=[0.9773006439208984], loss (batch)=0.0885]\n",
      "Epoch 87/100: 100%|█████████| 30/30 [00:20<00:00,  1.47img/s, Cumulative Dice=[0.9766263365745544], loss (batch)=0.117]\n",
      "Epoch 88/100: 100%|██████████| 30/30 [00:20<00:00,  1.48img/s, Cumulative Dice=[0.9790881872177124], loss (batch)=0.11]\n",
      "Epoch 89/100: 100%|█████████| 30/30 [00:22<00:00,  1.32img/s, Cumulative Dice=[0.9803254008293152], loss (batch)=0.124]\n",
      "Epoch 90/100: 100%|██████████| 30/30 [00:20<00:00,  1.49img/s, Cumulative Dice=[0.9789656400680542], loss (batch)=0.12]\n",
      "Epoch 91/100: 100%|████████| 30/30 [00:20<00:00,  1.50img/s, Cumulative Dice=[0.9812399744987488], loss (batch)=0.0828]\n",
      "Epoch 92/100: 100%|████████| 30/30 [00:21<00:00,  1.38img/s, Cumulative Dice=[0.9799178838729858], loss (batch)=0.0922]\n",
      "Epoch 93/100: 100%|████████| 30/30 [00:22<00:00,  1.36img/s, Cumulative Dice=[0.9819702506065369], loss (batch)=0.0767]\n",
      "Epoch 94/100: 100%|████████| 30/30 [00:20<00:00,  1.49img/s, Cumulative Dice=[0.9794903993606567], loss (batch)=0.0969]\n",
      "Epoch 95/100: 100%|████████| 30/30 [00:20<00:00,  1.48img/s, Cumulative Dice=[0.9814480543136597], loss (batch)=0.0863]\n",
      "Epoch 96/100: 100%|████████| 30/30 [00:20<00:00,  1.48img/s, Cumulative Dice=[0.9819704294204712], loss (batch)=0.0679]\n",
      "Epoch 97/100: 100%|█████████| 30/30 [00:23<00:00,  1.27img/s, Cumulative Dice=[0.984251856803894], loss (batch)=0.0809]\n",
      "Epoch 98/100: 100%|████████| 30/30 [00:20<00:00,  1.43img/s, Cumulative Dice=[0.9836024641990662], loss (batch)=0.0763]\n",
      "Epoch 99/100: 100%|█████████| 30/30 [00:20<00:00,  1.49img/s, Cumulative Dice=[0.9852173328399658], loss (batch)=0.067]\n",
      "Epoch 100/100: 100%|███████| 30/30 [00:20<00:00,  1.44img/s, Cumulative Dice=[0.9859864711761475], loss (batch)=0.0644]\n",
      "                                                                                                                       \r"
     ]
    },
    {
     "data": {
      "text/html": [
       "Finishing last run (ID:l88hc3lo) before initializing another..."
      ],
      "text/plain": [
       "<IPython.core.display.HTML object>"
      ]
     },
     "metadata": {},
     "output_type": "display_data"
    },
    {
     "data": {
      "text/html": [
       "Waiting for W&B process to finish... <strong style=\"color:green\">(success).</strong>"
      ],
      "text/plain": [
       "<IPython.core.display.HTML object>"
      ]
     },
     "metadata": {},
     "output_type": "display_data"
    },
    {
     "data": {
      "text/html": [
       "<style>\n",
       "    table.wandb td:nth-child(1) { padding: 0 10px; text-align: left ; width: auto;} td:nth-child(2) {text-align: left ; width: 100%}\n",
       "    .wandb-row { display: flex; flex-direction: row; flex-wrap: wrap; justify-content: flex-start; width: 100% }\n",
       "    .wandb-col { display: flex; flex-direction: column; flex-basis: 100%; flex: 1; padding: 10px; }\n",
       "    </style>\n",
       "<div class=\"wandb-row\"><div class=\"wandb-col\"><h3>Run history:</h3><br/><table class=\"wandb\"><tr><td>Angle -10 Test Loss</td><td>█▃▂▂▁▂▁▂▂▁▃▂▃▃▃▃▃▃▃▃▃▃▃▄▅▅▅▅▅▄▅▆▅▅▅▆▅▇▇▇</td></tr><tr><td>Angle -20 Test Loss</td><td>█▄▂▂▁▂▁▂▂▁▃▂▃▃▃▃▃▃▃▃▄▃▃▄▅▅▅▅▅▄▅▆▅▅▅▆▅▇▇▇</td></tr><tr><td>Angle -5 Test Loss</td><td>█▃▂▁▁▂▁▂▂▁▃▂▃▃▃▃▃▃▃▃▃▃▃▄▅▅▅▅▅▄▅▆▅▅▅▆▅▇▇▇</td></tr><tr><td>Angle 0 Test Loss</td><td>█▄▂▁▁▁▁▁▂▁▃▂▃▃▃▃▃▃▃▃▃▃▃▄▄▄▅▅▅▄▅▆▅▅▅▆▅▇▇▇</td></tr><tr><td>Angle 10 Test Loss</td><td>█▃▂▁▁▂▁▂▂▁▃▂▃▃▃▃▃▃▃▃▃▃▃▄▅▄▅▅▅▄▄▆▅▅▅▅▅▇▇▆</td></tr><tr><td>Angle 20 Test Loss</td><td>█▄▂▂▁▂▁▂▂▁▃▂▃▃▃▃▃▃▃▃▃▃▃▄▅▅▅▅▅▄▅▆▅▅▅▆▅▇▇▇</td></tr><tr><td>Angle 5 Test Loss</td><td>█▃▂▁▁▁▁▂▂▁▃▂▃▃▃▃▃▃▃▃▃▃▃▄▅▄▅▅▅▄▅▆▅▅▅▆▅▇▇▆</td></tr><tr><td>Equivariance Weight</td><td>▁▁▁▁▁▁▁▁▁▁▁▁▁▁▁▁▁▁▁▁▁▁▁▁▁▁▁▁▁▁▁▁▁▁▁▁▁▁▁▁</td></tr><tr><td>Random Equivariance Error</td><td>▁▁▁▁▁▅▃▂▇▅▅▆▅▄▄▅▃▃▅▆▄▅▅▄▆▅▄▆▆▂▇▆▄█▇▂▄▇▆▄</td></tr><tr><td>Test Equivariance Error</td><td>▁▁▁▁▂▂▁▂▂▂▂▃▂▆▃▂▅▃▃▂▃▃▃▃▅▄▄▅▅█▆▅█▅▆▇▅▆▅▆</td></tr><tr><td>Time into epoch</td><td>▁▂▃▅▆▆█▁▃▄▅▆█▁▃▃▅▆▇█▂▃▄▆▇█▁▃▄▅▆█▁▂▃▆▆▇█▂</td></tr><tr><td>Total time</td><td>▁▁▁▁▂▂▂▂▂▃▃▃▃▃▃▄▄▄▄▄▅▅▅▅▅▅▆▆▆▆▆▆▇▇▇▇▇███</td></tr><tr><td>epoch</td><td>▁▁▁▂▂▂▂▂▂▃▃▃▃▃▃▄▄▄▄▄▅▅▅▅▅▅▆▆▆▆▆▇▇▇▇▇▇███</td></tr><tr><td>equivariance error</td><td>▁▂▃▃▄▄▄▃▄▄▄▅▅▅▅▅▅▅▅▅▅▆▅▆▆▇▇▇▄█▇▇▇▇▇▇███▇</td></tr><tr><td>learning rate</td><td>▁▂▃▄▆▇██▆▅▄▃▂▁▂▃▄▆▇██▇▆▄▃▂▁▂▃▄▅▆██▇▆▄▃▂▁</td></tr><tr><td>step</td><td>▁▁▁▂▂▂▂▂▂▃▃▃▃▃▃▄▄▄▄▄▅▅▅▅▅▅▆▆▆▆▆▇▇▇▇▇▇███</td></tr><tr><td>train loss</td><td>█▅▄▃▃▄▃▂▂▃▃▂▂▂▂▂▂▃▂▂▂▂▂▂▂▂▁▂▂▂▂▂▂▂▁▁▁▁▁▁</td></tr><tr><td>train total loss</td><td>█▅▄▃▃▄▃▂▂▃▃▂▂▂▂▂▂▃▂▂▂▂▂▂▂▂▁▂▂▂▂▂▂▂▁▁▁▁▁▁</td></tr></table><br/></div><div class=\"wandb-col\"><h3>Run summary:</h3><br/><table class=\"wandb\"><tr><td>Angle -10 Test Loss</td><td>0.67371</td></tr><tr><td>Angle -20 Test Loss</td><td>0.72056</td></tr><tr><td>Angle -5 Test Loss</td><td>0.65447</td></tr><tr><td>Angle 0 Test Loss</td><td>0.63144</td></tr><tr><td>Angle 10 Test Loss</td><td>0.66324</td></tr><tr><td>Angle 20 Test Loss</td><td>0.7111</td></tr><tr><td>Angle 5 Test Loss</td><td>0.64511</td></tr><tr><td>Equivariance Weight</td><td>100</td></tr><tr><td>Random Equivariance Error</td><td>0.48541</td></tr><tr><td>Test Equivariance Error</td><td>0.21854</td></tr><tr><td>Time into epoch</td><td>19.69895</td></tr><tr><td>Total time</td><td>7539.35755</td></tr><tr><td>epoch</td><td>100</td></tr><tr><td>equivariance error</td><td>1.23231</td></tr><tr><td>learning rate</td><td>0.0</td></tr><tr><td>step</td><td>3000</td></tr><tr><td>train loss</td><td>0.06436</td></tr><tr><td>train total loss</td><td>0.06436</td></tr></table><br/></div></div>"
      ],
      "text/plain": [
       "<IPython.core.display.HTML object>"
      ]
     },
     "metadata": {},
     "output_type": "display_data"
    },
    {
     "data": {
      "text/html": [
       " View run <strong style=\"color:#cdcd00\">trim-dawn-204</strong> at: <a href='https://wandb.ai/jjkjjk23/HeLa%20EUNet/runs/l88hc3lo' target=\"_blank\">https://wandb.ai/jjkjjk23/HeLa%20EUNet/runs/l88hc3lo</a><br/> View job at <a href='https://wandb.ai/jjkjjk23/HeLa%20EUNet/jobs/QXJ0aWZhY3RDb2xsZWN0aW9uOjk0NDYyOTAx/version_details/v25' target=\"_blank\">https://wandb.ai/jjkjjk23/HeLa%20EUNet/jobs/QXJ0aWZhY3RDb2xsZWN0aW9uOjk0NDYyOTAx/version_details/v25</a><br/>Synced 6 W&B file(s), 6700 media file(s), 0 artifact file(s) and 0 other file(s)"
      ],
      "text/plain": [
       "<IPython.core.display.HTML object>"
      ]
     },
     "metadata": {},
     "output_type": "display_data"
    },
    {
     "data": {
      "text/html": [
       "Find logs at: <code>.\\wandb\\run-20230925_110814-l88hc3lo\\logs</code>"
      ],
      "text/plain": [
       "<IPython.core.display.HTML object>"
      ]
     },
     "metadata": {},
     "output_type": "display_data"
    },
    {
     "data": {
      "text/html": [
       "Successfully finished last run (ID:l88hc3lo). Initializing new run:<br/>"
      ],
      "text/plain": [
       "<IPython.core.display.HTML object>"
      ]
     },
     "metadata": {},
     "output_type": "display_data"
    },
    {
     "data": {
      "text/html": [
       "wandb version 0.15.11 is available!  To upgrade, please run:\n",
       " $ pip install wandb --upgrade"
      ],
      "text/plain": [
       "<IPython.core.display.HTML object>"
      ]
     },
     "metadata": {},
     "output_type": "display_data"
    },
    {
     "data": {
      "text/html": [
       "Tracking run with wandb version 0.15.9"
      ],
      "text/plain": [
       "<IPython.core.display.HTML object>"
      ]
     },
     "metadata": {},
     "output_type": "display_data"
    },
    {
     "data": {
      "text/html": [
       "Run data is saved locally in <code>C:\\Users\\jjkjj\\Equivariant\\EquivariantUNet\\wandb\\run-20230925_131523-vu65e2ap</code>"
      ],
      "text/plain": [
       "<IPython.core.display.HTML object>"
      ]
     },
     "metadata": {},
     "output_type": "display_data"
    },
    {
     "data": {
      "text/html": [
       "Syncing run <strong><a href='https://wandb.ai/jjkjjk23/HeLa%20EUNet/runs/vu65e2ap' target=\"_blank\">electric-disco-205</a></strong> to <a href='https://wandb.ai/jjkjjk23/HeLa%20EUNet' target=\"_blank\">Weights & Biases</a> (<a href='https://wandb.me/run' target=\"_blank\">docs</a>)<br/>"
      ],
      "text/plain": [
       "<IPython.core.display.HTML object>"
      ]
     },
     "metadata": {},
     "output_type": "display_data"
    },
    {
     "data": {
      "text/html": [
       " View project at <a href='https://wandb.ai/jjkjjk23/HeLa%20EUNet' target=\"_blank\">https://wandb.ai/jjkjjk23/HeLa%20EUNet</a>"
      ],
      "text/plain": [
       "<IPython.core.display.HTML object>"
      ]
     },
     "metadata": {},
     "output_type": "display_data"
    },
    {
     "data": {
      "text/html": [
       " View run at <a href='https://wandb.ai/jjkjjk23/HeLa%20EUNet/runs/vu65e2ap' target=\"_blank\">https://wandb.ai/jjkjjk23/HeLa%20EUNet/runs/vu65e2ap</a>"
      ],
      "text/plain": [
       "<IPython.core.display.HTML object>"
      ]
     },
     "metadata": {},
     "output_type": "display_data"
    },
    {
     "name": "stderr",
     "output_type": "stream",
     "text": [
      "Epoch 1/100: 100%|███████████| 30/30 [00:19<00:00,  1.55img/s, Cumulative Dice=[0.8401538729667664], loss (batch)=0.82]\n",
      "Epoch 2/100: 100%|██████████| 30/30 [00:20<00:00,  1.46img/s, Cumulative Dice=[0.8851718902587891], loss (batch)=0.697]\n",
      "Epoch 3/100: 100%|██████████| 30/30 [00:20<00:00,  1.43img/s, Cumulative Dice=[0.9238747954368591], loss (batch)=0.494]\n",
      "Epoch 4/100: 100%|██████████| 30/30 [00:21<00:00,  1.40img/s, Cumulative Dice=[0.9379076361656189], loss (batch)=0.412]\n",
      "Epoch 5/100: 100%|██████████| 30/30 [00:21<00:00,  1.41img/s, Cumulative Dice=[0.9477435946464539], loss (batch)=0.389]\n",
      "Epoch 6/100: 100%|██████████| 30/30 [00:22<00:00,  1.36img/s, Cumulative Dice=[0.9416313171386719], loss (batch)=0.357]\n",
      "Epoch 7/100: 100%|██████████| 30/30 [00:21<00:00,  1.42img/s, Cumulative Dice=[0.9399658441543579], loss (batch)=0.304]\n",
      "Epoch 8/100: 100%|████████████| 30/30 [00:21<00:00,  1.38img/s, Cumulative Dice=[0.9507479667663574], loss (batch)=0.3]\n",
      "Epoch 9/100: 100%|██████████| 30/30 [00:21<00:00,  1.38img/s, Cumulative Dice=[0.9391195178031921], loss (batch)=0.299]\n",
      "Epoch 10/100: 100%|█████████| 30/30 [00:21<00:00,  1.39img/s, Cumulative Dice=[0.9467413425445557], loss (batch)=0.404]\n",
      "Epoch 11/100: 100%|██████████| 30/30 [00:21<00:00,  1.39img/s, Cumulative Dice=[0.9507982134819031], loss (batch)=0.29]\n",
      "Epoch 12/100: 100%|█████████| 30/30 [00:21<00:00,  1.38img/s, Cumulative Dice=[0.9496010541915894], loss (batch)=0.275]\n",
      "Epoch 13/100: 100%|█████████| 30/30 [00:21<00:00,  1.40img/s, Cumulative Dice=[0.9460463523864746], loss (batch)=0.242]\n",
      "Epoch 14/100: 100%|█████████| 30/30 [00:21<00:00,  1.42img/s, Cumulative Dice=[0.9470031261444092], loss (batch)=0.245]\n",
      "Epoch 15/100: 100%|█████████| 30/30 [00:21<00:00,  1.41img/s, Cumulative Dice=[0.9525436162948608], loss (batch)=0.226]\n",
      "Epoch 16/100: 100%|█████████| 30/30 [00:20<00:00,  1.43img/s, Cumulative Dice=[0.9533547759056091], loss (batch)=0.202]\n",
      "Epoch 17/100: 100%|█████████| 30/30 [00:20<00:00,  1.48img/s, Cumulative Dice=[0.9543668031692505], loss (batch)=0.219]\n",
      "Epoch 18/100: 100%|█████████| 30/30 [00:21<00:00,  1.43img/s, Cumulative Dice=[0.9505988955497742], loss (batch)=0.204]\n",
      "Epoch 19/100: 100%|█████████| 30/30 [00:21<00:00,  1.41img/s, Cumulative Dice=[0.9521977305412292], loss (batch)=0.236]\n",
      "Epoch 20/100: 100%|█████████| 30/30 [00:21<00:00,  1.40img/s, Cumulative Dice=[0.9526777267456055], loss (batch)=0.207]\n",
      "Epoch 21/100: 100%|█████████| 30/30 [00:21<00:00,  1.42img/s, Cumulative Dice=[0.9492501020431519], loss (batch)=0.201]\n",
      "Epoch 22/100: 100%|█████████| 30/30 [00:21<00:00,  1.42img/s, Cumulative Dice=[0.9525520205497742], loss (batch)=0.195]\n",
      "Epoch 23/100: 100%|█████████| 30/30 [00:21<00:00,  1.42img/s, Cumulative Dice=[0.9584717750549316], loss (batch)=0.208]\n",
      "Epoch 24/100: 100%|█████████| 30/30 [00:22<00:00,  1.32img/s, Cumulative Dice=[0.9577317237854004], loss (batch)=0.236]\n",
      "Epoch 25/100: 100%|█████████| 30/30 [00:21<00:00,  1.41img/s, Cumulative Dice=[0.9608175158500671], loss (batch)=0.186]\n",
      "Epoch 26/100: 100%|█████████| 30/30 [00:21<00:00,  1.38img/s, Cumulative Dice=[0.9616643786430359], loss (batch)=0.212]\n",
      "Epoch 27/100: 100%|█████████| 30/30 [00:22<00:00,  1.35img/s, Cumulative Dice=[0.9574923515319824], loss (batch)=0.203]\n",
      "Epoch 28/100: 100%|█████████| 30/30 [00:21<00:00,  1.38img/s, Cumulative Dice=[0.9623050093650818], loss (batch)=0.207]\n",
      "Epoch 29/100: 100%|██████████| 30/30 [00:21<00:00,  1.39img/s, Cumulative Dice=[0.958885133266449], loss (batch)=0.169]\n",
      "Epoch 30/100: 100%|█████████| 30/30 [00:21<00:00,  1.41img/s, Cumulative Dice=[0.9628636240959167], loss (batch)=0.147]\n",
      "Epoch 31/100: 100%|█████████| 30/30 [00:21<00:00,  1.38img/s, Cumulative Dice=[0.9659225344657898], loss (batch)=0.177]\n",
      "Epoch 32/100: 100%|█████████| 30/30 [00:21<00:00,  1.38img/s, Cumulative Dice=[0.9649121165275574], loss (batch)=0.145]\n",
      "Epoch 33/100: 100%|█████████| 30/30 [00:21<00:00,  1.40img/s, Cumulative Dice=[0.9652763605117798], loss (batch)=0.216]\n",
      "Epoch 34/100: 100%|██████████| 30/30 [00:21<00:00,  1.39img/s, Cumulative Dice=[0.965486466884613], loss (batch)=0.188]\n",
      "Epoch 35/100: 100%|██████████| 30/30 [00:21<00:00,  1.37img/s, Cumulative Dice=[0.9699086546897888], loss (batch)=0.15]\n",
      "Epoch 36/100: 100%|█████████| 30/30 [00:22<00:00,  1.36img/s, Cumulative Dice=[0.9654078483581543], loss (batch)=0.177]\n",
      "Epoch 37/100: 100%|█████████| 30/30 [00:21<00:00,  1.37img/s, Cumulative Dice=[0.9665265083312988], loss (batch)=0.188]\n",
      "Epoch 38/100: 100%|█████████| 30/30 [00:21<00:00,  1.39img/s, Cumulative Dice=[0.9637700319290161], loss (batch)=0.151]\n",
      "Epoch 39/100: 100%|█████████| 30/30 [00:21<00:00,  1.40img/s, Cumulative Dice=[0.9657759666442871], loss (batch)=0.148]\n",
      "Epoch 40/100: 100%|█████████| 30/30 [00:21<00:00,  1.38img/s, Cumulative Dice=[0.9651211500167847], loss (batch)=0.171]\n",
      "Epoch 41/100: 100%|██████████| 30/30 [00:21<00:00,  1.39img/s, Cumulative Dice=[0.962087094783783], loss (batch)=0.188]\n",
      "Epoch 42/100: 100%|█████████| 30/30 [00:22<00:00,  1.36img/s, Cumulative Dice=[0.9641917943954468], loss (batch)=0.175]\n",
      "Epoch 43/100: 100%|█████████| 30/30 [00:21<00:00,  1.39img/s, Cumulative Dice=[0.9646515846252441], loss (batch)=0.147]\n",
      "Epoch 44/100: 100%|█████████| 30/30 [00:21<00:00,  1.37img/s, Cumulative Dice=[0.9646574258804321], loss (batch)=0.173]\n",
      "Epoch 45/100: 100%|█████████| 30/30 [00:21<00:00,  1.41img/s, Cumulative Dice=[0.9614237546920776], loss (batch)=0.186]\n",
      "Epoch 46/100: 100%|█████████| 30/30 [00:21<00:00,  1.39img/s, Cumulative Dice=[0.9628926515579224], loss (batch)=0.157]\n",
      "Epoch 47/100: 100%|█████████| 30/30 [00:22<00:00,  1.36img/s, Cumulative Dice=[0.9645800590515137], loss (batch)=0.144]\n",
      "Epoch 48/100: 100%|█████████| 30/30 [00:22<00:00,  1.36img/s, Cumulative Dice=[0.9617823362350464], loss (batch)=0.144]\n",
      "Epoch 49/100: 100%|█████████| 30/30 [00:22<00:00,  1.33img/s, Cumulative Dice=[0.9615246057510376], loss (batch)=0.196]\n",
      "Epoch 50/100: 100%|██████████| 30/30 [00:22<00:00,  1.34img/s, Cumulative Dice=[0.964038074016571], loss (batch)=0.199]\n",
      "Epoch 51/100: 100%|█████████| 30/30 [00:23<00:00,  1.28img/s, Cumulative Dice=[0.9618119597434998], loss (batch)=0.149]\n",
      "Epoch 52/100: 100%|█████████| 30/30 [00:21<00:00,  1.37img/s, Cumulative Dice=[0.9614771604537964], loss (batch)=0.158]\n",
      "Epoch 53/100: 100%|██████████| 30/30 [00:21<00:00,  1.39img/s, Cumulative Dice=[0.960124671459198], loss (batch)=0.193]\n",
      "Epoch 54/100: 100%|█████████| 30/30 [00:22<00:00,  1.31img/s, Cumulative Dice=[0.9619855880737305], loss (batch)=0.196]\n",
      "Epoch 55/100: 100%|██████████| 30/30 [00:22<00:00,  1.36img/s, Cumulative Dice=[0.9657525420188904], loss (batch)=0.15]\n",
      "Epoch 56/100: 100%|█████████| 30/30 [00:22<00:00,  1.32img/s, Cumulative Dice=[0.9689874649047852], loss (batch)=0.144]\n",
      "Epoch 57/100: 100%|█████████| 30/30 [00:21<00:00,  1.38img/s, Cumulative Dice=[0.9689455032348633], loss (batch)=0.179]\n",
      "Epoch 58/100: 100%|█████████| 30/30 [00:21<00:00,  1.39img/s, Cumulative Dice=[0.9687788486480713], loss (batch)=0.143]\n",
      "Epoch 59/100: 100%|██████████| 30/30 [00:21<00:00,  1.40img/s, Cumulative Dice=[0.9706805944442749], loss (batch)=0.16]\n",
      "Epoch 60/100: 100%|█████████| 30/30 [00:21<00:00,  1.40img/s, Cumulative Dice=[0.9703232645988464], loss (batch)=0.154]\n",
      "Epoch 61/100: 100%|█████████| 30/30 [00:21<00:00,  1.39img/s, Cumulative Dice=[0.9726132750511169], loss (batch)=0.125]\n",
      "Epoch 62/100: 100%|█████████| 30/30 [00:21<00:00,  1.40img/s, Cumulative Dice=[0.9726530313491821], loss (batch)=0.114]\n",
      "Epoch 63/100: 100%|██████████| 30/30 [00:21<00:00,  1.37img/s, Cumulative Dice=[0.973220705986023], loss (batch)=0.118]\n",
      "Epoch 64/100: 100%|█████████| 30/30 [00:21<00:00,  1.37img/s, Cumulative Dice=[0.9726108312606812], loss (batch)=0.109]\n",
      "Epoch 65/100: 100%|███████████| 30/30 [00:21<00:00,  1.40img/s, Cumulative Dice=[0.9762915968894958], loss (batch)=0.1]\n",
      "Epoch 66/100: 100%|████████| 30/30 [00:22<00:00,  1.35img/s, Cumulative Dice=[0.9774703979492188], loss (batch)=0.0986]\n",
      "Epoch 67/100: 100%|█████████| 30/30 [00:21<00:00,  1.39img/s, Cumulative Dice=[0.978667140007019], loss (batch)=0.0871]\n",
      "Epoch 68/100: 100%|██████████| 30/30 [00:22<00:00,  1.33img/s, Cumulative Dice=[0.9798508882522583], loss (batch)=0.11]\n",
      "Epoch 69/100: 100%|█████████| 30/30 [00:22<00:00,  1.31img/s, Cumulative Dice=[0.9770433902740479], loss (batch)=0.122]\n",
      "Epoch 70/100: 100%|████████| 30/30 [00:21<00:00,  1.39img/s, Cumulative Dice=[0.9767746329307556], loss (batch)=0.0936]\n",
      "Epoch 71/100: 100%|█████████| 30/30 [00:21<00:00,  1.40img/s, Cumulative Dice=[0.9763495922088623], loss (batch)=0.128]\n",
      "Epoch 72/100: 100%|████████| 30/30 [00:22<00:00,  1.33img/s, Cumulative Dice=[0.9783837199211121], loss (batch)=0.0981]\n",
      "Epoch 73/100: 100%|█████████| 30/30 [00:22<00:00,  1.34img/s, Cumulative Dice=[0.978085458278656], loss (batch)=0.0887]\n",
      "Epoch 74/100: 100%|█████████| 30/30 [00:21<00:00,  1.39img/s, Cumulative Dice=[0.9759845733642578], loss (batch)=0.122]\n",
      "Epoch 75/100: 100%|█████████| 30/30 [00:23<00:00,  1.30img/s, Cumulative Dice=[0.9769145250320435], loss (batch)=0.119]\n",
      "Epoch 76/100: 100%|█████████| 30/30 [00:23<00:00,  1.30img/s, Cumulative Dice=[0.9771144390106201], loss (batch)=0.112]\n",
      "Epoch 77/100: 100%|████████| 30/30 [00:21<00:00,  1.40img/s, Cumulative Dice=[0.9764034748077393], loss (batch)=0.0981]\n",
      "Epoch 78/100: 100%|█████████| 30/30 [00:23<00:00,  1.29img/s, Cumulative Dice=[0.9736596345901489], loss (batch)=0.123]\n",
      "Epoch 79/100: 100%|█████████| 30/30 [00:21<00:00,  1.39img/s, Cumulative Dice=[0.9769492149353027], loss (batch)=0.118]\n",
      "Epoch 80/100: 100%|████████| 30/30 [00:23<00:00,  1.30img/s, Cumulative Dice=[0.9776118993759155], loss (batch)=0.0987]\n",
      "Epoch 81/100: 100%|█████████| 30/30 [00:21<00:00,  1.39img/s, Cumulative Dice=[0.9770118594169617], loss (batch)=0.127]\n",
      "Epoch 82/100: 100%|████████| 30/30 [00:21<00:00,  1.40img/s, Cumulative Dice=[0.9775137305259705], loss (batch)=0.0989]\n",
      "Epoch 83/100: 100%|██████████| 30/30 [00:21<00:00,  1.40img/s, Cumulative Dice=[0.9753509759902954], loss (batch)=0.12]\n",
      "Epoch 84/100: 100%|█████████| 30/30 [00:20<00:00,  1.43img/s, Cumulative Dice=[0.9752389788627625], loss (batch)=0.135]\n",
      "Epoch 85/100: 100%|████████| 30/30 [00:20<00:00,  1.45img/s, Cumulative Dice=[0.9781845808029175], loss (batch)=0.0952]\n",
      "Epoch 86/100: 100%|█████████| 30/30 [00:22<00:00,  1.35img/s, Cumulative Dice=[0.9771249294281006], loss (batch)=0.111]\n",
      "Epoch 87/100: 100%|████████| 30/30 [00:20<00:00,  1.43img/s, Cumulative Dice=[0.9797799587249756], loss (batch)=0.0967]\n",
      "Epoch 88/100: 100%|█████████| 30/30 [00:20<00:00,  1.46img/s, Cumulative Dice=[0.9778336882591248], loss (batch)=0.111]\n",
      "Epoch 89/100: 100%|█████████| 30/30 [00:22<00:00,  1.32img/s, Cumulative Dice=[0.9787527918815613], loss (batch)=0.093]\n",
      "Epoch 90/100: 100%|█████████| 30/30 [00:21<00:00,  1.42img/s, Cumulative Dice=[0.9782699346542358], loss (batch)=0.103]\n",
      "Epoch 91/100: 100%|████████| 30/30 [00:21<00:00,  1.42img/s, Cumulative Dice=[0.9802677035331726], loss (batch)=0.0945]\n",
      "Epoch 92/100: 100%|████████| 30/30 [00:23<00:00,  1.26img/s, Cumulative Dice=[0.9799134731292725], loss (batch)=0.0885]\n",
      "Epoch 93/100: 100%|████████| 30/30 [00:21<00:00,  1.41img/s, Cumulative Dice=[0.9819191694259644], loss (batch)=0.0927]\n",
      "Epoch 94/100: 100%|████████| 30/30 [00:21<00:00,  1.41img/s, Cumulative Dice=[0.9814819693565369], loss (batch)=0.0956]\n",
      "Epoch 95/100: 100%|█████████| 30/30 [00:23<00:00,  1.27img/s, Cumulative Dice=[0.9806327819824219], loss (batch)=0.102]\n",
      "Epoch 96/100: 100%|██████████| 30/30 [00:21<00:00,  1.40img/s, Cumulative Dice=[0.983576774597168], loss (batch)=0.101]\n",
      "Epoch 97/100: 100%|████████| 30/30 [00:21<00:00,  1.37img/s, Cumulative Dice=[0.9818183183670044], loss (batch)=0.0881]\n",
      "Epoch 98/100: 100%|████████| 30/30 [00:24<00:00,  1.22img/s, Cumulative Dice=[0.9850947260856628], loss (batch)=0.0882]\n",
      "Epoch 99/100: 100%|████████| 30/30 [00:23<00:00,  1.26img/s, Cumulative Dice=[0.9839770197868347], loss (batch)=0.0826]\n",
      "Epoch 100/100: 100%|███████| 30/30 [00:21<00:00,  1.40img/s, Cumulative Dice=[0.9850479960441589], loss (batch)=0.0612]\n",
      "                                                                                                                       \r"
     ]
    },
    {
     "data": {
      "text/html": [
       "Finishing last run (ID:vu65e2ap) before initializing another..."
      ],
      "text/plain": [
       "<IPython.core.display.HTML object>"
      ]
     },
     "metadata": {},
     "output_type": "display_data"
    },
    {
     "data": {
      "text/html": [
       "Waiting for W&B process to finish... <strong style=\"color:green\">(success).</strong>"
      ],
      "text/plain": [
       "<IPython.core.display.HTML object>"
      ]
     },
     "metadata": {},
     "output_type": "display_data"
    },
    {
     "data": {
      "text/html": [
       "<style>\n",
       "    table.wandb td:nth-child(1) { padding: 0 10px; text-align: left ; width: auto;} td:nth-child(2) {text-align: left ; width: 100%}\n",
       "    .wandb-row { display: flex; flex-direction: row; flex-wrap: wrap; justify-content: flex-start; width: 100% }\n",
       "    .wandb-col { display: flex; flex-direction: column; flex-basis: 100%; flex: 1; padding: 10px; }\n",
       "    </style>\n",
       "<div class=\"wandb-row\"><div class=\"wandb-col\"><h3>Run history:</h3><br/><table class=\"wandb\"><tr><td>Angle -10 Test Loss</td><td>█▅▂▁▁▁▁▂▂▂▂▃▂▃▂▃▂▂▃▃▃▂▂▃▃▃▄▄▄▅▄▄▄▄▄▅▅▅▅▅</td></tr><tr><td>Angle -20 Test Loss</td><td>█▅▂▁▂▁▁▂▁▂▂▃▂▂▂▂▁▂▂▂▃▂▂▃▃▃▄▄▄▄▄▄▄▃▄▅▅▅▅▅</td></tr><tr><td>Angle -5 Test Loss</td><td>█▄▂▁▁▁▁▂▂▂▂▃▂▃▂▃▂▂▃▃▃▂▂▃▄▄▄▄▄▅▄▄▄▄▄▅▅▅▅▅</td></tr><tr><td>Angle 0 Test Loss</td><td>█▄▂▁▁▁▁▂▁▂▂▃▂▂▂▃▂▂▃▂▃▂▂▃▃▃▄▄▄▄▄▄▄▄▄▅▄▅▅▅</td></tr><tr><td>Angle 10 Test Loss</td><td>█▄▂▁▁▁▁▂▂▂▂▃▂▂▂▃▂▂▃▃▃▂▂▃▃▃▄▄▄▄▄▄▃▄▄▅▅▅▅▅</td></tr><tr><td>Angle 20 Test Loss</td><td>█▅▂▁▂▁▁▂▁▁▂▃▂▂▂▂▁▂▂▃▃▂▂▃▃▃▄▄▄▅▄▄▃▄▄▅▅▅▅▅</td></tr><tr><td>Angle 5 Test Loss</td><td>█▄▂▁▁▁▁▂▂▂▂▃▂▂▂▃▂▂▃▃▃▂▂▃▃▃▄▄▄▅▄▄▄▄▄▅▅▅▅▅</td></tr><tr><td>Equivariance Weight</td><td>▁▁▁▁▁▁▁▁▁▁▁▁▁▁▁▁▁▁▁▁▁▁▁▁▁▁▁▁▁▁▁▁▁▁▁▁▁▁▁▁</td></tr><tr><td>Random Equivariance Error</td><td>▂▁▁▁▂▂▁▂▅▅▁▆▅▁▂▅▃▅▄▅▇▅▅▃█▅▄▇▅▂▇▆▂▆▅▁▄▅▄▄</td></tr><tr><td>Test Equivariance Error</td><td>▁▁▂▁▁▂▂▂▂▂▂▂▂▄▃▂▄▂▃▃▃▃▃▃▄▃▄▅▅▆▅▄▇▅▅█▅▆▅▅</td></tr><tr><td>Time into epoch</td><td>▁▂▃▅▆▆█▁▂▄▅▆█▁▂▃▄▆▇█▂▃▄▆▆█▁▃▄▅▆█▁▂▃▅▅▇█▂</td></tr><tr><td>Total time</td><td>▁▁▁▁▂▂▂▂▂▃▃▃▃▃▃▄▄▄▄▄▅▅▅▅▅▅▆▆▆▆▆▇▇▇▇▇▇███</td></tr><tr><td>epoch</td><td>▁▁▁▂▂▂▂▂▂▃▃▃▃▃▃▄▄▄▄▄▅▅▅▅▅▅▆▆▆▆▆▇▇▇▇▇▇███</td></tr><tr><td>equivariance error</td><td>▁▂▂▃▃▄▄▄▃▄▄▅▅▆▆▅▅▅▅▅▅▅▆▆▆▇▇▇█▇█▇▇▇█▇▇▇██</td></tr><tr><td>learning rate</td><td>▁▂▃▄▆▇██▆▅▄▃▂▁▂▃▄▆▇██▇▆▄▃▂▁▂▃▄▅▆██▇▆▄▃▂▁</td></tr><tr><td>step</td><td>▁▁▁▂▂▂▂▂▂▃▃▃▃▃▃▄▄▄▄▄▅▅▅▅▅▅▆▆▆▆▆▇▇▇▇▇▇███</td></tr><tr><td>train loss</td><td>█▆▄▃▄▃▂▂▃▂▂▂▂▂▂▂▂▂▂▂▂▂▂▁▂▁▁▁▂▂▁▁▁▂▁▂▂▁▁▁</td></tr><tr><td>train total loss</td><td>█▆▄▃▄▃▂▂▃▂▂▂▂▂▂▂▂▂▂▂▂▂▂▁▂▁▁▁▂▂▁▁▁▂▁▂▂▁▁▁</td></tr></table><br/></div><div class=\"wandb-col\"><h3>Run summary:</h3><br/><table class=\"wandb\"><tr><td>Angle -10 Test Loss</td><td>0.68142</td></tr><tr><td>Angle -20 Test Loss</td><td>0.71928</td></tr><tr><td>Angle -5 Test Loss</td><td>0.66518</td></tr><tr><td>Angle 0 Test Loss</td><td>0.63967</td></tr><tr><td>Angle 10 Test Loss</td><td>0.67068</td></tr><tr><td>Angle 20 Test Loss</td><td>0.70856</td></tr><tr><td>Angle 5 Test Loss</td><td>0.66017</td></tr><tr><td>Equivariance Weight</td><td>100</td></tr><tr><td>Random Equivariance Error</td><td>0.39304</td></tr><tr><td>Test Equivariance Error</td><td>0.21961</td></tr><tr><td>Time into epoch</td><td>20.28553</td></tr><tr><td>Total time</td><td>7967.13631</td></tr><tr><td>epoch</td><td>100</td></tr><tr><td>equivariance error</td><td>1.27384</td></tr><tr><td>learning rate</td><td>0.0</td></tr><tr><td>step</td><td>3000</td></tr><tr><td>train loss</td><td>0.06124</td></tr><tr><td>train total loss</td><td>0.06124</td></tr></table><br/></div></div>"
      ],
      "text/plain": [
       "<IPython.core.display.HTML object>"
      ]
     },
     "metadata": {},
     "output_type": "display_data"
    },
    {
     "data": {
      "text/html": [
       " View run <strong style=\"color:#cdcd00\">electric-disco-205</strong> at: <a href='https://wandb.ai/jjkjjk23/HeLa%20EUNet/runs/vu65e2ap' target=\"_blank\">https://wandb.ai/jjkjjk23/HeLa%20EUNet/runs/vu65e2ap</a><br/> View job at <a href='https://wandb.ai/jjkjjk23/HeLa%20EUNet/jobs/QXJ0aWZhY3RDb2xsZWN0aW9uOjk0NDYyOTAx/version_details/v25' target=\"_blank\">https://wandb.ai/jjkjjk23/HeLa%20EUNet/jobs/QXJ0aWZhY3RDb2xsZWN0aW9uOjk0NDYyOTAx/version_details/v25</a><br/>Synced 6 W&B file(s), 6700 media file(s), 0 artifact file(s) and 0 other file(s)"
      ],
      "text/plain": [
       "<IPython.core.display.HTML object>"
      ]
     },
     "metadata": {},
     "output_type": "display_data"
    },
    {
     "data": {
      "text/html": [
       "Find logs at: <code>.\\wandb\\run-20230925_131523-vu65e2ap\\logs</code>"
      ],
      "text/plain": [
       "<IPython.core.display.HTML object>"
      ]
     },
     "metadata": {},
     "output_type": "display_data"
    },
    {
     "data": {
      "text/html": [
       "Successfully finished last run (ID:vu65e2ap). Initializing new run:<br/>"
      ],
      "text/plain": [
       "<IPython.core.display.HTML object>"
      ]
     },
     "metadata": {},
     "output_type": "display_data"
    },
    {
     "data": {
      "text/html": [
       "wandb version 0.15.11 is available!  To upgrade, please run:\n",
       " $ pip install wandb --upgrade"
      ],
      "text/plain": [
       "<IPython.core.display.HTML object>"
      ]
     },
     "metadata": {},
     "output_type": "display_data"
    },
    {
     "data": {
      "text/html": [
       "Tracking run with wandb version 0.15.9"
      ],
      "text/plain": [
       "<IPython.core.display.HTML object>"
      ]
     },
     "metadata": {},
     "output_type": "display_data"
    },
    {
     "data": {
      "text/html": [
       "Run data is saved locally in <code>C:\\Users\\jjkjj\\Equivariant\\EquivariantUNet\\wandb\\run-20230925_152933-rpmqojb1</code>"
      ],
      "text/plain": [
       "<IPython.core.display.HTML object>"
      ]
     },
     "metadata": {},
     "output_type": "display_data"
    },
    {
     "data": {
      "text/html": [
       "Syncing run <strong><a href='https://wandb.ai/jjkjjk23/HeLa%20EUNet/runs/rpmqojb1' target=\"_blank\">expert-silence-206</a></strong> to <a href='https://wandb.ai/jjkjjk23/HeLa%20EUNet' target=\"_blank\">Weights & Biases</a> (<a href='https://wandb.me/run' target=\"_blank\">docs</a>)<br/>"
      ],
      "text/plain": [
       "<IPython.core.display.HTML object>"
      ]
     },
     "metadata": {},
     "output_type": "display_data"
    },
    {
     "data": {
      "text/html": [
       " View project at <a href='https://wandb.ai/jjkjjk23/HeLa%20EUNet' target=\"_blank\">https://wandb.ai/jjkjjk23/HeLa%20EUNet</a>"
      ],
      "text/plain": [
       "<IPython.core.display.HTML object>"
      ]
     },
     "metadata": {},
     "output_type": "display_data"
    },
    {
     "data": {
      "text/html": [
       " View run at <a href='https://wandb.ai/jjkjjk23/HeLa%20EUNet/runs/rpmqojb1' target=\"_blank\">https://wandb.ai/jjkjjk23/HeLa%20EUNet/runs/rpmqojb1</a>"
      ],
      "text/plain": [
       "<IPython.core.display.HTML object>"
      ]
     },
     "metadata": {},
     "output_type": "display_data"
    },
    {
     "name": "stderr",
     "output_type": "stream",
     "text": [
      "Epoch 1/100: 100%|██████████| 30/30 [00:19<00:00,  1.52img/s, Cumulative Dice=[0.8605251312255859], loss (batch)=0.671]\n",
      "Epoch 2/100: 100%|██████████| 30/30 [00:21<00:00,  1.41img/s, Cumulative Dice=[0.8666316270828247], loss (batch)=0.629]\n",
      "Epoch 3/100: 100%|██████████| 30/30 [00:21<00:00,  1.40img/s, Cumulative Dice=[0.9210823774337769], loss (batch)=0.438]\n",
      "Epoch 4/100: 100%|██████████| 30/30 [00:22<00:00,  1.35img/s, Cumulative Dice=[0.9391547441482544], loss (batch)=0.382]\n",
      "Epoch 5/100: 100%|██████████| 30/30 [00:21<00:00,  1.41img/s, Cumulative Dice=[0.9461740851402283], loss (batch)=0.376]\n",
      "Epoch 6/100: 100%|██████████| 30/30 [00:20<00:00,  1.43img/s, Cumulative Dice=[0.9392403364181519], loss (batch)=0.431]\n",
      "Epoch 7/100: 100%|██████████| 30/30 [00:21<00:00,  1.42img/s, Cumulative Dice=[0.9470083117485046], loss (batch)=0.305]\n",
      "Epoch 8/100: 100%|██████████| 30/30 [00:21<00:00,  1.40img/s, Cumulative Dice=[0.9424505233764648], loss (batch)=0.392]\n",
      "Epoch 9/100: 100%|██████████| 30/30 [00:21<00:00,  1.38img/s, Cumulative Dice=[0.9469863772392273], loss (batch)=0.269]\n",
      "Epoch 10/100: 100%|█████████| 30/30 [00:21<00:00,  1.40img/s, Cumulative Dice=[0.9508907794952393], loss (batch)=0.266]\n",
      "Epoch 11/100: 100%|███████████| 30/30 [00:21<00:00,  1.39img/s, Cumulative Dice=[0.944365918636322], loss (batch)=0.36]\n",
      "Epoch 12/100: 100%|█████████| 30/30 [00:21<00:00,  1.40img/s, Cumulative Dice=[0.9456428289413452], loss (batch)=0.374]\n",
      "Epoch 13/100: 100%|██████████| 30/30 [00:21<00:00,  1.42img/s, Cumulative Dice=[0.953965425491333], loss (batch)=0.239]\n",
      "Epoch 14/100: 100%|█████████| 30/30 [00:21<00:00,  1.41img/s, Cumulative Dice=[0.9467377662658691], loss (batch)=0.329]\n",
      "Epoch 15/100: 100%|█████████| 30/30 [00:21<00:00,  1.41img/s, Cumulative Dice=[0.9542710781097412], loss (batch)=0.232]\n",
      "Epoch 16/100: 100%|███████████| 30/30 [00:21<00:00,  1.37img/s, Cumulative Dice=[0.9503229856491089], loss (batch)=0.3]\n",
      "Epoch 17/100: 100%|██████████| 30/30 [00:21<00:00,  1.39img/s, Cumulative Dice=[0.948203444480896], loss (batch)=0.224]\n",
      "Epoch 18/100: 100%|█████████| 30/30 [00:21<00:00,  1.41img/s, Cumulative Dice=[0.9562432765960693], loss (batch)=0.213]\n",
      "Epoch 19/100: 100%|██████████| 30/30 [00:21<00:00,  1.40img/s, Cumulative Dice=[0.9503413438796997], loss (batch)=0.21]\n",
      "Epoch 20/100: 100%|█████████| 30/30 [00:22<00:00,  1.33img/s, Cumulative Dice=[0.9560613036155701], loss (batch)=0.268]\n",
      "Epoch 21/100: 100%|█████████| 30/30 [00:21<00:00,  1.40img/s, Cumulative Dice=[0.9516567587852478], loss (batch)=0.245]\n",
      "Epoch 22/100: 100%|█████████| 30/30 [00:21<00:00,  1.39img/s, Cumulative Dice=[0.9557694792747498], loss (batch)=0.208]\n",
      "Epoch 23/100: 100%|██████████| 30/30 [00:21<00:00,  1.37img/s, Cumulative Dice=[0.9576284289360046], loss (batch)=0.19]\n",
      "Epoch 24/100: 100%|█████████| 30/30 [00:21<00:00,  1.39img/s, Cumulative Dice=[0.9571623206138611], loss (batch)=0.185]\n",
      "Epoch 25/100: 100%|█████████| 30/30 [00:22<00:00,  1.33img/s, Cumulative Dice=[0.9578065872192383], loss (batch)=0.205]\n",
      "Epoch 26/100: 100%|█████████| 30/30 [00:22<00:00,  1.35img/s, Cumulative Dice=[0.9570664167404175], loss (batch)=0.289]\n",
      "Epoch 27/100: 100%|█████████| 30/30 [00:21<00:00,  1.39img/s, Cumulative Dice=[0.9603433012962341], loss (batch)=0.202]\n",
      "Epoch 28/100: 100%|█████████| 30/30 [00:21<00:00,  1.42img/s, Cumulative Dice=[0.9617218971252441], loss (batch)=0.176]\n",
      "Epoch 29/100: 100%|█████████| 30/30 [00:21<00:00,  1.40img/s, Cumulative Dice=[0.9639197587966919], loss (batch)=0.203]\n",
      "Epoch 30/100: 100%|██████████| 30/30 [00:22<00:00,  1.35img/s, Cumulative Dice=[0.9628211259841919], loss (batch)=0.16]\n",
      "Epoch 31/100: 100%|█████████| 30/30 [00:21<00:00,  1.43img/s, Cumulative Dice=[0.9620150327682495], loss (batch)=0.209]\n",
      "Epoch 32/100: 100%|██████████| 30/30 [00:21<00:00,  1.42img/s, Cumulative Dice=[0.9652007818222046], loss (batch)=0.16]\n",
      "Epoch 33/100: 100%|█████████| 30/30 [00:21<00:00,  1.40img/s, Cumulative Dice=[0.9678144454956055], loss (batch)=0.146]\n",
      "Epoch 34/100: 100%|█████████| 30/30 [00:21<00:00,  1.42img/s, Cumulative Dice=[0.9680206775665283], loss (batch)=0.164]\n",
      "Epoch 35/100: 100%|█████████| 30/30 [00:21<00:00,  1.38img/s, Cumulative Dice=[0.9620251655578613], loss (batch)=0.146]\n",
      "Epoch 36/100: 100%|█████████| 30/30 [00:21<00:00,  1.43img/s, Cumulative Dice=[0.9638089537620544], loss (batch)=0.179]\n",
      "Epoch 37/100: 100%|█████████| 30/30 [00:20<00:00,  1.43img/s, Cumulative Dice=[0.9649035334587097], loss (batch)=0.149]\n",
      "Epoch 38/100: 100%|█████████| 30/30 [00:21<00:00,  1.42img/s, Cumulative Dice=[0.9632576704025269], loss (batch)=0.179]\n",
      "Epoch 39/100: 100%|█████████| 30/30 [00:22<00:00,  1.36img/s, Cumulative Dice=[0.9671552181243896], loss (batch)=0.152]\n",
      "Epoch 40/100: 100%|█████████| 30/30 [00:22<00:00,  1.36img/s, Cumulative Dice=[0.9646456241607666], loss (batch)=0.149]\n",
      "Epoch 41/100: 100%|█████████| 30/30 [00:21<00:00,  1.39img/s, Cumulative Dice=[0.9654489755630493], loss (batch)=0.165]\n",
      "Epoch 42/100: 100%|██████████| 30/30 [00:21<00:00,  1.41img/s, Cumulative Dice=[0.964669942855835], loss (batch)=0.154]\n",
      "Epoch 43/100: 100%|█████████| 30/30 [00:21<00:00,  1.39img/s, Cumulative Dice=[0.9612053632736206], loss (batch)=0.189]\n",
      "Epoch 44/100: 100%|█████████| 30/30 [00:21<00:00,  1.39img/s, Cumulative Dice=[0.9687724113464355], loss (batch)=0.145]\n",
      "Epoch 45/100: 100%|██████████| 30/30 [00:21<00:00,  1.37img/s, Cumulative Dice=[0.963072657585144], loss (batch)=0.162]\n",
      "Epoch 46/100: 100%|█████████| 30/30 [00:21<00:00,  1.40img/s, Cumulative Dice=[0.9645504355430603], loss (batch)=0.154]\n",
      "Epoch 47/100: 100%|██████████| 30/30 [00:21<00:00,  1.38img/s, Cumulative Dice=[0.965562105178833], loss (batch)=0.162]\n",
      "Epoch 48/100: 100%|███████████| 30/30 [00:22<00:00,  1.33img/s, Cumulative Dice=[0.962993860244751], loss (batch)=0.19]\n",
      "Epoch 49/100: 100%|█████████| 30/30 [00:21<00:00,  1.38img/s, Cumulative Dice=[0.9626898765563965], loss (batch)=0.179]\n",
      "Epoch 50/100: 100%|██████████| 30/30 [00:21<00:00,  1.43img/s, Cumulative Dice=[0.9635512232780457], loss (batch)=0.15]\n",
      "Epoch 51/100: 100%|█████████| 30/30 [00:22<00:00,  1.33img/s, Cumulative Dice=[0.9646754264831543], loss (batch)=0.172]\n",
      "Epoch 52/100: 100%|██████████| 30/30 [00:21<00:00,  1.42img/s, Cumulative Dice=[0.9636803865432739], loss (batch)=0.17]\n",
      "Epoch 53/100: 100%|█████████| 30/30 [00:21<00:00,  1.42img/s, Cumulative Dice=[0.9651345014572144], loss (batch)=0.144]\n",
      "Epoch 54/100: 100%|█████████| 30/30 [00:22<00:00,  1.36img/s, Cumulative Dice=[0.9634760618209839], loss (batch)=0.207]\n",
      "Epoch 55/100: 100%|█████████| 30/30 [00:21<00:00,  1.39img/s, Cumulative Dice=[0.9684283137321472], loss (batch)=0.188]\n",
      "Epoch 56/100: 100%|█████████| 30/30 [00:21<00:00,  1.41img/s, Cumulative Dice=[0.9657537341117859], loss (batch)=0.156]\n",
      "Epoch 57/100: 100%|█████████| 30/30 [00:21<00:00,  1.41img/s, Cumulative Dice=[0.9659366607666016], loss (batch)=0.141]\n",
      "Epoch 58/100: 100%|██████████| 30/30 [00:21<00:00,  1.42img/s, Cumulative Dice=[0.9669110774993896], loss (batch)=0.18]\n",
      "Epoch 59/100: 100%|██████████| 30/30 [00:21<00:00,  1.42img/s, Cumulative Dice=[0.9705243110656738], loss (batch)=0.14]\n",
      "Epoch 60/100: 100%|█████████| 30/30 [00:22<00:00,  1.31img/s, Cumulative Dice=[0.9692434668540955], loss (batch)=0.121]\n",
      "Epoch 61/100: 100%|█████████| 30/30 [00:22<00:00,  1.33img/s, Cumulative Dice=[0.9719185829162598], loss (batch)=0.138]\n",
      "Epoch 62/100: 100%|█████████| 30/30 [00:22<00:00,  1.32img/s, Cumulative Dice=[0.9734925031661987], loss (batch)=0.118]\n",
      "Epoch 63/100: 100%|█████████| 30/30 [00:21<00:00,  1.40img/s, Cumulative Dice=[0.9731824398040771], loss (batch)=0.136]\n",
      "Epoch 64/100: 100%|█████████| 30/30 [00:20<00:00,  1.43img/s, Cumulative Dice=[0.9728266596794128], loss (batch)=0.153]\n",
      "Epoch 65/100: 100%|█████████| 30/30 [00:21<00:00,  1.39img/s, Cumulative Dice=[0.9762988090515137], loss (batch)=0.126]\n",
      "Epoch 66/100: 100%|█████████| 30/30 [00:20<00:00,  1.43img/s, Cumulative Dice=[0.9788635969161987], loss (batch)=0.111]\n",
      "Epoch 67/100: 100%|█████████| 30/30 [00:22<00:00,  1.35img/s, Cumulative Dice=[0.9776889085769653], loss (batch)=0.114]\n",
      "Epoch 68/100: 100%|█████████| 30/30 [00:22<00:00,  1.32img/s, Cumulative Dice=[0.9750998020172119], loss (batch)=0.106]\n",
      "Epoch 69/100: 100%|████████| 30/30 [00:23<00:00,  1.26img/s, Cumulative Dice=[0.9795941710472107], loss (batch)=0.0855]\n",
      "Epoch 70/100: 100%|█████████| 30/30 [00:22<00:00,  1.33img/s, Cumulative Dice=[0.9753918051719666], loss (batch)=0.118]\n",
      "Epoch 71/100: 100%|████████| 30/30 [00:21<00:00,  1.40img/s, Cumulative Dice=[0.9758119583129883], loss (batch)=0.0867]\n",
      "Epoch 72/100: 100%|█████████| 30/30 [00:22<00:00,  1.31img/s, Cumulative Dice=[0.9765743017196655], loss (batch)=0.117]\n",
      "Epoch 73/100: 100%|████████| 30/30 [00:20<00:00,  1.43img/s, Cumulative Dice=[0.9800872206687927], loss (batch)=0.0946]\n",
      "Epoch 74/100: 100%|███████████| 30/30 [00:21<00:00,  1.41img/s, Cumulative Dice=[0.9772934913635254], loss (batch)=0.1]\n",
      "Epoch 75/100: 100%|█████████| 30/30 [00:23<00:00,  1.29img/s, Cumulative Dice=[0.9757912158966064], loss (batch)=0.124]\n",
      "Epoch 76/100: 100%|█████████| 30/30 [00:21<00:00,  1.42img/s, Cumulative Dice=[0.9760598540306091], loss (batch)=0.132]\n",
      "Epoch 77/100: 100%|█████████| 30/30 [00:22<00:00,  1.36img/s, Cumulative Dice=[0.9754867553710938], loss (batch)=0.158]\n",
      "Epoch 78/100: 100%|█████████| 30/30 [00:23<00:00,  1.26img/s, Cumulative Dice=[0.9770807027816772], loss (batch)=0.122]\n",
      "Epoch 79/100: 100%|████████| 30/30 [00:21<00:00,  1.41img/s, Cumulative Dice=[0.9772550463676453], loss (batch)=0.0972]\n",
      "Epoch 80/100: 100%|████████| 30/30 [00:23<00:00,  1.29img/s, Cumulative Dice=[0.9759618639945984], loss (batch)=0.0995]\n",
      "Epoch 81/100: 100%|████████| 30/30 [00:21<00:00,  1.39img/s, Cumulative Dice=[0.9777244329452515], loss (batch)=0.0951]\n",
      "Epoch 82/100: 100%|█████████| 30/30 [00:22<00:00,  1.31img/s, Cumulative Dice=[0.9770139455795288], loss (batch)=0.097]\n",
      "Epoch 83/100: 100%|█████████| 30/30 [00:21<00:00,  1.41img/s, Cumulative Dice=[0.9765469431877136], loss (batch)=0.129]\n",
      "Epoch 84/100: 100%|█████████| 30/30 [00:23<00:00,  1.29img/s, Cumulative Dice=[0.9758955240249634], loss (batch)=0.128]\n",
      "Epoch 85/100: 100%|█████████| 30/30 [00:21<00:00,  1.40img/s, Cumulative Dice=[0.9728645086288452], loss (batch)=0.111]\n",
      "Epoch 86/100: 100%|██████████| 30/30 [00:23<00:00,  1.29img/s, Cumulative Dice=[0.977092981338501], loss (batch)=0.109]\n",
      "Epoch 87/100: 100%|████████| 30/30 [00:21<00:00,  1.41img/s, Cumulative Dice=[0.9798026084899902], loss (batch)=0.0946]\n",
      "Epoch 88/100: 100%|██████████| 30/30 [00:21<00:00,  1.42img/s, Cumulative Dice=[0.9778079986572266], loss (batch)=0.12]\n",
      "Epoch 89/100: 100%|████████| 30/30 [00:22<00:00,  1.34img/s, Cumulative Dice=[0.9768375754356384], loss (batch)=0.0993]\n",
      "Epoch 90/100: 100%|████████| 30/30 [00:20<00:00,  1.43img/s, Cumulative Dice=[0.9768023490905762], loss (batch)=0.0989]\n",
      "Epoch 91/100: 100%|█████████| 30/30 [00:21<00:00,  1.41img/s, Cumulative Dice=[0.9769375324249268], loss (batch)=0.114]\n",
      "Epoch 92/100: 100%|█████████| 30/30 [00:22<00:00,  1.34img/s, Cumulative Dice=[0.9814955592155457], loss (batch)=0.082]\n",
      "Epoch 93/100: 100%|█████████| 30/30 [00:21<00:00,  1.38img/s, Cumulative Dice=[0.9809841513633728], loss (batch)=0.077]\n",
      "Epoch 94/100: 100%|████████| 30/30 [00:21<00:00,  1.39img/s, Cumulative Dice=[0.9788148403167725], loss (batch)=0.0979]\n",
      "Epoch 95/100: 100%|█████████| 30/30 [00:23<00:00,  1.28img/s, Cumulative Dice=[0.9799742102622986], loss (batch)=0.103]\n",
      "Epoch 96/100: 100%|████████| 30/30 [00:20<00:00,  1.44img/s, Cumulative Dice=[0.9817604422569275], loss (batch)=0.0951]\n",
      "Epoch 97/100: 100%|████████| 30/30 [00:20<00:00,  1.44img/s, Cumulative Dice=[0.9833060503005981], loss (batch)=0.0811]\n",
      "Epoch 98/100: 100%|████████| 30/30 [00:20<00:00,  1.45img/s, Cumulative Dice=[0.9850362539291382], loss (batch)=0.0783]\n",
      "Epoch 99/100: 100%|████████| 30/30 [00:23<00:00,  1.26img/s, Cumulative Dice=[0.9846296310424805], loss (batch)=0.0773]\n",
      "Epoch 100/100: 100%|████████| 30/30 [00:20<00:00,  1.45img/s, Cumulative Dice=[0.9839052557945251], loss (batch)=0.069]\n",
      "                                                                                                                       \r"
     ]
    },
    {
     "data": {
      "text/html": [
       "Finishing last run (ID:rpmqojb1) before initializing another..."
      ],
      "text/plain": [
       "<IPython.core.display.HTML object>"
      ]
     },
     "metadata": {},
     "output_type": "display_data"
    },
    {
     "data": {
      "text/html": [
       "Waiting for W&B process to finish... <strong style=\"color:green\">(success).</strong>"
      ],
      "text/plain": [
       "<IPython.core.display.HTML object>"
      ]
     },
     "metadata": {},
     "output_type": "display_data"
    },
    {
     "data": {
      "text/html": [
       "<style>\n",
       "    table.wandb td:nth-child(1) { padding: 0 10px; text-align: left ; width: auto;} td:nth-child(2) {text-align: left ; width: 100%}\n",
       "    .wandb-row { display: flex; flex-direction: row; flex-wrap: wrap; justify-content: flex-start; width: 100% }\n",
       "    .wandb-col { display: flex; flex-direction: column; flex-basis: 100%; flex: 1; padding: 10px; }\n",
       "    </style>\n",
       "<div class=\"wandb-row\"><div class=\"wandb-col\"><h3>Run history:</h3><br/><table class=\"wandb\"><tr><td>Angle -10 Test Loss</td><td>█▄▂▁▁▁▂▃▁▂▂▂▂▃▃▃▃▂▂▃▂▃▂▄▄▄▄▅▄▄▅▅▄▄▅▄▄▄▅▆</td></tr><tr><td>Angle -20 Test Loss</td><td>█▄▂▁▁▂▂▃▁▂▂▂▃▃▃▃▃▃▂▃▃▃▂▄▅▄▅▅▅▄▅▅▅▄▅▄▅▅▆▆</td></tr><tr><td>Angle -5 Test Loss</td><td>█▄▂▁▁▁▂▃▁▂▂▂▂▃▃▃▃▂▂▃▂▃▂▄▄▄▄▅▄▄▅▅▄▄▅▄▄▅▅▆</td></tr><tr><td>Angle 0 Test Loss</td><td>█▄▂▂▁▁▂▂▁▂▂▂▂▂▃▂▃▂▂▃▂▃▂▃▄▄▄▄▄▄▄▄▄▃▄▄▄▄▅▅</td></tr><tr><td>Angle 10 Test Loss</td><td>█▄▂▁▁▁▂▃▁▂▂▂▂▃▂▂▃▂▂▃▂▃▂▄▄▄▄▅▄▄▅▄▄▃▄▄▄▄▅▆</td></tr><tr><td>Angle 20 Test Loss</td><td>█▄▂▁▂▁▂▃▁▂▂▂▂▃▂▂▃▂▂▃▂▃▂▄▄▄▄▅▄▄▅▅▄▃▅▄▄▄▅▆</td></tr><tr><td>Angle 5 Test Loss</td><td>█▄▂▁▁▁▂▃▁▂▂▂▂▃▃▃▃▂▂▃▂▃▂▄▄▄▄▅▄▄▅▄▄▃▄▄▄▄▅▆</td></tr><tr><td>Equivariance Weight</td><td>▁▁▁▁▁▁▁▁▁▁▁▁▁▁▁▁▁▁▁▁▁▁▁▁▁▁▁▁▁▁▁▁▁▁▁▁▁▁▁▁</td></tr><tr><td>Random Equivariance Error</td><td>▂▁▁▁▂▃▄▁▄▄▃▅▅▂▅▄▂▃▃▄▆█▄▅█▄▃▆▄▂▇▅▁▄▅▂▅▆▅▅</td></tr><tr><td>Test Equivariance Error</td><td>▁▂▂▁▁▂▁▂▂▂▂▂▂▆▃▂▅▂▃▂▃▃▃▃▄▄▄▅▄█▅▄█▄▅▆▅▅▅▅</td></tr><tr><td>Time into epoch</td><td>▁▂▃▄▆▆█▁▃▄▅▆▇▁▂▃▄▆▇█▂▃▄▆▆▇▁▃▅▅▆▇▁▂▃▅▅▇█▂</td></tr><tr><td>Total time</td><td>▁▁▁▁▂▂▂▂▂▃▃▃▃▃▃▄▄▄▄▄▅▅▅▅▅▅▆▆▆▆▆▇▇▇▇▇▇███</td></tr><tr><td>epoch</td><td>▁▁▁▂▂▂▂▂▂▃▃▃▃▃▃▄▄▄▄▄▅▅▅▅▅▅▆▆▆▆▆▇▇▇▇▇▇███</td></tr><tr><td>equivariance error</td><td>▁▂▃▄▃▄▃▃▄▄▄▄▅▆▅▆▆▅▅▅▅▅▅▆▇▇▇▇▆▃█▇▇▇▇██▇██</td></tr><tr><td>learning rate</td><td>▁▂▃▄▆▇██▆▅▄▃▂▁▂▃▄▆▇██▇▆▄▃▂▁▂▃▄▅▆██▇▆▄▃▂▁</td></tr><tr><td>step</td><td>▁▁▁▂▂▂▂▂▂▃▃▃▃▃▃▄▄▄▄▄▅▅▅▅▅▅▆▆▆▆▆▇▇▇▇▇▇███</td></tr><tr><td>train loss</td><td>█▅▄▃▃▃▃▂▂▂▂▂▂▂▂▂▂▂▂▂▂▂▂▂▂▁▁▁▁▁▁▁▁▁▁▁▁▁▁▁</td></tr><tr><td>train total loss</td><td>█▅▄▃▃▃▃▂▂▂▂▂▂▂▂▂▂▂▂▂▂▂▂▂▂▁▁▁▁▁▁▁▁▁▁▁▁▁▁▁</td></tr></table><br/></div><div class=\"wandb-col\"><h3>Run summary:</h3><br/><table class=\"wandb\"><tr><td>Angle -10 Test Loss</td><td>0.67497</td></tr><tr><td>Angle -20 Test Loss</td><td>0.71884</td></tr><tr><td>Angle -5 Test Loss</td><td>0.65176</td></tr><tr><td>Angle 0 Test Loss</td><td>0.62288</td></tr><tr><td>Angle 10 Test Loss</td><td>0.66445</td></tr><tr><td>Angle 20 Test Loss</td><td>0.70418</td></tr><tr><td>Angle 5 Test Loss</td><td>0.6424</td></tr><tr><td>Equivariance Weight</td><td>100</td></tr><tr><td>Random Equivariance Error</td><td>0.39328</td></tr><tr><td>Test Equivariance Error</td><td>0.22009</td></tr><tr><td>Time into epoch</td><td>19.60958</td></tr><tr><td>Total time</td><td>7970.08058</td></tr><tr><td>epoch</td><td>100</td></tr><tr><td>equivariance error</td><td>1.19709</td></tr><tr><td>learning rate</td><td>0.0</td></tr><tr><td>step</td><td>3000</td></tr><tr><td>train loss</td><td>0.06896</td></tr><tr><td>train total loss</td><td>0.06896</td></tr></table><br/></div></div>"
      ],
      "text/plain": [
       "<IPython.core.display.HTML object>"
      ]
     },
     "metadata": {},
     "output_type": "display_data"
    },
    {
     "data": {
      "text/html": [
       " View run <strong style=\"color:#cdcd00\">expert-silence-206</strong> at: <a href='https://wandb.ai/jjkjjk23/HeLa%20EUNet/runs/rpmqojb1' target=\"_blank\">https://wandb.ai/jjkjjk23/HeLa%20EUNet/runs/rpmqojb1</a><br/> View job at <a href='https://wandb.ai/jjkjjk23/HeLa%20EUNet/jobs/QXJ0aWZhY3RDb2xsZWN0aW9uOjk0NDYyOTAx/version_details/v25' target=\"_blank\">https://wandb.ai/jjkjjk23/HeLa%20EUNet/jobs/QXJ0aWZhY3RDb2xsZWN0aW9uOjk0NDYyOTAx/version_details/v25</a><br/>Synced 6 W&B file(s), 6700 media file(s), 0 artifact file(s) and 0 other file(s)"
      ],
      "text/plain": [
       "<IPython.core.display.HTML object>"
      ]
     },
     "metadata": {},
     "output_type": "display_data"
    },
    {
     "data": {
      "text/html": [
       "Find logs at: <code>.\\wandb\\run-20230925_152933-rpmqojb1\\logs</code>"
      ],
      "text/plain": [
       "<IPython.core.display.HTML object>"
      ]
     },
     "metadata": {},
     "output_type": "display_data"
    },
    {
     "data": {
      "text/html": [
       "Successfully finished last run (ID:rpmqojb1). Initializing new run:<br/>"
      ],
      "text/plain": [
       "<IPython.core.display.HTML object>"
      ]
     },
     "metadata": {},
     "output_type": "display_data"
    },
    {
     "data": {
      "text/html": [
       "wandb version 0.15.11 is available!  To upgrade, please run:\n",
       " $ pip install wandb --upgrade"
      ],
      "text/plain": [
       "<IPython.core.display.HTML object>"
      ]
     },
     "metadata": {},
     "output_type": "display_data"
    },
    {
     "data": {
      "text/html": [
       "Tracking run with wandb version 0.15.9"
      ],
      "text/plain": [
       "<IPython.core.display.HTML object>"
      ]
     },
     "metadata": {},
     "output_type": "display_data"
    },
    {
     "data": {
      "text/html": [
       "Run data is saved locally in <code>C:\\Users\\jjkjj\\Equivariant\\EquivariantUNet\\wandb\\run-20230925_174345-3isym30j</code>"
      ],
      "text/plain": [
       "<IPython.core.display.HTML object>"
      ]
     },
     "metadata": {},
     "output_type": "display_data"
    },
    {
     "data": {
      "text/html": [
       "Syncing run <strong><a href='https://wandb.ai/jjkjjk23/HeLa%20EUNet/runs/3isym30j' target=\"_blank\">driven-glade-207</a></strong> to <a href='https://wandb.ai/jjkjjk23/HeLa%20EUNet' target=\"_blank\">Weights & Biases</a> (<a href='https://wandb.me/run' target=\"_blank\">docs</a>)<br/>"
      ],
      "text/plain": [
       "<IPython.core.display.HTML object>"
      ]
     },
     "metadata": {},
     "output_type": "display_data"
    },
    {
     "data": {
      "text/html": [
       " View project at <a href='https://wandb.ai/jjkjjk23/HeLa%20EUNet' target=\"_blank\">https://wandb.ai/jjkjjk23/HeLa%20EUNet</a>"
      ],
      "text/plain": [
       "<IPython.core.display.HTML object>"
      ]
     },
     "metadata": {},
     "output_type": "display_data"
    },
    {
     "data": {
      "text/html": [
       " View run at <a href='https://wandb.ai/jjkjjk23/HeLa%20EUNet/runs/3isym30j' target=\"_blank\">https://wandb.ai/jjkjjk23/HeLa%20EUNet/runs/3isym30j</a>"
      ],
      "text/plain": [
       "<IPython.core.display.HTML object>"
      ]
     },
     "metadata": {},
     "output_type": "display_data"
    },
    {
     "name": "stderr",
     "output_type": "stream",
     "text": [
      "Epoch 1/100: 100%|███████████| 30/30 [00:18<00:00,  1.58img/s, Cumulative Dice=[0.895106315612793], loss (batch)=0.573]\n",
      "Epoch 2/100: 100%|██████████| 30/30 [00:21<00:00,  1.40img/s, Cumulative Dice=[0.9224526882171631], loss (batch)=0.479]\n",
      "Epoch 3/100: 100%|██████████| 30/30 [00:21<00:00,  1.42img/s, Cumulative Dice=[0.9295753240585327], loss (batch)=0.363]\n",
      "Epoch 4/100: 100%|██████████| 30/30 [00:21<00:00,  1.40img/s, Cumulative Dice=[0.9429773688316345], loss (batch)=0.311]\n",
      "Epoch 5/100: 100%|██████████| 30/30 [00:21<00:00,  1.41img/s, Cumulative Dice=[0.9405688047409058], loss (batch)=0.364]\n",
      "Epoch 6/100: 100%|██████████| 30/30 [00:21<00:00,  1.41img/s, Cumulative Dice=[0.9422876238822937], loss (batch)=0.288]\n",
      "Epoch 7/100: 100%|██████████| 30/30 [00:20<00:00,  1.43img/s, Cumulative Dice=[0.9424943923950195], loss (batch)=0.251]\n",
      "Epoch 8/100: 100%|██████████| 30/30 [00:21<00:00,  1.42img/s, Cumulative Dice=[0.9477333426475525], loss (batch)=0.259]\n",
      "Epoch 9/100: 100%|██████████| 30/30 [00:21<00:00,  1.40img/s, Cumulative Dice=[0.9475948214530945], loss (batch)=0.254]\n",
      "Epoch 10/100: 100%|██████████| 30/30 [00:21<00:00,  1.40img/s, Cumulative Dice=[0.9506311416625977], loss (batch)=0.25]\n",
      "Epoch 11/100: 100%|█████████| 30/30 [00:21<00:00,  1.41img/s, Cumulative Dice=[0.9484381675720215], loss (batch)=0.248]\n",
      "Epoch 12/100: 100%|██████████| 30/30 [00:21<00:00,  1.39img/s, Cumulative Dice=[0.9451794624328613], loss (batch)=0.24]\n",
      "Epoch 13/100: 100%|█████████| 30/30 [00:21<00:00,  1.39img/s, Cumulative Dice=[0.9511350989341736], loss (batch)=0.267]\n",
      "Epoch 14/100: 100%|█████████| 30/30 [00:21<00:00,  1.43img/s, Cumulative Dice=[0.9532816410064697], loss (batch)=0.233]\n",
      "Epoch 15/100: 100%|█████████| 30/30 [00:21<00:00,  1.43img/s, Cumulative Dice=[0.9507732391357422], loss (batch)=0.251]\n",
      "Epoch 16/100: 100%|██████████| 30/30 [00:21<00:00,  1.42img/s, Cumulative Dice=[0.9524755477905273], loss (batch)=0.21]\n",
      "Epoch 17/100: 100%|█████████| 30/30 [00:21<00:00,  1.40img/s, Cumulative Dice=[0.9435641765594482], loss (batch)=0.256]\n",
      "Epoch 18/100: 100%|█████████| 30/30 [00:20<00:00,  1.46img/s, Cumulative Dice=[0.9527451395988464], loss (batch)=0.246]\n",
      "Epoch 19/100: 100%|██████████| 30/30 [00:20<00:00,  1.47img/s, Cumulative Dice=[0.9521081447601318], loss (batch)=0.23]\n",
      "Epoch 20/100: 100%|█████████| 30/30 [00:20<00:00,  1.47img/s, Cumulative Dice=[0.9559807181358337], loss (batch)=0.227]\n",
      "Epoch 21/100: 100%|█████████| 30/30 [00:20<00:00,  1.45img/s, Cumulative Dice=[0.9582449793815613], loss (batch)=0.188]\n",
      "Epoch 22/100: 100%|█████████| 30/30 [00:20<00:00,  1.44img/s, Cumulative Dice=[0.9527170062065125], loss (batch)=0.321]\n",
      "Epoch 23/100: 100%|██████████| 30/30 [00:20<00:00,  1.46img/s, Cumulative Dice=[0.9634374380111694], loss (batch)=0.18]\n",
      "Epoch 24/100: 100%|█████████| 30/30 [00:20<00:00,  1.46img/s, Cumulative Dice=[0.9570952653884888], loss (batch)=0.208]\n",
      "Epoch 25/100: 100%|█████████| 30/30 [00:20<00:00,  1.45img/s, Cumulative Dice=[0.9578203558921814], loss (batch)=0.203]\n",
      "Epoch 26/100: 100%|█████████| 30/30 [00:20<00:00,  1.45img/s, Cumulative Dice=[0.9570960998535156], loss (batch)=0.259]\n",
      "Epoch 27/100: 100%|█████████| 30/30 [00:20<00:00,  1.45img/s, Cumulative Dice=[0.9580976963043213], loss (batch)=0.245]\n",
      "Epoch 28/100: 100%|█████████| 30/30 [00:20<00:00,  1.43img/s, Cumulative Dice=[0.9630972146987915], loss (batch)=0.162]\n",
      "Epoch 29/100: 100%|█████████| 30/30 [00:21<00:00,  1.43img/s, Cumulative Dice=[0.9630380868911743], loss (batch)=0.198]\n",
      "Epoch 30/100: 100%|█████████| 30/30 [00:20<00:00,  1.46img/s, Cumulative Dice=[0.9626924991607666], loss (batch)=0.185]\n",
      "Epoch 31/100: 100%|█████████| 30/30 [00:20<00:00,  1.45img/s, Cumulative Dice=[0.9632893800735474], loss (batch)=0.156]\n",
      "Epoch 32/100: 100%|█████████| 30/30 [00:20<00:00,  1.44img/s, Cumulative Dice=[0.9646189212799072], loss (batch)=0.203]\n",
      "Epoch 33/100: 100%|█████████| 30/30 [00:20<00:00,  1.45img/s, Cumulative Dice=[0.9670841693878174], loss (batch)=0.147]\n",
      "Epoch 34/100: 100%|█████████| 30/30 [00:20<00:00,  1.44img/s, Cumulative Dice=[0.9640588164329529], loss (batch)=0.165]\n",
      "Epoch 35/100: 100%|█████████| 30/30 [00:20<00:00,  1.43img/s, Cumulative Dice=[0.9645466208457947], loss (batch)=0.166]\n",
      "Epoch 36/100: 100%|█████████| 30/30 [00:21<00:00,  1.39img/s, Cumulative Dice=[0.9655231833457947], loss (batch)=0.181]\n",
      "Epoch 37/100: 100%|██████████| 30/30 [00:20<00:00,  1.43img/s, Cumulative Dice=[0.966760516166687], loss (batch)=0.178]\n",
      "Epoch 38/100: 100%|██████████| 30/30 [00:20<00:00,  1.43img/s, Cumulative Dice=[0.963854193687439], loss (batch)=0.161]\n",
      "Epoch 39/100: 100%|█████████| 30/30 [00:21<00:00,  1.43img/s, Cumulative Dice=[0.9641870856285095], loss (batch)=0.223]\n",
      "Epoch 40/100: 100%|█████████| 30/30 [00:21<00:00,  1.39img/s, Cumulative Dice=[0.9649655222892761], loss (batch)=0.157]\n",
      "Epoch 41/100: 100%|█████████| 30/30 [00:21<00:00,  1.39img/s, Cumulative Dice=[0.9639729261398315], loss (batch)=0.183]\n",
      "Epoch 42/100: 100%|██████████| 30/30 [00:20<00:00,  1.46img/s, Cumulative Dice=[0.9658020734786987], loss (batch)=0.17]\n",
      "Epoch 43/100: 100%|█████████| 30/30 [00:20<00:00,  1.44img/s, Cumulative Dice=[0.9607585668563843], loss (batch)=0.165]\n",
      "Epoch 44/100: 100%|█████████| 30/30 [00:21<00:00,  1.41img/s, Cumulative Dice=[0.9633697271347046], loss (batch)=0.183]\n",
      "Epoch 45/100: 100%|█████████| 30/30 [00:21<00:00,  1.41img/s, Cumulative Dice=[0.9654309153556824], loss (batch)=0.156]\n",
      "Epoch 46/100: 100%|█████████| 30/30 [00:20<00:00,  1.46img/s, Cumulative Dice=[0.9652943015098572], loss (batch)=0.167]\n",
      "Epoch 47/100: 100%|█████████| 30/30 [00:21<00:00,  1.38img/s, Cumulative Dice=[0.9588333368301392], loss (batch)=0.171]\n",
      "Epoch 48/100: 100%|███████████| 30/30 [00:21<00:00,  1.42img/s, Cumulative Dice=[0.9618276357650757], loss (batch)=0.2]\n",
      "Epoch 49/100: 100%|█████████| 30/30 [00:21<00:00,  1.40img/s, Cumulative Dice=[0.9658371210098267], loss (batch)=0.161]\n",
      "Epoch 50/100: 100%|█████████| 30/30 [00:21<00:00,  1.40img/s, Cumulative Dice=[0.9675226211547852], loss (batch)=0.156]\n",
      "Epoch 51/100: 100%|██████████| 30/30 [00:20<00:00,  1.46img/s, Cumulative Dice=[0.9616894721984863], loss (batch)=0.15]\n",
      "Epoch 52/100: 100%|██████████| 30/30 [00:22<00:00,  1.36img/s, Cumulative Dice=[0.9654409289360046], loss (batch)=0.17]\n",
      "Epoch 53/100: 100%|█████████| 30/30 [00:21<00:00,  1.38img/s, Cumulative Dice=[0.9666311740875244], loss (batch)=0.151]\n",
      "Epoch 54/100: 100%|█████████| 30/30 [00:21<00:00,  1.39img/s, Cumulative Dice=[0.9626975059509277], loss (batch)=0.192]\n",
      "Epoch 55/100: 100%|█████████| 30/30 [00:20<00:00,  1.44img/s, Cumulative Dice=[0.9649435877799988], loss (batch)=0.154]\n",
      "Epoch 56/100: 100%|█████████| 30/30 [00:20<00:00,  1.45img/s, Cumulative Dice=[0.9660555124282837], loss (batch)=0.187]\n",
      "Epoch 57/100: 100%|██████████| 30/30 [00:20<00:00,  1.45img/s, Cumulative Dice=[0.9657270312309265], loss (batch)=0.17]\n",
      "Epoch 58/100: 100%|█████████| 30/30 [00:20<00:00,  1.45img/s, Cumulative Dice=[0.9686402082443237], loss (batch)=0.128]\n",
      "Epoch 59/100: 100%|█████████| 30/30 [00:20<00:00,  1.47img/s, Cumulative Dice=[0.9704815745353699], loss (batch)=0.143]\n",
      "Epoch 60/100: 100%|█████████| 30/30 [00:20<00:00,  1.45img/s, Cumulative Dice=[0.9699835181236267], loss (batch)=0.158]\n",
      "Epoch 61/100: 100%|█████████| 30/30 [00:20<00:00,  1.46img/s, Cumulative Dice=[0.9703220129013062], loss (batch)=0.132]\n",
      "Epoch 62/100: 100%|█████████| 30/30 [00:20<00:00,  1.46img/s, Cumulative Dice=[0.9732412695884705], loss (batch)=0.122]\n",
      "Epoch 63/100: 100%|██████████| 30/30 [00:20<00:00,  1.45img/s, Cumulative Dice=[0.9739679098129272], loss (batch)=0.11]\n",
      "Epoch 64/100: 100%|█████████| 30/30 [00:20<00:00,  1.46img/s, Cumulative Dice=[0.9748063087463379], loss (batch)=0.135]\n",
      "Epoch 65/100: 100%|█████████| 30/30 [00:21<00:00,  1.39img/s, Cumulative Dice=[0.9766033887863159], loss (batch)=0.117]\n",
      "Epoch 66/100: 100%|██████████| 30/30 [00:21<00:00,  1.37img/s, Cumulative Dice=[0.974636435508728], loss (batch)=0.104]\n",
      "Epoch 67/100: 100%|█████████| 30/30 [00:20<00:00,  1.47img/s, Cumulative Dice=[0.9795492887496948], loss (batch)=0.109]\n",
      "Epoch 68/100: 100%|█████████| 30/30 [00:20<00:00,  1.45img/s, Cumulative Dice=[0.9754185676574707], loss (batch)=0.127]\n",
      "Epoch 69/100: 100%|█████████| 30/30 [00:20<00:00,  1.47img/s, Cumulative Dice=[0.9770147800445557], loss (batch)=0.108]\n",
      "Epoch 70/100: 100%|█████████| 30/30 [00:22<00:00,  1.36img/s, Cumulative Dice=[0.9761725664138794], loss (batch)=0.128]\n",
      "Epoch 71/100: 100%|█████████| 30/30 [00:20<00:00,  1.47img/s, Cumulative Dice=[0.9750735759735107], loss (batch)=0.137]\n",
      "Epoch 72/100: 100%|█████████| 30/30 [00:20<00:00,  1.47img/s, Cumulative Dice=[0.9762643575668335], loss (batch)=0.109]\n",
      "Epoch 73/100: 100%|█████████| 30/30 [00:22<00:00,  1.31img/s, Cumulative Dice=[0.9736000299453735], loss (batch)=0.106]\n",
      "Epoch 74/100: 100%|███████████| 30/30 [00:20<00:00,  1.47img/s, Cumulative Dice=[0.9777388572692871], loss (batch)=0.1]\n",
      "Epoch 75/100: 100%|██████████| 30/30 [00:22<00:00,  1.35img/s, Cumulative Dice=[0.9764235019683838], loss (batch)=0.11]\n",
      "Epoch 76/100: 100%|█████████| 30/30 [00:20<00:00,  1.44img/s, Cumulative Dice=[0.9767794013023376], loss (batch)=0.113]\n",
      "Epoch 77/100: 100%|██████████| 30/30 [00:22<00:00,  1.36img/s, Cumulative Dice=[0.975226104259491], loss (batch)=0.113]\n",
      "Epoch 78/100: 100%|████████████| 30/30 [00:21<00:00,  1.41img/s, Cumulative Dice=[0.978065013885498], loss (batch)=0.1]\n",
      "Epoch 79/100: 100%|██████████| 30/30 [00:21<00:00,  1.38img/s, Cumulative Dice=[0.976082444190979], loss (batch)=0.133]\n",
      "Epoch 80/100: 100%|█████████| 30/30 [00:24<00:00,  1.24img/s, Cumulative Dice=[0.9774593114852905], loss (batch)=0.119]\n",
      "Epoch 81/100: 100%|█████████| 30/30 [00:22<00:00,  1.35img/s, Cumulative Dice=[0.9757579565048218], loss (batch)=0.115]\n",
      "Epoch 82/100: 100%|█████████| 30/30 [00:24<00:00,  1.25img/s, Cumulative Dice=[0.9762142896652222], loss (batch)=0.129]\n",
      "Epoch 83/100: 100%|█████████| 30/30 [00:21<00:00,  1.41img/s, Cumulative Dice=[0.9764223098754883], loss (batch)=0.115]\n",
      "Epoch 84/100: 100%|█████████| 30/30 [00:22<00:00,  1.31img/s, Cumulative Dice=[0.9749675989151001], loss (batch)=0.108]\n",
      "Epoch 85/100: 100%|████████| 30/30 [00:21<00:00,  1.42img/s, Cumulative Dice=[0.9783494472503662], loss (batch)=0.0985]\n",
      "Epoch 86/100: 100%|█████████| 30/30 [00:21<00:00,  1.42img/s, Cumulative Dice=[0.9768563508987427], loss (batch)=0.136]\n",
      "Epoch 87/100: 100%|█████████| 30/30 [00:22<00:00,  1.33img/s, Cumulative Dice=[0.9778038859367371], loss (batch)=0.102]\n",
      "Epoch 88/100: 100%|████████| 30/30 [00:21<00:00,  1.42img/s, Cumulative Dice=[0.9786616563796997], loss (batch)=0.0855]\n",
      "Epoch 89/100: 100%|█████████| 30/30 [00:23<00:00,  1.27img/s, Cumulative Dice=[0.9764566421508789], loss (batch)=0.108]\n",
      "Epoch 90/100: 100%|█████████| 30/30 [00:21<00:00,  1.42img/s, Cumulative Dice=[0.9776979684829712], loss (batch)=0.126]\n",
      "Epoch 91/100: 100%|█████████| 30/30 [00:21<00:00,  1.41img/s, Cumulative Dice=[0.9768003225326538], loss (batch)=0.113]\n",
      "Epoch 92/100: 100%|████████| 30/30 [00:22<00:00,  1.31img/s, Cumulative Dice=[0.9793254733085632], loss (batch)=0.0851]\n",
      "Epoch 93/100: 100%|█████████| 30/30 [00:21<00:00,  1.40img/s, Cumulative Dice=[0.9789895415306091], loss (batch)=0.102]\n",
      "Epoch 94/100: 100%|█████████| 30/30 [00:21<00:00,  1.42img/s, Cumulative Dice=[0.9802262187004089], loss (batch)=0.105]\n",
      "Epoch 95/100: 100%|████████| 30/30 [00:24<00:00,  1.22img/s, Cumulative Dice=[0.9824849367141724], loss (batch)=0.0813]\n",
      "Epoch 96/100: 100%|████████| 30/30 [00:22<00:00,  1.34img/s, Cumulative Dice=[0.9828153848648071], loss (batch)=0.0668]\n",
      "Epoch 97/100: 100%|████████| 30/30 [00:21<00:00,  1.41img/s, Cumulative Dice=[0.9830440282821655], loss (batch)=0.0908]\n",
      "Epoch 98/100: 100%|█████████| 30/30 [00:21<00:00,  1.43img/s, Cumulative Dice=[0.9853717088699341], loss (batch)=0.077]\n",
      "Epoch 99/100: 100%|████████| 30/30 [00:23<00:00,  1.27img/s, Cumulative Dice=[0.9826920032501221], loss (batch)=0.0749]\n",
      "Epoch 100/100: 100%|███████| 30/30 [00:23<00:00,  1.30img/s, Cumulative Dice=[0.9842243194580078], loss (batch)=0.0715]\n",
      "                                                                                                                       \r"
     ]
    },
    {
     "data": {
      "text/html": [
       "Finishing last run (ID:3isym30j) before initializing another..."
      ],
      "text/plain": [
       "<IPython.core.display.HTML object>"
      ]
     },
     "metadata": {},
     "output_type": "display_data"
    },
    {
     "data": {
      "text/html": [
       "Waiting for W&B process to finish... <strong style=\"color:green\">(success).</strong>"
      ],
      "text/plain": [
       "<IPython.core.display.HTML object>"
      ]
     },
     "metadata": {},
     "output_type": "display_data"
    },
    {
     "data": {
      "text/html": [
       "<style>\n",
       "    table.wandb td:nth-child(1) { padding: 0 10px; text-align: left ; width: auto;} td:nth-child(2) {text-align: left ; width: 100%}\n",
       "    .wandb-row { display: flex; flex-direction: row; flex-wrap: wrap; justify-content: flex-start; width: 100% }\n",
       "    .wandb-col { display: flex; flex-direction: column; flex-basis: 100%; flex: 1; padding: 10px; }\n",
       "    </style>\n",
       "<div class=\"wandb-row\"><div class=\"wandb-col\"><h3>Run history:</h3><br/><table class=\"wandb\"><tr><td>Angle -10 Test Loss</td><td>█▃▂▁▁▁▂▁▂▃▃▃▃▃▄▃▃▃▂▃▃▄▄▄▃▆▆▆▅▆▅▆▆▅▇▆▆▆▇▇</td></tr><tr><td>Angle -20 Test Loss</td><td>█▃▂▂▂▁▂▁▂▄▃▃▃▃▄▂▃▃▂▃▃▃▄▄▃▅▆▆▅▅▅▆▆▅▇▆▆▆▇▇</td></tr><tr><td>Angle -5 Test Loss</td><td>█▃▂▁▁▁▂▁▂▃▃▃▃▃▄▃▃▃▂▃▃▄▄▄▃▆▆▆▆▆▆▆▆▆▇▆▆▆▇█</td></tr><tr><td>Angle 0 Test Loss</td><td>█▄▂▁▁▁▂▁▂▃▂▃▃▄▄▃▃▃▃▃▃▄▃▄▄▅▆▆▆▆▅▆▆▆▆▆▆▇▇▇</td></tr><tr><td>Angle 10 Test Loss</td><td>█▃▂▁▁▁▂▁▂▄▂▃▃▃▄▃▃▃▂▃▃▄▃▄▃▅▆▆▅▆▅▆▆▅▇▆▅▆▇▇</td></tr><tr><td>Angle 20 Test Loss</td><td>█▃▂▂▁▁▂▁▁▄▂▃▃▃▃▃▃▃▂▃▃▃▄▄▃▅▆▆▅▅▅▆▅▅▇▅▅▅▇▇</td></tr><tr><td>Angle 5 Test Loss</td><td>█▃▂▁▁▁▂▁▂▃▃▃▃▃▄▃▃▃▂▃▃▄▃▄▃▅▆▆▆▆▅▆▆▆▇▆▆▆▇▇</td></tr><tr><td>Equivariance Weight</td><td>▁▁▁▁▁▁▁▁▁▁▁▁▁▁▁▁▁▁▁▁▁▁▁▁▁▁▁▁▁▁▁▁▁▁▁▁▁▁▁▁</td></tr><tr><td>Random Equivariance Error</td><td>▁▁▁▂▃▃▁▁▃▄▅▇▄▂▅▄▁▆▆▃▅█▆▄▆▅▄▅▄▁▆▃▁▅▆▁▅▃▂▃</td></tr><tr><td>Test Equivariance Error</td><td>▂▁▂▂▂▂▁▂▂▂▂▃▂▅▃▃▄▃▃▂▃▃▃▃▅▃▄▅▅▇▅▄▇▄▅█▅▆▅▅</td></tr><tr><td>Time into epoch</td><td>▁▂▃▄▅▆█▁▂▄▅▆▇▁▂▃▄▆▇█▂▃▄▅▆▇▁▂▄▅▆▇▁▂▄▄▅▇█▂</td></tr><tr><td>Total time</td><td>▁▁▁▂▂▂▂▂▂▃▃▃▃▃▃▄▄▄▄▄▅▅▅▅▅▅▆▆▆▆▆▆▇▇▇▇▇███</td></tr><tr><td>epoch</td><td>▁▁▁▂▂▂▂▂▂▃▃▃▃▃▃▄▄▄▄▄▅▅▅▅▅▅▆▆▆▆▆▇▇▇▇▇▇███</td></tr><tr><td>equivariance error</td><td>▂▃▄▄▄▄▅▅▄▅▅▅▆▆▆▆▆▅▆▅▆▅▅▆▇▇▇▇▇▇▇▁▇▇▇▇▇▁██</td></tr><tr><td>learning rate</td><td>▁▂▃▄▆▇██▆▅▄▃▂▁▂▃▄▆▇██▇▆▄▃▂▁▂▃▄▅▆██▇▆▄▃▂▁</td></tr><tr><td>step</td><td>▁▁▁▂▂▂▂▂▂▃▃▃▃▃▃▄▄▄▄▄▅▅▅▅▅▅▆▆▆▆▆▇▇▇▇▇▇███</td></tr><tr><td>train loss</td><td>█▆▅▄▄▃▃▃▄▃▃▃▂▂▃▃▃▃▂▃▂▂▂▂▂▂▂▂▂▁▂▂▂▂▂▂▁▁▁▁</td></tr><tr><td>train total loss</td><td>█▆▅▄▄▃▃▃▄▃▃▃▂▂▃▃▃▃▂▃▂▂▂▂▂▂▂▂▂▁▂▂▂▂▂▂▁▁▁▁</td></tr></table><br/></div><div class=\"wandb-col\"><h3>Run summary:</h3><br/><table class=\"wandb\"><tr><td>Angle -10 Test Loss</td><td>0.67314</td></tr><tr><td>Angle -20 Test Loss</td><td>0.71783</td></tr><tr><td>Angle -5 Test Loss</td><td>0.65762</td></tr><tr><td>Angle 0 Test Loss</td><td>0.6314</td></tr><tr><td>Angle 10 Test Loss</td><td>0.66797</td></tr><tr><td>Angle 20 Test Loss</td><td>0.71367</td></tr><tr><td>Angle 5 Test Loss</td><td>0.65259</td></tr><tr><td>Equivariance Weight</td><td>100</td></tr><tr><td>Random Equivariance Error</td><td>0.23016</td></tr><tr><td>Test Equivariance Error</td><td>0.23303</td></tr><tr><td>Time into epoch</td><td>21.91904</td></tr><tr><td>Total time</td><td>7787.98926</td></tr><tr><td>epoch</td><td>100</td></tr><tr><td>equivariance error</td><td>1.33575</td></tr><tr><td>learning rate</td><td>0.0</td></tr><tr><td>step</td><td>3000</td></tr><tr><td>train loss</td><td>0.07155</td></tr><tr><td>train total loss</td><td>0.07155</td></tr></table><br/></div></div>"
      ],
      "text/plain": [
       "<IPython.core.display.HTML object>"
      ]
     },
     "metadata": {},
     "output_type": "display_data"
    },
    {
     "data": {
      "text/html": [
       " View run <strong style=\"color:#cdcd00\">driven-glade-207</strong> at: <a href='https://wandb.ai/jjkjjk23/HeLa%20EUNet/runs/3isym30j' target=\"_blank\">https://wandb.ai/jjkjjk23/HeLa%20EUNet/runs/3isym30j</a><br/> View job at <a href='https://wandb.ai/jjkjjk23/HeLa%20EUNet/jobs/QXJ0aWZhY3RDb2xsZWN0aW9uOjk0NDYyOTAx/version_details/v25' target=\"_blank\">https://wandb.ai/jjkjjk23/HeLa%20EUNet/jobs/QXJ0aWZhY3RDb2xsZWN0aW9uOjk0NDYyOTAx/version_details/v25</a><br/>Synced 6 W&B file(s), 6700 media file(s), 0 artifact file(s) and 0 other file(s)"
      ],
      "text/plain": [
       "<IPython.core.display.HTML object>"
      ]
     },
     "metadata": {},
     "output_type": "display_data"
    },
    {
     "data": {
      "text/html": [
       "Find logs at: <code>.\\wandb\\run-20230925_174345-3isym30j\\logs</code>"
      ],
      "text/plain": [
       "<IPython.core.display.HTML object>"
      ]
     },
     "metadata": {},
     "output_type": "display_data"
    },
    {
     "data": {
      "text/html": [
       "Successfully finished last run (ID:3isym30j). Initializing new run:<br/>"
      ],
      "text/plain": [
       "<IPython.core.display.HTML object>"
      ]
     },
     "metadata": {},
     "output_type": "display_data"
    },
    {
     "data": {
      "text/html": [
       "wandb version 0.15.11 is available!  To upgrade, please run:\n",
       " $ pip install wandb --upgrade"
      ],
      "text/plain": [
       "<IPython.core.display.HTML object>"
      ]
     },
     "metadata": {},
     "output_type": "display_data"
    },
    {
     "data": {
      "text/html": [
       "Tracking run with wandb version 0.15.9"
      ],
      "text/plain": [
       "<IPython.core.display.HTML object>"
      ]
     },
     "metadata": {},
     "output_type": "display_data"
    },
    {
     "data": {
      "text/html": [
       "Run data is saved locally in <code>C:\\Users\\jjkjj\\Equivariant\\EquivariantUNet\\wandb\\run-20230925_195455-puunp4g5</code>"
      ],
      "text/plain": [
       "<IPython.core.display.HTML object>"
      ]
     },
     "metadata": {},
     "output_type": "display_data"
    },
    {
     "data": {
      "text/html": [
       "Syncing run <strong><a href='https://wandb.ai/jjkjjk23/HeLa%20EUNet/runs/puunp4g5' target=\"_blank\">floral-darkness-208</a></strong> to <a href='https://wandb.ai/jjkjjk23/HeLa%20EUNet' target=\"_blank\">Weights & Biases</a> (<a href='https://wandb.me/run' target=\"_blank\">docs</a>)<br/>"
      ],
      "text/plain": [
       "<IPython.core.display.HTML object>"
      ]
     },
     "metadata": {},
     "output_type": "display_data"
    },
    {
     "data": {
      "text/html": [
       " View project at <a href='https://wandb.ai/jjkjjk23/HeLa%20EUNet' target=\"_blank\">https://wandb.ai/jjkjjk23/HeLa%20EUNet</a>"
      ],
      "text/plain": [
       "<IPython.core.display.HTML object>"
      ]
     },
     "metadata": {},
     "output_type": "display_data"
    },
    {
     "data": {
      "text/html": [
       " View run at <a href='https://wandb.ai/jjkjjk23/HeLa%20EUNet/runs/puunp4g5' target=\"_blank\">https://wandb.ai/jjkjjk23/HeLa%20EUNet/runs/puunp4g5</a>"
      ],
      "text/plain": [
       "<IPython.core.display.HTML object>"
      ]
     },
     "metadata": {},
     "output_type": "display_data"
    },
    {
     "name": "stderr",
     "output_type": "stream",
     "text": [
      "Epoch 1/100: 100%|███████████| 30/30 [00:20<00:00,  1.43img/s, Cumulative Dice=[0.8485543131828308], loss (batch)=0.76]\n",
      "Epoch 2/100: 100%|██████████| 30/30 [00:22<00:00,  1.36img/s, Cumulative Dice=[0.8826529383659363], loss (batch)=0.568]\n",
      "Epoch 3/100: 100%|██████████| 30/30 [00:21<00:00,  1.41img/s, Cumulative Dice=[0.9190162420272827], loss (batch)=0.492]\n",
      "Epoch 4/100: 100%|██████████| 30/30 [00:21<00:00,  1.43img/s, Cumulative Dice=[0.9390006065368652], loss (batch)=0.408]\n",
      "Epoch 5/100: 100%|███████████| 30/30 [00:21<00:00,  1.42img/s, Cumulative Dice=[0.941992461681366], loss (batch)=0.362]\n",
      "Epoch 6/100: 100%|██████████| 30/30 [00:21<00:00,  1.42img/s, Cumulative Dice=[0.9427234530448914], loss (batch)=0.337]\n",
      "Epoch 7/100: 100%|███████████| 30/30 [00:21<00:00,  1.40img/s, Cumulative Dice=[0.9448760747909546], loss (batch)=0.27]\n",
      "Epoch 8/100: 100%|██████████| 30/30 [00:21<00:00,  1.42img/s, Cumulative Dice=[0.9456708431243896], loss (batch)=0.301]\n",
      "Epoch 9/100: 100%|██████████| 30/30 [00:21<00:00,  1.42img/s, Cumulative Dice=[0.9453921318054199], loss (batch)=0.271]\n",
      "Epoch 10/100: 100%|█████████| 30/30 [00:21<00:00,  1.38img/s, Cumulative Dice=[0.9488539695739746], loss (batch)=0.263]\n",
      "Epoch 11/100: 100%|█████████| 30/30 [00:21<00:00,  1.42img/s, Cumulative Dice=[0.9531170725822449], loss (batch)=0.239]\n",
      "Epoch 12/100: 100%|██████████| 30/30 [00:21<00:00,  1.41img/s, Cumulative Dice=[0.947384774684906], loss (batch)=0.284]\n",
      "Epoch 13/100: 100%|█████████| 30/30 [00:21<00:00,  1.41img/s, Cumulative Dice=[0.9455127120018005], loss (batch)=0.215]\n",
      "Epoch 14/100: 100%|█████████| 30/30 [00:21<00:00,  1.41img/s, Cumulative Dice=[0.9498500823974609], loss (batch)=0.225]\n",
      "Epoch 15/100: 100%|█████████| 30/30 [00:21<00:00,  1.41img/s, Cumulative Dice=[0.9570978879928589], loss (batch)=0.201]\n",
      "Epoch 16/100: 100%|█████████| 30/30 [00:21<00:00,  1.40img/s, Cumulative Dice=[0.9472047686576843], loss (batch)=0.229]\n",
      "Epoch 17/100: 100%|█████████| 30/30 [00:21<00:00,  1.41img/s, Cumulative Dice=[0.9521318674087524], loss (batch)=0.258]\n",
      "Epoch 18/100: 100%|█████████| 30/30 [00:21<00:00,  1.41img/s, Cumulative Dice=[0.9465724229812622], loss (batch)=0.226]\n",
      "Epoch 19/100: 100%|█████████| 30/30 [00:21<00:00,  1.38img/s, Cumulative Dice=[0.9536864757537842], loss (batch)=0.209]\n",
      "Epoch 20/100: 100%|█████████| 30/30 [00:21<00:00,  1.40img/s, Cumulative Dice=[0.9566830992698669], loss (batch)=0.194]\n",
      "Epoch 21/100: 100%|█████████| 30/30 [00:21<00:00,  1.40img/s, Cumulative Dice=[0.9517425298690796], loss (batch)=0.339]\n",
      "Epoch 22/100: 100%|█████████| 30/30 [00:21<00:00,  1.40img/s, Cumulative Dice=[0.9572988748550415], loss (batch)=0.187]\n",
      "Epoch 23/100: 100%|██████████| 30/30 [00:21<00:00,  1.40img/s, Cumulative Dice=[0.959818959236145], loss (batch)=0.188]\n",
      "Epoch 24/100: 100%|█████████| 30/30 [00:21<00:00,  1.40img/s, Cumulative Dice=[0.9594188928604126], loss (batch)=0.187]\n",
      "Epoch 25/100: 100%|█████████| 30/30 [00:21<00:00,  1.40img/s, Cumulative Dice=[0.9607653617858887], loss (batch)=0.227]\n",
      "Epoch 26/100: 100%|████████████| 30/30 [00:21<00:00,  1.40img/s, Cumulative Dice=[0.95888352394104], loss (batch)=0.22]\n",
      "Epoch 27/100: 100%|██████████| 30/30 [00:21<00:00,  1.39img/s, Cumulative Dice=[0.957121729850769], loss (batch)=0.201]\n",
      "Epoch 28/100: 100%|█████████| 30/30 [00:21<00:00,  1.40img/s, Cumulative Dice=[0.9610217809677124], loss (batch)=0.184]\n",
      "Epoch 29/100: 100%|█████████| 30/30 [00:21<00:00,  1.40img/s, Cumulative Dice=[0.9648154973983765], loss (batch)=0.183]\n",
      "Epoch 30/100: 100%|█████████| 30/30 [00:21<00:00,  1.37img/s, Cumulative Dice=[0.9664760828018188], loss (batch)=0.147]\n",
      "Epoch 31/100: 100%|█████████| 30/30 [00:22<00:00,  1.36img/s, Cumulative Dice=[0.9646729826927185], loss (batch)=0.159]\n",
      "Epoch 32/100: 100%|█████████| 30/30 [00:21<00:00,  1.38img/s, Cumulative Dice=[0.9658381938934326], loss (batch)=0.152]\n",
      "Epoch 33/100: 100%|█████████| 30/30 [00:21<00:00,  1.41img/s, Cumulative Dice=[0.9625066518783569], loss (batch)=0.194]\n",
      "Epoch 34/100: 100%|█████████| 30/30 [00:21<00:00,  1.43img/s, Cumulative Dice=[0.9672549962997437], loss (batch)=0.137]\n",
      "Epoch 35/100: 100%|█████████| 30/30 [00:20<00:00,  1.44img/s, Cumulative Dice=[0.9688961505889893], loss (batch)=0.169]\n",
      "Epoch 36/100: 100%|█████████| 30/30 [00:20<00:00,  1.46img/s, Cumulative Dice=[0.9663247466087341], loss (batch)=0.173]\n",
      "Epoch 37/100: 100%|█████████| 30/30 [00:20<00:00,  1.44img/s, Cumulative Dice=[0.9644907712936401], loss (batch)=0.174]\n",
      "Epoch 38/100: 100%|█████████| 30/30 [00:20<00:00,  1.47img/s, Cumulative Dice=[0.9609845876693726], loss (batch)=0.203]\n",
      "Epoch 39/100: 100%|██████████| 30/30 [00:20<00:00,  1.47img/s, Cumulative Dice=[0.967232882976532], loss (batch)=0.148]\n",
      "Epoch 40/100: 100%|██████████| 30/30 [00:20<00:00,  1.47img/s, Cumulative Dice=[0.964165210723877], loss (batch)=0.156]\n",
      "Epoch 41/100: 100%|█████████| 30/30 [00:20<00:00,  1.47img/s, Cumulative Dice=[0.9647517204284668], loss (batch)=0.158]\n",
      "Epoch 42/100: 100%|██████████| 30/30 [00:20<00:00,  1.44img/s, Cumulative Dice=[0.9641429781913757], loss (batch)=0.18]\n",
      "Epoch 43/100: 100%|█████████| 30/30 [00:21<00:00,  1.41img/s, Cumulative Dice=[0.9658252596855164], loss (batch)=0.149]\n",
      "Epoch 44/100: 100%|█████████| 30/30 [00:20<00:00,  1.46img/s, Cumulative Dice=[0.9614757299423218], loss (batch)=0.165]\n",
      "Epoch 45/100: 100%|█████████| 30/30 [00:21<00:00,  1.41img/s, Cumulative Dice=[0.9639353156089783], loss (batch)=0.169]\n",
      "Epoch 46/100: 100%|█████████| 30/30 [00:21<00:00,  1.40img/s, Cumulative Dice=[0.9655671119689941], loss (batch)=0.154]\n",
      "Epoch 47/100: 100%|███████████| 30/30 [00:21<00:00,  1.40img/s, Cumulative Dice=[0.9666569232940674], loss (batch)=0.2]\n",
      "Epoch 48/100: 100%|██████████| 30/30 [00:22<00:00,  1.36img/s, Cumulative Dice=[0.9622408151626587], loss (batch)=0.19]\n",
      "Epoch 49/100: 100%|█████████| 30/30 [00:21<00:00,  1.40img/s, Cumulative Dice=[0.9663267135620117], loss (batch)=0.172]\n",
      "Epoch 50/100: 100%|█████████| 30/30 [00:21<00:00,  1.40img/s, Cumulative Dice=[0.9673398733139038], loss (batch)=0.163]\n",
      "Epoch 51/100: 100%|█████████| 30/30 [00:21<00:00,  1.37img/s, Cumulative Dice=[0.9610171318054199], loss (batch)=0.147]\n",
      "Epoch 52/100: 100%|█████████| 30/30 [00:21<00:00,  1.40img/s, Cumulative Dice=[0.9645801782608032], loss (batch)=0.183]\n",
      "Epoch 53/100: 100%|██████████| 30/30 [00:22<00:00,  1.35img/s, Cumulative Dice=[0.9658228754997253], loss (batch)=0.15]\n",
      "Epoch 54/100: 100%|█████████| 30/30 [00:22<00:00,  1.33img/s, Cumulative Dice=[0.9651274085044861], loss (batch)=0.166]\n",
      "Epoch 55/100: 100%|██████████| 30/30 [00:22<00:00,  1.32img/s, Cumulative Dice=[0.963484525680542], loss (batch)=0.169]\n",
      "Epoch 56/100: 100%|█████████| 30/30 [00:21<00:00,  1.39img/s, Cumulative Dice=[0.9679020643234253], loss (batch)=0.164]\n",
      "Epoch 57/100: 100%|█████████| 30/30 [00:22<00:00,  1.34img/s, Cumulative Dice=[0.9691841006278992], loss (batch)=0.136]\n",
      "Epoch 58/100: 100%|███████████| 30/30 [00:22<00:00,  1.32img/s, Cumulative Dice=[0.96580570936203], loss (batch)=0.158]\n",
      "Epoch 59/100: 100%|█████████| 30/30 [00:22<00:00,  1.36img/s, Cumulative Dice=[0.9696706533432007], loss (batch)=0.123]\n",
      "Epoch 60/100: 100%|█████████| 30/30 [00:22<00:00,  1.35img/s, Cumulative Dice=[0.9697034358978271], loss (batch)=0.148]\n",
      "Epoch 61/100: 100%|█████████| 30/30 [00:22<00:00,  1.31img/s, Cumulative Dice=[0.9731991291046143], loss (batch)=0.166]\n",
      "Epoch 62/100: 100%|█████████| 30/30 [00:22<00:00,  1.36img/s, Cumulative Dice=[0.9727848768234253], loss (batch)=0.137]\n",
      "Epoch 63/100: 100%|█████████| 30/30 [00:22<00:00,  1.32img/s, Cumulative Dice=[0.9744803309440613], loss (batch)=0.134]\n",
      "Epoch 64/100: 100%|█████████| 30/30 [00:22<00:00,  1.31img/s, Cumulative Dice=[0.9721499681472778], loss (batch)=0.103]\n",
      "Epoch 65/100: 100%|█████████| 30/30 [00:22<00:00,  1.33img/s, Cumulative Dice=[0.9757928848266602], loss (batch)=0.115]\n",
      "Epoch 66/100: 100%|█████████| 30/30 [00:23<00:00,  1.28img/s, Cumulative Dice=[0.9762135744094849], loss (batch)=0.103]\n",
      "Epoch 67/100: 100%|██████████| 30/30 [00:23<00:00,  1.30img/s, Cumulative Dice=[0.9767512679100037], loss (batch)=0.15]\n",
      "Epoch 68/100: 100%|█████████| 30/30 [00:22<00:00,  1.36img/s, Cumulative Dice=[0.9743880033493042], loss (batch)=0.128]\n",
      "Epoch 69/100: 100%|█████████| 30/30 [00:21<00:00,  1.39img/s, Cumulative Dice=[0.9762295484542847], loss (batch)=0.103]\n",
      "Epoch 70/100: 100%|████████| 30/30 [00:21<00:00,  1.39img/s, Cumulative Dice=[0.9790655970573425], loss (batch)=0.0889]\n",
      "Epoch 71/100: 100%|█████████| 30/30 [00:22<00:00,  1.32img/s, Cumulative Dice=[0.9780990481376648], loss (batch)=0.102]\n",
      "Epoch 72/100: 100%|████████| 30/30 [00:22<00:00,  1.32img/s, Cumulative Dice=[0.9750747680664062], loss (batch)=0.0952]\n",
      "Epoch 73/100: 100%|█████████| 30/30 [00:20<00:00,  1.46img/s, Cumulative Dice=[0.9779695272445679], loss (batch)=0.116]\n",
      "Epoch 74/100: 100%|████████| 30/30 [00:22<00:00,  1.34img/s, Cumulative Dice=[0.9801665544509888], loss (batch)=0.0919]\n",
      "Epoch 75/100: 100%|██████████| 30/30 [00:20<00:00,  1.47img/s, Cumulative Dice=[0.9805046916007996], loss (batch)=0.11]\n",
      "Epoch 76/100: 100%|████████| 30/30 [00:20<00:00,  1.45img/s, Cumulative Dice=[0.9782418012619019], loss (batch)=0.0977]\n",
      "Epoch 77/100: 100%|████████| 30/30 [00:20<00:00,  1.47img/s, Cumulative Dice=[0.9796645641326904], loss (batch)=0.0922]\n",
      "Epoch 78/100: 100%|████████| 30/30 [00:20<00:00,  1.45img/s, Cumulative Dice=[0.9778999090194702], loss (batch)=0.0979]\n",
      "Epoch 79/100: 100%|█████████| 30/30 [00:20<00:00,  1.45img/s, Cumulative Dice=[0.977003276348114], loss (batch)=0.0971]\n",
      "Epoch 80/100: 100%|█████████| 30/30 [00:20<00:00,  1.45img/s, Cumulative Dice=[0.9762114882469177], loss (batch)=0.113]\n",
      "Epoch 81/100: 100%|█████████| 30/30 [00:20<00:00,  1.46img/s, Cumulative Dice=[0.9770929217338562], loss (batch)=0.119]\n",
      "Epoch 82/100: 100%|██████████| 30/30 [00:22<00:00,  1.36img/s, Cumulative Dice=[0.974829912185669], loss (batch)=0.106]\n",
      "Epoch 83/100: 100%|█████████| 30/30 [00:20<00:00,  1.46img/s, Cumulative Dice=[0.9773842096328735], loss (batch)=0.109]\n",
      "Epoch 84/100: 100%|█████████| 30/30 [00:22<00:00,  1.35img/s, Cumulative Dice=[0.9771895408630371], loss (batch)=0.101]\n",
      "Epoch 85/100: 100%|████████| 30/30 [00:20<00:00,  1.46img/s, Cumulative Dice=[0.9768220782279968], loss (batch)=0.0999]\n",
      "Epoch 86/100: 100%|█████████| 30/30 [00:20<00:00,  1.47img/s, Cumulative Dice=[0.9763147234916687], loss (batch)=0.122]\n",
      "Epoch 87/100: 100%|████████| 30/30 [00:21<00:00,  1.36img/s, Cumulative Dice=[0.9776989221572876], loss (batch)=0.0982]\n",
      "Epoch 88/100: 100%|█████████| 30/30 [00:20<00:00,  1.46img/s, Cumulative Dice=[0.9785369634628296], loss (batch)=0.106]\n",
      "Epoch 89/100: 100%|█████████| 30/30 [00:20<00:00,  1.46img/s, Cumulative Dice=[0.9765297770500183], loss (batch)=0.108]\n",
      "Epoch 90/100: 100%|██████████| 30/30 [00:22<00:00,  1.32img/s, Cumulative Dice=[0.979570746421814], loss (batch)=0.114]\n",
      "Epoch 91/100: 100%|████████| 30/30 [00:20<00:00,  1.46img/s, Cumulative Dice=[0.9789246916770935], loss (batch)=0.0865]\n",
      "Epoch 92/100: 100%|████████| 30/30 [00:20<00:00,  1.48img/s, Cumulative Dice=[0.9797714948654175], loss (batch)=0.0895]\n",
      "Epoch 93/100: 100%|████████| 30/30 [00:23<00:00,  1.27img/s, Cumulative Dice=[0.9807866811752319], loss (batch)=0.0993]\n",
      "Epoch 94/100: 100%|████████| 30/30 [00:20<00:00,  1.47img/s, Cumulative Dice=[0.9822323322296143], loss (batch)=0.0851]\n",
      "Epoch 95/100: 100%|████████| 30/30 [00:20<00:00,  1.48img/s, Cumulative Dice=[0.9823147654533386], loss (batch)=0.0709]\n",
      "Epoch 96/100: 100%|████████| 30/30 [00:20<00:00,  1.46img/s, Cumulative Dice=[0.9817816615104675], loss (batch)=0.0933]\n",
      "Epoch 97/100: 100%|████████| 30/30 [00:23<00:00,  1.30img/s, Cumulative Dice=[0.9824552536010742], loss (batch)=0.0736]\n",
      "Epoch 98/100: 100%|████████| 30/30 [00:20<00:00,  1.48img/s, Cumulative Dice=[0.9836300611495972], loss (batch)=0.0808]\n",
      "Epoch 99/100: 100%|████████| 30/30 [00:20<00:00,  1.48img/s, Cumulative Dice=[0.9841409921646118], loss (batch)=0.0698]\n",
      "Epoch 100/100: 100%|███████| 30/30 [00:20<00:00,  1.47img/s, Cumulative Dice=[0.9846105575561523], loss (batch)=0.0755]\n",
      "                                                                                                                       \r"
     ]
    },
    {
     "data": {
      "text/html": [
       "Finishing last run (ID:puunp4g5) before initializing another..."
      ],
      "text/plain": [
       "<IPython.core.display.HTML object>"
      ]
     },
     "metadata": {},
     "output_type": "display_data"
    },
    {
     "data": {
      "text/html": [
       "Waiting for W&B process to finish... <strong style=\"color:green\">(success).</strong>"
      ],
      "text/plain": [
       "<IPython.core.display.HTML object>"
      ]
     },
     "metadata": {},
     "output_type": "display_data"
    },
    {
     "data": {
      "text/html": [
       "<style>\n",
       "    table.wandb td:nth-child(1) { padding: 0 10px; text-align: left ; width: auto;} td:nth-child(2) {text-align: left ; width: 100%}\n",
       "    .wandb-row { display: flex; flex-direction: row; flex-wrap: wrap; justify-content: flex-start; width: 100% }\n",
       "    .wandb-col { display: flex; flex-direction: column; flex-basis: 100%; flex: 1; padding: 10px; }\n",
       "    </style>\n",
       "<div class=\"wandb-row\"><div class=\"wandb-col\"><h3>Run history:</h3><br/><table class=\"wandb\"><tr><td>Angle -10 Test Loss</td><td>█▄▂▁▂▁▁▁▂▁▂▂▂▂▃▂▂▂▃▃▂▄▃▃▄▅▄▄▅▅▅▄▄▅▅▆▅▅▅▆</td></tr><tr><td>Angle -20 Test Loss</td><td>█▄▂▁▂▂▂▁▂▂▂▁▂▂▃▂▂▂▃▃▃▄▃▃▄▅▄▅▅▅▆▅▅▅▅▆▅▅▆▆</td></tr><tr><td>Angle -5 Test Loss</td><td>█▄▂▁▂▁▁▁▂▁▂▂▂▃▃▂▂▂▃▃▂▃▃▃▄▅▄▅▅▅▅▄▄▅▅▅▅▅▅▆</td></tr><tr><td>Angle 0 Test Loss</td><td>█▄▂▁▁▁▁▁▂▁▂▂▂▂▃▂▂▂▂▂▂▃▃▃▄▄▄▄▅▄▅▄▄▄▅▅▅▄▅▅</td></tr><tr><td>Angle 10 Test Loss</td><td>█▄▂▁▂▁▁▁▂▁▂▂▂▂▃▂▂▂▂▃▂▃▃▃▄▅▄▄▅▄▅▄▄▅▅▅▅▄▅▆</td></tr><tr><td>Angle 20 Test Loss</td><td>█▄▂▁▂▁▁▁▂▁▂▂▂▂▃▂▂▂▂▃▂▄▃▃▄▅▄▄▅▄▅▄▅▅▅▆▅▄▅▆</td></tr><tr><td>Angle 5 Test Loss</td><td>█▄▂▁▂▁▁▁▂▁▂▂▂▂▃▂▂▂▃▃▂▃▃▃▄▅▄▄▅▄▅▄▄▅▅▅▅▄▅▆</td></tr><tr><td>Equivariance Weight</td><td>▁▁▁▁▁▁▁▁▁▁▁▁▁▁▁▁▁▁▁▁▁▁▁▁▁▁▁▁▁▁▁▁▁▁▁▁▁▁▁▁</td></tr><tr><td>Random Equivariance Error</td><td>▂▁▁▁▁▃▂▃▆▅▄▇▅▂▅▅▂▃▇▄▅▇▅▅█▅▅▇▅▂█▅▁▆▇▁▅▅▄▄</td></tr><tr><td>Test Equivariance Error</td><td>▁▁▂▂▃▂▂▂▂▂▂▃▃▆▃▃▅▃▃▃▃▄▃▄▅▄▅▆▅█▇▆▇▆▆█▆▇▅▆</td></tr><tr><td>Time into epoch</td><td>▁▂▃▄▅▆█▁▃▄▅▆█▁▃▃▄▆▇█▂▃▄▆▇█▁▃▄▅▆▇▁▂▄▄▅▇▇▂</td></tr><tr><td>Total time</td><td>▁▁▁▂▂▂▂▂▂▃▃▃▃▃▃▄▄▄▄▄▅▅▅▅▅▅▆▆▆▆▆▇▇▇▇▇▇███</td></tr><tr><td>epoch</td><td>▁▁▁▂▂▂▂▂▂▃▃▃▃▃▃▄▄▄▄▄▅▅▅▅▅▅▆▆▆▆▆▇▇▇▇▇▇███</td></tr><tr><td>equivariance error</td><td>▁▂▃▃▄▄▄▄▄▅▅▅▅▅▆▅▅▅▅▆▅▆▅▆▆▇▇▇▆▇█▆█▆▇▆▇▇██</td></tr><tr><td>learning rate</td><td>▁▂▃▄▆▇██▆▅▄▃▂▁▂▃▄▆▇██▇▆▄▃▂▁▂▃▄▅▆██▇▆▄▃▂▁</td></tr><tr><td>step</td><td>▁▁▁▂▂▂▂▂▂▃▃▃▃▃▃▄▄▄▄▄▅▅▅▅▅▅▆▆▆▆▆▇▇▇▇▇▇███</td></tr><tr><td>train loss</td><td>█▅▄▃▃▃▃▃▂▂▂▂▂▂▂▂▂▂▂▂▂▂▂▂▂▂▁▁▂▂▂▂▁▂▁▁▁▁▁▁</td></tr><tr><td>train total loss</td><td>█▅▄▃▃▃▃▃▂▂▂▂▂▂▂▂▂▂▂▂▂▂▂▂▂▂▁▁▂▂▂▂▁▂▁▁▁▁▁▁</td></tr></table><br/></div><div class=\"wandb-col\"><h3>Run summary:</h3><br/><table class=\"wandb\"><tr><td>Angle -10 Test Loss</td><td>0.68301</td></tr><tr><td>Angle -20 Test Loss</td><td>0.72508</td></tr><tr><td>Angle -5 Test Loss</td><td>0.6647</td></tr><tr><td>Angle 0 Test Loss</td><td>0.63746</td></tr><tr><td>Angle 10 Test Loss</td><td>0.67358</td></tr><tr><td>Angle 20 Test Loss</td><td>0.71466</td></tr><tr><td>Angle 5 Test Loss</td><td>0.65629</td></tr><tr><td>Equivariance Weight</td><td>100</td></tr><tr><td>Random Equivariance Error</td><td>0.33762</td></tr><tr><td>Test Equivariance Error</td><td>0.21899</td></tr><tr><td>Time into epoch</td><td>19.34536</td></tr><tr><td>Total time</td><td>7860.87088</td></tr><tr><td>epoch</td><td>100</td></tr><tr><td>equivariance error</td><td>1.18571</td></tr><tr><td>learning rate</td><td>0.0</td></tr><tr><td>step</td><td>3000</td></tr><tr><td>train loss</td><td>0.07547</td></tr><tr><td>train total loss</td><td>0.07547</td></tr></table><br/></div></div>"
      ],
      "text/plain": [
       "<IPython.core.display.HTML object>"
      ]
     },
     "metadata": {},
     "output_type": "display_data"
    },
    {
     "data": {
      "text/html": [
       " View run <strong style=\"color:#cdcd00\">floral-darkness-208</strong> at: <a href='https://wandb.ai/jjkjjk23/HeLa%20EUNet/runs/puunp4g5' target=\"_blank\">https://wandb.ai/jjkjjk23/HeLa%20EUNet/runs/puunp4g5</a><br/> View job at <a href='https://wandb.ai/jjkjjk23/HeLa%20EUNet/jobs/QXJ0aWZhY3RDb2xsZWN0aW9uOjk0NDYyOTAx/version_details/v25' target=\"_blank\">https://wandb.ai/jjkjjk23/HeLa%20EUNet/jobs/QXJ0aWZhY3RDb2xsZWN0aW9uOjk0NDYyOTAx/version_details/v25</a><br/>Synced 6 W&B file(s), 6700 media file(s), 0 artifact file(s) and 0 other file(s)"
      ],
      "text/plain": [
       "<IPython.core.display.HTML object>"
      ]
     },
     "metadata": {},
     "output_type": "display_data"
    },
    {
     "data": {
      "text/html": [
       "Find logs at: <code>.\\wandb\\run-20230925_195455-puunp4g5\\logs</code>"
      ],
      "text/plain": [
       "<IPython.core.display.HTML object>"
      ]
     },
     "metadata": {},
     "output_type": "display_data"
    },
    {
     "data": {
      "text/html": [
       "Successfully finished last run (ID:puunp4g5). Initializing new run:<br/>"
      ],
      "text/plain": [
       "<IPython.core.display.HTML object>"
      ]
     },
     "metadata": {},
     "output_type": "display_data"
    },
    {
     "data": {
      "text/html": [
       "wandb version 0.15.11 is available!  To upgrade, please run:\n",
       " $ pip install wandb --upgrade"
      ],
      "text/plain": [
       "<IPython.core.display.HTML object>"
      ]
     },
     "metadata": {},
     "output_type": "display_data"
    },
    {
     "data": {
      "text/html": [
       "Tracking run with wandb version 0.15.9"
      ],
      "text/plain": [
       "<IPython.core.display.HTML object>"
      ]
     },
     "metadata": {},
     "output_type": "display_data"
    },
    {
     "data": {
      "text/html": [
       "Run data is saved locally in <code>C:\\Users\\jjkjj\\Equivariant\\EquivariantUNet\\wandb\\run-20230925_220714-elcw2knz</code>"
      ],
      "text/plain": [
       "<IPython.core.display.HTML object>"
      ]
     },
     "metadata": {},
     "output_type": "display_data"
    },
    {
     "data": {
      "text/html": [
       "Syncing run <strong><a href='https://wandb.ai/jjkjjk23/HeLa%20EUNet/runs/elcw2knz' target=\"_blank\">visionary-plant-209</a></strong> to <a href='https://wandb.ai/jjkjjk23/HeLa%20EUNet' target=\"_blank\">Weights & Biases</a> (<a href='https://wandb.me/run' target=\"_blank\">docs</a>)<br/>"
      ],
      "text/plain": [
       "<IPython.core.display.HTML object>"
      ]
     },
     "metadata": {},
     "output_type": "display_data"
    },
    {
     "data": {
      "text/html": [
       " View project at <a href='https://wandb.ai/jjkjjk23/HeLa%20EUNet' target=\"_blank\">https://wandb.ai/jjkjjk23/HeLa%20EUNet</a>"
      ],
      "text/plain": [
       "<IPython.core.display.HTML object>"
      ]
     },
     "metadata": {},
     "output_type": "display_data"
    },
    {
     "data": {
      "text/html": [
       " View run at <a href='https://wandb.ai/jjkjjk23/HeLa%20EUNet/runs/elcw2knz' target=\"_blank\">https://wandb.ai/jjkjjk23/HeLa%20EUNet/runs/elcw2knz</a>"
      ],
      "text/plain": [
       "<IPython.core.display.HTML object>"
      ]
     },
     "metadata": {},
     "output_type": "display_data"
    },
    {
     "name": "stderr",
     "output_type": "stream",
     "text": [
      "Epoch 1/100: 100%|██████████| 30/30 [00:19<00:00,  1.58img/s, Cumulative Dice=[0.8900338411331177], loss (batch)=0.738]\n",
      "Epoch 2/100: 100%|██████████| 30/30 [00:20<00:00,  1.49img/s, Cumulative Dice=[0.9043092727661133], loss (batch)=0.471]\n",
      "Epoch 3/100: 100%|██████████| 30/30 [00:20<00:00,  1.47img/s, Cumulative Dice=[0.9315717220306396], loss (batch)=0.385]\n",
      "Epoch 4/100: 100%|██████████| 30/30 [00:20<00:00,  1.48img/s, Cumulative Dice=[0.9308049082756042], loss (batch)=0.369]\n",
      "Epoch 5/100: 100%|███████████| 30/30 [00:20<00:00,  1.46img/s, Cumulative Dice=[0.941523015499115], loss (batch)=0.319]\n",
      "Epoch 6/100: 100%|██████████| 30/30 [00:20<00:00,  1.46img/s, Cumulative Dice=[0.9434401392936707], loss (batch)=0.269]\n",
      "Epoch 7/100: 100%|██████████| 30/30 [00:20<00:00,  1.48img/s, Cumulative Dice=[0.9471587538719177], loss (batch)=0.283]\n",
      "Epoch 8/100: 100%|██████████| 30/30 [00:20<00:00,  1.46img/s, Cumulative Dice=[0.9473462104797363], loss (batch)=0.295]\n",
      "Epoch 9/100: 100%|██████████| 30/30 [00:20<00:00,  1.46img/s, Cumulative Dice=[0.9441312551498413], loss (batch)=0.352]\n",
      "Epoch 10/100: 100%|█████████| 30/30 [00:20<00:00,  1.46img/s, Cumulative Dice=[0.9505248069763184], loss (batch)=0.268]\n",
      "Epoch 11/100: 100%|█████████| 30/30 [00:20<00:00,  1.45img/s, Cumulative Dice=[0.9468977451324463], loss (batch)=0.373]\n",
      "Epoch 12/100: 100%|███████████| 30/30 [00:20<00:00,  1.46img/s, Cumulative Dice=[0.95281982421875], loss (batch)=0.241]\n",
      "Epoch 13/100: 100%|█████████| 30/30 [00:20<00:00,  1.47img/s, Cumulative Dice=[0.9557690024375916], loss (batch)=0.241]\n",
      "Epoch 14/100: 100%|█████████| 30/30 [00:20<00:00,  1.47img/s, Cumulative Dice=[0.9511496424674988], loss (batch)=0.219]\n",
      "Epoch 15/100: 100%|█████████| 30/30 [00:20<00:00,  1.47img/s, Cumulative Dice=[0.9507586359977722], loss (batch)=0.263]\n",
      "Epoch 16/100: 100%|█████████| 30/30 [00:20<00:00,  1.46img/s, Cumulative Dice=[0.9521167278289795], loss (batch)=0.209]\n",
      "Epoch 17/100: 100%|█████████| 30/30 [00:20<00:00,  1.44img/s, Cumulative Dice=[0.9526858329772949], loss (batch)=0.241]\n",
      "Epoch 18/100: 100%|█████████| 30/30 [00:20<00:00,  1.47img/s, Cumulative Dice=[0.9501956701278687], loss (batch)=0.218]\n",
      "Epoch 19/100: 100%|█████████| 30/30 [00:20<00:00,  1.48img/s, Cumulative Dice=[0.9552333354949951], loss (batch)=0.217]\n",
      "Epoch 20/100: 100%|█████████| 30/30 [00:20<00:00,  1.46img/s, Cumulative Dice=[0.9571318626403809], loss (batch)=0.197]\n",
      "Epoch 21/100: 100%|█████████| 30/30 [00:20<00:00,  1.45img/s, Cumulative Dice=[0.9565650224685669], loss (batch)=0.204]\n",
      "Epoch 22/100: 100%|██████████| 30/30 [00:20<00:00,  1.45img/s, Cumulative Dice=[0.956998348236084], loss (batch)=0.242]\n",
      "Epoch 23/100: 100%|█████████| 30/30 [00:20<00:00,  1.46img/s, Cumulative Dice=[0.9541589617729187], loss (batch)=0.188]\n",
      "Epoch 24/100: 100%|█████████| 30/30 [00:20<00:00,  1.45img/s, Cumulative Dice=[0.9583174586296082], loss (batch)=0.212]\n",
      "Epoch 25/100: 100%|█████████| 30/30 [00:20<00:00,  1.46img/s, Cumulative Dice=[0.9580695629119873], loss (batch)=0.173]\n",
      "Epoch 26/100: 100%|█████████| 30/30 [00:20<00:00,  1.46img/s, Cumulative Dice=[0.9604088664054871], loss (batch)=0.203]\n",
      "Epoch 27/100: 100%|█████████| 30/30 [00:20<00:00,  1.47img/s, Cumulative Dice=[0.9615313410758972], loss (batch)=0.175]\n",
      "Epoch 28/100: 100%|███████████| 30/30 [00:20<00:00,  1.45img/s, Cumulative Dice=[0.96197509765625], loss (batch)=0.217]\n",
      "Epoch 29/100: 100%|█████████| 30/30 [00:20<00:00,  1.46img/s, Cumulative Dice=[0.9629523754119873], loss (batch)=0.167]\n",
      "Epoch 30/100: 100%|█████████| 30/30 [00:20<00:00,  1.46img/s, Cumulative Dice=[0.9623792171478271], loss (batch)=0.269]\n",
      "Epoch 31/100: 100%|█████████| 30/30 [00:20<00:00,  1.45img/s, Cumulative Dice=[0.9619550704956055], loss (batch)=0.151]\n",
      "Epoch 32/100: 100%|█████████| 30/30 [00:20<00:00,  1.45img/s, Cumulative Dice=[0.9629129767417908], loss (batch)=0.218]\n",
      "Epoch 33/100: 100%|█████████| 30/30 [00:21<00:00,  1.43img/s, Cumulative Dice=[0.9642962217330933], loss (batch)=0.176]\n",
      "Epoch 34/100: 100%|█████████| 30/30 [00:20<00:00,  1.45img/s, Cumulative Dice=[0.9674710035324097], loss (batch)=0.139]\n",
      "Epoch 35/100: 100%|█████████| 30/30 [00:20<00:00,  1.44img/s, Cumulative Dice=[0.9680283069610596], loss (batch)=0.193]\n",
      "Epoch 36/100: 100%|█████████| 30/30 [00:20<00:00,  1.44img/s, Cumulative Dice=[0.9646857976913452], loss (batch)=0.208]\n",
      "Epoch 37/100: 100%|██████████| 30/30 [00:20<00:00,  1.44img/s, Cumulative Dice=[0.9673768281936646], loss (batch)=0.15]\n",
      "Epoch 38/100: 100%|█████████| 30/30 [00:20<00:00,  1.44img/s, Cumulative Dice=[0.9654664993286133], loss (batch)=0.178]\n",
      "Epoch 39/100: 100%|██████████| 30/30 [00:20<00:00,  1.45img/s, Cumulative Dice=[0.964009165763855], loss (batch)=0.158]\n",
      "Epoch 40/100: 100%|███████████| 30/30 [00:21<00:00,  1.41img/s, Cumulative Dice=[0.9662155508995056], loss (batch)=0.2]\n",
      "Epoch 41/100: 100%|█████████| 30/30 [00:20<00:00,  1.48img/s, Cumulative Dice=[0.9634851813316345], loss (batch)=0.185]\n",
      "Epoch 42/100: 100%|██████████| 30/30 [00:20<00:00,  1.44img/s, Cumulative Dice=[0.962332010269165], loss (batch)=0.171]\n",
      "Epoch 43/100: 100%|█████████| 30/30 [00:20<00:00,  1.43img/s, Cumulative Dice=[0.9653111696243286], loss (batch)=0.179]\n",
      "Epoch 44/100: 100%|█████████| 30/30 [00:21<00:00,  1.40img/s, Cumulative Dice=[0.9637926816940308], loss (batch)=0.179]\n",
      "Epoch 45/100: 100%|█████████| 30/30 [00:20<00:00,  1.44img/s, Cumulative Dice=[0.9622297286987305], loss (batch)=0.188]\n",
      "Epoch 46/100: 100%|███████████| 30/30 [00:21<00:00,  1.43img/s, Cumulative Dice=[0.96391761302948], loss (batch)=0.186]\n",
      "Epoch 47/100: 100%|█████████| 30/30 [00:20<00:00,  1.46img/s, Cumulative Dice=[0.9624246954917908], loss (batch)=0.153]\n",
      "Epoch 48/100: 100%|█████████| 30/30 [00:21<00:00,  1.42img/s, Cumulative Dice=[0.9618651866912842], loss (batch)=0.196]\n",
      "Epoch 49/100: 100%|█████████| 30/30 [00:20<00:00,  1.44img/s, Cumulative Dice=[0.9595454931259155], loss (batch)=0.191]\n",
      "Epoch 50/100: 100%|█████████| 30/30 [00:20<00:00,  1.46img/s, Cumulative Dice=[0.9604595899581909], loss (batch)=0.165]\n",
      "Epoch 51/100: 100%|█████████| 30/30 [00:21<00:00,  1.39img/s, Cumulative Dice=[0.9649323225021362], loss (batch)=0.184]\n",
      "Epoch 52/100: 100%|█████████| 30/30 [00:21<00:00,  1.42img/s, Cumulative Dice=[0.9643902778625488], loss (batch)=0.145]\n",
      "Epoch 53/100: 100%|█████████| 30/30 [00:20<00:00,  1.44img/s, Cumulative Dice=[0.9664568901062012], loss (batch)=0.151]\n",
      "Epoch 54/100: 100%|█████████| 30/30 [00:20<00:00,  1.48img/s, Cumulative Dice=[0.9656760096549988], loss (batch)=0.144]\n",
      "Epoch 55/100: 100%|██████████| 30/30 [00:20<00:00,  1.48img/s, Cumulative Dice=[0.9642898440361023], loss (batch)=0.17]\n",
      "Epoch 56/100: 100%|█████████| 30/30 [00:20<00:00,  1.45img/s, Cumulative Dice=[0.9689533710479736], loss (batch)=0.154]\n",
      "Epoch 57/100: 100%|██████████| 30/30 [00:21<00:00,  1.40img/s, Cumulative Dice=[0.9684197306632996], loss (batch)=0.16]\n",
      "Epoch 58/100: 100%|█████████| 30/30 [00:21<00:00,  1.39img/s, Cumulative Dice=[0.9665552377700806], loss (batch)=0.158]\n",
      "Epoch 59/100: 100%|█████████| 30/30 [00:22<00:00,  1.32img/s, Cumulative Dice=[0.9685698747634888], loss (batch)=0.177]\n",
      "Epoch 60/100: 100%|██████████| 30/30 [00:22<00:00,  1.35img/s, Cumulative Dice=[0.9690818786621094], loss (batch)=0.15]\n",
      "Epoch 61/100: 100%|██████████| 30/30 [00:20<00:00,  1.46img/s, Cumulative Dice=[0.9733495712280273], loss (batch)=0.12]\n",
      "Epoch 62/100: 100%|█████████| 30/30 [00:20<00:00,  1.47img/s, Cumulative Dice=[0.9727563261985779], loss (batch)=0.116]\n",
      "Epoch 63/100: 100%|█████████| 30/30 [00:20<00:00,  1.47img/s, Cumulative Dice=[0.9735335111618042], loss (batch)=0.112]\n",
      "Epoch 64/100: 100%|█████████| 30/30 [00:20<00:00,  1.49img/s, Cumulative Dice=[0.9734863042831421], loss (batch)=0.156]\n",
      "Epoch 65/100: 100%|█████████| 30/30 [00:21<00:00,  1.41img/s, Cumulative Dice=[0.9747163653373718], loss (batch)=0.119]\n",
      "Epoch 66/100: 100%|█████████| 30/30 [00:21<00:00,  1.39img/s, Cumulative Dice=[0.9773644804954529], loss (batch)=0.104]\n",
      "Epoch 67/100: 100%|██████████| 30/30 [00:22<00:00,  1.33img/s, Cumulative Dice=[0.977642297744751], loss (batch)=0.106]\n",
      "Epoch 68/100: 100%|█████████| 30/30 [00:20<00:00,  1.46img/s, Cumulative Dice=[0.9778894186019897], loss (batch)=0.112]\n",
      "Epoch 69/100: 100%|█████████| 30/30 [00:20<00:00,  1.48img/s, Cumulative Dice=[0.9752343893051147], loss (batch)=0.114]\n",
      "Epoch 70/100: 100%|█████████| 30/30 [00:22<00:00,  1.35img/s, Cumulative Dice=[0.9775978326797485], loss (batch)=0.145]\n",
      "Epoch 71/100: 100%|█████████| 30/30 [00:20<00:00,  1.48img/s, Cumulative Dice=[0.9755858182907104], loss (batch)=0.146]\n",
      "Epoch 72/100: 100%|█████████| 30/30 [00:20<00:00,  1.48img/s, Cumulative Dice=[0.9765402674674988], loss (batch)=0.117]\n",
      "Epoch 73/100: 100%|█████████| 30/30 [00:21<00:00,  1.37img/s, Cumulative Dice=[0.9775060415267944], loss (batch)=0.118]\n",
      "Epoch 74/100: 100%|██████████| 30/30 [00:20<00:00,  1.48img/s, Cumulative Dice=[0.9771718978881836], loss (batch)=0.12]\n",
      "Epoch 75/100: 100%|██████████| 30/30 [00:21<00:00,  1.40img/s, Cumulative Dice=[0.976092517375946], loss (batch)=0.113]\n",
      "Epoch 76/100: 100%|█████████| 30/30 [00:20<00:00,  1.46img/s, Cumulative Dice=[0.9756256937980652], loss (batch)=0.133]\n",
      "Epoch 77/100: 100%|█████████| 30/30 [00:21<00:00,  1.39img/s, Cumulative Dice=[0.9774865508079529], loss (batch)=0.109]\n",
      "Epoch 78/100: 100%|████████| 30/30 [00:20<00:00,  1.46img/s, Cumulative Dice=[0.9773650169372559], loss (batch)=0.0988]\n",
      "Epoch 79/100: 100%|█████████| 30/30 [00:21<00:00,  1.37img/s, Cumulative Dice=[0.9788682460784912], loss (batch)=0.105]\n",
      "Epoch 80/100: 100%|█████████| 30/30 [00:20<00:00,  1.48img/s, Cumulative Dice=[0.9733750820159912], loss (batch)=0.122]\n",
      "Epoch 81/100: 100%|█████████| 30/30 [00:22<00:00,  1.36img/s, Cumulative Dice=[0.9764242172241211], loss (batch)=0.121]\n",
      "Epoch 82/100: 100%|█████████| 30/30 [00:20<00:00,  1.47img/s, Cumulative Dice=[0.9751590490341187], loss (batch)=0.132]\n",
      "Epoch 83/100: 100%|█████████| 30/30 [00:22<00:00,  1.34img/s, Cumulative Dice=[0.9754663705825806], loss (batch)=0.107]\n",
      "Epoch 84/100: 100%|█████████| 30/30 [00:20<00:00,  1.46img/s, Cumulative Dice=[0.9766266345977783], loss (batch)=0.133]\n",
      "Epoch 85/100: 100%|█████████| 30/30 [00:23<00:00,  1.29img/s, Cumulative Dice=[0.9748049974441528], loss (batch)=0.102]\n",
      "Epoch 86/100: 100%|██████████| 30/30 [00:20<00:00,  1.48img/s, Cumulative Dice=[0.976492166519165], loss (batch)=0.104]\n",
      "Epoch 87/100: 100%|█████████| 30/30 [00:20<00:00,  1.46img/s, Cumulative Dice=[0.9763304591178894], loss (batch)=0.106]\n",
      "Epoch 88/100: 100%|█████████| 30/30 [00:23<00:00,  1.29img/s, Cumulative Dice=[0.9755184650421143], loss (batch)=0.127]\n",
      "Epoch 89/100: 100%|█████████| 30/30 [00:20<00:00,  1.46img/s, Cumulative Dice=[0.9775823950767517], loss (batch)=0.103]\n",
      "Epoch 90/100: 100%|█████████| 30/30 [00:20<00:00,  1.47img/s, Cumulative Dice=[0.9775997996330261], loss (batch)=0.105]\n",
      "Epoch 91/100: 100%|█████████| 30/30 [00:23<00:00,  1.29img/s, Cumulative Dice=[0.9772409200668335], loss (batch)=0.102]\n",
      "Epoch 92/100: 100%|██████████| 30/30 [00:20<00:00,  1.47img/s, Cumulative Dice=[0.979535698890686], loss (batch)=0.103]\n",
      "Epoch 93/100: 100%|████████| 30/30 [00:20<00:00,  1.49img/s, Cumulative Dice=[0.9810353517532349], loss (batch)=0.0821]\n",
      "Epoch 94/100: 100%|████████| 30/30 [00:20<00:00,  1.47img/s, Cumulative Dice=[0.9816077947616577], loss (batch)=0.0718]\n",
      "Epoch 95/100: 100%|█████████| 30/30 [00:23<00:00,  1.29img/s, Cumulative Dice=[0.982660174369812], loss (batch)=0.0801]\n",
      "Epoch 96/100: 100%|████████| 30/30 [00:20<00:00,  1.49img/s, Cumulative Dice=[0.9819750189781189], loss (batch)=0.0969]\n",
      "Epoch 97/100: 100%|█████████| 30/30 [00:20<00:00,  1.47img/s, Cumulative Dice=[0.9831207990646362], loss (batch)=0.074]\n",
      "Epoch 98/100: 100%|████████| 30/30 [00:20<00:00,  1.47img/s, Cumulative Dice=[0.9827697277069092], loss (batch)=0.0871]\n",
      "Epoch 99/100: 100%|████████| 30/30 [00:24<00:00,  1.24img/s, Cumulative Dice=[0.9833745360374451], loss (batch)=0.0811]\n",
      "Epoch 100/100: 100%|███████| 30/30 [00:23<00:00,  1.26img/s, Cumulative Dice=[0.9860756397247314], loss (batch)=0.0709]\n",
      "                                                                                                                       \r"
     ]
    },
    {
     "data": {
      "text/html": [
       "Finishing last run (ID:elcw2knz) before initializing another..."
      ],
      "text/plain": [
       "<IPython.core.display.HTML object>"
      ]
     },
     "metadata": {},
     "output_type": "display_data"
    },
    {
     "data": {
      "text/html": [
       "Waiting for W&B process to finish... <strong style=\"color:green\">(success).</strong>"
      ],
      "text/plain": [
       "<IPython.core.display.HTML object>"
      ]
     },
     "metadata": {},
     "output_type": "display_data"
    },
    {
     "data": {
      "text/html": [
       "<style>\n",
       "    table.wandb td:nth-child(1) { padding: 0 10px; text-align: left ; width: auto;} td:nth-child(2) {text-align: left ; width: 100%}\n",
       "    .wandb-row { display: flex; flex-direction: row; flex-wrap: wrap; justify-content: flex-start; width: 100% }\n",
       "    .wandb-col { display: flex; flex-direction: column; flex-basis: 100%; flex: 1; padding: 10px; }\n",
       "    </style>\n",
       "<div class=\"wandb-row\"><div class=\"wandb-col\"><h3>Run history:</h3><br/><table class=\"wandb\"><tr><td>Angle -10 Test Loss</td><td>█▄▁▁▂▁▃▁▁▂▃▂▂▃▃▂▃▃▃▂▄▃▃▄▄▅▅▅▆▅▅▅▅▄▅▅▆▆▆▇</td></tr><tr><td>Angle -20 Test Loss</td><td>█▄▁▁▃▂▃▁▁▂▃▂▂▃▃▂▄▃▃▂▄▃▃▄▄▅▅▅▆▅▅▅▅▄▅▅▆▆▆▇</td></tr><tr><td>Angle -5 Test Loss</td><td>█▄▁▁▂▁▂▂▂▂▃▂▂▃▃▃▃▃▃▂▄▃▃▄▄▅▅▆▆▅▅▅▅▅▅▅▆▇▇▇</td></tr><tr><td>Angle 0 Test Loss</td><td>█▄▂▁▂▁▂▂▂▂▃▂▂▃▃▃▃▃▃▂▃▃▃▄▄▅▅▅▆▅▅▅▅▅▅▅▆▆▆▇</td></tr><tr><td>Angle 10 Test Loss</td><td>█▄▁▁▂▁▃▂▂▂▃▂▂▃▃▂▃▃▃▂▄▃▃▄▄▅▅▅▆▅▅▅▄▄▅▅▆▆▆▇</td></tr><tr><td>Angle 20 Test Loss</td><td>█▄▁▁▃▂▃▂▁▂▃▂▂▃▂▂▃▃▃▂▄▂▃▄▄▅▅▅▆▅▅▅▄▄▅▅▆▆▆▇</td></tr><tr><td>Angle 5 Test Loss</td><td>█▄▁▁▂▁▂▂▂▂▃▂▂▃▃▃▃▃▃▂▄▃▃▄▄▅▅▅▆▅▅▅▅▄▅▅▆▆▆▇</td></tr><tr><td>Equivariance Weight</td><td>▁▁▁▁▁▁▁▁▁▁▁▁▁▁▁▁▁▁▁▁▁▁▁▁▁▁▁▁▁▁▁▁▁▁▁▁▁▁▁▁</td></tr><tr><td>Random Equivariance Error</td><td>▁▁▁▁▂▅▂▃█▇▂▆▇▁▄▃▁▃▃▄▃▅▃▄▅▄▃▇▃▂▅▄▁▃▅▁▃▃▂▃</td></tr><tr><td>Test Equivariance Error</td><td>▁▁▁▁▁▂▁▁▂▁▂▂▂▅▂▂▆▂▂▂▂▃▃▃▄▄▄▅▄▇▅▄▆▄▄█▄▆▅▅</td></tr><tr><td>Time into epoch</td><td>▁▂▃▄▆▆█▁▃▄▅▆▇▁▂▃▄▆▇█▂▃▄▆▆▇▁▂▄▅▆█▁▂▃▄▅▇█▂</td></tr><tr><td>Total time</td><td>▁▁▁▁▂▂▂▂▂▃▃▃▃▃▃▄▄▄▄▄▅▅▅▅▅▅▆▆▆▆▆▆▇▇▇▇▇███</td></tr><tr><td>epoch</td><td>▁▁▁▂▂▂▂▂▂▃▃▃▃▃▃▄▄▄▄▄▅▅▅▅▅▅▆▆▆▆▆▇▇▇▇▇▇███</td></tr><tr><td>equivariance error</td><td>▁▂▃▃▄▄▄▄▄▅▅▅▅▆▆▆▆▅▅▅▅▅▅▆▆▆▇▇▇▇▇▆▇▇█▇▇█▇█</td></tr><tr><td>learning rate</td><td>▁▂▃▄▆▇██▆▅▄▃▂▁▂▃▄▆▇██▇▆▄▃▂▁▂▃▄▅▆██▇▆▄▃▂▁</td></tr><tr><td>step</td><td>▁▁▁▂▂▂▂▂▂▃▃▃▃▃▃▄▄▄▄▄▅▅▅▅▅▅▆▆▆▆▆▇▇▇▇▇▇███</td></tr><tr><td>train loss</td><td>█▅▄▄▃▃▃▂▃▃▃▂▂▂▂▂▂▂▂▃▂▂▂▂▂▂▂▂▂▂▂▁▁▂▂▂▁▁▁▁</td></tr><tr><td>train total loss</td><td>█▅▄▄▃▃▃▂▃▃▃▂▂▂▂▂▂▂▂▃▂▂▂▂▂▂▂▂▂▂▂▁▁▂▂▂▁▁▁▁</td></tr></table><br/></div><div class=\"wandb-col\"><h3>Run summary:</h3><br/><table class=\"wandb\"><tr><td>Angle -10 Test Loss</td><td>0.67178</td></tr><tr><td>Angle -20 Test Loss</td><td>0.70311</td></tr><tr><td>Angle -5 Test Loss</td><td>0.66008</td></tr><tr><td>Angle 0 Test Loss</td><td>0.63578</td></tr><tr><td>Angle 10 Test Loss</td><td>0.66318</td></tr><tr><td>Angle 20 Test Loss</td><td>0.69899</td></tr><tr><td>Angle 5 Test Loss</td><td>0.65053</td></tr><tr><td>Equivariance Weight</td><td>100</td></tr><tr><td>Random Equivariance Error</td><td>0.13094</td></tr><tr><td>Test Equivariance Error</td><td>0.23613</td></tr><tr><td>Time into epoch</td><td>22.80877</td></tr><tr><td>Total time</td><td>7633.21662</td></tr><tr><td>epoch</td><td>100</td></tr><tr><td>equivariance error</td><td>1.12408</td></tr><tr><td>learning rate</td><td>0.0</td></tr><tr><td>step</td><td>3000</td></tr><tr><td>train loss</td><td>0.07095</td></tr><tr><td>train total loss</td><td>0.07095</td></tr></table><br/></div></div>"
      ],
      "text/plain": [
       "<IPython.core.display.HTML object>"
      ]
     },
     "metadata": {},
     "output_type": "display_data"
    },
    {
     "data": {
      "text/html": [
       " View run <strong style=\"color:#cdcd00\">visionary-plant-209</strong> at: <a href='https://wandb.ai/jjkjjk23/HeLa%20EUNet/runs/elcw2knz' target=\"_blank\">https://wandb.ai/jjkjjk23/HeLa%20EUNet/runs/elcw2knz</a><br/> View job at <a href='https://wandb.ai/jjkjjk23/HeLa%20EUNet/jobs/QXJ0aWZhY3RDb2xsZWN0aW9uOjk0NDYyOTAx/version_details/v25' target=\"_blank\">https://wandb.ai/jjkjjk23/HeLa%20EUNet/jobs/QXJ0aWZhY3RDb2xsZWN0aW9uOjk0NDYyOTAx/version_details/v25</a><br/>Synced 6 W&B file(s), 6700 media file(s), 0 artifact file(s) and 0 other file(s)"
      ],
      "text/plain": [
       "<IPython.core.display.HTML object>"
      ]
     },
     "metadata": {},
     "output_type": "display_data"
    },
    {
     "data": {
      "text/html": [
       "Find logs at: <code>.\\wandb\\run-20230925_220714-elcw2knz\\logs</code>"
      ],
      "text/plain": [
       "<IPython.core.display.HTML object>"
      ]
     },
     "metadata": {},
     "output_type": "display_data"
    },
    {
     "data": {
      "text/html": [
       "Successfully finished last run (ID:elcw2knz). Initializing new run:<br/>"
      ],
      "text/plain": [
       "<IPython.core.display.HTML object>"
      ]
     },
     "metadata": {},
     "output_type": "display_data"
    },
    {
     "data": {
      "text/html": [
       "wandb version 0.15.11 is available!  To upgrade, please run:\n",
       " $ pip install wandb --upgrade"
      ],
      "text/plain": [
       "<IPython.core.display.HTML object>"
      ]
     },
     "metadata": {},
     "output_type": "display_data"
    },
    {
     "data": {
      "text/html": [
       "Tracking run with wandb version 0.15.9"
      ],
      "text/plain": [
       "<IPython.core.display.HTML object>"
      ]
     },
     "metadata": {},
     "output_type": "display_data"
    },
    {
     "data": {
      "text/html": [
       "Run data is saved locally in <code>C:\\Users\\jjkjj\\Equivariant\\EquivariantUNet\\wandb\\run-20230926_001548-ncsy6qs3</code>"
      ],
      "text/plain": [
       "<IPython.core.display.HTML object>"
      ]
     },
     "metadata": {},
     "output_type": "display_data"
    },
    {
     "data": {
      "text/html": [
       "Syncing run <strong><a href='https://wandb.ai/jjkjjk23/HeLa%20EUNet/runs/ncsy6qs3' target=\"_blank\">olive-wildflower-210</a></strong> to <a href='https://wandb.ai/jjkjjk23/HeLa%20EUNet' target=\"_blank\">Weights & Biases</a> (<a href='https://wandb.me/run' target=\"_blank\">docs</a>)<br/>"
      ],
      "text/plain": [
       "<IPython.core.display.HTML object>"
      ]
     },
     "metadata": {},
     "output_type": "display_data"
    },
    {
     "data": {
      "text/html": [
       " View project at <a href='https://wandb.ai/jjkjjk23/HeLa%20EUNet' target=\"_blank\">https://wandb.ai/jjkjjk23/HeLa%20EUNet</a>"
      ],
      "text/plain": [
       "<IPython.core.display.HTML object>"
      ]
     },
     "metadata": {},
     "output_type": "display_data"
    },
    {
     "data": {
      "text/html": [
       " View run at <a href='https://wandb.ai/jjkjjk23/HeLa%20EUNet/runs/ncsy6qs3' target=\"_blank\">https://wandb.ai/jjkjjk23/HeLa%20EUNet/runs/ncsy6qs3</a>"
      ],
      "text/plain": [
       "<IPython.core.display.HTML object>"
      ]
     },
     "metadata": {},
     "output_type": "display_data"
    },
    {
     "name": "stderr",
     "output_type": "stream",
     "text": [
      "Epoch 1/100: 100%|██████████| 30/30 [00:18<00:00,  1.59img/s, Cumulative Dice=[0.8153320550918579], loss (batch)=0.821]\n",
      "Epoch 2/100: 100%|██████████| 30/30 [00:19<00:00,  1.50img/s, Cumulative Dice=[0.9041799902915955], loss (batch)=0.545]\n",
      "Epoch 3/100: 100%|██████████| 30/30 [00:20<00:00,  1.48img/s, Cumulative Dice=[0.9278862476348877], loss (batch)=0.494]\n",
      "Epoch 4/100: 100%|██████████| 30/30 [00:20<00:00,  1.47img/s, Cumulative Dice=[0.9314574599266052], loss (batch)=0.407]\n",
      "Epoch 5/100: 100%|██████████| 30/30 [00:20<00:00,  1.47img/s, Cumulative Dice=[0.9394694566726685], loss (batch)=0.349]\n",
      "Epoch 6/100: 100%|██████████| 30/30 [00:20<00:00,  1.46img/s, Cumulative Dice=[0.9462690353393555], loss (batch)=0.324]\n",
      "Epoch 7/100: 100%|██████████| 30/30 [00:20<00:00,  1.46img/s, Cumulative Dice=[0.9441965818405151], loss (batch)=0.303]\n",
      "Epoch 8/100: 100%|██████████| 30/30 [00:20<00:00,  1.48img/s, Cumulative Dice=[0.9468040466308594], loss (batch)=0.266]\n",
      "Epoch 9/100: 100%|██████████| 30/30 [00:20<00:00,  1.48img/s, Cumulative Dice=[0.9438563585281372], loss (batch)=0.247]\n",
      "Epoch 10/100: 100%|█████████| 30/30 [00:20<00:00,  1.45img/s, Cumulative Dice=[0.9490858912467957], loss (batch)=0.277]\n",
      "Epoch 11/100: 100%|█████████| 30/30 [00:20<00:00,  1.46img/s, Cumulative Dice=[0.9447142481803894], loss (batch)=0.291]\n",
      "Epoch 12/100: 100%|█████████| 30/30 [00:20<00:00,  1.47img/s, Cumulative Dice=[0.9492452144622803], loss (batch)=0.246]\n",
      "Epoch 13/100: 100%|█████████| 30/30 [00:20<00:00,  1.47img/s, Cumulative Dice=[0.9483689069747925], loss (batch)=0.247]\n",
      "Epoch 14/100: 100%|█████████| 30/30 [00:20<00:00,  1.46img/s, Cumulative Dice=[0.9520999789237976], loss (batch)=0.234]\n",
      "Epoch 15/100: 100%|██████████| 30/30 [00:20<00:00,  1.47img/s, Cumulative Dice=[0.9478566646575928], loss (batch)=0.27]\n",
      "Epoch 16/100: 100%|█████████| 30/30 [00:20<00:00,  1.48img/s, Cumulative Dice=[0.9397528171539307], loss (batch)=0.261]\n",
      "Epoch 17/100: 100%|█████████| 30/30 [00:20<00:00,  1.47img/s, Cumulative Dice=[0.9548213481903076], loss (batch)=0.236]\n",
      "Epoch 18/100: 100%|█████████| 30/30 [00:20<00:00,  1.47img/s, Cumulative Dice=[0.9531962871551514], loss (batch)=0.235]\n",
      "Epoch 19/100: 100%|█████████| 30/30 [00:20<00:00,  1.47img/s, Cumulative Dice=[0.9541037082672119], loss (batch)=0.205]\n",
      "Epoch 20/100: 100%|█████████| 30/30 [00:20<00:00,  1.46img/s, Cumulative Dice=[0.9535233974456787], loss (batch)=0.203]\n",
      "Epoch 21/100: 100%|█████████| 30/30 [00:20<00:00,  1.48img/s, Cumulative Dice=[0.9526416659355164], loss (batch)=0.204]\n",
      "Epoch 22/100: 100%|█████████| 30/30 [00:20<00:00,  1.47img/s, Cumulative Dice=[0.9548277854919434], loss (batch)=0.209]\n",
      "Epoch 23/100: 100%|█████████| 30/30 [00:20<00:00,  1.47img/s, Cumulative Dice=[0.9537253379821777], loss (batch)=0.289]\n",
      "Epoch 24/100: 100%|█████████| 30/30 [00:20<00:00,  1.46img/s, Cumulative Dice=[0.9560949206352234], loss (batch)=0.236]\n",
      "Epoch 25/100: 100%|█████████| 30/30 [00:20<00:00,  1.48img/s, Cumulative Dice=[0.9628240466117859], loss (batch)=0.162]\n",
      "Epoch 26/100: 100%|█████████| 30/30 [00:20<00:00,  1.47img/s, Cumulative Dice=[0.9575187563896179], loss (batch)=0.209]\n",
      "Epoch 27/100: 100%|█████████| 30/30 [00:20<00:00,  1.47img/s, Cumulative Dice=[0.9648351669311523], loss (batch)=0.171]\n",
      "Epoch 28/100: 100%|██████████| 30/30 [00:20<00:00,  1.48img/s, Cumulative Dice=[0.964068591594696], loss (batch)=0.157]\n",
      "Epoch 29/100: 100%|█████████| 30/30 [00:20<00:00,  1.47img/s, Cumulative Dice=[0.9640851020812988], loss (batch)=0.158]\n",
      "Epoch 30/100: 100%|██████████| 30/30 [00:20<00:00,  1.46img/s, Cumulative Dice=[0.960092306137085], loss (batch)=0.178]\n",
      "Epoch 31/100: 100%|█████████| 30/30 [00:20<00:00,  1.46img/s, Cumulative Dice=[0.9613538980484009], loss (batch)=0.156]\n",
      "Epoch 32/100: 100%|█████████| 30/30 [00:21<00:00,  1.43img/s, Cumulative Dice=[0.9642496109008789], loss (batch)=0.168]\n",
      "Epoch 33/100: 100%|█████████| 30/30 [00:20<00:00,  1.43img/s, Cumulative Dice=[0.9688374400138855], loss (batch)=0.155]\n",
      "Epoch 34/100: 100%|██████████| 30/30 [00:20<00:00,  1.47img/s, Cumulative Dice=[0.9671439528465271], loss (batch)=0.15]\n",
      "Epoch 35/100: 100%|█████████| 30/30 [00:20<00:00,  1.46img/s, Cumulative Dice=[0.9665172100067139], loss (batch)=0.173]\n",
      "Epoch 36/100: 100%|█████████| 30/30 [00:20<00:00,  1.44img/s, Cumulative Dice=[0.9665491580963135], loss (batch)=0.181]\n",
      "Epoch 37/100: 100%|█████████| 30/30 [00:20<00:00,  1.47img/s, Cumulative Dice=[0.9635795950889587], loss (batch)=0.192]\n",
      "Epoch 38/100: 100%|█████████| 30/30 [00:20<00:00,  1.47img/s, Cumulative Dice=[0.9665647745132446], loss (batch)=0.181]\n",
      "Epoch 39/100: 100%|█████████| 30/30 [00:20<00:00,  1.45img/s, Cumulative Dice=[0.9648863077163696], loss (batch)=0.179]\n",
      "Epoch 40/100: 100%|█████████| 30/30 [00:20<00:00,  1.45img/s, Cumulative Dice=[0.9659707546234131], loss (batch)=0.152]\n",
      "Epoch 41/100: 100%|██████████| 30/30 [00:20<00:00,  1.44img/s, Cumulative Dice=[0.9653133749961853], loss (batch)=0.18]\n",
      "Epoch 42/100: 100%|█████████| 30/30 [00:21<00:00,  1.40img/s, Cumulative Dice=[0.9649666547775269], loss (batch)=0.145]\n",
      "Epoch 43/100: 100%|█████████| 30/30 [00:20<00:00,  1.47img/s, Cumulative Dice=[0.9639037847518921], loss (batch)=0.176]\n",
      "Epoch 44/100: 100%|█████████| 30/30 [00:20<00:00,  1.44img/s, Cumulative Dice=[0.9678980708122253], loss (batch)=0.142]\n",
      "Epoch 45/100: 100%|██████████| 30/30 [00:20<00:00,  1.48img/s, Cumulative Dice=[0.963718056678772], loss (batch)=0.201]\n",
      "Epoch 46/100: 100%|██████████| 30/30 [00:21<00:00,  1.42img/s, Cumulative Dice=[0.965495765209198], loss (batch)=0.147]\n",
      "Epoch 47/100: 100%|█████████| 30/30 [00:20<00:00,  1.47img/s, Cumulative Dice=[0.9634826183319092], loss (batch)=0.151]\n",
      "Epoch 48/100: 100%|█████████| 30/30 [00:20<00:00,  1.43img/s, Cumulative Dice=[0.9629797339439392], loss (batch)=0.155]\n",
      "Epoch 49/100: 100%|█████████| 30/30 [00:20<00:00,  1.47img/s, Cumulative Dice=[0.9640203714370728], loss (batch)=0.188]\n",
      "Epoch 50/100: 100%|██████████| 30/30 [00:21<00:00,  1.38img/s, Cumulative Dice=[0.965908944606781], loss (batch)=0.157]\n",
      "Epoch 51/100: 100%|██████████| 30/30 [00:21<00:00,  1.42img/s, Cumulative Dice=[0.9627869129180908], loss (batch)=0.15]\n",
      "Epoch 52/100: 100%|█████████| 30/30 [00:20<00:00,  1.46img/s, Cumulative Dice=[0.9643465280532837], loss (batch)=0.206]\n",
      "Epoch 53/100: 100%|█████████| 30/30 [00:20<00:00,  1.46img/s, Cumulative Dice=[0.9624112844467163], loss (batch)=0.186]\n",
      "Epoch 54/100: 100%|█████████| 30/30 [00:21<00:00,  1.39img/s, Cumulative Dice=[0.9686028957366943], loss (batch)=0.137]\n",
      "Epoch 55/100: 100%|█████████| 30/30 [00:21<00:00,  1.40img/s, Cumulative Dice=[0.9672329425811768], loss (batch)=0.151]\n",
      "Epoch 56/100: 100%|██████████| 30/30 [00:21<00:00,  1.42img/s, Cumulative Dice=[0.965343177318573], loss (batch)=0.157]\n",
      "Epoch 57/100: 100%|█████████| 30/30 [00:21<00:00,  1.37img/s, Cumulative Dice=[0.9662286639213562], loss (batch)=0.152]\n",
      "Epoch 58/100: 100%|█████████| 30/30 [00:21<00:00,  1.42img/s, Cumulative Dice=[0.9655341506004333], loss (batch)=0.182]\n",
      "Epoch 59/100: 100%|█████████| 30/30 [00:21<00:00,  1.41img/s, Cumulative Dice=[0.9667353630065918], loss (batch)=0.169]\n",
      "Epoch 60/100: 100%|██████████| 30/30 [00:21<00:00,  1.40img/s, Cumulative Dice=[0.970601499080658], loss (batch)=0.127]\n",
      "Epoch 61/100: 100%|██████████| 30/30 [00:21<00:00,  1.41img/s, Cumulative Dice=[0.9703239798545837], loss (batch)=0.13]\n",
      "Epoch 62/100: 100%|█████████| 30/30 [00:22<00:00,  1.35img/s, Cumulative Dice=[0.9736136198043823], loss (batch)=0.144]\n",
      "Epoch 63/100: 100%|██████████| 30/30 [00:20<00:00,  1.47img/s, Cumulative Dice=[0.974143385887146], loss (batch)=0.133]\n",
      "Epoch 64/100: 100%|█████████| 30/30 [00:20<00:00,  1.47img/s, Cumulative Dice=[0.9755657911300659], loss (batch)=0.114]\n",
      "Epoch 65/100: 100%|█████████| 30/30 [00:20<00:00,  1.47img/s, Cumulative Dice=[0.9743823409080505], loss (batch)=0.115]\n",
      "Epoch 66/100: 100%|█████████| 30/30 [00:21<00:00,  1.42img/s, Cumulative Dice=[0.9755634069442749], loss (batch)=0.113]\n",
      "Epoch 67/100: 100%|█████████| 30/30 [00:22<00:00,  1.34img/s, Cumulative Dice=[0.9747415781021118], loss (batch)=0.121]\n",
      "Epoch 68/100: 100%|█████████| 30/30 [00:20<00:00,  1.48img/s, Cumulative Dice=[0.9747976660728455], loss (batch)=0.119]\n",
      "Epoch 69/100: 100%|█████████| 30/30 [00:20<00:00,  1.48img/s, Cumulative Dice=[0.9758042097091675], loss (batch)=0.121]\n",
      "Epoch 70/100: 100%|████████| 30/30 [00:21<00:00,  1.38img/s, Cumulative Dice=[0.9765436053276062], loss (batch)=0.0966]\n",
      "Epoch 71/100: 100%|█████████| 30/30 [00:20<00:00,  1.49img/s, Cumulative Dice=[0.9768800735473633], loss (batch)=0.104]\n",
      "Epoch 72/100: 100%|█████████| 30/30 [00:20<00:00,  1.47img/s, Cumulative Dice=[0.9753691554069519], loss (batch)=0.128]\n",
      "Epoch 73/100: 100%|████████| 30/30 [00:22<00:00,  1.36img/s, Cumulative Dice=[0.9765628576278687], loss (batch)=0.0984]\n",
      "Epoch 74/100: 100%|█████████| 30/30 [00:20<00:00,  1.47img/s, Cumulative Dice=[0.9753140807151794], loss (batch)=0.137]\n",
      "Epoch 75/100: 100%|█████████| 30/30 [00:21<00:00,  1.37img/s, Cumulative Dice=[0.9781357049942017], loss (batch)=0.104]\n",
      "Epoch 76/100: 100%|█████████| 30/30 [00:20<00:00,  1.46img/s, Cumulative Dice=[0.9764859676361084], loss (batch)=0.107]\n",
      "Epoch 77/100: 100%|█████████| 30/30 [00:20<00:00,  1.45img/s, Cumulative Dice=[0.9766125082969666], loss (batch)=0.126]\n",
      "Epoch 78/100: 100%|█████████| 30/30 [00:21<00:00,  1.36img/s, Cumulative Dice=[0.9792941808700562], loss (batch)=0.108]\n",
      "Epoch 79/100: 100%|█████████| 30/30 [00:20<00:00,  1.46img/s, Cumulative Dice=[0.9783557653427124], loss (batch)=0.106]\n",
      "Epoch 80/100: 100%|██████████| 30/30 [00:20<00:00,  1.48img/s, Cumulative Dice=[0.9750056266784668], loss (batch)=0.13]\n",
      "Epoch 81/100: 100%|███████████| 30/30 [00:20<00:00,  1.47img/s, Cumulative Dice=[0.974883496761322], loss (batch)=0.13]\n",
      "Epoch 82/100: 100%|█████████| 30/30 [00:20<00:00,  1.46img/s, Cumulative Dice=[0.9756900668144226], loss (batch)=0.143]\n",
      "Epoch 83/100: 100%|█████████| 30/30 [00:22<00:00,  1.34img/s, Cumulative Dice=[0.9767894148826599], loss (batch)=0.116]\n",
      "Epoch 84/100: 100%|█████████| 30/30 [00:20<00:00,  1.48img/s, Cumulative Dice=[0.9760253429412842], loss (batch)=0.105]\n",
      "Epoch 85/100: 100%|█████████| 30/30 [00:22<00:00,  1.32img/s, Cumulative Dice=[0.9762358069419861], loss (batch)=0.118]\n",
      "Epoch 86/100: 100%|█████████| 30/30 [00:20<00:00,  1.46img/s, Cumulative Dice=[0.9766790866851807], loss (batch)=0.113]\n",
      "Epoch 87/100: 100%|█████████| 30/30 [00:20<00:00,  1.47img/s, Cumulative Dice=[0.9752093553543091], loss (batch)=0.118]\n",
      "Epoch 88/100: 100%|████████| 30/30 [00:22<00:00,  1.32img/s, Cumulative Dice=[0.9775840044021606], loss (batch)=0.0842]\n",
      "Epoch 89/100: 100%|█████████| 30/30 [00:20<00:00,  1.48img/s, Cumulative Dice=[0.9784419536590576], loss (batch)=0.105]\n",
      "Epoch 90/100: 100%|█████████| 30/30 [00:20<00:00,  1.47img/s, Cumulative Dice=[0.9763578176498413], loss (batch)=0.118]\n",
      "Epoch 91/100: 100%|█████████| 30/30 [00:22<00:00,  1.35img/s, Cumulative Dice=[0.977853000164032], loss (batch)=0.0993]\n",
      "Epoch 92/100: 100%|█████████| 30/30 [00:20<00:00,  1.47img/s, Cumulative Dice=[0.9768392443656921], loss (batch)=0.117]\n",
      "Epoch 93/100: 100%|████████| 30/30 [00:20<00:00,  1.47img/s, Cumulative Dice=[0.9818207025527954], loss (batch)=0.0767]\n",
      "Epoch 94/100: 100%|█████████| 30/30 [00:23<00:00,  1.29img/s, Cumulative Dice=[0.9797286987304688], loss (batch)=0.118]\n",
      "Epoch 95/100: 100%|██████████| 30/30 [00:22<00:00,  1.31img/s, Cumulative Dice=[0.980850100517273], loss (batch)=0.091]\n",
      "Epoch 96/100: 100%|███████████| 30/30 [00:20<00:00,  1.48img/s, Cumulative Dice=[0.9811998605728149], loss (batch)=0.1]\n",
      "Epoch 97/100: 100%|████████| 30/30 [00:20<00:00,  1.47img/s, Cumulative Dice=[0.9845883250236511], loss (batch)=0.0765]\n",
      "Epoch 98/100: 100%|█████████| 30/30 [00:20<00:00,  1.48img/s, Cumulative Dice=[0.9822731018066406], loss (batch)=0.105]\n",
      "Epoch 99/100: 100%|█████████| 30/30 [00:23<00:00,  1.30img/s, Cumulative Dice=[0.983812689781189], loss (batch)=0.0795]\n",
      "Epoch 100/100: 100%|███████| 30/30 [00:20<00:00,  1.46img/s, Cumulative Dice=[0.9841409921646118], loss (batch)=0.0675]\n",
      "                                                                                                                       \r"
     ]
    },
    {
     "data": {
      "text/html": [
       "Finishing last run (ID:ncsy6qs3) before initializing another..."
      ],
      "text/plain": [
       "<IPython.core.display.HTML object>"
      ]
     },
     "metadata": {},
     "output_type": "display_data"
    },
    {
     "data": {
      "text/html": [
       "Waiting for W&B process to finish... <strong style=\"color:green\">(success).</strong>"
      ],
      "text/plain": [
       "<IPython.core.display.HTML object>"
      ]
     },
     "metadata": {},
     "output_type": "display_data"
    },
    {
     "data": {
      "text/html": [
       "<style>\n",
       "    table.wandb td:nth-child(1) { padding: 0 10px; text-align: left ; width: auto;} td:nth-child(2) {text-align: left ; width: 100%}\n",
       "    .wandb-row { display: flex; flex-direction: row; flex-wrap: wrap; justify-content: flex-start; width: 100% }\n",
       "    .wandb-col { display: flex; flex-direction: column; flex-basis: 100%; flex: 1; padding: 10px; }\n",
       "    </style>\n",
       "<div class=\"wandb-row\"><div class=\"wandb-col\"><h3>Run history:</h3><br/><table class=\"wandb\"><tr><td>Angle -10 Test Loss</td><td>█▄▂▂▁▁▁▁▁▁▁▂▂▂▃▂▃▂▃▄▃▃▂▃▃▄▄▄▄▄▄▃▅▄▃▃▄▅▅▆</td></tr><tr><td>Angle -20 Test Loss</td><td>█▅▂▃▁▁▁▁▁▂▂▃▂▂▃▃▄▃▄▄▃▄▂▃▃▄▅▅▄▅▄▄▅▄▄▄▅▅▅▆</td></tr><tr><td>Angle -5 Test Loss</td><td>█▄▂▂▁▁▁▁▁▁▁▂▂▂▃▂▃▂▃▄▂▃▂▃▃▄▄▄▄▄▄▄▅▄▄▃▅▅▅▆</td></tr><tr><td>Angle 0 Test Loss</td><td>█▄▂▂▁▁▁▂▁▁▂▂▂▂▃▂▃▂▃▃▂▃▂▃▃▄▄▄▄▄▄▄▅▄▄▄▅▅▅▅</td></tr><tr><td>Angle 10 Test Loss</td><td>█▄▁▂▁▁▁▁▁▁▁▂▂▂▃▂▃▂▃▃▃▃▂▃▃▄▄▄▄▄▄▃▅▄▃▃▄▄▅▅</td></tr><tr><td>Angle 20 Test Loss</td><td>█▄▂▂▁▁▁▁▁▁▁▂▂▂▃▂▄▂▄▄▃▃▂▃▃▄▄▄▄▄▄▃▅▄▃▃▄▄▅▆</td></tr><tr><td>Angle 5 Test Loss</td><td>█▄▂▂▁▁▁▁▁▁▁▂▂▂▃▂▃▂▃▃▂▃▂▃▃▄▄▄▄▄▄▃▅▄▄▃▅▅▅▅</td></tr><tr><td>Equivariance Weight</td><td>▁▁▁▁▁▁▁▁▁▁▁▁▁▁▁▁▁▁▁▁▁▁▁▁▁▁▁▁▁▁▁▁▁▁▁▁▁▁▁▁</td></tr><tr><td>Random Equivariance Error</td><td>▂▁▁▂▁▃▁▃▂▃▅█▅▂▅▄▁▄█▆▃▇▃▃▇▃▂▅▂▂▇▅▂▃█▂▄▅▂▄</td></tr><tr><td>Test Equivariance Error</td><td>▃▁▁▁▁▁▁▁▂▁▁▂▂▄▂▂▅▂▂▂▂▃▂▃▄▃▄▄▄▇▅▃█▄▄█▅▅▄▅</td></tr><tr><td>Time into epoch</td><td>▁▂▃▄▆▆█▁▃▄▅▆▇▁▃▃▄▆▇█▂▃▄▆▇▇▁▃▄▅▆▇▁▂▃▄▆▇█▂</td></tr><tr><td>Total time</td><td>▁▁▁▁▂▂▂▂▂▃▃▃▃▃▃▄▄▄▄▄▅▅▅▅▅▅▆▆▆▆▆▆▇▇▇▇▇███</td></tr><tr><td>epoch</td><td>▁▁▁▂▂▂▂▂▂▃▃▃▃▃▃▄▄▄▄▄▅▅▅▅▅▅▆▆▆▆▆▇▇▇▇▇▇███</td></tr><tr><td>equivariance error</td><td>▁▄▄▄▄▄▅▅▅▅▅▆▆▆▆▆▆▆▆▅▅▆▆▇▆▇███▄▇▇██▇█▇▁▇█</td></tr><tr><td>learning rate</td><td>▁▂▃▄▆▇██▆▅▄▃▂▁▂▃▄▆▇██▇▆▄▃▂▁▂▃▄▅▆██▇▆▄▃▂▁</td></tr><tr><td>step</td><td>▁▁▁▂▂▂▂▂▂▃▃▃▃▃▃▄▄▄▄▄▅▅▅▅▅▅▆▆▆▆▆▇▇▇▇▇▇███</td></tr><tr><td>train loss</td><td>█▅▄▃▃▃▃▂▂▂▂▂▃▂▂▂▂▂▂▂▂▂▂▂▂▂▁▁▁▂▁▁▁▂▁▂▁▁▁▁</td></tr><tr><td>train total loss</td><td>█▅▄▃▃▃▃▂▂▂▂▂▃▂▂▂▂▂▂▂▂▂▂▂▂▂▁▁▁▂▁▁▁▂▁▂▁▁▁▁</td></tr></table><br/></div><div class=\"wandb-col\"><h3>Run summary:</h3><br/><table class=\"wandb\"><tr><td>Angle -10 Test Loss</td><td>0.69201</td></tr><tr><td>Angle -20 Test Loss</td><td>0.73241</td></tr><tr><td>Angle -5 Test Loss</td><td>0.67466</td></tr><tr><td>Angle 0 Test Loss</td><td>0.65589</td></tr><tr><td>Angle 10 Test Loss</td><td>0.68312</td></tr><tr><td>Angle 20 Test Loss</td><td>0.72009</td></tr><tr><td>Angle 5 Test Loss</td><td>0.67045</td></tr><tr><td>Equivariance Weight</td><td>100</td></tr><tr><td>Random Equivariance Error</td><td>0.23911</td></tr><tr><td>Test Equivariance Error</td><td>0.23368</td></tr><tr><td>Time into epoch</td><td>19.52441</td></tr><tr><td>Total time</td><td>7612.39504</td></tr><tr><td>epoch</td><td>100</td></tr><tr><td>equivariance error</td><td>1.18659</td></tr><tr><td>learning rate</td><td>0.0</td></tr><tr><td>step</td><td>3000</td></tr><tr><td>train loss</td><td>0.06746</td></tr><tr><td>train total loss</td><td>0.06746</td></tr></table><br/></div></div>"
      ],
      "text/plain": [
       "<IPython.core.display.HTML object>"
      ]
     },
     "metadata": {},
     "output_type": "display_data"
    },
    {
     "data": {
      "text/html": [
       " View run <strong style=\"color:#cdcd00\">olive-wildflower-210</strong> at: <a href='https://wandb.ai/jjkjjk23/HeLa%20EUNet/runs/ncsy6qs3' target=\"_blank\">https://wandb.ai/jjkjjk23/HeLa%20EUNet/runs/ncsy6qs3</a><br/> View job at <a href='https://wandb.ai/jjkjjk23/HeLa%20EUNet/jobs/QXJ0aWZhY3RDb2xsZWN0aW9uOjk0NDYyOTAx/version_details/v25' target=\"_blank\">https://wandb.ai/jjkjjk23/HeLa%20EUNet/jobs/QXJ0aWZhY3RDb2xsZWN0aW9uOjk0NDYyOTAx/version_details/v25</a><br/>Synced 6 W&B file(s), 6700 media file(s), 0 artifact file(s) and 0 other file(s)"
      ],
      "text/plain": [
       "<IPython.core.display.HTML object>"
      ]
     },
     "metadata": {},
     "output_type": "display_data"
    },
    {
     "data": {
      "text/html": [
       "Find logs at: <code>.\\wandb\\run-20230926_001548-ncsy6qs3\\logs</code>"
      ],
      "text/plain": [
       "<IPython.core.display.HTML object>"
      ]
     },
     "metadata": {},
     "output_type": "display_data"
    },
    {
     "data": {
      "text/html": [
       "Successfully finished last run (ID:ncsy6qs3). Initializing new run:<br/>"
      ],
      "text/plain": [
       "<IPython.core.display.HTML object>"
      ]
     },
     "metadata": {},
     "output_type": "display_data"
    },
    {
     "data": {
      "text/html": [
       "wandb version 0.15.11 is available!  To upgrade, please run:\n",
       " $ pip install wandb --upgrade"
      ],
      "text/plain": [
       "<IPython.core.display.HTML object>"
      ]
     },
     "metadata": {},
     "output_type": "display_data"
    },
    {
     "data": {
      "text/html": [
       "Tracking run with wandb version 0.15.9"
      ],
      "text/plain": [
       "<IPython.core.display.HTML object>"
      ]
     },
     "metadata": {},
     "output_type": "display_data"
    },
    {
     "data": {
      "text/html": [
       "Run data is saved locally in <code>C:\\Users\\jjkjj\\Equivariant\\EquivariantUNet\\wandb\\run-20230926_022359-82ditykl</code>"
      ],
      "text/plain": [
       "<IPython.core.display.HTML object>"
      ]
     },
     "metadata": {},
     "output_type": "display_data"
    },
    {
     "data": {
      "text/html": [
       "Syncing run <strong><a href='https://wandb.ai/jjkjjk23/HeLa%20EUNet/runs/82ditykl' target=\"_blank\">spring-shadow-211</a></strong> to <a href='https://wandb.ai/jjkjjk23/HeLa%20EUNet' target=\"_blank\">Weights & Biases</a> (<a href='https://wandb.me/run' target=\"_blank\">docs</a>)<br/>"
      ],
      "text/plain": [
       "<IPython.core.display.HTML object>"
      ]
     },
     "metadata": {},
     "output_type": "display_data"
    },
    {
     "data": {
      "text/html": [
       " View project at <a href='https://wandb.ai/jjkjjk23/HeLa%20EUNet' target=\"_blank\">https://wandb.ai/jjkjjk23/HeLa%20EUNet</a>"
      ],
      "text/plain": [
       "<IPython.core.display.HTML object>"
      ]
     },
     "metadata": {},
     "output_type": "display_data"
    },
    {
     "data": {
      "text/html": [
       " View run at <a href='https://wandb.ai/jjkjjk23/HeLa%20EUNet/runs/82ditykl' target=\"_blank\">https://wandb.ai/jjkjjk23/HeLa%20EUNet/runs/82ditykl</a>"
      ],
      "text/plain": [
       "<IPython.core.display.HTML object>"
      ]
     },
     "metadata": {},
     "output_type": "display_data"
    },
    {
     "name": "stderr",
     "output_type": "stream",
     "text": [
      "Epoch 1/100: 100%|██████████| 30/30 [00:19<00:00,  1.58img/s, Cumulative Dice=[0.8758037090301514], loss (batch)=0.742]\n",
      "Epoch 2/100: 100%|███████████| 30/30 [00:19<00:00,  1.50img/s, Cumulative Dice=[0.885552167892456], loss (batch)=0.576]\n",
      "Epoch 3/100: 100%|██████████| 30/30 [00:20<00:00,  1.47img/s, Cumulative Dice=[0.9328572154045105], loss (batch)=0.433]\n",
      "Epoch 4/100: 100%|██████████| 30/30 [00:20<00:00,  1.49img/s, Cumulative Dice=[0.9407636523246765], loss (batch)=0.346]\n",
      "Epoch 5/100: 100%|██████████| 30/30 [00:20<00:00,  1.45img/s, Cumulative Dice=[0.9426813125610352], loss (batch)=0.337]\n",
      "Epoch 6/100: 100%|███████████| 30/30 [00:20<00:00,  1.48img/s, Cumulative Dice=[0.937985360622406], loss (batch)=0.337]\n",
      "Epoch 7/100: 100%|██████████| 30/30 [00:20<00:00,  1.46img/s, Cumulative Dice=[0.9434985518455505], loss (batch)=0.286]\n",
      "Epoch 8/100: 100%|████████████| 30/30 [00:20<00:00,  1.48img/s, Cumulative Dice=[0.94794100522995], loss (batch)=0.264]\n",
      "Epoch 9/100: 100%|██████████| 30/30 [00:20<00:00,  1.46img/s, Cumulative Dice=[0.9452478289604187], loss (batch)=0.288]\n",
      "Epoch 10/100: 100%|█████████| 30/30 [00:20<00:00,  1.48img/s, Cumulative Dice=[0.9445082545280457], loss (batch)=0.254]\n",
      "Epoch 11/100: 100%|█████████| 30/30 [00:20<00:00,  1.48img/s, Cumulative Dice=[0.9512795805931091], loss (batch)=0.281]\n",
      "Epoch 12/100: 100%|█████████| 30/30 [00:20<00:00,  1.48img/s, Cumulative Dice=[0.9529217481613159], loss (batch)=0.228]\n",
      "Epoch 13/100: 100%|█████████| 30/30 [00:20<00:00,  1.47img/s, Cumulative Dice=[0.9397345781326294], loss (batch)=0.278]\n",
      "Epoch 14/100: 100%|█████████| 30/30 [00:20<00:00,  1.46img/s, Cumulative Dice=[0.9470776319503784], loss (batch)=0.297]\n",
      "Epoch 15/100: 100%|██████████| 30/30 [00:20<00:00,  1.47img/s, Cumulative Dice=[0.951494574546814], loss (batch)=0.207]\n",
      "Epoch 16/100: 100%|██████████| 30/30 [00:20<00:00,  1.48img/s, Cumulative Dice=[0.951262354850769], loss (batch)=0.221]\n",
      "Epoch 17/100: 100%|██████████| 30/30 [00:20<00:00,  1.47img/s, Cumulative Dice=[0.952269434928894], loss (batch)=0.249]\n",
      "Epoch 18/100: 100%|██████████| 30/30 [00:20<00:00,  1.47img/s, Cumulative Dice=[0.949220597743988], loss (batch)=0.279]\n",
      "Epoch 19/100: 100%|█████████| 30/30 [00:20<00:00,  1.47img/s, Cumulative Dice=[0.9530156850814819], loss (batch)=0.267]\n",
      "Epoch 20/100: 100%|█████████| 30/30 [00:20<00:00,  1.46img/s, Cumulative Dice=[0.9523239135742188], loss (batch)=0.227]\n",
      "Epoch 21/100: 100%|█████████| 30/30 [00:20<00:00,  1.49img/s, Cumulative Dice=[0.9547642469406128], loss (batch)=0.193]\n",
      "Epoch 22/100: 100%|█████████| 30/30 [00:18<00:00,  1.63img/s, Cumulative Dice=[0.9606200456619263], loss (batch)=0.172]\n",
      "Epoch 23/100: 100%|█████████| 30/30 [00:20<00:00,  1.46img/s, Cumulative Dice=[0.9527232050895691], loss (batch)=0.201]\n",
      "Epoch 24/100: 100%|█████████| 30/30 [00:20<00:00,  1.47img/s, Cumulative Dice=[0.9564287066459656], loss (batch)=0.203]\n",
      "Epoch 25/100: 100%|█████████| 30/30 [00:20<00:00,  1.47img/s, Cumulative Dice=[0.9599473476409912], loss (batch)=0.176]\n",
      "Epoch 26/100: 100%|██████████| 30/30 [00:20<00:00,  1.46img/s, Cumulative Dice=[0.9618767499923706], loss (batch)=0.18]\n",
      "Epoch 27/100: 100%|█████████| 30/30 [00:20<00:00,  1.47img/s, Cumulative Dice=[0.9620304107666016], loss (batch)=0.199]\n",
      "Epoch 28/100: 100%|█████████| 30/30 [00:20<00:00,  1.45img/s, Cumulative Dice=[0.9632143974304199], loss (batch)=0.184]\n",
      "Epoch 29/100: 100%|█████████| 30/30 [00:20<00:00,  1.46img/s, Cumulative Dice=[0.9630539417266846], loss (batch)=0.162]\n",
      "Epoch 30/100: 100%|█████████| 30/30 [00:20<00:00,  1.46img/s, Cumulative Dice=[0.9648462533950806], loss (batch)=0.179]\n",
      "Epoch 31/100: 100%|█████████| 30/30 [00:20<00:00,  1.47img/s, Cumulative Dice=[0.9633118510246277], loss (batch)=0.146]\n",
      "Epoch 32/100: 100%|██████████| 30/30 [00:20<00:00,  1.45img/s, Cumulative Dice=[0.962490975856781], loss (batch)=0.194]\n",
      "Epoch 33/100: 100%|█████████| 30/30 [00:20<00:00,  1.47img/s, Cumulative Dice=[0.9678274393081665], loss (batch)=0.151]\n",
      "Epoch 34/100: 100%|█████████| 30/30 [00:20<00:00,  1.44img/s, Cumulative Dice=[0.9663832187652588], loss (batch)=0.162]\n",
      "Epoch 35/100: 100%|█████████| 30/30 [00:20<00:00,  1.46img/s, Cumulative Dice=[0.9666206240653992], loss (batch)=0.165]\n",
      "Epoch 36/100: 100%|█████████| 30/30 [00:20<00:00,  1.47img/s, Cumulative Dice=[0.9685581922531128], loss (batch)=0.144]\n",
      "Epoch 37/100: 100%|█████████| 30/30 [00:20<00:00,  1.46img/s, Cumulative Dice=[0.9641424417495728], loss (batch)=0.177]\n",
      "Epoch 38/100: 100%|██████████| 30/30 [00:20<00:00,  1.47img/s, Cumulative Dice=[0.967100977897644], loss (batch)=0.144]\n",
      "Epoch 39/100: 100%|█████████| 30/30 [00:20<00:00,  1.48img/s, Cumulative Dice=[0.9646689891815186], loss (batch)=0.143]\n",
      "Epoch 40/100: 100%|█████████| 30/30 [00:20<00:00,  1.47img/s, Cumulative Dice=[0.9639053344726562], loss (batch)=0.177]\n",
      "Epoch 41/100: 100%|██████████| 30/30 [00:20<00:00,  1.45img/s, Cumulative Dice=[0.9672454595565796], loss (batch)=0.15]\n",
      "Epoch 42/100: 100%|█████████| 30/30 [00:20<00:00,  1.47img/s, Cumulative Dice=[0.9632894396781921], loss (batch)=0.184]\n",
      "Epoch 43/100: 100%|█████████| 30/30 [00:21<00:00,  1.43img/s, Cumulative Dice=[0.9642634391784668], loss (batch)=0.153]\n",
      "Epoch 44/100: 100%|█████████| 30/30 [00:20<00:00,  1.48img/s, Cumulative Dice=[0.9640763998031616], loss (batch)=0.158]\n",
      "Epoch 45/100: 100%|█████████| 30/30 [00:20<00:00,  1.44img/s, Cumulative Dice=[0.9637008905410767], loss (batch)=0.181]\n",
      "Epoch 46/100: 100%|██████████| 30/30 [00:20<00:00,  1.46img/s, Cumulative Dice=[0.9620637893676758], loss (batch)=0.18]\n",
      "Epoch 47/100: 100%|██████████| 30/30 [00:21<00:00,  1.42img/s, Cumulative Dice=[0.965666651725769], loss (batch)=0.157]\n",
      "Epoch 48/100: 100%|█████████| 30/30 [00:20<00:00,  1.46img/s, Cumulative Dice=[0.9617561101913452], loss (batch)=0.218]\n",
      "Epoch 49/100: 100%|█████████| 30/30 [00:21<00:00,  1.39img/s, Cumulative Dice=[0.9591470956802368], loss (batch)=0.162]\n",
      "Epoch 50/100: 100%|██████████| 30/30 [00:21<00:00,  1.42img/s, Cumulative Dice=[0.962948203086853], loss (batch)=0.157]\n",
      "Epoch 51/100: 100%|██████████| 30/30 [00:20<00:00,  1.46img/s, Cumulative Dice=[0.961450457572937], loss (batch)=0.194]\n",
      "Epoch 52/100: 100%|█████████| 30/30 [00:21<00:00,  1.41img/s, Cumulative Dice=[0.9675993323326111], loss (batch)=0.181]\n",
      "Epoch 53/100: 100%|█████████| 30/30 [00:21<00:00,  1.42img/s, Cumulative Dice=[0.9663934707641602], loss (batch)=0.188]\n",
      "Epoch 54/100: 100%|█████████| 30/30 [00:21<00:00,  1.43img/s, Cumulative Dice=[0.9671599864959717], loss (batch)=0.139]\n",
      "Epoch 55/100: 100%|█████████| 30/30 [00:20<00:00,  1.48img/s, Cumulative Dice=[0.9675436019897461], loss (batch)=0.142]\n",
      "Epoch 56/100: 100%|█████████| 30/30 [00:20<00:00,  1.47img/s, Cumulative Dice=[0.9647848010063171], loss (batch)=0.221]\n",
      "Epoch 57/100: 100%|█████████| 30/30 [00:20<00:00,  1.47img/s, Cumulative Dice=[0.9699121713638306], loss (batch)=0.134]\n",
      "Epoch 58/100: 100%|█████████| 30/30 [00:20<00:00,  1.48img/s, Cumulative Dice=[0.9685875177383423], loss (batch)=0.133]\n",
      "Epoch 59/100: 100%|█████████| 30/30 [00:20<00:00,  1.46img/s, Cumulative Dice=[0.9689545035362244], loss (batch)=0.191]\n",
      "Epoch 60/100: 100%|█████████| 30/30 [00:20<00:00,  1.47img/s, Cumulative Dice=[0.9712353944778442], loss (batch)=0.149]\n",
      "Epoch 61/100: 100%|█████████| 30/30 [00:20<00:00,  1.48img/s, Cumulative Dice=[0.9721885919570923], loss (batch)=0.126]\n",
      "Epoch 62/100: 100%|█████████| 30/30 [00:20<00:00,  1.46img/s, Cumulative Dice=[0.9720932245254517], loss (batch)=0.137]\n",
      "Epoch 63/100: 100%|█████████| 30/30 [00:21<00:00,  1.39img/s, Cumulative Dice=[0.9720179438591003], loss (batch)=0.151]\n",
      "Epoch 64/100: 100%|█████████| 30/30 [00:21<00:00,  1.37img/s, Cumulative Dice=[0.9759151935577393], loss (batch)=0.111]\n",
      "Epoch 65/100: 100%|██████████| 30/30 [00:21<00:00,  1.38img/s, Cumulative Dice=[0.9748410582542419], loss (batch)=0.11]\n",
      "Epoch 66/100: 100%|█████████| 30/30 [00:20<00:00,  1.47img/s, Cumulative Dice=[0.9770135879516602], loss (batch)=0.107]\n",
      "Epoch 67/100: 100%|█████████| 30/30 [00:20<00:00,  1.48img/s, Cumulative Dice=[0.9769200086593628], loss (batch)=0.104]\n",
      "Epoch 68/100: 100%|████████| 30/30 [00:21<00:00,  1.37img/s, Cumulative Dice=[0.9772354960441589], loss (batch)=0.0928]\n",
      "Epoch 69/100: 100%|████████| 30/30 [00:21<00:00,  1.37img/s, Cumulative Dice=[0.9788035750389099], loss (batch)=0.0888]\n",
      "Epoch 70/100: 100%|██████████| 30/30 [00:20<00:00,  1.47img/s, Cumulative Dice=[0.9770886301994324], loss (batch)=0.14]\n",
      "Epoch 71/100: 100%|█████████| 30/30 [00:20<00:00,  1.48img/s, Cumulative Dice=[0.9779695868492126], loss (batch)=0.115]\n",
      "Epoch 72/100: 100%|█████████| 30/30 [00:21<00:00,  1.37img/s, Cumulative Dice=[0.9762849807739258], loss (batch)=0.108]\n",
      "Epoch 73/100: 100%|██████████| 30/30 [00:20<00:00,  1.47img/s, Cumulative Dice=[0.9768416881561279], loss (batch)=0.15]\n",
      "Epoch 74/100: 100%|█████████| 30/30 [00:22<00:00,  1.36img/s, Cumulative Dice=[0.9785322546958923], loss (batch)=0.104]\n",
      "Epoch 75/100: 100%|█████████| 30/30 [00:20<00:00,  1.49img/s, Cumulative Dice=[0.9758433103561401], loss (batch)=0.104]\n",
      "Epoch 76/100: 100%|█████████| 30/30 [00:20<00:00,  1.47img/s, Cumulative Dice=[0.9748047590255737], loss (batch)=0.131]\n",
      "Epoch 77/100: 100%|████████| 30/30 [00:20<00:00,  1.49img/s, Cumulative Dice=[0.9777189493179321], loss (batch)=0.0967]\n",
      "Epoch 78/100: 100%|█████████| 30/30 [00:20<00:00,  1.48img/s, Cumulative Dice=[0.9770520925521851], loss (batch)=0.103]\n",
      "Epoch 79/100: 100%|█████████| 30/30 [00:20<00:00,  1.46img/s, Cumulative Dice=[0.9745243787765503], loss (batch)=0.119]\n",
      "Epoch 80/100: 100%|███████████| 30/30 [00:20<00:00,  1.49img/s, Cumulative Dice=[0.9756349921226501], loss (batch)=0.1]\n",
      "Epoch 81/100: 100%|█████████| 30/30 [00:20<00:00,  1.48img/s, Cumulative Dice=[0.9782103896141052], loss (batch)=0.112]\n",
      "Epoch 82/100: 100%|█████████| 30/30 [00:22<00:00,  1.35img/s, Cumulative Dice=[0.9755223989486694], loss (batch)=0.107]\n",
      "Epoch 83/100: 100%|█████████| 30/30 [00:20<00:00,  1.48img/s, Cumulative Dice=[0.9769148826599121], loss (batch)=0.117]\n",
      "Epoch 84/100: 100%|██████████| 30/30 [00:23<00:00,  1.30img/s, Cumulative Dice=[0.9758760333061218], loss (batch)=0.15]\n",
      "Epoch 85/100: 100%|█████████| 30/30 [00:20<00:00,  1.47img/s, Cumulative Dice=[0.9766994714736938], loss (batch)=0.112]\n",
      "Epoch 86/100: 100%|█████████| 30/30 [00:20<00:00,  1.47img/s, Cumulative Dice=[0.9745880365371704], loss (batch)=0.125]\n",
      "Epoch 87/100: 100%|██████████| 30/30 [00:22<00:00,  1.33img/s, Cumulative Dice=[0.977370023727417], loss (batch)=0.103]\n",
      "Epoch 88/100: 100%|█████████| 30/30 [00:20<00:00,  1.47img/s, Cumulative Dice=[0.9772350192070007], loss (batch)=0.117]\n",
      "Epoch 89/100: 100%|█████████| 30/30 [00:20<00:00,  1.48img/s, Cumulative Dice=[0.9794427156448364], loss (batch)=0.113]\n",
      "Epoch 90/100: 100%|████████| 30/30 [00:21<00:00,  1.41img/s, Cumulative Dice=[0.9804682731628418], loss (batch)=0.0938]\n",
      "Epoch 91/100: 100%|████████| 30/30 [00:20<00:00,  1.47img/s, Cumulative Dice=[0.9788064956665039], loss (batch)=0.0955]\n",
      "Epoch 92/100: 100%|█████████| 30/30 [00:20<00:00,  1.46img/s, Cumulative Dice=[0.9801098704338074], loss (batch)=0.103]\n",
      "Epoch 93/100: 100%|████████| 30/30 [00:23<00:00,  1.27img/s, Cumulative Dice=[0.9808270931243896], loss (batch)=0.0921]\n",
      "Epoch 94/100: 100%|████████| 30/30 [00:23<00:00,  1.30img/s, Cumulative Dice=[0.9800321459770203], loss (batch)=0.0853]\n",
      "Epoch 95/100: 100%|█████████| 30/30 [00:20<00:00,  1.46img/s, Cumulative Dice=[0.982489824295044], loss (batch)=0.0741]\n",
      "Epoch 96/100: 100%|█████████| 30/30 [00:20<00:00,  1.47img/s, Cumulative Dice=[0.9820417761802673], loss (batch)=0.107]\n",
      "Epoch 97/100: 100%|████████| 30/30 [00:23<00:00,  1.29img/s, Cumulative Dice=[0.9828321933746338], loss (batch)=0.0914]\n",
      "Epoch 98/100: 100%|███████████| 30/30 [00:23<00:00,  1.27img/s, Cumulative Dice=[0.9838907122612], loss (batch)=0.0701]\n",
      "Epoch 99/100: 100%|████████| 30/30 [00:20<00:00,  1.49img/s, Cumulative Dice=[0.9833130836486816], loss (batch)=0.0935]\n",
      "Epoch 100/100: 100%|███████| 30/30 [00:20<00:00,  1.49img/s, Cumulative Dice=[0.9852439165115356], loss (batch)=0.0837]\n",
      "                                                                                                                       \r"
     ]
    },
    {
     "data": {
      "text/html": [
       "Finishing last run (ID:82ditykl) before initializing another..."
      ],
      "text/plain": [
       "<IPython.core.display.HTML object>"
      ]
     },
     "metadata": {},
     "output_type": "display_data"
    },
    {
     "data": {
      "text/html": [
       "Waiting for W&B process to finish... <strong style=\"color:green\">(success).</strong>"
      ],
      "text/plain": [
       "<IPython.core.display.HTML object>"
      ]
     },
     "metadata": {},
     "output_type": "display_data"
    },
    {
     "data": {
      "text/html": [
       "<style>\n",
       "    table.wandb td:nth-child(1) { padding: 0 10px; text-align: left ; width: auto;} td:nth-child(2) {text-align: left ; width: 100%}\n",
       "    .wandb-row { display: flex; flex-direction: row; flex-wrap: wrap; justify-content: flex-start; width: 100% }\n",
       "    .wandb-col { display: flex; flex-direction: column; flex-basis: 100%; flex: 1; padding: 10px; }\n",
       "    </style>\n",
       "<div class=\"wandb-row\"><div class=\"wandb-col\"><h3>Run history:</h3><br/><table class=\"wandb\"><tr><td>Angle -10 Test Loss</td><td>█▄▃▃▂▁▂▃▁▁▁▃▃▃▃▃▄▃▃▃▃▄▄▄▄▅▅▅▆▅▄▄▄▅▅▆▇▆▇▆</td></tr><tr><td>Angle -20 Test Loss</td><td>█▄▃▃▂▁▂▄▁▁▂▃▃▃▄▄▄▄▃▄▃▄▄▄▄▅▅▅▆▅▅▄▅▅▅▆▇▆▇▆</td></tr><tr><td>Angle -5 Test Loss</td><td>█▄▃▂▂▁▂▃▁▁▂▃▃▃▃▃▄▃▃▃▃▃▄▄▄▅▅▅▆▅▅▄▄▅▅▆▆▆▆▆</td></tr><tr><td>Angle 0 Test Loss</td><td>█▄▂▂▁▁▂▂▁▁▂▂▂▃▃▃▃▃▃▃▃▃▄▃▄▄▅▅▆▅▄▄▄▅▅▆▆▅▆▆</td></tr><tr><td>Angle 10 Test Loss</td><td>█▄▃▃▂▁▂▃▁▁▁▃▃▃▃▃▄▃▂▃▃▃▄▃▄▅▅▅▆▅▄▄▄▅▅▆▆▆▆▆</td></tr><tr><td>Angle 20 Test Loss</td><td>█▄▃▃▂▁▂▃▁▂▁▃▃▃▄▃▄▄▃▃▃▄▄▄▄▅▅▅▆▅▅▄▄▅▅▆▇▆▇▆</td></tr><tr><td>Angle 5 Test Loss</td><td>█▄▂▂▂▁▂▃▁▁▁▂▃▃▃▃▄▃▂▃▃▃▄▃▄▅▅▅▆▅▄▄▄▅▅▆▆▆▆▆</td></tr><tr><td>Equivariance Weight</td><td>▁▁▁▁▁▁▁▁▁▁▁▁▁▁▁▁▁▁▁▁▁▁▁▁▁▁▁▁▁▁▁▁▁▁▁▁▁▁▁▁</td></tr><tr><td>Random Equivariance Error</td><td>▂▁▁▂▃▅▄▆▄▂▃▇▆▂▆▆▂▆▆▅▆█▆▅▇▅▅▆▅▂▇▇▁▆▆▂▇▇▇▆</td></tr><tr><td>Test Equivariance Error</td><td>▁▁▁▁▁▂▂▂▂▂▂▃▂▅▃▃▄▂▃▂▃▃▃▃▅▃▄▆▅█▆▅▇▅▅█▆▆▆▆</td></tr><tr><td>Time into epoch</td><td>▁▂▃▄▅▆█▁▂▄▅▆▇▁▃▃▄▆▇█▂▃▄▅▆█▁▂▄▅▆▇▁▂▄▄▆██▂</td></tr><tr><td>Total time</td><td>▁▁▁▁▂▂▂▂▂▃▃▃▃▃▃▄▄▄▄▄▅▅▅▅▅▅▆▆▆▆▆▆▇▇▇▇▇███</td></tr><tr><td>epoch</td><td>▁▁▁▂▂▂▂▂▂▃▃▃▃▃▃▄▄▄▄▄▅▅▅▅▅▅▆▆▆▆▆▇▇▇▇▇▇███</td></tr><tr><td>equivariance error</td><td>▁▃▃▃▄▃▄▄▄▄▅▅▅▅▆▆▅▅▆▅▆▅▅▆▇▇▇▇█▇▇▇▇▆▇██▇██</td></tr><tr><td>learning rate</td><td>▁▂▃▄▆▇██▆▅▄▃▂▁▂▃▄▆▇██▇▆▄▃▂▁▂▃▄▅▆██▇▆▄▃▂▁</td></tr><tr><td>step</td><td>▁▁▁▂▂▂▂▂▂▃▃▃▃▃▃▄▄▄▄▄▅▅▅▅▅▅▆▆▆▆▆▇▇▇▇▇▇███</td></tr><tr><td>train loss</td><td>█▅▄▃▃▃▃▂▂▂▃▂▂▃▂▂▂▂▂▃▂▂▂▂▁▁▁▁▁▁▁▂▁▁▁▁▁▁▁▁</td></tr><tr><td>train total loss</td><td>█▅▄▃▃▃▃▂▂▂▃▂▂▃▂▂▂▂▂▃▂▂▂▂▁▁▁▁▁▁▁▂▁▁▁▁▁▁▁▁</td></tr></table><br/></div><div class=\"wandb-col\"><h3>Run summary:</h3><br/><table class=\"wandb\"><tr><td>Angle -10 Test Loss</td><td>0.66965</td></tr><tr><td>Angle -20 Test Loss</td><td>0.70768</td></tr><tr><td>Angle -5 Test Loss</td><td>0.65037</td></tr><tr><td>Angle 0 Test Loss</td><td>0.62634</td></tr><tr><td>Angle 10 Test Loss</td><td>0.65962</td></tr><tr><td>Angle 20 Test Loss</td><td>0.70682</td></tr><tr><td>Angle 5 Test Loss</td><td>0.64362</td></tr><tr><td>Equivariance Weight</td><td>100</td></tr><tr><td>Random Equivariance Error</td><td>0.51699</td></tr><tr><td>Test Equivariance Error</td><td>0.23546</td></tr><tr><td>Time into epoch</td><td>19.19026</td></tr><tr><td>Total time</td><td>7597.79589</td></tr><tr><td>epoch</td><td>100</td></tr><tr><td>equivariance error</td><td>1.08759</td></tr><tr><td>learning rate</td><td>0.0</td></tr><tr><td>step</td><td>3000</td></tr><tr><td>train loss</td><td>0.08365</td></tr><tr><td>train total loss</td><td>0.08365</td></tr></table><br/></div></div>"
      ],
      "text/plain": [
       "<IPython.core.display.HTML object>"
      ]
     },
     "metadata": {},
     "output_type": "display_data"
    },
    {
     "data": {
      "text/html": [
       " View run <strong style=\"color:#cdcd00\">spring-shadow-211</strong> at: <a href='https://wandb.ai/jjkjjk23/HeLa%20EUNet/runs/82ditykl' target=\"_blank\">https://wandb.ai/jjkjjk23/HeLa%20EUNet/runs/82ditykl</a><br/> View job at <a href='https://wandb.ai/jjkjjk23/HeLa%20EUNet/jobs/QXJ0aWZhY3RDb2xsZWN0aW9uOjk0NDYyOTAx/version_details/v25' target=\"_blank\">https://wandb.ai/jjkjjk23/HeLa%20EUNet/jobs/QXJ0aWZhY3RDb2xsZWN0aW9uOjk0NDYyOTAx/version_details/v25</a><br/>Synced 6 W&B file(s), 6700 media file(s), 0 artifact file(s) and 0 other file(s)"
      ],
      "text/plain": [
       "<IPython.core.display.HTML object>"
      ]
     },
     "metadata": {},
     "output_type": "display_data"
    },
    {
     "data": {
      "text/html": [
       "Find logs at: <code>.\\wandb\\run-20230926_022359-82ditykl\\logs</code>"
      ],
      "text/plain": [
       "<IPython.core.display.HTML object>"
      ]
     },
     "metadata": {},
     "output_type": "display_data"
    },
    {
     "data": {
      "text/html": [
       "Successfully finished last run (ID:82ditykl). Initializing new run:<br/>"
      ],
      "text/plain": [
       "<IPython.core.display.HTML object>"
      ]
     },
     "metadata": {},
     "output_type": "display_data"
    },
    {
     "data": {
      "text/html": [
       "wandb version 0.15.11 is available!  To upgrade, please run:\n",
       " $ pip install wandb --upgrade"
      ],
      "text/plain": [
       "<IPython.core.display.HTML object>"
      ]
     },
     "metadata": {},
     "output_type": "display_data"
    },
    {
     "data": {
      "text/html": [
       "Tracking run with wandb version 0.15.9"
      ],
      "text/plain": [
       "<IPython.core.display.HTML object>"
      ]
     },
     "metadata": {},
     "output_type": "display_data"
    },
    {
     "data": {
      "text/html": [
       "Run data is saved locally in <code>C:\\Users\\jjkjj\\Equivariant\\EquivariantUNet\\wandb\\run-20230926_043200-9en4plse</code>"
      ],
      "text/plain": [
       "<IPython.core.display.HTML object>"
      ]
     },
     "metadata": {},
     "output_type": "display_data"
    },
    {
     "data": {
      "text/html": [
       "Syncing run <strong><a href='https://wandb.ai/jjkjjk23/HeLa%20EUNet/runs/9en4plse' target=\"_blank\">firm-cloud-212</a></strong> to <a href='https://wandb.ai/jjkjjk23/HeLa%20EUNet' target=\"_blank\">Weights & Biases</a> (<a href='https://wandb.me/run' target=\"_blank\">docs</a>)<br/>"
      ],
      "text/plain": [
       "<IPython.core.display.HTML object>"
      ]
     },
     "metadata": {},
     "output_type": "display_data"
    },
    {
     "data": {
      "text/html": [
       " View project at <a href='https://wandb.ai/jjkjjk23/HeLa%20EUNet' target=\"_blank\">https://wandb.ai/jjkjjk23/HeLa%20EUNet</a>"
      ],
      "text/plain": [
       "<IPython.core.display.HTML object>"
      ]
     },
     "metadata": {},
     "output_type": "display_data"
    },
    {
     "data": {
      "text/html": [
       " View run at <a href='https://wandb.ai/jjkjjk23/HeLa%20EUNet/runs/9en4plse' target=\"_blank\">https://wandb.ai/jjkjjk23/HeLa%20EUNet/runs/9en4plse</a>"
      ],
      "text/plain": [
       "<IPython.core.display.HTML object>"
      ]
     },
     "metadata": {},
     "output_type": "display_data"
    },
    {
     "name": "stderr",
     "output_type": "stream",
     "text": [
      "Epoch 1/100: 100%|██████████| 30/30 [00:18<00:00,  1.58img/s, Cumulative Dice=[0.8785585761070251], loss (batch)=0.661]\n",
      "Epoch 2/100: 100%|███████████| 30/30 [00:19<00:00,  1.50img/s, Cumulative Dice=[0.9014581441879272], loss (batch)=0.68]\n",
      "Epoch 3/100: 100%|███████████| 30/30 [00:20<00:00,  1.46img/s, Cumulative Dice=[0.926384687423706], loss (batch)=0.442]\n",
      "Epoch 4/100: 100%|██████████| 30/30 [00:20<00:00,  1.49img/s, Cumulative Dice=[0.9413245916366577], loss (batch)=0.369]\n",
      "Epoch 5/100: 100%|██████████| 30/30 [00:20<00:00,  1.47img/s, Cumulative Dice=[0.9384891986846924], loss (batch)=0.354]\n",
      "Epoch 6/100: 100%|██████████| 30/30 [00:20<00:00,  1.48img/s, Cumulative Dice=[0.9394712448120117], loss (batch)=0.336]\n",
      "Epoch 7/100: 100%|██████████| 30/30 [00:20<00:00,  1.45img/s, Cumulative Dice=[0.9485604166984558], loss (batch)=0.308]\n",
      "Epoch 8/100: 100%|██████████| 30/30 [00:20<00:00,  1.47img/s, Cumulative Dice=[0.9383193850517273], loss (batch)=0.291]\n",
      "Epoch 9/100: 100%|███████████| 30/30 [00:20<00:00,  1.48img/s, Cumulative Dice=[0.947567880153656], loss (batch)=0.302]\n",
      "Epoch 10/100: 100%|██████████| 30/30 [00:20<00:00,  1.47img/s, Cumulative Dice=[0.9381790161132812], loss (batch)=0.29]\n",
      "Epoch 11/100: 100%|█████████| 30/30 [00:20<00:00,  1.47img/s, Cumulative Dice=[0.9530280828475952], loss (batch)=0.252]\n",
      "Epoch 12/100: 100%|█████████| 30/30 [00:20<00:00,  1.49img/s, Cumulative Dice=[0.9488976001739502], loss (batch)=0.229]\n",
      "Epoch 13/100: 100%|█████████| 30/30 [00:20<00:00,  1.48img/s, Cumulative Dice=[0.9531890153884888], loss (batch)=0.247]\n",
      "Epoch 14/100: 100%|█████████| 30/30 [00:20<00:00,  1.47img/s, Cumulative Dice=[0.9510151743888855], loss (batch)=0.238]\n",
      "Epoch 15/100: 100%|█████████| 30/30 [00:20<00:00,  1.48img/s, Cumulative Dice=[0.9523409605026245], loss (batch)=0.255]\n",
      "Epoch 16/100: 100%|█████████| 30/30 [00:20<00:00,  1.46img/s, Cumulative Dice=[0.9509021043777466], loss (batch)=0.282]\n",
      "Epoch 17/100: 100%|███████████| 30/30 [00:20<00:00,  1.47img/s, Cumulative Dice=[0.9525351524353027], loss (batch)=0.2]\n",
      "Epoch 18/100: 100%|█████████| 30/30 [00:20<00:00,  1.46img/s, Cumulative Dice=[0.9559822082519531], loss (batch)=0.209]\n",
      "Epoch 19/100: 100%|█████████| 30/30 [00:20<00:00,  1.45img/s, Cumulative Dice=[0.9496012926101685], loss (batch)=0.237]\n",
      "Epoch 20/100: 100%|█████████| 30/30 [00:20<00:00,  1.48img/s, Cumulative Dice=[0.9543656706809998], loss (batch)=0.233]\n",
      "Epoch 21/100: 100%|█████████| 30/30 [00:20<00:00,  1.47img/s, Cumulative Dice=[0.9581111669540405], loss (batch)=0.211]\n",
      "Epoch 22/100: 100%|█████████| 30/30 [00:20<00:00,  1.47img/s, Cumulative Dice=[0.9602929353713989], loss (batch)=0.184]\n",
      "Epoch 23/100: 100%|██████████| 30/30 [00:20<00:00,  1.48img/s, Cumulative Dice=[0.956573486328125], loss (batch)=0.188]\n",
      "Epoch 24/100: 100%|█████████| 30/30 [00:20<00:00,  1.47img/s, Cumulative Dice=[0.9577364921569824], loss (batch)=0.206]\n",
      "Epoch 25/100: 100%|█████████| 30/30 [00:20<00:00,  1.47img/s, Cumulative Dice=[0.9613817930221558], loss (batch)=0.185]\n",
      "Epoch 26/100: 100%|█████████| 30/30 [00:20<00:00,  1.46img/s, Cumulative Dice=[0.9613645076751709], loss (batch)=0.223]\n",
      "Epoch 27/100: 100%|█████████| 30/30 [00:20<00:00,  1.47img/s, Cumulative Dice=[0.9613387584686279], loss (batch)=0.187]\n",
      "Epoch 28/100: 100%|█████████| 30/30 [00:20<00:00,  1.47img/s, Cumulative Dice=[0.9606579542160034], loss (batch)=0.185]\n",
      "Epoch 29/100: 100%|█████████| 30/30 [00:20<00:00,  1.48img/s, Cumulative Dice=[0.9599493741989136], loss (batch)=0.211]\n",
      "Epoch 30/100: 100%|█████████| 30/30 [00:20<00:00,  1.48img/s, Cumulative Dice=[0.9657194018363953], loss (batch)=0.155]\n",
      "Epoch 31/100: 100%|█████████| 30/30 [00:20<00:00,  1.48img/s, Cumulative Dice=[0.9639325141906738], loss (batch)=0.219]\n",
      "Epoch 32/100: 100%|█████████| 30/30 [00:20<00:00,  1.45img/s, Cumulative Dice=[0.9624151587486267], loss (batch)=0.182]\n",
      "Epoch 33/100: 100%|█████████| 30/30 [00:20<00:00,  1.46img/s, Cumulative Dice=[0.9637606143951416], loss (batch)=0.177]\n",
      "Epoch 34/100: 100%|█████████| 30/30 [00:20<00:00,  1.47img/s, Cumulative Dice=[0.9690209627151489], loss (batch)=0.142]\n",
      "Epoch 35/100: 100%|█████████| 30/30 [00:21<00:00,  1.42img/s, Cumulative Dice=[0.9679487943649292], loss (batch)=0.149]\n",
      "Epoch 36/100: 100%|█████████| 30/30 [00:20<00:00,  1.47img/s, Cumulative Dice=[0.9692009687423706], loss (batch)=0.173]\n",
      "Epoch 37/100: 100%|█████████| 30/30 [00:20<00:00,  1.46img/s, Cumulative Dice=[0.9653086066246033], loss (batch)=0.175]\n",
      "Epoch 38/100: 100%|█████████| 30/30 [00:20<00:00,  1.47img/s, Cumulative Dice=[0.9669855833053589], loss (batch)=0.148]\n",
      "Epoch 39/100: 100%|█████████| 30/30 [00:20<00:00,  1.46img/s, Cumulative Dice=[0.9691023826599121], loss (batch)=0.147]\n",
      "Epoch 40/100: 100%|██████████| 30/30 [00:20<00:00,  1.47img/s, Cumulative Dice=[0.963869571685791], loss (batch)=0.218]\n",
      "Epoch 41/100: 100%|█████████| 30/30 [00:21<00:00,  1.42img/s, Cumulative Dice=[0.9621450901031494], loss (batch)=0.199]\n",
      "Epoch 42/100: 100%|█████████| 30/30 [00:20<00:00,  1.47img/s, Cumulative Dice=[0.9639924764633179], loss (batch)=0.188]\n",
      "Epoch 43/100: 100%|█████████| 30/30 [00:20<00:00,  1.47img/s, Cumulative Dice=[0.9664438962936401], loss (batch)=0.157]\n",
      "Epoch 44/100: 100%|█████████| 30/30 [00:20<00:00,  1.43img/s, Cumulative Dice=[0.9661140441894531], loss (batch)=0.187]\n",
      "Epoch 45/100: 100%|██████████| 30/30 [00:20<00:00,  1.47img/s, Cumulative Dice=[0.9621540307998657], loss (batch)=0.19]\n",
      "Epoch 46/100: 100%|█████████| 30/30 [00:20<00:00,  1.43img/s, Cumulative Dice=[0.9616207480430603], loss (batch)=0.155]\n",
      "Epoch 47/100: 100%|█████████| 30/30 [00:20<00:00,  1.49img/s, Cumulative Dice=[0.9621648192405701], loss (batch)=0.151]\n",
      "Epoch 48/100: 100%|█████████| 30/30 [00:21<00:00,  1.42img/s, Cumulative Dice=[0.9612435102462769], loss (batch)=0.172]\n",
      "Epoch 49/100: 100%|█████████| 30/30 [00:21<00:00,  1.43img/s, Cumulative Dice=[0.9659797549247742], loss (batch)=0.154]\n",
      "Epoch 50/100: 100%|█████████| 30/30 [00:20<00:00,  1.48img/s, Cumulative Dice=[0.9657928347587585], loss (batch)=0.185]\n",
      "Epoch 51/100: 100%|█████████| 30/30 [00:21<00:00,  1.40img/s, Cumulative Dice=[0.9638495445251465], loss (batch)=0.166]\n",
      "Epoch 52/100: 100%|███████████| 30/30 [00:21<00:00,  1.42img/s, Cumulative Dice=[0.963309645652771], loss (batch)=0.15]\n",
      "Epoch 53/100: 100%|█████████| 30/30 [00:20<00:00,  1.44img/s, Cumulative Dice=[0.9692680239677429], loss (batch)=0.137]\n",
      "Epoch 54/100: 100%|█████████| 30/30 [00:20<00:00,  1.49img/s, Cumulative Dice=[0.9651347994804382], loss (batch)=0.192]\n",
      "Epoch 55/100: 100%|█████████| 30/30 [00:20<00:00,  1.47img/s, Cumulative Dice=[0.9652535915374756], loss (batch)=0.151]\n",
      "Epoch 56/100: 100%|█████████| 30/30 [00:20<00:00,  1.49img/s, Cumulative Dice=[0.9703117609024048], loss (batch)=0.141]\n",
      "Epoch 57/100: 100%|█████████| 30/30 [00:20<00:00,  1.48img/s, Cumulative Dice=[0.9656769037246704], loss (batch)=0.158]\n",
      "Epoch 58/100: 100%|█████████| 30/30 [00:20<00:00,  1.49img/s, Cumulative Dice=[0.9669408798217773], loss (batch)=0.171]\n",
      "Epoch 59/100: 100%|█████████| 30/30 [00:20<00:00,  1.48img/s, Cumulative Dice=[0.9651565551757812], loss (batch)=0.199]\n",
      "Epoch 60/100: 100%|█████████| 30/30 [00:20<00:00,  1.48img/s, Cumulative Dice=[0.9697803258895874], loss (batch)=0.133]\n",
      "Epoch 61/100: 100%|█████████| 30/30 [00:20<00:00,  1.47img/s, Cumulative Dice=[0.9708365201950073], loss (batch)=0.126]\n",
      "Epoch 62/100: 100%|█████████| 30/30 [00:20<00:00,  1.49img/s, Cumulative Dice=[0.9738162755966187], loss (batch)=0.115]\n",
      "Epoch 63/100: 100%|█████████| 30/30 [00:20<00:00,  1.48img/s, Cumulative Dice=[0.9724148511886597], loss (batch)=0.114]\n",
      "Epoch 64/100: 100%|█████████| 30/30 [00:21<00:00,  1.42img/s, Cumulative Dice=[0.9742640256881714], loss (batch)=0.147]\n",
      "Epoch 65/100: 100%|██████████| 30/30 [00:21<00:00,  1.42img/s, Cumulative Dice=[0.972150444984436], loss (batch)=0.138]\n",
      "Epoch 66/100: 100%|████████| 30/30 [00:20<00:00,  1.49img/s, Cumulative Dice=[0.9759100675582886], loss (batch)=0.0973]\n",
      "Epoch 67/100: 100%|█████████| 30/30 [00:20<00:00,  1.49img/s, Cumulative Dice=[0.9771668314933777], loss (batch)=0.108]\n",
      "Epoch 68/100: 100%|█████████| 30/30 [00:20<00:00,  1.43img/s, Cumulative Dice=[0.9794387817382812], loss (batch)=0.105]\n",
      "Epoch 69/100: 100%|█████████| 30/30 [00:22<00:00,  1.36img/s, Cumulative Dice=[0.9750751256942749], loss (batch)=0.102]\n",
      "Epoch 70/100: 100%|█████████| 30/30 [00:20<00:00,  1.49img/s, Cumulative Dice=[0.9778398275375366], loss (batch)=0.102]\n",
      "Epoch 71/100: 100%|█████████| 30/30 [00:20<00:00,  1.49img/s, Cumulative Dice=[0.9760205745697021], loss (batch)=0.103]\n",
      "Epoch 72/100: 100%|█████████| 30/30 [00:21<00:00,  1.39img/s, Cumulative Dice=[0.9757010340690613], loss (batch)=0.114]\n",
      "Epoch 73/100: 100%|█████████| 30/30 [00:20<00:00,  1.47img/s, Cumulative Dice=[0.9766364097595215], loss (batch)=0.113]\n",
      "Epoch 74/100: 100%|████████| 30/30 [00:21<00:00,  1.37img/s, Cumulative Dice=[0.9781947135925293], loss (batch)=0.0979]\n",
      "Epoch 75/100: 100%|█████████| 30/30 [00:20<00:00,  1.48img/s, Cumulative Dice=[0.9767221212387085], loss (batch)=0.103]\n",
      "Epoch 76/100: 100%|█████████| 30/30 [00:22<00:00,  1.34img/s, Cumulative Dice=[0.9768924713134766], loss (batch)=0.119]\n",
      "Epoch 77/100: 100%|█████████| 30/30 [00:20<00:00,  1.49img/s, Cumulative Dice=[0.9767816066741943], loss (batch)=0.123]\n",
      "Epoch 78/100: 100%|█████████| 30/30 [00:20<00:00,  1.47img/s, Cumulative Dice=[0.9738119840621948], loss (batch)=0.102]\n",
      "Epoch 79/100: 100%|█████████| 30/30 [00:20<00:00,  1.50img/s, Cumulative Dice=[0.9771382808685303], loss (batch)=0.119]\n",
      "Epoch 80/100: 100%|█████████| 30/30 [00:20<00:00,  1.49img/s, Cumulative Dice=[0.9781979322433472], loss (batch)=0.128]\n",
      "Epoch 81/100: 100%|████████| 30/30 [00:20<00:00,  1.48img/s, Cumulative Dice=[0.9771186113357544], loss (batch)=0.0988]\n",
      "Epoch 82/100: 100%|████████| 30/30 [00:22<00:00,  1.35img/s, Cumulative Dice=[0.9752995371818542], loss (batch)=0.0974]\n",
      "Epoch 83/100: 100%|████████| 30/30 [00:20<00:00,  1.49img/s, Cumulative Dice=[0.9786951541900635], loss (batch)=0.0926]\n",
      "Epoch 84/100: 100%|█████████| 30/30 [00:22<00:00,  1.33img/s, Cumulative Dice=[0.9746667146682739], loss (batch)=0.138]\n",
      "Epoch 85/100: 100%|█████████| 30/30 [00:20<00:00,  1.47img/s, Cumulative Dice=[0.9760771989822388], loss (batch)=0.114]\n",
      "Epoch 86/100: 100%|██████████| 30/30 [00:20<00:00,  1.48img/s, Cumulative Dice=[0.975646436214447], loss (batch)=0.106]\n",
      "Epoch 87/100: 100%|█████████| 30/30 [00:23<00:00,  1.30img/s, Cumulative Dice=[0.9751981496810913], loss (batch)=0.129]\n",
      "Epoch 88/100: 100%|█████████| 30/30 [00:20<00:00,  1.48img/s, Cumulative Dice=[0.9768497347831726], loss (batch)=0.121]\n",
      "Epoch 89/100: 100%|█████████| 30/30 [00:23<00:00,  1.27img/s, Cumulative Dice=[0.9769763946533203], loss (batch)=0.122]\n",
      "Epoch 90/100: 100%|█████████| 30/30 [00:22<00:00,  1.36img/s, Cumulative Dice=[0.9779314994812012], loss (batch)=0.107]\n",
      "Epoch 91/100: 100%|████████| 30/30 [00:20<00:00,  1.47img/s, Cumulative Dice=[0.9817916750907898], loss (batch)=0.0953]\n",
      "Epoch 92/100: 100%|█████████| 30/30 [00:20<00:00,  1.48img/s, Cumulative Dice=[0.9805299043655396], loss (batch)=0.089]\n",
      "Epoch 93/100: 100%|████████| 30/30 [00:23<00:00,  1.29img/s, Cumulative Dice=[0.9811686873435974], loss (batch)=0.0965]\n",
      "Epoch 94/100: 100%|████████| 30/30 [00:20<00:00,  1.49img/s, Cumulative Dice=[0.9815046191215515], loss (batch)=0.0974]\n",
      "Epoch 95/100: 100%|████████| 30/30 [00:20<00:00,  1.49img/s, Cumulative Dice=[0.9815134406089783], loss (batch)=0.0743]\n",
      "Epoch 96/100: 100%|█████████| 30/30 [00:20<00:00,  1.49img/s, Cumulative Dice=[0.9816848039627075], loss (batch)=0.104]\n",
      "Epoch 97/100: 100%|████████| 30/30 [00:22<00:00,  1.34img/s, Cumulative Dice=[0.9823927879333496], loss (batch)=0.0707]\n",
      "Epoch 98/100: 100%|████████| 30/30 [00:20<00:00,  1.50img/s, Cumulative Dice=[0.9831918478012085], loss (batch)=0.0691]\n",
      "Epoch 99/100: 100%|████████| 30/30 [00:20<00:00,  1.50img/s, Cumulative Dice=[0.9842032790184021], loss (batch)=0.0806]\n",
      "Epoch 100/100: 100%|███████| 30/30 [00:19<00:00,  1.50img/s, Cumulative Dice=[0.9856855869293213], loss (batch)=0.0872]\n",
      "                                                                                                                       \r"
     ]
    },
    {
     "data": {
      "text/html": [
       "Finishing last run (ID:9en4plse) before initializing another..."
      ],
      "text/plain": [
       "<IPython.core.display.HTML object>"
      ]
     },
     "metadata": {},
     "output_type": "display_data"
    },
    {
     "data": {
      "text/html": [
       "Waiting for W&B process to finish... <strong style=\"color:green\">(success).</strong>"
      ],
      "text/plain": [
       "<IPython.core.display.HTML object>"
      ]
     },
     "metadata": {},
     "output_type": "display_data"
    },
    {
     "data": {
      "text/html": [
       "<style>\n",
       "    table.wandb td:nth-child(1) { padding: 0 10px; text-align: left ; width: auto;} td:nth-child(2) {text-align: left ; width: 100%}\n",
       "    .wandb-row { display: flex; flex-direction: row; flex-wrap: wrap; justify-content: flex-start; width: 100% }\n",
       "    .wandb-col { display: flex; flex-direction: column; flex-basis: 100%; flex: 1; padding: 10px; }\n",
       "    </style>\n",
       "<div class=\"wandb-row\"><div class=\"wandb-col\"><h3>Run history:</h3><br/><table class=\"wandb\"><tr><td>Angle -10 Test Loss</td><td>█▄▂▁▂▁▂▁▁▂▂▂▂▂▃▃▂▂▃▂▃▂▃▄▃▄▅▅▄▅▄▅▅▅▅▅▅▅▆▆</td></tr><tr><td>Angle -20 Test Loss</td><td>█▅▂▁▂▂▂▂▁▂▃▂▂▃▃▃▂▃▄▂▃▃▃▄▃▅▅▅▄▅▄▅▅▅▆▆▅▅▆▆</td></tr><tr><td>Angle -5 Test Loss</td><td>█▄▂▁▁▁▂▁▁▂▂▂▂▂▃▃▂▂▃▂▃▂▃▄▃▄▅▅▄▅▄▅▅▅▅▅▅▅▆▆</td></tr><tr><td>Angle 0 Test Loss</td><td>█▄▂▂▁▁▂▁▁▂▂▂▂▂▂▂▂▂▃▂▂▂▃▃▃▄▄▅▄▅▄▅▄▄▅▅▅▅▅▆</td></tr><tr><td>Angle 10 Test Loss</td><td>█▄▂▁▂▁▂▁▁▂▂▂▂▂▃▃▂▂▃▂▂▂▃▃▃▄▄▅▄▅▄▅▅▄▅▅▅▅▅▆</td></tr><tr><td>Angle 20 Test Loss</td><td>█▄▂▁▂▁▂▂▁▂▃▂▂▃▃▃▂▃▃▂▃▂▃▄▃▄▅▅▄▅▄▅▅▅▅▅▅▅▆▆</td></tr><tr><td>Angle 5 Test Loss</td><td>█▄▂▁▁▁▂▁▁▂▂▂▂▂▃▂▂▂▃▂▂▂▃▄▃▄▄▅▄▅▄▅▅▄▅▅▅▅▆▆</td></tr><tr><td>Equivariance Weight</td><td>▁▁▁▁▁▁▁▁▁▁▁▁▁▁▁▁▁▁▁▁▁▁▁▁▁▁▁▁▁▁▁▁▁▁▁▁▁▁▁▁</td></tr><tr><td>Random Equivariance Error</td><td>▂▁▁▁▁▂▁▁▃▁▂▆▂▁▃▃▁▃▅▅▅▃▄▅█▂▄▇▆▁█▇▂▅▇▂▄▆▅▆</td></tr><tr><td>Test Equivariance Error</td><td>▁▂▁▁▁▂▁▁▂▂▂▃▂▅▂▂▅▂▂▃▂▃▃▃▄▃▄▄▄▇▅▄▆▄▅█▅▅▄▅</td></tr><tr><td>Time into epoch</td><td>▁▂▃▄▅▆█▁▃▄▅▆▇▁▃▃▄▆▇█▂▃▄▅▆▇▁▂▄▅▇▇▁▂▄▄▅▇█▂</td></tr><tr><td>Total time</td><td>▁▁▁▁▂▂▂▂▂▃▃▃▃▃▃▄▄▄▄▄▅▅▅▅▅▅▆▆▆▆▆▆▇▇▇▇▇███</td></tr><tr><td>epoch</td><td>▁▁▁▂▂▂▂▂▂▃▃▃▃▃▃▄▄▄▄▄▅▅▅▅▅▅▆▆▆▆▆▇▇▇▇▇▇███</td></tr><tr><td>equivariance error</td><td>▃▄▄▄▄▄▅▅▅▆▅▅▆▆▇▆▆▆▅▆▆▆▆▇▇▇▇▁▇▇▇█▇▇▇█▇███</td></tr><tr><td>learning rate</td><td>▁▂▃▄▆▇██▆▅▄▃▂▁▂▃▄▆▇██▇▆▄▃▂▁▂▃▄▅▆██▇▆▄▃▂▁</td></tr><tr><td>step</td><td>▁▁▁▂▂▂▂▂▂▃▃▃▃▃▃▄▄▄▄▄▅▅▅▅▅▅▆▆▆▆▆▇▇▇▇▇▇███</td></tr><tr><td>train loss</td><td>█▆▄▄▄▃▄▃▃▃▂▄▂▃▃▂▂▃▂▂▂▂▂▂▂▂▂▂▂▁▂▂▁▂▂▁▁▁▂▁</td></tr><tr><td>train total loss</td><td>█▆▄▄▄▃▄▃▃▃▂▄▂▃▃▂▂▃▂▂▂▂▂▂▂▂▂▂▂▁▂▂▁▂▂▁▁▁▂▁</td></tr></table><br/></div><div class=\"wandb-col\"><h3>Run summary:</h3><br/><table class=\"wandb\"><tr><td>Angle -10 Test Loss</td><td>0.67217</td></tr><tr><td>Angle -20 Test Loss</td><td>0.71573</td></tr><tr><td>Angle -5 Test Loss</td><td>0.65988</td></tr><tr><td>Angle 0 Test Loss</td><td>0.6401</td></tr><tr><td>Angle 10 Test Loss</td><td>0.66734</td></tr><tr><td>Angle 20 Test Loss</td><td>0.70889</td></tr><tr><td>Angle 5 Test Loss</td><td>0.65475</td></tr><tr><td>Equivariance Weight</td><td>100</td></tr><tr><td>Random Equivariance Error</td><td>0.57162</td></tr><tr><td>Test Equivariance Error</td><td>0.21504</td></tr><tr><td>Time into epoch</td><td>18.97608</td></tr><tr><td>Total time</td><td>7586.58682</td></tr><tr><td>epoch</td><td>100</td></tr><tr><td>equivariance error</td><td>1.15914</td></tr><tr><td>learning rate</td><td>0.0</td></tr><tr><td>step</td><td>3000</td></tr><tr><td>train loss</td><td>0.08717</td></tr><tr><td>train total loss</td><td>0.08717</td></tr></table><br/></div></div>"
      ],
      "text/plain": [
       "<IPython.core.display.HTML object>"
      ]
     },
     "metadata": {},
     "output_type": "display_data"
    },
    {
     "data": {
      "text/html": [
       " View run <strong style=\"color:#cdcd00\">firm-cloud-212</strong> at: <a href='https://wandb.ai/jjkjjk23/HeLa%20EUNet/runs/9en4plse' target=\"_blank\">https://wandb.ai/jjkjjk23/HeLa%20EUNet/runs/9en4plse</a><br/> View job at <a href='https://wandb.ai/jjkjjk23/HeLa%20EUNet/jobs/QXJ0aWZhY3RDb2xsZWN0aW9uOjk0NDYyOTAx/version_details/v25' target=\"_blank\">https://wandb.ai/jjkjjk23/HeLa%20EUNet/jobs/QXJ0aWZhY3RDb2xsZWN0aW9uOjk0NDYyOTAx/version_details/v25</a><br/>Synced 6 W&B file(s), 6700 media file(s), 0 artifact file(s) and 0 other file(s)"
      ],
      "text/plain": [
       "<IPython.core.display.HTML object>"
      ]
     },
     "metadata": {},
     "output_type": "display_data"
    },
    {
     "data": {
      "text/html": [
       "Find logs at: <code>.\\wandb\\run-20230926_043200-9en4plse\\logs</code>"
      ],
      "text/plain": [
       "<IPython.core.display.HTML object>"
      ]
     },
     "metadata": {},
     "output_type": "display_data"
    },
    {
     "data": {
      "text/html": [
       "Successfully finished last run (ID:9en4plse). Initializing new run:<br/>"
      ],
      "text/plain": [
       "<IPython.core.display.HTML object>"
      ]
     },
     "metadata": {},
     "output_type": "display_data"
    },
    {
     "data": {
      "text/html": [
       "wandb version 0.15.11 is available!  To upgrade, please run:\n",
       " $ pip install wandb --upgrade"
      ],
      "text/plain": [
       "<IPython.core.display.HTML object>"
      ]
     },
     "metadata": {},
     "output_type": "display_data"
    },
    {
     "data": {
      "text/html": [
       "Tracking run with wandb version 0.15.9"
      ],
      "text/plain": [
       "<IPython.core.display.HTML object>"
      ]
     },
     "metadata": {},
     "output_type": "display_data"
    },
    {
     "data": {
      "text/html": [
       "Run data is saved locally in <code>C:\\Users\\jjkjj\\Equivariant\\EquivariantUNet\\wandb\\run-20230926_063945-wnpfzwi0</code>"
      ],
      "text/plain": [
       "<IPython.core.display.HTML object>"
      ]
     },
     "metadata": {},
     "output_type": "display_data"
    },
    {
     "data": {
      "text/html": [
       "Syncing run <strong><a href='https://wandb.ai/jjkjjk23/HeLa%20EUNet/runs/wnpfzwi0' target=\"_blank\">deft-terrain-213</a></strong> to <a href='https://wandb.ai/jjkjjk23/HeLa%20EUNet' target=\"_blank\">Weights & Biases</a> (<a href='https://wandb.me/run' target=\"_blank\">docs</a>)<br/>"
      ],
      "text/plain": [
       "<IPython.core.display.HTML object>"
      ]
     },
     "metadata": {},
     "output_type": "display_data"
    },
    {
     "data": {
      "text/html": [
       " View project at <a href='https://wandb.ai/jjkjjk23/HeLa%20EUNet' target=\"_blank\">https://wandb.ai/jjkjjk23/HeLa%20EUNet</a>"
      ],
      "text/plain": [
       "<IPython.core.display.HTML object>"
      ]
     },
     "metadata": {},
     "output_type": "display_data"
    },
    {
     "data": {
      "text/html": [
       " View run at <a href='https://wandb.ai/jjkjjk23/HeLa%20EUNet/runs/wnpfzwi0' target=\"_blank\">https://wandb.ai/jjkjjk23/HeLa%20EUNet/runs/wnpfzwi0</a>"
      ],
      "text/plain": [
       "<IPython.core.display.HTML object>"
      ]
     },
     "metadata": {},
     "output_type": "display_data"
    },
    {
     "name": "stderr",
     "output_type": "stream",
     "text": [
      "Epoch 1/100: 100%|██████████| 30/30 [00:18<00:00,  1.59img/s, Cumulative Dice=[0.8738383054733276], loss (batch)=0.684]\n",
      "Epoch 2/100: 100%|██████████| 30/30 [00:19<00:00,  1.52img/s, Cumulative Dice=[0.9070534110069275], loss (batch)=0.586]\n",
      "Epoch 3/100: 100%|██████████| 30/30 [00:20<00:00,  1.48img/s, Cumulative Dice=[0.9309066534042358], loss (batch)=0.419]\n",
      "Epoch 4/100: 100%|██████████| 30/30 [00:20<00:00,  1.49img/s, Cumulative Dice=[0.9371166229248047], loss (batch)=0.397]\n",
      "Epoch 5/100: 100%|██████████| 30/30 [00:20<00:00,  1.47img/s, Cumulative Dice=[0.9393486380577087], loss (batch)=0.343]\n",
      "Epoch 6/100: 100%|████████████| 30/30 [00:20<00:00,  1.49img/s, Cumulative Dice=[0.9431242942810059], loss (batch)=0.3]\n",
      "Testing round, angle = -20:  20%|██████████▍                                         | 6/30 [00:01<00:06,  3.84batch/s]"
     ]
    }
   ],
   "source": [
    "for j in range(10):\n",
    "    model = UNet(args['in_channels'], args['classes'], **args2).to(device=device)\n",
    "    model = model.to(memory_format=torch.channels_last)\n",
    "    train_loader = config_data(HeLa=True, Oxford=False, **args2)\n",
    "    train_model(model, device, train_loader, **args2)"
   ]
  },
  {
   "cell_type": "code",
   "execution_count": null,
   "id": "f31528a4",
   "metadata": {},
   "outputs": [
    {
     "name": "stderr",
     "output_type": "stream",
     "text": [
      "\u001b[34m\u001b[1mwandb\u001b[0m: Currently logged in as: \u001b[33mjjkjjk23\u001b[0m. Use \u001b[1m`wandb login --relogin`\u001b[0m to force relogin\n"
     ]
    },
    {
     "data": {
      "text/html": [
       "wandb version 0.15.11 is available!  To upgrade, please run:\n",
       " $ pip install wandb --upgrade"
      ],
      "text/plain": [
       "<IPython.core.display.HTML object>"
      ]
     },
     "metadata": {},
     "output_type": "display_data"
    },
    {
     "data": {
      "text/html": [
       "Tracking run with wandb version 0.15.9"
      ],
      "text/plain": [
       "<IPython.core.display.HTML object>"
      ]
     },
     "metadata": {},
     "output_type": "display_data"
    },
    {
     "data": {
      "text/html": [
       "Run data is saved locally in <code>C:\\Users\\jjkjj\\Equivariant\\EquivariantUNet\\wandb\\run-20230929_062359-t2r1rpqm</code>"
      ],
      "text/plain": [
       "<IPython.core.display.HTML object>"
      ]
     },
     "metadata": {},
     "output_type": "display_data"
    },
    {
     "data": {
      "text/html": [
       "Syncing run <strong><a href='https://wandb.ai/jjkjjk23/HeLa%20EUNet/runs/t2r1rpqm' target=\"_blank\">peachy-glade-227</a></strong> to <a href='https://wandb.ai/jjkjjk23/HeLa%20EUNet' target=\"_blank\">Weights & Biases</a> (<a href='https://wandb.me/run' target=\"_blank\">docs</a>)<br/>"
      ],
      "text/plain": [
       "<IPython.core.display.HTML object>"
      ]
     },
     "metadata": {},
     "output_type": "display_data"
    },
    {
     "data": {
      "text/html": [
       " View project at <a href='https://wandb.ai/jjkjjk23/HeLa%20EUNet' target=\"_blank\">https://wandb.ai/jjkjjk23/HeLa%20EUNet</a>"
      ],
      "text/plain": [
       "<IPython.core.display.HTML object>"
      ]
     },
     "metadata": {},
     "output_type": "display_data"
    },
    {
     "data": {
      "text/html": [
       " View run at <a href='https://wandb.ai/jjkjjk23/HeLa%20EUNet/runs/t2r1rpqm' target=\"_blank\">https://wandb.ai/jjkjjk23/HeLa%20EUNet/runs/t2r1rpqm</a>"
      ],
      "text/plain": [
       "<IPython.core.display.HTML object>"
      ]
     },
     "metadata": {},
     "output_type": "display_data"
    },
    {
     "name": "stderr",
     "output_type": "stream",
     "text": [
      "Epoch 1/50:   0%|                                                                              | 0/30 [00:00<?, ?img/s]C:\\Users\\jjkjj\\anaconda3\\envs\\equivariant\\Lib\\site-packages\\torch\\optim\\lr_scheduler.py:139: UserWarning: Detected call of `lr_scheduler.step()` before `optimizer.step()`. In PyTorch 1.1.0 and later, you should call them in the opposite order: `optimizer.step()` before `lr_scheduler.step()`.  Failure to do this will result in PyTorch skipping the first value of the learning rate schedule. See more details at https://pytorch.org/docs/stable/optim.html#how-to-adjust-learning-rate\n",
      "  warnings.warn(\"Detected call of `lr_scheduler.step()` before `optimizer.step()`. \"\n",
      "Epoch 1/50: 100%|████████████| 30/30 [00:49<00:00,  1.65s/img, Cumulative Dice=[0.7585556507110596], loss (batch)=1.95]\n",
      "Epoch 2/50: 100%|████████████| 30/30 [00:51<00:00,  1.71s/img, Cumulative Dice=[0.8912205696105957], loss (batch)=1.17]\n",
      "Epoch 3/50: 100%|███████████| 30/30 [00:51<00:00,  1.72s/img, Cumulative Dice=[0.9097835421562195], loss (batch)=0.781]\n",
      "Epoch 4/50: 100%|███████████| 30/30 [00:51<00:00,  1.72s/img, Cumulative Dice=[0.9316715002059937], loss (batch)=0.614]\n",
      "Epoch 5/50: 100%|███████████| 30/30 [00:51<00:00,  1.72s/img, Cumulative Dice=[0.9398154020309448], loss (batch)=0.495]\n",
      "Epoch 6/50: 100%|████████████| 30/30 [00:52<00:00,  1.74s/img, Cumulative Dice=[0.938301682472229], loss (batch)=0.474]\n",
      "Epoch 7/50: 100%|███████████| 30/30 [00:52<00:00,  1.74s/img, Cumulative Dice=[0.9422001838684082], loss (batch)=0.392]\n",
      "Epoch 8/50: 100%|███████████| 30/30 [00:51<00:00,  1.73s/img, Cumulative Dice=[0.9475051164627075], loss (batch)=0.327]\n",
      "Epoch 9/50: 100%|████████████| 30/30 [00:52<00:00,  1.74s/img, Cumulative Dice=[0.9486203193664551], loss (batch)=0.34]\n",
      "Epoch 10/50: 100%|██████████| 30/30 [00:52<00:00,  1.73s/img, Cumulative Dice=[0.9417111277580261], loss (batch)=0.327]\n",
      "Epoch 11/50: 100%|████████████| 30/30 [00:51<00:00,  1.73s/img, Cumulative Dice=[0.9501737952232361], loss (batch)=0.3]\n",
      "Epoch 12/50: 100%|██████████| 30/30 [00:51<00:00,  1.72s/img, Cumulative Dice=[0.9492875933647156], loss (batch)=0.305]\n",
      "Epoch 13/50: 100%|██████████| 30/30 [00:51<00:00,  1.72s/img, Cumulative Dice=[0.9455038905143738], loss (batch)=0.276]\n",
      "Epoch 14/50: 100%|██████████| 30/30 [00:51<00:00,  1.72s/img, Cumulative Dice=[0.9449971914291382], loss (batch)=0.266]\n",
      "Epoch 15/50: 100%|████████████| 30/30 [00:51<00:00,  1.72s/img, Cumulative Dice=[0.942396342754364], loss (batch)=0.29]\n",
      "Epoch 16/50: 100%|██████████| 30/30 [00:51<00:00,  1.71s/img, Cumulative Dice=[0.9548823237419128], loss (batch)=0.242]\n",
      "Epoch 17/50: 100%|██████████| 30/30 [00:51<00:00,  1.71s/img, Cumulative Dice=[0.9547282457351685], loss (batch)=0.287]\n",
      "Epoch 18/50: 100%|██████████| 30/30 [00:51<00:00,  1.71s/img, Cumulative Dice=[0.9435263872146606], loss (batch)=0.355]\n",
      "Epoch 19/50: 100%|███████████| 30/30 [00:51<00:00,  1.73s/img, Cumulative Dice=[0.953244149684906], loss (batch)=0.229]\n",
      "Epoch 20/50: 100%|██████████| 30/30 [00:51<00:00,  1.71s/img, Cumulative Dice=[0.9543263912200928], loss (batch)=0.233]\n",
      "Epoch 21/50: 100%|██████████| 30/30 [00:51<00:00,  1.71s/img, Cumulative Dice=[0.9550278186798096], loss (batch)=0.227]\n",
      "Epoch 22/50: 100%|██████████| 30/30 [00:51<00:00,  1.72s/img, Cumulative Dice=[0.9537684917449951], loss (batch)=0.201]\n",
      "Epoch 23/50: 100%|██████████| 30/30 [00:52<00:00,  1.74s/img, Cumulative Dice=[0.9580390453338623], loss (batch)=0.229]\n",
      "Epoch 24/50: 100%|██████████| 30/30 [00:51<00:00,  1.72s/img, Cumulative Dice=[0.9608339071273804], loss (batch)=0.183]\n",
      "Epoch 25/50: 100%|██████████| 30/30 [00:51<00:00,  1.73s/img, Cumulative Dice=[0.9579464197158813], loss (batch)=0.193]\n",
      "Epoch 26/50: 100%|██████████| 30/30 [00:51<00:00,  1.72s/img, Cumulative Dice=[0.9582957625389099], loss (batch)=0.185]\n",
      "Epoch 27/50: 100%|██████████| 30/30 [00:51<00:00,  1.72s/img, Cumulative Dice=[0.9591225981712341], loss (batch)=0.204]\n",
      "Epoch 28/50: 100%|██████████| 30/30 [00:52<00:00,  1.73s/img, Cumulative Dice=[0.9577202796936035], loss (batch)=0.281]\n",
      "Epoch 29/50: 100%|██████████| 30/30 [00:51<00:00,  1.72s/img, Cumulative Dice=[0.9608666300773621], loss (batch)=0.211]\n",
      "Epoch 30/50: 100%|███████████| 30/30 [00:51<00:00,  1.71s/img, Cumulative Dice=[0.959589421749115], loss (batch)=0.169]\n",
      "Epoch 31/50: 100%|██████████| 30/30 [00:51<00:00,  1.72s/img, Cumulative Dice=[0.9597606062889099], loss (batch)=0.195]\n",
      "Epoch 32/50: 100%|██████████| 30/30 [00:51<00:00,  1.71s/img, Cumulative Dice=[0.9671423435211182], loss (batch)=0.148]\n",
      "Epoch 33/50: 100%|██████████| 30/30 [00:51<00:00,  1.73s/img, Cumulative Dice=[0.9652189612388611], loss (batch)=0.195]\n",
      "Epoch 34/50: 100%|██████████| 30/30 [00:51<00:00,  1.73s/img, Cumulative Dice=[0.9651216864585876], loss (batch)=0.171]\n",
      "Epoch 35/50: 100%|██████████| 30/30 [00:51<00:00,  1.73s/img, Cumulative Dice=[0.9657174944877625], loss (batch)=0.157]\n",
      "Epoch 36/50: 100%|███████████| 30/30 [00:51<00:00,  1.72s/img, Cumulative Dice=[0.964593768119812], loss (batch)=0.205]\n",
      "Epoch 37/50: 100%|██████████| 30/30 [00:51<00:00,  1.72s/img, Cumulative Dice=[0.9645532965660095], loss (batch)=0.174]\n",
      "Epoch 38/50: 100%|██████████| 30/30 [00:51<00:00,  1.73s/img, Cumulative Dice=[0.9614779949188232], loss (batch)=0.161]\n",
      "Epoch 39/50: 100%|████████████| 30/30 [00:51<00:00,  1.71s/img, Cumulative Dice=[0.961475133895874], loss (batch)=0.17]\n",
      "Epoch 40/50: 100%|██████████| 30/30 [00:51<00:00,  1.72s/img, Cumulative Dice=[0.9634710550308228], loss (batch)=0.164]\n",
      "Epoch 41/50: 100%|███████████| 30/30 [00:51<00:00,  1.72s/img, Cumulative Dice=[0.961275041103363], loss (batch)=0.167]\n",
      "Epoch 42/50: 100%|██████████| 30/30 [00:51<00:00,  1.71s/img, Cumulative Dice=[0.9632028341293335], loss (batch)=0.163]\n",
      "Epoch 43/50: 100%|██████████| 30/30 [00:51<00:00,  1.72s/img, Cumulative Dice=[0.9633508920669556], loss (batch)=0.187]\n",
      "Epoch 44/50: 100%|██████████| 30/30 [00:51<00:00,  1.71s/img, Cumulative Dice=[0.9618340730667114], loss (batch)=0.196]\n",
      "Epoch 45/50: 100%|██████████| 30/30 [00:51<00:00,  1.72s/img, Cumulative Dice=[0.9648337364196777], loss (batch)=0.191]\n",
      "Epoch 46/50: 100%|██████████| 30/30 [00:51<00:00,  1.71s/img, Cumulative Dice=[0.9651236534118652], loss (batch)=0.185]\n",
      "Epoch 47/50: 100%|██████████| 30/30 [00:51<00:00,  1.71s/img, Cumulative Dice=[0.9569464921951294], loss (batch)=0.172]\n",
      "Epoch 48/50: 100%|██████████| 30/30 [00:51<00:00,  1.72s/img, Cumulative Dice=[0.9601825475692749], loss (batch)=0.197]\n",
      "Epoch 49/50: 100%|██████████| 30/30 [00:52<00:00,  1.74s/img, Cumulative Dice=[0.9628612995147705], loss (batch)=0.163]\n",
      "Epoch 50/50: 100%|██████████| 30/30 [00:51<00:00,  1.71s/img, Cumulative Dice=[0.9619008898735046], loss (batch)=0.173]\n",
      "                                                                                                                       \r"
     ]
    },
    {
     "data": {
      "text/html": [
       "Finishing last run (ID:t2r1rpqm) before initializing another..."
      ],
      "text/plain": [
       "<IPython.core.display.HTML object>"
      ]
     },
     "metadata": {},
     "output_type": "display_data"
    },
    {
     "data": {
      "text/html": [
       "Waiting for W&B process to finish... <strong style=\"color:green\">(success).</strong>"
      ],
      "text/plain": [
       "<IPython.core.display.HTML object>"
      ]
     },
     "metadata": {},
     "output_type": "display_data"
    },
    {
     "data": {
      "text/html": [
       "<style>\n",
       "    table.wandb td:nth-child(1) { padding: 0 10px; text-align: left ; width: auto;} td:nth-child(2) {text-align: left ; width: 100%}\n",
       "    .wandb-row { display: flex; flex-direction: row; flex-wrap: wrap; justify-content: flex-start; width: 100% }\n",
       "    .wandb-col { display: flex; flex-direction: column; flex-basis: 100%; flex: 1; padding: 10px; }\n",
       "    </style>\n",
       "<div class=\"wandb-row\"><div class=\"wandb-col\"><h3>Run history:</h3><br/><table class=\"wandb\"><tr><td>Angle -10 Test Loss</td><td>█▆▄▃▂▁▁▂▂▂▁▁▂▂▁▁▂▂▁▂▁▂▂▂▂▂▂▂▃▂▂▂▂▂▂▂▂▂▂▂</td></tr><tr><td>Angle -20 Test Loss</td><td>█▆▅▃▁▁▁▂▂▂▂▁▂▂▁▂▂▂▁▂▁▁▂▂▂▂▂▂▃▂▂▂▃▂▃▂▂▂▂▂</td></tr><tr><td>Angle -5 Test Loss</td><td>█▆▄▃▂▁▁▂▂▂▂▁▂▂▁▁▂▂▁▂▁▂▂▂▂▂▂▂▃▂▂▂▂▂▂▂▂▂▂▂</td></tr><tr><td>Angle 0 Test Loss</td><td>█▆▄▃▂▂▁▂▂▂▁▁▁▂▁▁▂▂▁▂▁▂▂▂▂▂▂▂▂▂▂▂▂▂▂▂▂▂▂▂</td></tr><tr><td>Angle 10 Test Loss</td><td>█▆▄▃▂▁▁▂▂▂▂▁▂▂▁▁▂▂▁▂▁▂▂▂▂▂▂▂▃▂▂▂▂▂▂▂▂▂▂▂</td></tr><tr><td>Angle 20 Test Loss</td><td>█▆▅▃▁▁▁▂▂▂▂▁▂▂▁▁▂▂▁▂▁▁▁▂▂▂▂▂▃▂▂▂▂▂▃▂▂▁▂▂</td></tr><tr><td>Angle 5 Test Loss</td><td>█▆▄▃▂▁▁▂▂▂▂▁▂▂▁▁▂▂▁▂▁▂▂▂▂▂▂▂▂▂▂▂▂▂▂▂▂▂▂▂</td></tr><tr><td>Equivariance Weight</td><td>▁▁▁▁▁▁▁▁▁▁▁▁▁▁▁▁▁▁▁▁▁▁▁▁▁▁▁▁▁▁▁▁▁▁▁▁▁▁▁▁</td></tr><tr><td>Random Equivariance Error</td><td>▇▂▂▁▁▁▁▁▁▁▁▁▁▁▁▃▂▂▂▃▁▁▂▁▃▄▁▄▄▄▁▁▄▄▂█▂▁▃▅</td></tr><tr><td>Test Equivariance Error</td><td>▅▃▃▃▂▄▄▂▃▄▁▄▄▅▄▄▅▅▄▄▅▆▆▅▅▅▄▆▆█▇▆▇▇▇▇▇▇▆█</td></tr><tr><td>Time into epoch</td><td>▄▅▆▃▃▃█▁▁▆▆▇▄▄▁▂▃▇██▅▆▆▃▃▄▁▁▆▆▇▄▅▅▂▃▃▇█▅</td></tr><tr><td>Total time</td><td>▁▁▁▂▂▂▂▂▂▃▃▃▃▃▄▄▄▄▄▄▅▅▅▅▅▅▆▆▆▆▆▇▇▇▇▇▇███</td></tr><tr><td>epoch</td><td>▁▁▁▂▂▂▂▂▂▃▃▃▃▃▃▄▄▄▄▄▅▅▅▅▅▅▆▆▆▆▆▇▇▇▇▇▇███</td></tr><tr><td>equivariance error</td><td>█▄▂▂▁▁▁▁▁▁▁▁▁▁▁▁▁▁▁▁▁▁▁▁▁▁▁▁▁▁▁▁▁▁▁▁▁▁▁▁</td></tr><tr><td>learning rate</td><td>▁▂▂▃▃▄▄▅▅▆▆▇██▇▇▆▆▅▅▄▄▃▃▂▂▁▁▂▃▃▄▄▅▅▆▆▇▇█</td></tr><tr><td>step</td><td>▁▁▁▂▂▂▂▂▂▃▃▃▃▃▃▄▄▄▄▄▅▅▅▅▅▅▆▆▆▆▆▇▇▇▇▇▇███</td></tr><tr><td>train loss</td><td>█▅▅▃▂▃▂▂▂▂▂▂▁▂▂▂▂▁▁▁▁▂▁▁▁▁▂▁▁▁▁▁▁▁▁▁▁▂▁▁</td></tr><tr><td>train total loss</td><td>█▄▃▂▂▂▂▁▁▂▁▁▁▁▁▁▂▁▁▁▁▁▁▁▁▁▁▁▁▁▁▁▁▁▁▁▁▁▁▁</td></tr></table><br/></div><div class=\"wandb-col\"><h3>Run summary:</h3><br/><table class=\"wandb\"><tr><td>Angle -10 Test Loss</td><td>0.50282</td></tr><tr><td>Angle -20 Test Loss</td><td>0.57662</td></tr><tr><td>Angle -5 Test Loss</td><td>0.46505</td></tr><tr><td>Angle 0 Test Loss</td><td>0.41795</td></tr><tr><td>Angle 10 Test Loss</td><td>0.49363</td></tr><tr><td>Angle 20 Test Loss</td><td>0.55111</td></tr><tr><td>Angle 5 Test Loss</td><td>0.45899</td></tr><tr><td>Equivariance Weight</td><td>10</td></tr><tr><td>Random Equivariance Error</td><td>0.34719</td></tr><tr><td>Test Equivariance Error</td><td>0.10776</td></tr><tr><td>Time into epoch</td><td>50.33788</td></tr><tr><td>Total time</td><td>5826.8337</td></tr><tr><td>epoch</td><td>50</td></tr><tr><td>equivariance error</td><td>0.00039</td></tr><tr><td>learning rate</td><td>0.00015</td></tr><tr><td>step</td><td>1500</td></tr><tr><td>train loss</td><td>0.16904</td></tr><tr><td>train total loss</td><td>0.17293</td></tr></table><br/></div></div>"
      ],
      "text/plain": [
       "<IPython.core.display.HTML object>"
      ]
     },
     "metadata": {},
     "output_type": "display_data"
    },
    {
     "data": {
      "text/html": [
       " View run <strong style=\"color:#cdcd00\">peachy-glade-227</strong> at: <a href='https://wandb.ai/jjkjjk23/HeLa%20EUNet/runs/t2r1rpqm' target=\"_blank\">https://wandb.ai/jjkjjk23/HeLa%20EUNet/runs/t2r1rpqm</a><br/> View job at <a href='https://wandb.ai/jjkjjk23/HeLa%20EUNet/jobs/QXJ0aWZhY3RDb2xsZWN0aW9uOjk0NDYyOTAx/version_details/v27' target=\"_blank\">https://wandb.ai/jjkjjk23/HeLa%20EUNet/jobs/QXJ0aWZhY3RDb2xsZWN0aW9uOjk0NDYyOTAx/version_details/v27</a><br/>Synced 6 W&B file(s), 3350 media file(s), 0 artifact file(s) and 0 other file(s)"
      ],
      "text/plain": [
       "<IPython.core.display.HTML object>"
      ]
     },
     "metadata": {},
     "output_type": "display_data"
    },
    {
     "data": {
      "text/html": [
       "Find logs at: <code>.\\wandb\\run-20230929_062359-t2r1rpqm\\logs</code>"
      ],
      "text/plain": [
       "<IPython.core.display.HTML object>"
      ]
     },
     "metadata": {},
     "output_type": "display_data"
    },
    {
     "data": {
      "text/html": [
       "Successfully finished last run (ID:t2r1rpqm). Initializing new run:<br/>"
      ],
      "text/plain": [
       "<IPython.core.display.HTML object>"
      ]
     },
     "metadata": {},
     "output_type": "display_data"
    },
    {
     "data": {
      "text/html": [
       "wandb version 0.15.11 is available!  To upgrade, please run:\n",
       " $ pip install wandb --upgrade"
      ],
      "text/plain": [
       "<IPython.core.display.HTML object>"
      ]
     },
     "metadata": {},
     "output_type": "display_data"
    },
    {
     "data": {
      "text/html": [
       "Tracking run with wandb version 0.15.9"
      ],
      "text/plain": [
       "<IPython.core.display.HTML object>"
      ]
     },
     "metadata": {},
     "output_type": "display_data"
    },
    {
     "data": {
      "text/html": [
       "Run data is saved locally in <code>C:\\Users\\jjkjj\\Equivariant\\EquivariantUNet\\wandb\\run-20230929_080222-zjo9tk5i</code>"
      ],
      "text/plain": [
       "<IPython.core.display.HTML object>"
      ]
     },
     "metadata": {},
     "output_type": "display_data"
    },
    {
     "data": {
      "text/html": [
       "Syncing run <strong><a href='https://wandb.ai/jjkjjk23/HeLa%20EUNet/runs/zjo9tk5i' target=\"_blank\">pleasant-water-228</a></strong> to <a href='https://wandb.ai/jjkjjk23/HeLa%20EUNet' target=\"_blank\">Weights & Biases</a> (<a href='https://wandb.me/run' target=\"_blank\">docs</a>)<br/>"
      ],
      "text/plain": [
       "<IPython.core.display.HTML object>"
      ]
     },
     "metadata": {},
     "output_type": "display_data"
    },
    {
     "data": {
      "text/html": [
       " View project at <a href='https://wandb.ai/jjkjjk23/HeLa%20EUNet' target=\"_blank\">https://wandb.ai/jjkjjk23/HeLa%20EUNet</a>"
      ],
      "text/plain": [
       "<IPython.core.display.HTML object>"
      ]
     },
     "metadata": {},
     "output_type": "display_data"
    },
    {
     "data": {
      "text/html": [
       " View run at <a href='https://wandb.ai/jjkjjk23/HeLa%20EUNet/runs/zjo9tk5i' target=\"_blank\">https://wandb.ai/jjkjjk23/HeLa%20EUNet/runs/zjo9tk5i</a>"
      ],
      "text/plain": [
       "<IPython.core.display.HTML object>"
      ]
     },
     "metadata": {},
     "output_type": "display_data"
    },
    {
     "name": "stderr",
     "output_type": "stream",
     "text": [
      "Epoch 1/50: 100%|████████████| 30/30 [00:47<00:00,  1.59s/img, Cumulative Dice=[0.8837778568267822], loss (batch)=1.45]\n",
      "Epoch 2/50: 100%|███████████| 30/30 [00:51<00:00,  1.70s/img, Cumulative Dice=[0.8986923694610596], loss (batch)=0.833]\n",
      "Epoch 3/50: 100%|███████████| 30/30 [00:50<00:00,  1.70s/img, Cumulative Dice=[0.9230343699455261], loss (batch)=0.664]\n",
      "Epoch 4/50: 100%|███████████| 30/30 [00:51<00:00,  1.71s/img, Cumulative Dice=[0.9395169615745544], loss (batch)=0.371]\n",
      "Epoch 5/50: 100%|███████████| 30/30 [00:51<00:00,  1.70s/img, Cumulative Dice=[0.9401797652244568], loss (batch)=0.431]\n",
      "Epoch 6/50: 100%|███████████| 30/30 [00:50<00:00,  1.69s/img, Cumulative Dice=[0.9423207640647888], loss (batch)=0.401]\n",
      "Epoch 7/50: 100%|████████████| 30/30 [00:51<00:00,  1.71s/img, Cumulative Dice=[0.9411848783493042], loss (batch)=0.35]\n",
      "Epoch 8/50: 100%|███████████| 30/30 [00:51<00:00,  1.71s/img, Cumulative Dice=[0.9476143717765808], loss (batch)=0.322]\n",
      "Epoch 9/50: 100%|███████████| 30/30 [00:51<00:00,  1.72s/img, Cumulative Dice=[0.9487028121948242], loss (batch)=0.315]\n",
      "Epoch 10/50: 100%|██████████| 30/30 [00:51<00:00,  1.73s/img, Cumulative Dice=[0.9473154544830322], loss (batch)=0.236]\n",
      "Epoch 11/50: 100%|██████████| 30/30 [00:52<00:00,  1.74s/img, Cumulative Dice=[0.9508695006370544], loss (batch)=0.302]\n",
      "Epoch 12/50: 100%|██████████| 30/30 [00:52<00:00,  1.75s/img, Cumulative Dice=[0.9496123790740967], loss (batch)=0.315]\n",
      "Epoch 13/50: 100%|██████████| 30/30 [00:52<00:00,  1.75s/img, Cumulative Dice=[0.9506544470787048], loss (batch)=0.266]\n",
      "Epoch 14/50: 100%|███████████| 30/30 [00:52<00:00,  1.75s/img, Cumulative Dice=[0.952990710735321], loss (batch)=0.253]\n",
      "Epoch 15/50: 100%|██████████| 30/30 [00:52<00:00,  1.74s/img, Cumulative Dice=[0.9478144645690918], loss (batch)=0.224]\n",
      "Epoch 16/50: 100%|██████████| 30/30 [00:52<00:00,  1.75s/img, Cumulative Dice=[0.9452595114707947], loss (batch)=0.248]\n",
      "Epoch 17/50: 100%|██████████| 30/30 [00:52<00:00,  1.74s/img, Cumulative Dice=[0.9534716606140137], loss (batch)=0.253]\n",
      "Epoch 18/50: 100%|██████████| 30/30 [00:52<00:00,  1.74s/img, Cumulative Dice=[0.9485030174255371], loss (batch)=0.258]\n",
      "Epoch 19/50: 100%|██████████| 30/30 [00:52<00:00,  1.76s/img, Cumulative Dice=[0.9532539248466492], loss (batch)=0.234]\n",
      "Epoch 20/50: 100%|██████████| 30/30 [00:52<00:00,  1.76s/img, Cumulative Dice=[0.9534479975700378], loss (batch)=0.217]\n",
      "Epoch 21/50: 100%|███████████| 30/30 [00:52<00:00,  1.76s/img, Cumulative Dice=[0.9522285461425781], loss (batch)=0.26]\n",
      "Epoch 22/50: 100%|██████████| 30/30 [00:52<00:00,  1.75s/img, Cumulative Dice=[0.9528924226760864], loss (batch)=0.269]\n",
      "Epoch 23/50: 100%|███████████| 30/30 [00:53<00:00,  1.77s/img, Cumulative Dice=[0.957892119884491], loss (batch)=0.208]\n",
      "Epoch 24/50: 100%|██████████| 30/30 [00:53<00:00,  1.77s/img, Cumulative Dice=[0.9543880820274353], loss (batch)=0.222]\n",
      "Epoch 25/50: 100%|██████████| 30/30 [00:53<00:00,  1.77s/img, Cumulative Dice=[0.9605204463005066], loss (batch)=0.196]\n",
      "Epoch 26/50: 100%|██████████| 30/30 [00:53<00:00,  1.78s/img, Cumulative Dice=[0.9608590006828308], loss (batch)=0.183]\n",
      "Epoch 27/50: 100%|██████████| 30/30 [00:53<00:00,  1.77s/img, Cumulative Dice=[0.9604427814483643], loss (batch)=0.228]\n",
      "Epoch 28/50: 100%|██████████| 30/30 [00:52<00:00,  1.75s/img, Cumulative Dice=[0.9596251845359802], loss (batch)=0.203]\n",
      "Epoch 29/50: 100%|██████████| 30/30 [00:52<00:00,  1.76s/img, Cumulative Dice=[0.9599190950393677], loss (batch)=0.202]\n",
      "Epoch 30/50: 100%|█████████████| 30/30 [00:52<00:00,  1.76s/img, Cumulative Dice=[0.961704432964325], loss (batch)=0.2]\n",
      "Epoch 31/50: 100%|██████████| 30/30 [00:52<00:00,  1.75s/img, Cumulative Dice=[0.9619860053062439], loss (batch)=0.176]\n",
      "Epoch 32/50: 100%|██████████| 30/30 [00:52<00:00,  1.75s/img, Cumulative Dice=[0.9648184776306152], loss (batch)=0.189]\n",
      "Epoch 33/50: 100%|██████████| 30/30 [00:52<00:00,  1.75s/img, Cumulative Dice=[0.9646289348602295], loss (batch)=0.153]\n",
      "Epoch 34/50: 100%|██████████| 30/30 [00:52<00:00,  1.75s/img, Cumulative Dice=[0.9630553722381592], loss (batch)=0.234]\n",
      "Epoch 35/50: 100%|███████████| 30/30 [00:53<00:00,  1.78s/img, Cumulative Dice=[0.963017463684082], loss (batch)=0.181]\n",
      "Epoch 36/50: 100%|██████████| 30/30 [00:52<00:00,  1.75s/img, Cumulative Dice=[0.9616174101829529], loss (batch)=0.183]\n",
      "Epoch 37/50: 100%|██████████| 30/30 [00:52<00:00,  1.74s/img, Cumulative Dice=[0.9629677534103394], loss (batch)=0.215]\n",
      "Epoch 38/50: 100%|██████████| 30/30 [00:53<00:00,  1.77s/img, Cumulative Dice=[0.9606368541717529], loss (batch)=0.211]\n",
      "Epoch 39/50: 100%|██████████| 30/30 [00:53<00:00,  1.77s/img, Cumulative Dice=[0.9608083963394165], loss (batch)=0.177]\n",
      "Epoch 40/50: 100%|██████████| 30/30 [00:53<00:00,  1.77s/img, Cumulative Dice=[0.9633800983428955], loss (batch)=0.165]\n",
      "Epoch 41/50: 100%|██████████| 30/30 [00:52<00:00,  1.75s/img, Cumulative Dice=[0.9665592908859253], loss (batch)=0.165]\n",
      "Epoch 42/50: 100%|██████████| 30/30 [00:52<00:00,  1.75s/img, Cumulative Dice=[0.9626598358154297], loss (batch)=0.166]\n",
      "Epoch 43/50: 100%|██████████| 30/30 [00:52<00:00,  1.75s/img, Cumulative Dice=[0.9641866683959961], loss (batch)=0.176]\n",
      "Epoch 44/50: 100%|██████████| 30/30 [00:53<00:00,  1.79s/img, Cumulative Dice=[0.9610192179679871], loss (batch)=0.171]\n",
      "Epoch 45/50: 100%|██████████| 30/30 [00:53<00:00,  1.79s/img, Cumulative Dice=[0.9615525007247925], loss (batch)=0.226]\n",
      "Epoch 46/50: 100%|██████████| 30/30 [00:53<00:00,  1.77s/img, Cumulative Dice=[0.9604177474975586], loss (batch)=0.197]\n",
      "Epoch 47/50: 100%|██████████| 30/30 [00:52<00:00,  1.76s/img, Cumulative Dice=[0.9614383578300476], loss (batch)=0.191]\n",
      "Epoch 48/50: 100%|███████████| 30/30 [00:53<00:00,  1.78s/img, Cumulative Dice=[0.9638309478759766], loss (batch)=0.16]\n",
      "Epoch 49/50: 100%|███████████| 30/30 [00:53<00:00,  1.77s/img, Cumulative Dice=[0.958111047744751], loss (batch)=0.247]\n",
      "Epoch 50/50: 100%|██████████| 30/30 [00:53<00:00,  1.80s/img, Cumulative Dice=[0.9630340337753296], loss (batch)=0.176]\n",
      "                                                                                                                       \r"
     ]
    },
    {
     "data": {
      "text/html": [
       "Finishing last run (ID:zjo9tk5i) before initializing another..."
      ],
      "text/plain": [
       "<IPython.core.display.HTML object>"
      ]
     },
     "metadata": {},
     "output_type": "display_data"
    },
    {
     "data": {
      "text/html": [
       "Waiting for W&B process to finish... <strong style=\"color:green\">(success).</strong>"
      ],
      "text/plain": [
       "<IPython.core.display.HTML object>"
      ]
     },
     "metadata": {},
     "output_type": "display_data"
    },
    {
     "data": {
      "text/html": [
       "<style>\n",
       "    table.wandb td:nth-child(1) { padding: 0 10px; text-align: left ; width: auto;} td:nth-child(2) {text-align: left ; width: 100%}\n",
       "    .wandb-row { display: flex; flex-direction: row; flex-wrap: wrap; justify-content: flex-start; width: 100% }\n",
       "    .wandb-col { display: flex; flex-direction: column; flex-basis: 100%; flex: 1; padding: 10px; }\n",
       "    </style>\n",
       "<div class=\"wandb-row\"><div class=\"wandb-col\"><h3>Run history:</h3><br/><table class=\"wandb\"><tr><td>Angle -10 Test Loss</td><td>█▆▄▃▁▁▂▂▂▁▁▂▂▃▂▂▂▂▁▂▂▂▂▂▂▂▂▃▂▃▂▃▂▂▃▂▂▂▃▂</td></tr><tr><td>Angle -20 Test Loss</td><td>█▆▄▃▁▁▂▃▃▂▁▂▂▃▂▂▃▂▁▂▂▂▃▃▂▂▃▃▂▄▂▃▂▂▃▂▂▂▄▂</td></tr><tr><td>Angle -5 Test Loss</td><td>█▅▄▃▁▁▂▂▂▁▁▂▂▂▁▂▂▁▁▂▂▂▂▂▂▂▂▃▂▃▂▃▂▂▃▂▂▂▃▂</td></tr><tr><td>Angle 0 Test Loss</td><td>█▆▄▃▂▁▂▁▂▁▁▂▁▂▁▁▂▁▁▂▂▂▂▂▂▂▂▃▂▃▂▃▂▂▃▂▂▂▃▂</td></tr><tr><td>Angle 10 Test Loss</td><td>█▆▄▃▁▁▂▂▂▁▁▂▂▂▂▂▂▁▁▂▂▂▂▂▂▂▂▃▂▃▂▃▂▂▃▂▂▂▃▂</td></tr><tr><td>Angle 20 Test Loss</td><td>█▆▄▃▁▂▂▃▃▂▁▂▂▃▂▂▃▂▁▂▂▂▃▃▂▂▃▃▂▃▂▃▂▂▃▂▂▃▄▂</td></tr><tr><td>Angle 5 Test Loss</td><td>█▅▄▃▁▁▁▂▂▁▁▂▂▂▁▁▂▁▁▂▂▂▂▂▂▂▂▃▂▃▂▃▂▂▃▂▂▂▃▂</td></tr><tr><td>Equivariance Weight</td><td>▁▁▁▁▁▁▁▁▁▁▁▁▁▁▁▁▁▁▁▁▁▁▁▁▁▁▁▁▁▁▁▁▁▁▁▁▁▁▁▁</td></tr><tr><td>Random Equivariance Error</td><td>▃▁▁▁▁▁▁▁▁▁▁▁▅▃▆▆▅▅▅▆▆▆▅▁▄▆▂▅▃▇▅▆██▆▇▇▆▅█</td></tr><tr><td>Test Equivariance Error</td><td>▂▂▁▁▁▂▂▂▂▃▁▃▃▄▄▄▅▄▄▄▆▅▄▄▅▅▄▅▆█▅▆█▆▆▇▇▆▅▆</td></tr><tr><td>Time into epoch</td><td>▄▅▅▂▃▃█▁▁▆▆▇▄▄▁▂▃▇██▅▆▆▃▃▄▁▁▆▆▇▄▄▅▂▃▃▇█▅</td></tr><tr><td>Total time</td><td>▁▁▁▂▂▂▂▂▂▃▃▃▃▃▄▄▄▄▄▄▅▅▅▅▅▅▆▆▆▆▆▇▇▇▇▇▇███</td></tr><tr><td>epoch</td><td>▁▁▁▂▂▂▂▂▂▃▃▃▃▃▃▄▄▄▄▄▅▅▅▅▅▅▆▆▆▆▆▇▇▇▇▇▇███</td></tr><tr><td>equivariance error</td><td>█▄▃▂▂▁▁▁▁▁▁▁▁▁▁▁▁▁▁▁▁▁▁▁▁▁▁▁▁▁▁▁▁▁▁▁▁▁▁▁</td></tr><tr><td>learning rate</td><td>▁▂▂▃▃▄▄▅▅▆▆▇██▇▇▆▆▅▅▄▄▃▃▂▂▁▁▂▃▃▄▄▅▅▆▆▇▇█</td></tr><tr><td>step</td><td>▁▁▁▂▂▂▂▂▂▃▃▃▃▃▃▄▄▄▄▄▅▅▅▅▅▅▆▆▆▆▆▇▇▇▇▇▇███</td></tr><tr><td>train loss</td><td>█▅▅▃▃▃▂▃▂▂▂▂▂▃▂▂▂▂▂▂▁▂▂▁▁▁▁▁▁▁▁▁▁▁▁▁▁▂▁▂</td></tr><tr><td>train total loss</td><td>█▅▄▂▂▂▂▂▂▂▂▁▂▂▁▁▁▂▁▁▁▁▂▁▁▁▁▁▁▁▁▁▁▁▁▁▁▁▁▁</td></tr></table><br/></div><div class=\"wandb-col\"><h3>Run summary:</h3><br/><table class=\"wandb\"><tr><td>Angle -10 Test Loss</td><td>0.5072</td></tr><tr><td>Angle -20 Test Loss</td><td>0.56755</td></tr><tr><td>Angle -5 Test Loss</td><td>0.47556</td></tr><tr><td>Angle 0 Test Loss</td><td>0.43516</td></tr><tr><td>Angle 10 Test Loss</td><td>0.50854</td></tr><tr><td>Angle 20 Test Loss</td><td>0.56781</td></tr><tr><td>Angle 5 Test Loss</td><td>0.47451</td></tr><tr><td>Equivariance Weight</td><td>10</td></tr><tr><td>Random Equivariance Error</td><td>0.60995</td></tr><tr><td>Test Equivariance Error</td><td>0.10847</td></tr><tr><td>Time into epoch</td><td>52.90228</td></tr><tr><td>Total time</td><td>5901.44338</td></tr><tr><td>epoch</td><td>50</td></tr><tr><td>equivariance error</td><td>0.00031</td></tr><tr><td>learning rate</td><td>0.00015</td></tr><tr><td>step</td><td>1500</td></tr><tr><td>train loss</td><td>0.17331</td></tr><tr><td>train total loss</td><td>0.17644</td></tr></table><br/></div></div>"
      ],
      "text/plain": [
       "<IPython.core.display.HTML object>"
      ]
     },
     "metadata": {},
     "output_type": "display_data"
    },
    {
     "data": {
      "text/html": [
       " View run <strong style=\"color:#cdcd00\">pleasant-water-228</strong> at: <a href='https://wandb.ai/jjkjjk23/HeLa%20EUNet/runs/zjo9tk5i' target=\"_blank\">https://wandb.ai/jjkjjk23/HeLa%20EUNet/runs/zjo9tk5i</a><br/> View job at <a href='https://wandb.ai/jjkjjk23/HeLa%20EUNet/jobs/QXJ0aWZhY3RDb2xsZWN0aW9uOjk0NDYyOTAx/version_details/v27' target=\"_blank\">https://wandb.ai/jjkjjk23/HeLa%20EUNet/jobs/QXJ0aWZhY3RDb2xsZWN0aW9uOjk0NDYyOTAx/version_details/v27</a><br/>Synced 6 W&B file(s), 3350 media file(s), 0 artifact file(s) and 0 other file(s)"
      ],
      "text/plain": [
       "<IPython.core.display.HTML object>"
      ]
     },
     "metadata": {},
     "output_type": "display_data"
    },
    {
     "data": {
      "text/html": [
       "Find logs at: <code>.\\wandb\\run-20230929_080222-zjo9tk5i\\logs</code>"
      ],
      "text/plain": [
       "<IPython.core.display.HTML object>"
      ]
     },
     "metadata": {},
     "output_type": "display_data"
    },
    {
     "data": {
      "text/html": [
       "Successfully finished last run (ID:zjo9tk5i). Initializing new run:<br/>"
      ],
      "text/plain": [
       "<IPython.core.display.HTML object>"
      ]
     },
     "metadata": {},
     "output_type": "display_data"
    },
    {
     "data": {
      "text/html": [
       "wandb version 0.15.11 is available!  To upgrade, please run:\n",
       " $ pip install wandb --upgrade"
      ],
      "text/plain": [
       "<IPython.core.display.HTML object>"
      ]
     },
     "metadata": {},
     "output_type": "display_data"
    },
    {
     "data": {
      "text/html": [
       "Tracking run with wandb version 0.15.9"
      ],
      "text/plain": [
       "<IPython.core.display.HTML object>"
      ]
     },
     "metadata": {},
     "output_type": "display_data"
    },
    {
     "data": {
      "text/html": [
       "Run data is saved locally in <code>C:\\Users\\jjkjj\\Equivariant\\EquivariantUNet\\wandb\\run-20230929_094211-9qtdfznw</code>"
      ],
      "text/plain": [
       "<IPython.core.display.HTML object>"
      ]
     },
     "metadata": {},
     "output_type": "display_data"
    },
    {
     "data": {
      "text/html": [
       "Syncing run <strong><a href='https://wandb.ai/jjkjjk23/HeLa%20EUNet/runs/9qtdfznw' target=\"_blank\">daily-sunset-229</a></strong> to <a href='https://wandb.ai/jjkjjk23/HeLa%20EUNet' target=\"_blank\">Weights & Biases</a> (<a href='https://wandb.me/run' target=\"_blank\">docs</a>)<br/>"
      ],
      "text/plain": [
       "<IPython.core.display.HTML object>"
      ]
     },
     "metadata": {},
     "output_type": "display_data"
    },
    {
     "data": {
      "text/html": [
       " View project at <a href='https://wandb.ai/jjkjjk23/HeLa%20EUNet' target=\"_blank\">https://wandb.ai/jjkjjk23/HeLa%20EUNet</a>"
      ],
      "text/plain": [
       "<IPython.core.display.HTML object>"
      ]
     },
     "metadata": {},
     "output_type": "display_data"
    },
    {
     "data": {
      "text/html": [
       " View run at <a href='https://wandb.ai/jjkjjk23/HeLa%20EUNet/runs/9qtdfznw' target=\"_blank\">https://wandb.ai/jjkjjk23/HeLa%20EUNet/runs/9qtdfznw</a>"
      ],
      "text/plain": [
       "<IPython.core.display.HTML object>"
      ]
     },
     "metadata": {},
     "output_type": "display_data"
    },
    {
     "name": "stderr",
     "output_type": "stream",
     "text": [
      "Epoch 1/50: 100%|████████████| 30/30 [00:49<00:00,  1.66s/img, Cumulative Dice=[0.8596620559692383], loss (batch)=1.66]\n",
      "Epoch 2/50: 100%|████████████| 30/30 [00:52<00:00,  1.76s/img, Cumulative Dice=[0.8977052569389343], loss (batch)=1.04]\n",
      "Epoch 3/50: 100%|███████████| 30/30 [00:52<00:00,  1.76s/img, Cumulative Dice=[0.9031875133514404], loss (batch)=0.771]\n",
      "Epoch 4/50: 100%|███████████| 30/30 [00:52<00:00,  1.76s/img, Cumulative Dice=[0.9294345378875732], loss (batch)=0.576]\n",
      "Epoch 5/50: 100%|███████████| 30/30 [00:52<00:00,  1.75s/img, Cumulative Dice=[0.9410277605056763], loss (batch)=0.518]\n",
      "Epoch 6/50: 100%|███████████| 30/30 [00:52<00:00,  1.75s/img, Cumulative Dice=[0.9430646300315857], loss (batch)=0.463]\n",
      "Epoch 7/50: 100%|███████████| 30/30 [00:52<00:00,  1.75s/img, Cumulative Dice=[0.9397327303886414], loss (batch)=0.483]\n",
      "Epoch 8/50: 100%|███████████| 30/30 [00:52<00:00,  1.74s/img, Cumulative Dice=[0.9436158537864685], loss (batch)=0.393]\n",
      "Epoch 9/50: 100%|████████████| 30/30 [00:52<00:00,  1.76s/img, Cumulative Dice=[0.944929301738739], loss (batch)=0.342]\n",
      "Epoch 10/50: 100%|██████████| 30/30 [00:53<00:00,  1.78s/img, Cumulative Dice=[0.9454640746116638], loss (batch)=0.365]\n",
      "Epoch 11/50: 100%|██████████| 30/30 [00:53<00:00,  1.78s/img, Cumulative Dice=[0.9500831365585327], loss (batch)=0.314]\n",
      "Epoch 12/50: 100%|██████████| 30/30 [00:53<00:00,  1.79s/img, Cumulative Dice=[0.9397330284118652], loss (batch)=0.361]\n",
      "Epoch 13/50: 100%|████████████| 30/30 [00:52<00:00,  1.76s/img, Cumulative Dice=[0.95147705078125], loss (batch)=0.275]\n",
      "Epoch 14/50: 100%|██████████| 30/30 [00:53<00:00,  1.77s/img, Cumulative Dice=[0.9469493627548218], loss (batch)=0.255]\n",
      "Epoch 15/50: 100%|████████████| 30/30 [00:52<00:00,  1.74s/img, Cumulative Dice=[0.942815899848938], loss (batch)=0.26]\n",
      "Epoch 16/50: 100%|██████████| 30/30 [00:52<00:00,  1.74s/img, Cumulative Dice=[0.9483097791671753], loss (batch)=0.313]\n",
      "Epoch 17/50: 100%|██████████| 30/30 [00:52<00:00,  1.75s/img, Cumulative Dice=[0.9499219655990601], loss (batch)=0.253]\n",
      "Epoch 18/50: 100%|██████████| 30/30 [00:52<00:00,  1.74s/img, Cumulative Dice=[0.9461485743522644], loss (batch)=0.279]\n",
      "Epoch 19/50: 100%|██████████| 30/30 [00:52<00:00,  1.76s/img, Cumulative Dice=[0.9504426717758179], loss (batch)=0.278]\n",
      "Epoch 20/50: 100%|██████████| 30/30 [00:52<00:00,  1.76s/img, Cumulative Dice=[0.9537326693534851], loss (batch)=0.215]\n",
      "Epoch 21/50: 100%|████████████| 30/30 [00:52<00:00,  1.77s/img, Cumulative Dice=[0.95152348279953], loss (batch)=0.248]\n",
      "Epoch 22/50: 100%|██████████| 30/30 [00:53<00:00,  1.79s/img, Cumulative Dice=[0.9501599669456482], loss (batch)=0.221]\n",
      "Epoch 23/50: 100%|██████████| 30/30 [00:53<00:00,  1.79s/img, Cumulative Dice=[0.9559411406517029], loss (batch)=0.225]\n",
      "Epoch 24/50: 100%|████████████| 30/30 [00:53<00:00,  1.77s/img, Cumulative Dice=[0.954318642616272], loss (batch)=0.21]\n",
      "Epoch 25/50: 100%|██████████| 30/30 [00:52<00:00,  1.77s/img, Cumulative Dice=[0.9535213708877563], loss (batch)=0.244]\n",
      "Epoch 26/50: 100%|██████████| 30/30 [00:52<00:00,  1.77s/img, Cumulative Dice=[0.9523586630821228], loss (batch)=0.249]\n",
      "Epoch 27/50: 100%|██████████| 30/30 [00:53<00:00,  1.78s/img, Cumulative Dice=[0.9580366611480713], loss (batch)=0.202]\n",
      "Epoch 28/50: 100%|██████████| 30/30 [00:53<00:00,  1.79s/img, Cumulative Dice=[0.9573278427124023], loss (batch)=0.217]\n",
      "Epoch 29/50: 100%|██████████| 30/30 [00:53<00:00,  1.78s/img, Cumulative Dice=[0.9576237201690674], loss (batch)=0.199]\n",
      "Epoch 30/50: 100%|██████████| 30/30 [00:53<00:00,  1.78s/img, Cumulative Dice=[0.9624991416931152], loss (batch)=0.216]\n",
      "Epoch 31/50: 100%|██████████| 30/30 [00:53<00:00,  1.78s/img, Cumulative Dice=[0.9622592329978943], loss (batch)=0.169]\n",
      "Epoch 32/50: 100%|██████████| 30/30 [00:53<00:00,  1.78s/img, Cumulative Dice=[0.9600567817687988], loss (batch)=0.215]\n",
      "Epoch 33/50: 100%|███████████| 30/30 [00:53<00:00,  1.79s/img, Cumulative Dice=[0.9615190029144287], loss (batch)=0.19]\n",
      "Epoch 34/50: 100%|██████████| 30/30 [00:53<00:00,  1.77s/img, Cumulative Dice=[0.9634167551994324], loss (batch)=0.154]\n",
      "Epoch 35/50: 100%|██████████| 30/30 [00:53<00:00,  1.79s/img, Cumulative Dice=[0.9636375308036804], loss (batch)=0.196]\n",
      "Epoch 36/50: 100%|███████████| 30/30 [00:52<00:00,  1.75s/img, Cumulative Dice=[0.965211808681488], loss (batch)=0.178]\n",
      "Epoch 37/50: 100%|███████████| 30/30 [00:53<00:00,  1.77s/img, Cumulative Dice=[0.961311936378479], loss (batch)=0.195]\n",
      "Epoch 38/50: 100%|████████████| 30/30 [00:52<00:00,  1.77s/img, Cumulative Dice=[0.96185302734375], loss (batch)=0.164]\n",
      "Epoch 39/50: 100%|██████████| 30/30 [00:53<00:00,  1.77s/img, Cumulative Dice=[0.9629960060119629], loss (batch)=0.208]\n",
      "Epoch 40/50: 100%|███████████| 30/30 [00:52<00:00,  1.77s/img, Cumulative Dice=[0.962570309638977], loss (batch)=0.177]\n",
      "Epoch 41/50: 100%|███████████| 30/30 [00:52<00:00,  1.74s/img, Cumulative Dice=[0.9624266624450684], loss (batch)=0.18]\n",
      "Epoch 42/50: 100%|██████████| 30/30 [00:52<00:00,  1.76s/img, Cumulative Dice=[0.9619382619857788], loss (batch)=0.178]\n",
      "Epoch 43/50: 100%|███████████| 30/30 [00:52<00:00,  1.75s/img, Cumulative Dice=[0.959579586982727], loss (batch)=0.203]\n",
      "Epoch 44/50: 100%|██████████| 30/30 [00:52<00:00,  1.76s/img, Cumulative Dice=[0.9619559049606323], loss (batch)=0.173]\n",
      "Epoch 45/50: 100%|███████████| 30/30 [00:52<00:00,  1.76s/img, Cumulative Dice=[0.958528995513916], loss (batch)=0.205]\n",
      "Epoch 46/50: 100%|██████████| 30/30 [00:52<00:00,  1.74s/img, Cumulative Dice=[0.9597441554069519], loss (batch)=0.204]\n",
      "Epoch 47/50: 100%|██████████| 30/30 [00:52<00:00,  1.75s/img, Cumulative Dice=[0.9602198600769043], loss (batch)=0.207]\n",
      "Epoch 48/50: 100%|███████████| 30/30 [00:53<00:00,  1.79s/img, Cumulative Dice=[0.962079644203186], loss (batch)=0.208]\n",
      "Epoch 49/50: 100%|██████████| 30/30 [00:53<00:00,  1.78s/img, Cumulative Dice=[0.9586021304130554], loss (batch)=0.184]\n",
      "Epoch 50/50: 100%|██████████| 30/30 [00:53<00:00,  1.78s/img, Cumulative Dice=[0.9617347121238708], loss (batch)=0.224]\n",
      "                                                                                                                       \r"
     ]
    },
    {
     "data": {
      "text/html": [
       "Finishing last run (ID:9qtdfznw) before initializing another..."
      ],
      "text/plain": [
       "<IPython.core.display.HTML object>"
      ]
     },
     "metadata": {},
     "output_type": "display_data"
    },
    {
     "data": {
      "text/html": [
       "Waiting for W&B process to finish... <strong style=\"color:green\">(success).</strong>"
      ],
      "text/plain": [
       "<IPython.core.display.HTML object>"
      ]
     },
     "metadata": {},
     "output_type": "display_data"
    },
    {
     "data": {
      "text/html": [
       "<style>\n",
       "    table.wandb td:nth-child(1) { padding: 0 10px; text-align: left ; width: auto;} td:nth-child(2) {text-align: left ; width: 100%}\n",
       "    .wandb-row { display: flex; flex-direction: row; flex-wrap: wrap; justify-content: flex-start; width: 100% }\n",
       "    .wandb-col { display: flex; flex-direction: column; flex-basis: 100%; flex: 1; padding: 10px; }\n",
       "    </style>\n",
       "<div class=\"wandb-row\"><div class=\"wandb-col\"><h3>Run history:</h3><br/><table class=\"wandb\"><tr><td>Angle -10 Test Loss</td><td>█▆▅▃▂▂▂▂▂▂▁▁▂▃▂▁▁▂▂▂▁▂▁▂▂▂▂▂▂▃▂▂▂▂▂▂▃▂▃▂</td></tr><tr><td>Angle -20 Test Loss</td><td>█▆▅▃▃▂▂▂▂▂▁▁▂▃▂▂▁▂▂▂▁▂▂▂▂▃▃▂▂▃▂▂▃▂▂▃▃▂▃▃</td></tr><tr><td>Angle -5 Test Loss</td><td>█▆▅▃▂▂▂▂▂▂▁▁▂▂▂▁▁▁▂▂▁▂▁▂▂▂▂▂▂▃▂▂▂▂▂▂▃▂▃▂</td></tr><tr><td>Angle 0 Test Loss</td><td>█▆▅▄▂▂▂▁▂▂▁▁▂▂▂▁▁▁▂▂▁▂▁▂▂▂▂▂▂▂▂▂▂▂▂▂▃▂▂▂</td></tr><tr><td>Angle 10 Test Loss</td><td>█▆▅▃▂▂▂▂▂▂▁▁▂▃▂▁▁▁▂▂▁▂▁▂▂▂▂▂▂▃▂▂▂▂▂▂▂▂▂▂</td></tr><tr><td>Angle 20 Test Loss</td><td>█▆▅▃▃▂▂▂▂▂▁▁▂▃▂▂▁▂▂▂▁▂▁▂▂▂▂▂▂▃▂▂▂▂▂▃▂▂▃▂</td></tr><tr><td>Angle 5 Test Loss</td><td>█▆▅▃▂▂▂▂▂▂▁▁▂▂▂▁▁▁▂▂▁▂▁▂▂▂▂▂▂▂▂▂▂▂▂▂▂▂▂▂</td></tr><tr><td>Equivariance Weight</td><td>▁▁▁▁▁▁▁▁▁▁▁▁▁▁▁▁▁▁▁▁▁▁▁▁▁▁▁▁▁▁▁▁▁▁▁▁▁▁▁▁</td></tr><tr><td>Random Equivariance Error</td><td>▄▂▁▁▁▁▁▁▁▁▁▃▁▂▂▁▂▁▆▂▃▃▁▁▂▃▁▂▃▄▂▂▅▂▂█▅█▅▇</td></tr><tr><td>Test Equivariance Error</td><td>▃▃▂▂▁▃▃▁▄▃▂▃▄▄▄▄▅▅▅▄▅▄▅▃▆▆▃▆▆█▆▆█▇▇▇▇▇▆█</td></tr><tr><td>Time into epoch</td><td>▄▅▆▃▃▃█▁▁▆▆▇▄▄▁▂▃▇██▅▆▆▃▃▄▁▁▆▆▇▄▄▅▂▃▃▇█▅</td></tr><tr><td>Total time</td><td>▁▁▁▂▂▂▂▂▂▃▃▃▃▃▄▄▄▄▄▄▅▅▅▅▅▅▆▆▆▆▆▇▇▇▇▇▇███</td></tr><tr><td>epoch</td><td>▁▁▁▂▂▂▂▂▂▃▃▃▃▃▃▄▄▄▄▄▅▅▅▅▅▅▆▆▆▆▆▇▇▇▇▇▇███</td></tr><tr><td>equivariance error</td><td>█▄▃▂▂▂▁▁▁▁▁▁▁▁▁▁▁▁▁▁▁▁▁▁▁▁▁▁▁▁▁▁▁▁▁▁▁▁▁▁</td></tr><tr><td>learning rate</td><td>▁▂▂▃▃▄▄▅▅▆▆▇██▇▇▆▆▅▅▄▄▃▃▂▂▁▁▂▃▃▄▄▅▅▆▆▇▇█</td></tr><tr><td>step</td><td>▁▁▁▂▂▂▂▂▂▃▃▃▃▃▃▄▄▄▄▄▅▅▅▅▅▅▆▆▆▆▆▇▇▇▇▇▇███</td></tr><tr><td>train loss</td><td>█▆▅▄▃▃▃▂▃▂▂▂▂▂▂▂▁▂▁▁▂▁▁▁▁▁▁▁▁▁▁▂▁▁▁▂▁▁▁▁</td></tr><tr><td>train total loss</td><td>█▅▃▃▂▂▂▂▂▂▂▁▂▁▁▁▁▁▁▁▁▁▁▁▁▁▁▁▁▁▁▁▁▁▁▁▁▁▁▁</td></tr></table><br/></div><div class=\"wandb-col\"><h3>Run summary:</h3><br/><table class=\"wandb\"><tr><td>Angle -10 Test Loss</td><td>0.52025</td></tr><tr><td>Angle -20 Test Loss</td><td>0.5973</td></tr><tr><td>Angle -5 Test Loss</td><td>0.48688</td></tr><tr><td>Angle 0 Test Loss</td><td>0.44185</td></tr><tr><td>Angle 10 Test Loss</td><td>0.51232</td></tr><tr><td>Angle 20 Test Loss</td><td>0.56129</td></tr><tr><td>Angle 5 Test Loss</td><td>0.48043</td></tr><tr><td>Equivariance Weight</td><td>10</td></tr><tr><td>Random Equivariance Error</td><td>0.55441</td></tr><tr><td>Test Equivariance Error</td><td>0.11012</td></tr><tr><td>Time into epoch</td><td>52.45358</td></tr><tr><td>Total time</td><td>5950.6231</td></tr><tr><td>epoch</td><td>50</td></tr><tr><td>equivariance error</td><td>0.00016</td></tr><tr><td>learning rate</td><td>0.00015</td></tr><tr><td>step</td><td>1500</td></tr><tr><td>train loss</td><td>0.22233</td></tr><tr><td>train total loss</td><td>0.22393</td></tr></table><br/></div></div>"
      ],
      "text/plain": [
       "<IPython.core.display.HTML object>"
      ]
     },
     "metadata": {},
     "output_type": "display_data"
    },
    {
     "data": {
      "text/html": [
       " View run <strong style=\"color:#cdcd00\">daily-sunset-229</strong> at: <a href='https://wandb.ai/jjkjjk23/HeLa%20EUNet/runs/9qtdfznw' target=\"_blank\">https://wandb.ai/jjkjjk23/HeLa%20EUNet/runs/9qtdfznw</a><br/> View job at <a href='https://wandb.ai/jjkjjk23/HeLa%20EUNet/jobs/QXJ0aWZhY3RDb2xsZWN0aW9uOjk0NDYyOTAx/version_details/v27' target=\"_blank\">https://wandb.ai/jjkjjk23/HeLa%20EUNet/jobs/QXJ0aWZhY3RDb2xsZWN0aW9uOjk0NDYyOTAx/version_details/v27</a><br/>Synced 6 W&B file(s), 3350 media file(s), 0 artifact file(s) and 0 other file(s)"
      ],
      "text/plain": [
       "<IPython.core.display.HTML object>"
      ]
     },
     "metadata": {},
     "output_type": "display_data"
    },
    {
     "data": {
      "text/html": [
       "Find logs at: <code>.\\wandb\\run-20230929_094211-9qtdfznw\\logs</code>"
      ],
      "text/plain": [
       "<IPython.core.display.HTML object>"
      ]
     },
     "metadata": {},
     "output_type": "display_data"
    },
    {
     "data": {
      "text/html": [
       "Successfully finished last run (ID:9qtdfznw). Initializing new run:<br/>"
      ],
      "text/plain": [
       "<IPython.core.display.HTML object>"
      ]
     },
     "metadata": {},
     "output_type": "display_data"
    },
    {
     "data": {
      "text/html": [
       "wandb version 0.15.11 is available!  To upgrade, please run:\n",
       " $ pip install wandb --upgrade"
      ],
      "text/plain": [
       "<IPython.core.display.HTML object>"
      ]
     },
     "metadata": {},
     "output_type": "display_data"
    },
    {
     "data": {
      "text/html": [
       "Tracking run with wandb version 0.15.9"
      ],
      "text/plain": [
       "<IPython.core.display.HTML object>"
      ]
     },
     "metadata": {},
     "output_type": "display_data"
    },
    {
     "data": {
      "text/html": [
       "Run data is saved locally in <code>C:\\Users\\jjkjj\\Equivariant\\EquivariantUNet\\wandb\\run-20230929_112246-v56641xp</code>"
      ],
      "text/plain": [
       "<IPython.core.display.HTML object>"
      ]
     },
     "metadata": {},
     "output_type": "display_data"
    },
    {
     "data": {
      "text/html": [
       "Syncing run <strong><a href='https://wandb.ai/jjkjjk23/HeLa%20EUNet/runs/v56641xp' target=\"_blank\">floral-snowball-230</a></strong> to <a href='https://wandb.ai/jjkjjk23/HeLa%20EUNet' target=\"_blank\">Weights & Biases</a> (<a href='https://wandb.me/run' target=\"_blank\">docs</a>)<br/>"
      ],
      "text/plain": [
       "<IPython.core.display.HTML object>"
      ]
     },
     "metadata": {},
     "output_type": "display_data"
    },
    {
     "data": {
      "text/html": [
       " View project at <a href='https://wandb.ai/jjkjjk23/HeLa%20EUNet' target=\"_blank\">https://wandb.ai/jjkjjk23/HeLa%20EUNet</a>"
      ],
      "text/plain": [
       "<IPython.core.display.HTML object>"
      ]
     },
     "metadata": {},
     "output_type": "display_data"
    },
    {
     "data": {
      "text/html": [
       " View run at <a href='https://wandb.ai/jjkjjk23/HeLa%20EUNet/runs/v56641xp' target=\"_blank\">https://wandb.ai/jjkjjk23/HeLa%20EUNet/runs/v56641xp</a>"
      ],
      "text/plain": [
       "<IPython.core.display.HTML object>"
      ]
     },
     "metadata": {},
     "output_type": "display_data"
    },
    {
     "name": "stderr",
     "output_type": "stream",
     "text": [
      "Epoch 1/50: 100%|████████████| 30/30 [00:50<00:00,  1.70s/img, Cumulative Dice=[0.8719428777694702], loss (batch)=1.64]\n",
      "Epoch 2/50: 100%|███████████████| 30/30 [00:53<00:00,  1.78s/img, Cumulative Dice=[0.9015082120895386], loss (batch)=1]\n",
      "Epoch 3/50: 100%|███████████| 30/30 [00:53<00:00,  1.78s/img, Cumulative Dice=[0.9198138117790222], loss (batch)=0.689]\n",
      "Epoch 4/50: 100%|███████████| 30/30 [00:53<00:00,  1.77s/img, Cumulative Dice=[0.9313530921936035], loss (batch)=0.539]\n",
      "Epoch 5/50: 100%|████████████| 30/30 [00:53<00:00,  1.77s/img, Cumulative Dice=[0.9446693658828735], loss (batch)=0.45]\n",
      "Epoch 6/50: 100%|███████████| 30/30 [00:52<00:00,  1.76s/img, Cumulative Dice=[0.9433648586273193], loss (batch)=0.426]\n",
      "Epoch 7/50: 100%|███████████| 30/30 [00:52<00:00,  1.76s/img, Cumulative Dice=[0.9463836550712585], loss (batch)=0.374]\n",
      "Epoch 8/50: 100%|███████████| 30/30 [00:52<00:00,  1.75s/img, Cumulative Dice=[0.9473505020141602], loss (batch)=0.323]\n",
      "Epoch 9/50: 100%|████████████| 30/30 [00:52<00:00,  1.74s/img, Cumulative Dice=[0.946976363658905], loss (batch)=0.322]\n",
      "Epoch 10/50: 100%|██████████| 30/30 [00:52<00:00,  1.74s/img, Cumulative Dice=[0.9503499269485474], loss (batch)=0.307]\n",
      "Epoch 11/50: 100%|███████████| 30/30 [00:52<00:00,  1.74s/img, Cumulative Dice=[0.949684739112854], loss (batch)=0.274]\n",
      "Epoch 12/50: 100%|██████████| 30/30 [00:52<00:00,  1.74s/img, Cumulative Dice=[0.9492887258529663], loss (batch)=0.325]\n",
      "Epoch 13/50: 100%|██████████| 30/30 [00:52<00:00,  1.75s/img, Cumulative Dice=[0.9485246539115906], loss (batch)=0.252]\n",
      "Epoch 14/50: 100%|██████████| 30/30 [00:52<00:00,  1.74s/img, Cumulative Dice=[0.9514645934104919], loss (batch)=0.312]\n",
      "Epoch 15/50: 100%|██████████| 30/30 [00:52<00:00,  1.74s/img, Cumulative Dice=[0.9536389708518982], loss (batch)=0.256]\n",
      "Epoch 16/50: 100%|███████████| 30/30 [00:52<00:00,  1.75s/img, Cumulative Dice=[0.9558457136154175], loss (batch)=0.25]\n",
      "Epoch 17/50: 100%|██████████| 30/30 [00:52<00:00,  1.74s/img, Cumulative Dice=[0.9471707344055176], loss (batch)=0.247]\n",
      "Epoch 18/50: 100%|██████████| 30/30 [00:53<00:00,  1.77s/img, Cumulative Dice=[0.9481604099273682], loss (batch)=0.233]\n",
      "Epoch 19/50: 100%|██████████| 30/30 [00:52<00:00,  1.76s/img, Cumulative Dice=[0.9566913843154907], loss (batch)=0.238]\n",
      "Epoch 20/50: 100%|██████████| 30/30 [00:52<00:00,  1.75s/img, Cumulative Dice=[0.9461964964866638], loss (batch)=0.241]\n",
      "Epoch 21/50: 100%|██████████| 30/30 [00:52<00:00,  1.75s/img, Cumulative Dice=[0.9544143676757812], loss (batch)=0.219]\n",
      "Epoch 22/50: 100%|██████████| 30/30 [00:52<00:00,  1.76s/img, Cumulative Dice=[0.9560219645500183], loss (batch)=0.208]\n",
      "Epoch 23/50: 100%|██████████| 30/30 [00:52<00:00,  1.75s/img, Cumulative Dice=[0.9528764486312866], loss (batch)=0.225]\n",
      "Epoch 24/50: 100%|██████████| 30/30 [00:52<00:00,  1.75s/img, Cumulative Dice=[0.9541444778442383], loss (batch)=0.214]\n",
      "Epoch 25/50: 100%|██████████| 30/30 [00:53<00:00,  1.78s/img, Cumulative Dice=[0.9582676887512207], loss (batch)=0.194]\n",
      "Epoch 26/50: 100%|███████████| 30/30 [00:52<00:00,  1.74s/img, Cumulative Dice=[0.954525887966156], loss (batch)=0.226]\n",
      "Epoch 27/50: 100%|██████████| 30/30 [00:52<00:00,  1.74s/img, Cumulative Dice=[0.9526480436325073], loss (batch)=0.288]\n",
      "Testing round, angle = -10:  23%|████████████▏                                       | 7/30 [00:02<00:07,  3.01batch/s]"
     ]
    }
   ],
   "source": [
    "for j in range(10):\n",
    "    args['eqweight'] = 10\n",
    "    args['augmented'] = 'rangle'\n",
    "    model = UNet(args['in_channels'], args['classes'], **args).to(device=device)\n",
    "    model = model.to(memory_format=torch.channels_last)\n",
    "    train_loader = config_data(HeLa=True, Oxford=False, **args)\n",
    "    train_model(model, device, train_loader, **args)"
   ]
  },
  {
   "cell_type": "code",
   "execution_count": 10,
   "id": "dd394edd",
   "metadata": {},
   "outputs": [
    {
     "name": "stderr",
     "output_type": "stream",
     "text": [
      "C:\\Users\\jjkjj\\anaconda3\\envs\\equivariant\\Lib\\site-packages\\torchvision\\transforms\\functional.py:1603: UserWarning: The default value of the antialias parameter of all the resizing transforms (Resize(), RandomResizedCrop(), etc.) will change from None to True in v0.17, in order to be consistent across the PIL and Tensor backends. To suppress this warning, directly pass antialias=True (recommended, future default), antialias=None (current default, which means False for Tensors and True for PIL), or antialias=False (only works on Tensors - PIL will still use antialiasing). This also applies if you are using the inference transforms from the models weights: update the call to weights.transforms(antialias=True).\n",
      "  warnings.warn(\n"
     ]
    },
    {
     "name": "stdout",
     "output_type": "stream",
     "text": [
      "1\n",
      "False\n"
     ]
    }
   ],
   "source": [
    "torch.cuda.empty_cache()\n",
    "device = torch.device('cuda' if torch.cuda.is_available() else 'cpu')\n",
    "#device=torch.device('cpu')\n",
    "epsilon=0\n",
    "\n",
    "sizeup = torchvision.transforms.Resize((550,550), interpolation=TF.InterpolationMode.NEAREST_EXACT)\n",
    "sizedown=torchvision.transforms.Resize((450,450), interpolation=TF.InterpolationMode.NEAREST_EXACT)\n",
    "resize=torchvision.transforms.Resize((512,512), interpolation=TF.InterpolationMode.NEAREST_EXACT)\n",
    "deformation = torch.tensor([[0,0,0],[0,.5,0],[0,0,0]]).to(device=device, dtype=torch.float32)\n",
    "deformation=torch.unsqueeze(deformation, dim=0)\n",
    "deformation= torchvision.transforms.Resize((512,512), interpolation=TF.InterpolationMode.BICUBIC)(deformation)\n",
    "ydeformation =torch.full([1,512,512], 0, device=device, dtype=torch.float32)\n",
    "deformation = torch.stack([deformation, ydeformation], dim=3)\n",
    "deform = lambda tensor : TF.elastic_transform(tensor, deformation, TF.InterpolationMode.NEAREST, 0.0)\n",
    "\n",
    "def rotate(angle):\n",
    "    return lambda inputs : torchvision.transforms.functional.rotate(inputs, angle)\n",
    "\n",
    "\n",
    "upscale=torchvision.transforms.Compose([sizeup,resize])\n",
    "etransform=torchvision.transforms.Compose([sizedown,resize])\n",
    "shrinkcrop=etrainer.compose(etrainer.pad24,sizedown)\n",
    "\n",
    "def shift(x, shiftnum=1, axis=-1):\n",
    "    x=torch.transpose(x, axis, -1)\n",
    "    if shiftnum == 0:\n",
    "        padded = x\n",
    "    elif shiftnum > 0:\n",
    "        #paddings = (0, shift, 0, 0, 0, 0)\n",
    "        paddings = [0 for j in range(2*len(tuple(x.shape)))]\n",
    "        paddings[1]=shiftnum\n",
    "        paddings=tuple(paddings)\n",
    "        padded = nn.functional.pad(x[..., shiftnum:], paddings)\n",
    "    elif shiftnum < 0:\n",
    "        #paddings = (-shift, 0, 0, 0, 0, 0)\n",
    "        paddings = [0 for j in range(2*len(tuple(x.shape)))]\n",
    "        paddings[0]=-shiftnum\n",
    "        paddings=tuple(paddings)\n",
    "        padded = nn.functional.pad(x[..., :shiftnum], paddings)\n",
    "    else:\n",
    "        raise ValueError\n",
    "    return torch.transpose(padded, axis,-1)\n",
    "def randshift(x):\n",
    "    shiftnum = random.randint(-6,6)\n",
    "    axis = random.randint(-2,-1)\n",
    "    return shift(x, shiftnum, axis)\n",
    "#This is for scaling\n",
    "#efunctions=[[etransform, etransform, epsilon], [upscale,upscale,epsilon]] \n",
    "efunctions=[[torchvision.transforms.RandomRotation(10), torchvision.transforms.RandomRotation(10),epsilon]]\n",
    "#efunctions=efunctions+[[lambda x : shift(x, shiftnum, axis), lambda x : shift(x, shiftnum, axis), epsilon] for shiftnum in range(-1,1,2) for axis in range(-1,1,2)]+[[etransform, etransform, epsilon], [upscale,upscale,epsilon]]\n",
    "#efunctions += [[randshift, randshift, epsilon]]\n",
    "#efunctions = efunctions+[[deform,deform,epsilon]]\n",
    "#efunctions = efunctions + [[rotate(90), rotate(90),0]]\n",
    "#efunctions = efunctions + [[torchvision.transforms.ElasticTransform(interpolation=TF.InterpolationMode.NEAREST), torchvision.transforms.ElasticTransform(interpolation=TF.InterpolationMode.NEAREST), epsilon]]\n",
    "\"\"\"\n",
    "for x in range(-1,1):\n",
    "    for y in range(-1,1):\n",
    "        for i in range(3):\n",
    "            for j in range(3):\n",
    "                for a in range(3):\n",
    "                    for b in range(3):\n",
    "                        deformationx = torch.tensor([[x if i==k else 0 for k in range(3)] if j==l else [0,0,0] for l in range(3)]).to(device=device, dtype=torch.float32)\n",
    "                        deformationy = torch.tensor([[y if a==k else 0 for k in range(3)] if b==l else [0,0,0] for l in range(3)]).to(device=device, dtype=torch.float32)\n",
    "                        deformationx=torch.unsqueeze(deformationx, dim=0)\n",
    "                        deformationy=torch.unsqueeze(deformationy, dim=0)\n",
    "                        deformationx= torchvision.transforms.Resize((512,512), interpolation=TF.InterpolationMode.BICUBIC)(deformationx)\n",
    "                        deformationy= torchvision.transforms.Resize((512,512), interpolation=TF.InterpolationMode.BICUBIC)(deformationy)\n",
    "                        deformation = torch.stack([deformationx, deformationy], dim=3)\n",
    "                        deform = lambda tensor : TF.elastic_transform(tensor, deformation, TF.InterpolationMode.NEAREST, 0.0)\n",
    "                        efunctions.append([deform,deform,0])\n",
    "\"\"\"\n",
    "args2 = {'epochs' : 100,\n",
    "        'batch_size' : 1,\n",
    "        'amp' : True,\n",
    "        'bilinear' : False,\n",
    "        'classes' : 1,\n",
    "        'learning_rate' : 1e-6,\n",
    "        'load': False,\n",
    "        #'load' : \"C:\\\\Users\\\\jjkjj\\\\Equivariant\\\\EquivariantUNet\\\\bumbling-sponge-27_checkpoints\\\\checkpoint_epoch121.pth\",\n",
    "        'class weights' : [1,1,3],\n",
    "        'epochbreaks' : False,\n",
    "        'break_length' : 5,\n",
    "        'etransforms' : efunctions,\n",
    "        'equivariance_measure' : 'l1',\n",
    "        'equivariant' : False,\n",
    "        'eqerror' : False,\n",
    "        'augmented' : 'rangle',\n",
    "        'Linf' : False,\n",
    "        'eqweight' : 100,\n",
    "        'n' : 1,\n",
    "        'debugging' : False,\n",
    "        'in_channels' : 1,\n",
    "        'wandb_project' : 'HeLa EUNet',\n",
    "        'test_on_epoch_end' : True,\n",
    "        'test augmented' : 'True no identity',\n",
    "        'test augment' : 'fixed rotations',\n",
    "        'save_checkpoint' : True,\n",
    "        'eqweight_scheduler' : False,\n",
    "        'eqweight_decay' : 1.1,\n",
    "        'lr_scheduler' : 'cyclic',\n",
    "        'min_lr' : 1e-9,\n",
    "        'max_lr' : 1.5e-4,\n",
    "        'product_loss' : False\n",
    "       }\n",
    "if args['equivariant'] != args['eqerror']:\n",
    "    print('Equivariant and eqerror are different are you sure?')\n",
    "\n",
    "model = UNet(args['in_channels'], args['classes'], **args).to(device=device)\n",
    "model = model.to(memory_format=torch.channels_last)\n",
    "\n",
    "#model = UNetLightning(args['in_channels'], args['classes'], **args).to(device=device)\n",
    "\n",
    "\n",
    "if args['load']:\n",
    "    state_dict = torch.load(args['load'], map_location=device)\n",
    "    #del state_dict['mask_values']\n",
    "    model.load_state_dict(state_dict)\n",
    "    logging.info(f'Model loaded from {args[\"load\"]}')\n",
    "print(model.n)\n",
    "print(model.Linf)\n",
    "#print(model.state_dict())\n"
   ]
  },
  {
   "cell_type": "code",
   "execution_count": null,
   "id": "6669124b",
   "metadata": {},
   "outputs": [],
   "source": []
  }
 ],
 "metadata": {
  "kernelspec": {
   "display_name": "Python 3 (ipykernel)",
   "language": "python",
   "name": "python3"
  },
  "language_info": {
   "codemirror_mode": {
    "name": "ipython",
    "version": 3
   },
   "file_extension": ".py",
   "mimetype": "text/x-python",
   "name": "python",
   "nbconvert_exporter": "python",
   "pygments_lexer": "ipython3",
   "version": "3.11.4"
  }
 },
 "nbformat": 4,
 "nbformat_minor": 5
}
